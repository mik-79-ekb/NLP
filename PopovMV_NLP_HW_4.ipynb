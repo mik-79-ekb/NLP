{
  "cells": [
    {
      "cell_type": "markdown",
      "source": [
        "## Введение в обработку естественного языка"
      ],
      "metadata": {
        "id": "FUAzfkZsJG4Y"
      }
    },
    {
      "cell_type": "markdown",
      "source": [
        "Домашнее задание №4"
      ],
      "metadata": {
        "id": "XJ76sZyUJGyq"
      }
    },
    {
      "cell_type": "markdown",
      "source": [
        "Урок 4. Тематическое моделирование. EM-алгоритм"
      ],
      "metadata": {
        "id": "6HF4YBSSJgnO"
      }
    },
    {
      "cell_type": "markdown",
      "source": [
        "*Формат именования файла домашней работы: FIO_NLP_HW_N.ipynb, где N - номер домашнего задания*\n",
        "\n",
        "**"
      ],
      "metadata": {
        "id": "Xd7azRRnJG1j"
      }
    },
    {
      "cell_type": "markdown",
      "metadata": {
        "id": "UNLNb9eEVemQ"
      },
      "source": [
        "1. объединить в одну выборку (это только для твитов), для роспотребнадзора сформировать датасет из вопросов\n",
        "2. провести исследование и выявить тематики о которых говорят в твитах (для твитов), а для роспотребнадзора так же выявить тематики о которых люди пишут проанализировать\n",
        "3. сделать визуализацию кластеров тематик\n",
        "4. проинтерпритировать получившиеся тематики"
      ]
    },
    {
      "cell_type": "markdown",
      "source": [
        "**Установка и импорт необходимых библиотек**"
      ],
      "metadata": {
        "id": "OlihhY41N2cs"
      }
    },
    {
      "cell_type": "code",
      "source": [
        "!pip install pymorphy2"
      ],
      "metadata": {
        "colab": {
          "base_uri": "https://localhost:8080/"
        },
        "id": "eRLAAZ_xVpg1",
        "outputId": "432333d9-f489-4cec-e65f-27e97ccb26ab"
      },
      "execution_count": 1,
      "outputs": [
        {
          "output_type": "stream",
          "name": "stdout",
          "text": [
            "Looking in indexes: https://pypi.org/simple, https://us-python.pkg.dev/colab-wheels/public/simple/\n",
            "Collecting pymorphy2\n",
            "  Downloading pymorphy2-0.9.1-py3-none-any.whl (55 kB)\n",
            "\u001b[2K     \u001b[90m━━━━━━━━━━━━━━━━━━━━━━━━━━━━━━━━━━━━━━━━\u001b[0m \u001b[32m55.5/55.5 kB\u001b[0m \u001b[31m1.7 MB/s\u001b[0m eta \u001b[36m0:00:00\u001b[0m\n",
            "\u001b[?25hCollecting pymorphy2-dicts-ru<3.0,>=2.4\n",
            "  Downloading pymorphy2_dicts_ru-2.4.417127.4579844-py2.py3-none-any.whl (8.2 MB)\n",
            "\u001b[2K     \u001b[90m━━━━━━━━━━━━━━━━━━━━━━━━━━━━━━━━━━━━━━━━\u001b[0m \u001b[32m8.2/8.2 MB\u001b[0m \u001b[31m40.7 MB/s\u001b[0m eta \u001b[36m0:00:00\u001b[0m\n",
            "\u001b[?25hCollecting docopt>=0.6\n",
            "  Downloading docopt-0.6.2.tar.gz (25 kB)\n",
            "  Preparing metadata (setup.py) ... \u001b[?25l\u001b[?25hdone\n",
            "Collecting dawg-python>=0.7.1\n",
            "  Downloading DAWG_Python-0.7.2-py2.py3-none-any.whl (11 kB)\n",
            "Building wheels for collected packages: docopt\n",
            "  Building wheel for docopt (setup.py) ... \u001b[?25l\u001b[?25hdone\n",
            "  Created wheel for docopt: filename=docopt-0.6.2-py2.py3-none-any.whl size=13721 sha256=2740782596a66887618992b411a9f76d59379ca3f286d6bbf9ef6540bb4b0502\n",
            "  Stored in directory: /root/.cache/pip/wheels/70/4a/46/1309fc853b8d395e60bafaf1b6df7845bdd82c95fd59dd8d2b\n",
            "Successfully built docopt\n",
            "Installing collected packages: pymorphy2-dicts-ru, docopt, dawg-python, pymorphy2\n",
            "Successfully installed dawg-python-0.7.2 docopt-0.6.2 pymorphy2-0.9.1 pymorphy2-dicts-ru-2.4.417127.4579844\n"
          ]
        }
      ]
    },
    {
      "cell_type": "code",
      "execution_count": 2,
      "metadata": {
        "id": "QaHae_wmVemT"
      },
      "outputs": [],
      "source": [
        "import requests\n",
        "from bs4 import BeautifulSoup \n",
        "import time\n",
        "from urllib.parse import urlparse, urljoin\n",
        "from tqdm.notebook import tqdm\n",
        "\n",
        "import pandas as pd\n",
        "import numpy as np\n",
        "import re\n",
        "import string\n",
        "from pymorphy2 import MorphAnalyzer\n",
        "from nltk.corpus import stopwords\n",
        "import nltk\n",
        "from nltk.tokenize import word_tokenize"
      ]
    },
    {
      "cell_type": "markdown",
      "source": [
        "Загрузка данных"
      ],
      "metadata": {
        "id": "KZ9vXZy-OD8V"
      }
    },
    {
      "cell_type": "code",
      "execution_count": 3,
      "metadata": {
        "colab": {
          "referenced_widgets": [
            "9aaffe48f6864e1eacaa309e70fbd025",
            "7b8155822ca54a7ebac6bb7ec63d9262",
            "6fe76d9166484253a306edf129c8c060",
            "e469eb374feb48ebb7596b1861f8e0c7",
            "24fcea0173784ec4b246b681b1497d02",
            "528dce094db14e7485a1c9b5af2d28c8",
            "d360f7042bb9457c85e2b062a39da59b",
            "abaf08d47b4945f69b9b5a52488b328f",
            "b7ea60fc47cb47ba98ffaf217cc5dba0",
            "0a9500c067434361a3b6edcd4a9f8ecb",
            "e9b561f7fc82474c8e434f77d0ea65fd"
          ],
          "base_uri": "https://localhost:8080/",
          "height": 49
        },
        "id": "L1ZlZzsYVemU",
        "outputId": "a08d0737-ebb1-4cee-db1a-5f14a670f7b9"
      },
      "outputs": [
        {
          "output_type": "display_data",
          "data": {
            "text/plain": [
              "Pages:   0%|          | 0/499 [00:00<?, ?it/s]"
            ],
            "application/vnd.jupyter.widget-view+json": {
              "version_major": 2,
              "version_minor": 0,
              "model_id": "9aaffe48f6864e1eacaa309e70fbd025"
            }
          },
          "metadata": {}
        }
      ],
      "source": [
        "## найти id каждого вопроса на страницах\n",
        "\n",
        "page = 1\n",
        "main_url = 'https://zpp.rospotrebnadzor.ru/Forum/Appeals/AjaxindexList?page={page}&searchtext=&categories=[]'\n",
        "\n",
        "def ids_from_page(soup):\n",
        "    return [i.get('href') for i  in soup.findAll('a', {'class':'appeal-title-link'})]\n",
        "    \n",
        "urls = []\n",
        "for page in tqdm(range(1, 500), desc='Pages'):\n",
        "    time.sleep(0.5)\n",
        "    res = requests.get(main_url.format(page=page))  \n",
        "    soup = BeautifulSoup(res.text)\n",
        "    urls.extend(ids_from_page(soup))"
      ]
    },
    {
      "cell_type": "code",
      "execution_count": 4,
      "metadata": {
        "colab": {
          "referenced_widgets": [
            "4949f15f033c4adf8ccb47f08f2b5b15",
            "31995cf4136e47eca6eab310214f3fbf",
            "990ffe39317e4c1cb520fff4fb138c1a",
            "0314fc6ac30e408c9ca654ab6b66c04b",
            "c5a871152b7d4329886afe43a96bc990",
            "c0419f43bd3d4ad8afa50719f2278c6d",
            "054cbe0eaf80439584bac9fff4bb0659",
            "ba1f60ce6806413f97bc82c3df1d7eb8",
            "034647dc26124cc3a57d69b49a327e31",
            "13bd9ea470de44c9b93722537bb3f008",
            "354a424a19664d98a1b39008a6142944"
          ],
          "base_uri": "https://localhost:8080/",
          "height": 49
        },
        "id": "nuEf-K9yVemV",
        "outputId": "bdb885d5-ad8c-4eea-9ab2-46357f233cab"
      },
      "outputs": [
        {
          "output_type": "display_data",
          "data": {
            "text/plain": [
              "Pages:   0%|          | 0/2495 [00:00<?, ?it/s]"
            ],
            "application/vnd.jupyter.widget-view+json": {
              "version_major": 2,
              "version_minor": 0,
              "model_id": "4949f15f033c4adf8ccb47f08f2b5b15"
            }
          },
          "metadata": {}
        }
      ],
      "source": [
        "## имея id запросов достанем тексты на страницах\n",
        "\n",
        "domain = 'https://zpp.rospotrebnadzor.ru'\n",
        "\n",
        "def get_text_page_question(soup):\n",
        "    return soup.findAll('p', {'class':'appeal-details-message'})[0].text\n",
        "def get_text_page_answer(soup):\n",
        "    return soup.findAll('p', {'class':'appeal-comments-message'})[0].text\n",
        "\n",
        "question = []\n",
        "answer = []\n",
        "\n",
        "for url in tqdm(urls, desc='Pages'):\n",
        "    time.sleep(0.5)\n",
        "    res = requests.get(urljoin(domain, url))  \n",
        "    soup = BeautifulSoup(res.text)\n",
        "    \n",
        "    question.append(get_text_page_question(soup))\n",
        "    try:\n",
        "        answer.append(get_text_page_answer(soup))\n",
        "    except:\n",
        "        answer.append('No answer')"
      ]
    },
    {
      "cell_type": "code",
      "execution_count": 5,
      "metadata": {
        "id": "iDK4Ff7eVemW"
      },
      "outputs": [],
      "source": [
        "# df = pd.DataFrame(list(zip(question, answer)), columns=['question','answer'])\n",
        "df = pd.DataFrame(question, columns=['question'])"
      ]
    },
    {
      "cell_type": "code",
      "execution_count": 6,
      "metadata": {
        "scrolled": false,
        "id": "Ny3LfyHsVemX"
      },
      "outputs": [],
      "source": [
        "df.to_csv('rospotrebnadzor.csv', index=False)"
      ]
    },
    {
      "cell_type": "code",
      "execution_count": 7,
      "metadata": {
        "id": "5dq4caK1VemX"
      },
      "outputs": [],
      "source": [
        "df = pd.read_csv('rospotrebnadzor.csv')"
      ]
    },
    {
      "cell_type": "code",
      "execution_count": 8,
      "metadata": {
        "colab": {
          "base_uri": "https://localhost:8080/",
          "height": 423
        },
        "id": "9NlO5OS8VemY",
        "outputId": "6a94a3b1-4eb1-4dba-c40a-45c19f89ecdb"
      },
      "outputs": [
        {
          "output_type": "execute_result",
          "data": {
            "text/plain": [
              "                                               question\n",
              "0     Добрый день.Существует такая Пекарня в г.Киров...\n",
              "1     Добрый день. Я, Елена Станиславовна Кубланова,...\n",
              "2     Сделали заказ  01 апреля 2023г. на сайте rc-go...\n",
              "3     Прошу провести проверку в одном из магазинов «...\n",
              "4     Заказ был на женские джинсы размера xs, забрал...\n",
              "...                                                 ...\n",
              "2490  Добрый день! Поясните пожалуйста, в каком случ...\n",
              "2491  Здравствуйте! Сегодня мною был приобретён дива...\n",
              "2492  Здравствуйте, я купила абонемент на процедуру ...\n",
              "2493  Был заказ № 87390\\r\\nот 29.06.2022 детские бот...\n",
              "2494  Добрый день. Качество подаваемой воды в с. Пла...\n",
              "\n",
              "[2495 rows x 1 columns]"
            ],
            "text/html": [
              "\n",
              "  <div id=\"df-bf2b130e-4516-47a7-805d-4935d9b7d951\">\n",
              "    <div class=\"colab-df-container\">\n",
              "      <div>\n",
              "<style scoped>\n",
              "    .dataframe tbody tr th:only-of-type {\n",
              "        vertical-align: middle;\n",
              "    }\n",
              "\n",
              "    .dataframe tbody tr th {\n",
              "        vertical-align: top;\n",
              "    }\n",
              "\n",
              "    .dataframe thead th {\n",
              "        text-align: right;\n",
              "    }\n",
              "</style>\n",
              "<table border=\"1\" class=\"dataframe\">\n",
              "  <thead>\n",
              "    <tr style=\"text-align: right;\">\n",
              "      <th></th>\n",
              "      <th>question</th>\n",
              "    </tr>\n",
              "  </thead>\n",
              "  <tbody>\n",
              "    <tr>\n",
              "      <th>0</th>\n",
              "      <td>Добрый день.Существует такая Пекарня в г.Киров...</td>\n",
              "    </tr>\n",
              "    <tr>\n",
              "      <th>1</th>\n",
              "      <td>Добрый день. Я, Елена Станиславовна Кубланова,...</td>\n",
              "    </tr>\n",
              "    <tr>\n",
              "      <th>2</th>\n",
              "      <td>Сделали заказ  01 апреля 2023г. на сайте rc-go...</td>\n",
              "    </tr>\n",
              "    <tr>\n",
              "      <th>3</th>\n",
              "      <td>Прошу провести проверку в одном из магазинов «...</td>\n",
              "    </tr>\n",
              "    <tr>\n",
              "      <th>4</th>\n",
              "      <td>Заказ был на женские джинсы размера xs, забрал...</td>\n",
              "    </tr>\n",
              "    <tr>\n",
              "      <th>...</th>\n",
              "      <td>...</td>\n",
              "    </tr>\n",
              "    <tr>\n",
              "      <th>2490</th>\n",
              "      <td>Добрый день! Поясните пожалуйста, в каком случ...</td>\n",
              "    </tr>\n",
              "    <tr>\n",
              "      <th>2491</th>\n",
              "      <td>Здравствуйте! Сегодня мною был приобретён дива...</td>\n",
              "    </tr>\n",
              "    <tr>\n",
              "      <th>2492</th>\n",
              "      <td>Здравствуйте, я купила абонемент на процедуру ...</td>\n",
              "    </tr>\n",
              "    <tr>\n",
              "      <th>2493</th>\n",
              "      <td>Был заказ № 87390\\r\\nот 29.06.2022 детские бот...</td>\n",
              "    </tr>\n",
              "    <tr>\n",
              "      <th>2494</th>\n",
              "      <td>Добрый день. Качество подаваемой воды в с. Пла...</td>\n",
              "    </tr>\n",
              "  </tbody>\n",
              "</table>\n",
              "<p>2495 rows × 1 columns</p>\n",
              "</div>\n",
              "      <button class=\"colab-df-convert\" onclick=\"convertToInteractive('df-bf2b130e-4516-47a7-805d-4935d9b7d951')\"\n",
              "              title=\"Convert this dataframe to an interactive table.\"\n",
              "              style=\"display:none;\">\n",
              "        \n",
              "  <svg xmlns=\"http://www.w3.org/2000/svg\" height=\"24px\"viewBox=\"0 0 24 24\"\n",
              "       width=\"24px\">\n",
              "    <path d=\"M0 0h24v24H0V0z\" fill=\"none\"/>\n",
              "    <path d=\"M18.56 5.44l.94 2.06.94-2.06 2.06-.94-2.06-.94-.94-2.06-.94 2.06-2.06.94zm-11 1L8.5 8.5l.94-2.06 2.06-.94-2.06-.94L8.5 2.5l-.94 2.06-2.06.94zm10 10l.94 2.06.94-2.06 2.06-.94-2.06-.94-.94-2.06-.94 2.06-2.06.94z\"/><path d=\"M17.41 7.96l-1.37-1.37c-.4-.4-.92-.59-1.43-.59-.52 0-1.04.2-1.43.59L10.3 9.45l-7.72 7.72c-.78.78-.78 2.05 0 2.83L4 21.41c.39.39.9.59 1.41.59.51 0 1.02-.2 1.41-.59l7.78-7.78 2.81-2.81c.8-.78.8-2.07 0-2.86zM5.41 20L4 18.59l7.72-7.72 1.47 1.35L5.41 20z\"/>\n",
              "  </svg>\n",
              "      </button>\n",
              "      \n",
              "  <style>\n",
              "    .colab-df-container {\n",
              "      display:flex;\n",
              "      flex-wrap:wrap;\n",
              "      gap: 12px;\n",
              "    }\n",
              "\n",
              "    .colab-df-convert {\n",
              "      background-color: #E8F0FE;\n",
              "      border: none;\n",
              "      border-radius: 50%;\n",
              "      cursor: pointer;\n",
              "      display: none;\n",
              "      fill: #1967D2;\n",
              "      height: 32px;\n",
              "      padding: 0 0 0 0;\n",
              "      width: 32px;\n",
              "    }\n",
              "\n",
              "    .colab-df-convert:hover {\n",
              "      background-color: #E2EBFA;\n",
              "      box-shadow: 0px 1px 2px rgba(60, 64, 67, 0.3), 0px 1px 3px 1px rgba(60, 64, 67, 0.15);\n",
              "      fill: #174EA6;\n",
              "    }\n",
              "\n",
              "    [theme=dark] .colab-df-convert {\n",
              "      background-color: #3B4455;\n",
              "      fill: #D2E3FC;\n",
              "    }\n",
              "\n",
              "    [theme=dark] .colab-df-convert:hover {\n",
              "      background-color: #434B5C;\n",
              "      box-shadow: 0px 1px 3px 1px rgba(0, 0, 0, 0.15);\n",
              "      filter: drop-shadow(0px 1px 2px rgba(0, 0, 0, 0.3));\n",
              "      fill: #FFFFFF;\n",
              "    }\n",
              "  </style>\n",
              "\n",
              "      <script>\n",
              "        const buttonEl =\n",
              "          document.querySelector('#df-bf2b130e-4516-47a7-805d-4935d9b7d951 button.colab-df-convert');\n",
              "        buttonEl.style.display =\n",
              "          google.colab.kernel.accessAllowed ? 'block' : 'none';\n",
              "\n",
              "        async function convertToInteractive(key) {\n",
              "          const element = document.querySelector('#df-bf2b130e-4516-47a7-805d-4935d9b7d951');\n",
              "          const dataTable =\n",
              "            await google.colab.kernel.invokeFunction('convertToInteractive',\n",
              "                                                     [key], {});\n",
              "          if (!dataTable) return;\n",
              "\n",
              "          const docLinkHtml = 'Like what you see? Visit the ' +\n",
              "            '<a target=\"_blank\" href=https://colab.research.google.com/notebooks/data_table.ipynb>data table notebook</a>'\n",
              "            + ' to learn more about interactive tables.';\n",
              "          element.innerHTML = '';\n",
              "          dataTable['output_type'] = 'display_data';\n",
              "          await google.colab.output.renderOutput(dataTable, element);\n",
              "          const docLink = document.createElement('div');\n",
              "          docLink.innerHTML = docLinkHtml;\n",
              "          element.appendChild(docLink);\n",
              "        }\n",
              "      </script>\n",
              "    </div>\n",
              "  </div>\n",
              "  "
            ]
          },
          "metadata": {},
          "execution_count": 8
        }
      ],
      "source": [
        "df"
      ]
    },
    {
      "cell_type": "code",
      "execution_count": 9,
      "metadata": {
        "colab": {
          "base_uri": "https://localhost:8080/"
        },
        "id": "QXuyUPkLVemY",
        "outputId": "9c1f1448-8744-433e-fb91-1105a940f454"
      },
      "outputs": [
        {
          "output_type": "stream",
          "name": "stderr",
          "text": [
            "[nltk_data] Downloading package stopwords to /root/nltk_data...\n",
            "[nltk_data]   Unzipping corpora/stopwords.zip.\n"
          ]
        }
      ],
      "source": [
        "nltk.download('stopwords')\n",
        "words_regex = re.compile('\\w+')\n",
        "morph = MorphAnalyzer()\n",
        "my_stopwords = ['здравствуйте', 'добрый', 'день', 'вопрос', 'роспотребнадзор', 'либо', 'месяц', \n",
        "                'течение', 'данный', 'это', 'просить', 'сказать', 'год', 'адрес', 'обращение', 'мочь', 'иметь', 'человек',\n",
        "                'право', 'санкт' ,'петербург']\n",
        "\n",
        "def find_words(text, regex = words_regex):\n",
        "    tokens =  regex.findall(text.lower())\n",
        "    return [w for w in tokens if w.isalpha() and len(w) >= 3]\n",
        "\n",
        "\n",
        "stopwords_list = stopwords.words('russian') + my_stopwords\n",
        "\n",
        "# mystem = Mystem()\n",
        "# def lemmatize(words, lemmer = mystem, stopwords = stopwords_list):\n",
        "#     lemmas = lemmer.lemmatize(' '.join(words))\n",
        "#     return [w for w in lemmas if not w in stopwords \n",
        "#             and w.isalpha()]\n",
        "\n",
        "def lemmatize(words, lemmer = morph, stopwords = stopwords_list):\n",
        "    lemmas = [lemmer.parse(w)[0].normal_form for w in words]\n",
        "    return [w for w in lemmas if not w in stopwords \n",
        "            and w.isalpha()]\n",
        "\n",
        "def preprocess(text):\n",
        "    return (lemmatize(find_words(text)))"
      ]
    },
    {
      "cell_type": "code",
      "execution_count": 10,
      "metadata": {
        "colab": {
          "base_uri": "https://localhost:8080/",
          "height": 123
        },
        "id": "eBJq9pQtVemY",
        "outputId": "35d8ad8f-5944-4c52-d093-d5b9000c55e6"
      },
      "outputs": [
        {
          "output_type": "execute_result",
          "data": {
            "text/plain": [
              "'Добрый день. Я, Елена Станиславовна Кубланова, - постоянный покупатель на маркетплейсе Вайлдберриз. 17 марта 2023 года я приобрела корм для собаки ProBalance Hypoallergenic для собак 15кг. Артикул: 140843311, сумма покупки 4374 руб. Продавец - СЕМЁРОЧКА - ИП Симонян Г. Д., ОГРНИП: 321344300064223. На фотографии оборотной стороны упаковки в карточке товара на сайте Вайлдберриз ясно видна информация о дате изготовления, номере партии товара. Я же получила товар, на оборотной стороне которого указана другая информация, которую продавцом ИП Симонян Г. Д. рекомендовано считать приоритетной: Изготовитель – ЗАО «Алейскзернопродукт», г. Алейск Алтайского края. На официальном сайте производителя корма ProBalance Hypoallergenic – компании ООО «ВЭЛКОРМ» - сайт https://delo-korm.ru/ - указано расположение только двух производств в России: г. Санкт-Петербург, г. Тверь. Ни о каком производстве данного корма в г. Алейске Алтайского края нет вообще никакой информации. Дозвонились и в компанию ООО «ВЭЛКОРМ» - консультант сообщил, что да, ЗАО «Алейскзернопродукт» выпускал по запросу компании партию этого корма, и тут же предложил перевести потраченную сумму мне на карту, от чего я, конечно же, отказалась. Я считаю себя Добропорядочным Человеком и решать вопросы таким способом считаю неприемлемым. Но сам этот факт такого предложения уже настораживает!\\r\\nДо этой покупки я приобретала на этом же маркетплейсе Вайлдберриз корм ProBalance Hypoallergenic для собак меньшего развеса (по 3 кг) у другого продавца, производитель в г. Тверь, нашему питомцу корм подошел, аллергия практически сошла на нет, и я решила, что можно взять корм большего объема. Но корм, купленный у продавца СЕМЁРОЧКА - ИП Симонян Г. Д. – оказался абсолютно не таким, он разительно отличается от оригинального корма по форме гранул, по запаху, цвету и судя по всему по составу тоже! Конечно, за 1 день и за 1 неделю невозможно было определить, что данный корм не только не подойдет моей собаке, но и усугубит аллергические реакции: у питомца опять появилась экзема, сухость и зуд кожного покрова и неприятный запах из пасти. Вчера, 09 апреля 2023 года, я написала в поддержку маркетплейса Вайлдберриз о некачественном контрафактном товаре, который представлен на странице продавца СЕМЁРОЧКА - ИП Симонян Г. Д. – на фото одно, а по факту – другое! Написала, что хочу вернуть потраченные средства. На сайте Вайлдберриз невозможно оставить отзыв об этом некачественном товаре, невозможно написать продавцу, т.к. видите ли, товара этого уже нет, вернуть деньги мне не могут, т.к. упаковка уже нарушена! А как же можно было узнать, что этот корм - подделка! Мне в ответе посоветовали только запросить сертификат на товар у продавца напрямую, о возврате средств вообще ни слова.\\r\\nПрошу дать консультацию, как правильно составить жалобу в Роспотребнадзор на маркетплейс Вайлдберриз, а также как привлечь к ответственности продавца некачественного товара СЕМЁРОЧКА - ИП Симонян Г. Д. Есть фото упаковок корма, фото гранул корма, на котором явно видна разница, фото аллергической реакции нашего питомца на некачественный корм, есть переписка с поддержкой сайта Вайлдберриз.\\r\\nС уважением, \\r\\nЖивой Человек Елена Станиславовна Кубланова'"
            ],
            "application/vnd.google.colaboratory.intrinsic+json": {
              "type": "string"
            }
          },
          "metadata": {},
          "execution_count": 10
        }
      ],
      "source": [
        "df.question.iloc[1]"
      ]
    },
    {
      "cell_type": "code",
      "execution_count": 11,
      "metadata": {
        "colab": {
          "base_uri": "https://localhost:8080/"
        },
        "id": "3yjq5wuGVemZ",
        "outputId": "d85ef2fc-2d68-456d-8cef-4740633339ef"
      },
      "outputs": [
        {
          "output_type": "stream",
          "name": "stdout",
          "text": [
            "['елена', 'станиславович', 'кублановый', 'постоянный', 'покупатель', 'маркетплейс', 'вайлдберриз', 'март', 'приобрести', 'корм', 'собака', 'probalance', 'hypoallergenic', 'собака', 'артикул', 'сумма', 'покупка', 'руб', 'продавец', 'семёрочко', 'симонянин', 'огрнип', 'фотография', 'оборотный', 'сторона', 'упаковка', 'карточка', 'товар', 'сайт', 'вайлдберриз', 'ясно', 'видный', 'информация', 'дата', 'изготовление', 'номер', 'партия', 'товар', 'получить', 'товар', 'оборотный', 'сторона', 'который', 'указать', 'информация', 'который', 'продавец', 'симонянин', 'рекомендовать', 'считать', 'приоритетный', 'изготовитель', 'зао', 'алейскзернопродукт', 'алейск', 'алтайский', 'край', 'официальный', 'сайт', 'производитель', 'корм', 'probalance', 'hypoallergenic', 'компания', 'ооо', 'вэлкорма', 'сайт', 'https', 'delo', 'korm', 'указать', 'расположение', 'производство', 'россия', 'тверь', 'производство', 'корм', 'алейск', 'алтайский', 'край', 'вообще', 'никакой', 'информация', 'дозвониться', 'компания', 'ооо', 'вэлкорма', 'консультант', 'сообщить', 'зао', 'алейскзернопродукт', 'выпускать', 'запрос', 'компания', 'партия', 'корм', 'предложить', 'перевести', 'потратить', 'сумма', 'карта', 'отказаться', 'считать', 'добропорядочный', 'решать', 'способ', 'считать', 'неприемлемый', 'факт', 'предложение', 'настораживать', 'покупка', 'приобретать', 'маркетплейс', 'вайлдберриз', 'корм', 'probalance', 'hypoallergenic', 'собака', 'малый', 'развес', 'продавец', 'производитель', 'тверь', 'наш', 'питомец', 'корм', 'подойти', 'аллергия', 'практически', 'сойти', 'решить', 'взять', 'корм', 'больший', 'объём', 'корм', 'купить', 'продавец', 'семёрочко', 'симонянин', 'оказаться', 'абсолютно', 'разительно', 'отличаться', 'оригинальный', 'корм', 'форма', 'гранула', 'запах', 'цвет', 'судить', 'весь', 'состав', 'неделя', 'невозможно', 'определить', 'корм', 'подойти', 'собака', 'усугубить', 'аллергический', 'реакция', 'питомец', 'появиться', 'экзема', 'сухость', 'зуд', 'кожный', 'покров', 'неприятный', 'запах', 'пасти', 'вчера', 'апрель', 'написать', 'поддержка', 'маркетплейс', 'вайлдберриз', 'некачественный', 'контрафактный', 'товар', 'который', 'представить', 'страница', 'продавец', 'семёрочко', 'симонянин', 'фото', 'факт', 'написать', 'хотеть', 'вернуть', 'потратить', 'средство', 'сайт', 'вайлдберриз', 'невозможно', 'оставить', 'отзыв', 'некачественный', 'товар', 'невозможно', 'написать', 'продавец', 'видеть', 'товар', 'вернуть', 'деньга', 'упаковка', 'нарушить', 'узнать', 'корм', 'подделка', 'ответ', 'посоветовать', 'запросить', 'сертификат', 'товар', 'продавец', 'напрямую', 'возврат', 'средство', 'вообще', 'слово', 'дать', 'консультация', 'правильно', 'составить', 'жалоба', 'маркетплейс', 'вайлдберриз', 'также', 'привлечь', 'ответственность', 'продавец', 'некачественный', 'товар', 'семёрочко', 'симонянин', 'фото', 'упаковка', 'корм', 'фото', 'гранула', 'корм', 'который', 'явно', 'видный', 'разница', 'фото', 'аллергический', 'реакция', 'наш', 'питомец', 'некачественный', 'корм', 'переписка', 'поддержка', 'сайт', 'вайлдберриз', 'уважение', 'живой', 'елена', 'станиславович', 'кублановый']\n"
          ]
        }
      ],
      "source": [
        "print(preprocess(df.question.iloc[1]))"
      ]
    },
    {
      "cell_type": "code",
      "execution_count": 12,
      "metadata": {
        "colab": {
          "base_uri": "https://localhost:8080/",
          "height": 49,
          "referenced_widgets": [
            "38c60b4c84ce42a2945ffd9ff401a88c",
            "62ec19c89da14775b167c7a6fe2724e6",
            "5c11c4dd6e9e4de2963ae1ef4b5fa3a1",
            "9e48b2af8d154a67857bcfc8589eeb7d",
            "a3b4342a70104b25939b36dce9e2c9b5",
            "417184787f9447ccb00b59708628b42b",
            "664b942e119248d688fea86004d0338d",
            "48c3d896b62d41c9abe733d0ae7b2025",
            "625379b073fc45929192602be06970ba",
            "d4f2c254c8654a648218629ab12bc7bb",
            "5702a237feb54461bbba0c0e722dce10"
          ]
        },
        "id": "68pMhNB_VemZ",
        "outputId": "fd3e052f-1494-468d-fd42-926266d58a44"
      },
      "outputs": [
        {
          "output_type": "display_data",
          "data": {
            "text/plain": [
              "  0%|          | 0/2495 [00:00<?, ?it/s]"
            ],
            "application/vnd.jupyter.widget-view+json": {
              "version_major": 2,
              "version_minor": 0,
              "model_id": "38c60b4c84ce42a2945ffd9ff401a88c"
            }
          },
          "metadata": {}
        }
      ],
      "source": [
        "preprocessed_text = list(tqdm(map(preprocess, df['question']), total=len(df)))"
      ]
    },
    {
      "cell_type": "code",
      "execution_count": 13,
      "metadata": {
        "colab": {
          "base_uri": "https://localhost:8080/",
          "height": 143
        },
        "id": "g0JVGhzoVemZ",
        "outputId": "5f78b1ac-f65e-458a-806d-b372f99d051f"
      },
      "outputs": [
        {
          "output_type": "execute_result",
          "data": {
            "text/plain": [
              "                                               question  \\\n",
              "1853  Добрый день, как отменить оказанную услугу Рег...   \n",
              "495   Добрый день! Оператор связи ПАО \"МТС\" установи...   \n",
              "132   Доводим до Вашего сведения, что после проведен...   \n",
              "\n",
              "                                      preprocessed_text  \n",
              "1853  [отменить, оказать, услуга, регистрация, прибы...  \n",
              "495   [оператор, связь, пао, мтс, установить, комисс...  \n",
              "132   [доводить, ваш, сведение, провести, период, фе...  "
            ],
            "text/html": [
              "\n",
              "  <div id=\"df-693b5eab-0f44-427c-876e-a07f6a41c8d2\">\n",
              "    <div class=\"colab-df-container\">\n",
              "      <div>\n",
              "<style scoped>\n",
              "    .dataframe tbody tr th:only-of-type {\n",
              "        vertical-align: middle;\n",
              "    }\n",
              "\n",
              "    .dataframe tbody tr th {\n",
              "        vertical-align: top;\n",
              "    }\n",
              "\n",
              "    .dataframe thead th {\n",
              "        text-align: right;\n",
              "    }\n",
              "</style>\n",
              "<table border=\"1\" class=\"dataframe\">\n",
              "  <thead>\n",
              "    <tr style=\"text-align: right;\">\n",
              "      <th></th>\n",
              "      <th>question</th>\n",
              "      <th>preprocessed_text</th>\n",
              "    </tr>\n",
              "  </thead>\n",
              "  <tbody>\n",
              "    <tr>\n",
              "      <th>1853</th>\n",
              "      <td>Добрый день, как отменить оказанную услугу Рег...</td>\n",
              "      <td>[отменить, оказать, услуга, регистрация, прибы...</td>\n",
              "    </tr>\n",
              "    <tr>\n",
              "      <th>495</th>\n",
              "      <td>Добрый день! Оператор связи ПАО \"МТС\" установи...</td>\n",
              "      <td>[оператор, связь, пао, мтс, установить, комисс...</td>\n",
              "    </tr>\n",
              "    <tr>\n",
              "      <th>132</th>\n",
              "      <td>Доводим до Вашего сведения, что после проведен...</td>\n",
              "      <td>[доводить, ваш, сведение, провести, период, фе...</td>\n",
              "    </tr>\n",
              "  </tbody>\n",
              "</table>\n",
              "</div>\n",
              "      <button class=\"colab-df-convert\" onclick=\"convertToInteractive('df-693b5eab-0f44-427c-876e-a07f6a41c8d2')\"\n",
              "              title=\"Convert this dataframe to an interactive table.\"\n",
              "              style=\"display:none;\">\n",
              "        \n",
              "  <svg xmlns=\"http://www.w3.org/2000/svg\" height=\"24px\"viewBox=\"0 0 24 24\"\n",
              "       width=\"24px\">\n",
              "    <path d=\"M0 0h24v24H0V0z\" fill=\"none\"/>\n",
              "    <path d=\"M18.56 5.44l.94 2.06.94-2.06 2.06-.94-2.06-.94-.94-2.06-.94 2.06-2.06.94zm-11 1L8.5 8.5l.94-2.06 2.06-.94-2.06-.94L8.5 2.5l-.94 2.06-2.06.94zm10 10l.94 2.06.94-2.06 2.06-.94-2.06-.94-.94-2.06-.94 2.06-2.06.94z\"/><path d=\"M17.41 7.96l-1.37-1.37c-.4-.4-.92-.59-1.43-.59-.52 0-1.04.2-1.43.59L10.3 9.45l-7.72 7.72c-.78.78-.78 2.05 0 2.83L4 21.41c.39.39.9.59 1.41.59.51 0 1.02-.2 1.41-.59l7.78-7.78 2.81-2.81c.8-.78.8-2.07 0-2.86zM5.41 20L4 18.59l7.72-7.72 1.47 1.35L5.41 20z\"/>\n",
              "  </svg>\n",
              "      </button>\n",
              "      \n",
              "  <style>\n",
              "    .colab-df-container {\n",
              "      display:flex;\n",
              "      flex-wrap:wrap;\n",
              "      gap: 12px;\n",
              "    }\n",
              "\n",
              "    .colab-df-convert {\n",
              "      background-color: #E8F0FE;\n",
              "      border: none;\n",
              "      border-radius: 50%;\n",
              "      cursor: pointer;\n",
              "      display: none;\n",
              "      fill: #1967D2;\n",
              "      height: 32px;\n",
              "      padding: 0 0 0 0;\n",
              "      width: 32px;\n",
              "    }\n",
              "\n",
              "    .colab-df-convert:hover {\n",
              "      background-color: #E2EBFA;\n",
              "      box-shadow: 0px 1px 2px rgba(60, 64, 67, 0.3), 0px 1px 3px 1px rgba(60, 64, 67, 0.15);\n",
              "      fill: #174EA6;\n",
              "    }\n",
              "\n",
              "    [theme=dark] .colab-df-convert {\n",
              "      background-color: #3B4455;\n",
              "      fill: #D2E3FC;\n",
              "    }\n",
              "\n",
              "    [theme=dark] .colab-df-convert:hover {\n",
              "      background-color: #434B5C;\n",
              "      box-shadow: 0px 1px 3px 1px rgba(0, 0, 0, 0.15);\n",
              "      filter: drop-shadow(0px 1px 2px rgba(0, 0, 0, 0.3));\n",
              "      fill: #FFFFFF;\n",
              "    }\n",
              "  </style>\n",
              "\n",
              "      <script>\n",
              "        const buttonEl =\n",
              "          document.querySelector('#df-693b5eab-0f44-427c-876e-a07f6a41c8d2 button.colab-df-convert');\n",
              "        buttonEl.style.display =\n",
              "          google.colab.kernel.accessAllowed ? 'block' : 'none';\n",
              "\n",
              "        async function convertToInteractive(key) {\n",
              "          const element = document.querySelector('#df-693b5eab-0f44-427c-876e-a07f6a41c8d2');\n",
              "          const dataTable =\n",
              "            await google.colab.kernel.invokeFunction('convertToInteractive',\n",
              "                                                     [key], {});\n",
              "          if (!dataTable) return;\n",
              "\n",
              "          const docLinkHtml = 'Like what you see? Visit the ' +\n",
              "            '<a target=\"_blank\" href=https://colab.research.google.com/notebooks/data_table.ipynb>data table notebook</a>'\n",
              "            + ' to learn more about interactive tables.';\n",
              "          element.innerHTML = '';\n",
              "          dataTable['output_type'] = 'display_data';\n",
              "          await google.colab.output.renderOutput(dataTable, element);\n",
              "          const docLink = document.createElement('div');\n",
              "          docLink.innerHTML = docLinkHtml;\n",
              "          element.appendChild(docLink);\n",
              "        }\n",
              "      </script>\n",
              "    </div>\n",
              "  </div>\n",
              "  "
            ]
          },
          "metadata": {},
          "execution_count": 13
        }
      ],
      "source": [
        "df['preprocessed_text'] = preprocessed_text\n",
        "df.sample(3)"
      ]
    },
    {
      "cell_type": "markdown",
      "metadata": {
        "id": "iNPM5TP9Vema"
      },
      "source": [
        "## Модель LDA\n",
        "\n",
        "\n",
        "Первая модель, которую мы рассмотрим, LDA - латентное размещение Дирихле. Воспользуемся реализацией из библиотеки gensim."
      ]
    },
    {
      "cell_type": "code",
      "execution_count": 14,
      "metadata": {
        "colab": {
          "base_uri": "https://localhost:8080/"
        },
        "id": "OpgMO4F0Vema",
        "outputId": "46219d05-7498-42f4-ba6f-93d533da9b7a"
      },
      "outputs": [
        {
          "output_type": "stream",
          "name": "stdout",
          "text": [
            "Looking in indexes: https://pypi.org/simple, https://us-python.pkg.dev/colab-wheels/public/simple/\n",
            "Requirement already satisfied: gensim in /usr/local/lib/python3.9/dist-packages (4.3.1)\n",
            "Requirement already satisfied: numpy>=1.18.5 in /usr/local/lib/python3.9/dist-packages (from gensim) (1.22.4)\n",
            "Requirement already satisfied: smart-open>=1.8.1 in /usr/local/lib/python3.9/dist-packages (from gensim) (6.3.0)\n",
            "Requirement already satisfied: scipy>=1.7.0 in /usr/local/lib/python3.9/dist-packages (from gensim) (1.10.1)\n"
          ]
        }
      ],
      "source": [
        "!pip install -U gensim"
      ]
    },
    {
      "cell_type": "code",
      "source": [
        "from gensim.models import *\n",
        "from gensim import corpora"
      ],
      "metadata": {
        "id": "7OldKOCoWZ0C"
      },
      "execution_count": 15,
      "outputs": []
    },
    {
      "cell_type": "code",
      "source": [
        "dictionary = corpora.Dictionary(df['preprocessed_text'])\n",
        "\n",
        "dictionary.filter_extremes(no_below = 10, no_above = 0.9, keep_n=None) # игнорируем слова, которые встречаются реже 10 раз или составляют более 0.9 словаря \n",
        "dictionary.save('rospotrebnadzor.dict')"
      ],
      "metadata": {
        "id": "85LkqiO0Wc05"
      },
      "execution_count": 16,
      "outputs": []
    },
    {
      "cell_type": "code",
      "source": [
        "corpus = [dictionary.doc2bow(text) for text in df['preprocessed_text']]\n",
        "corpora.MmCorpus.serialize('rospotrebnadzor.model', corpus)"
      ],
      "metadata": {
        "id": "sZ40ZN-UX5we"
      },
      "execution_count": 17,
      "outputs": []
    },
    {
      "cell_type": "code",
      "source": [
        "%time lda = ldamodel.LdaModel(corpus, id2word=dictionary, num_topics=10, chunksize=50, update_every=1, passes=2)"
      ],
      "metadata": {
        "colab": {
          "base_uri": "https://localhost:8080/"
        },
        "id": "PZVuOStbYLE5",
        "outputId": "3193cad0-498c-4b53-a716-a3bba372fb4e"
      },
      "execution_count": 18,
      "outputs": [
        {
          "output_type": "stream",
          "name": "stdout",
          "text": [
            "CPU times: user 3.13 s, sys: 13.6 ms, total: 3.14 s\n",
            "Wall time: 4.38 s\n"
          ]
        }
      ]
    },
    {
      "cell_type": "code",
      "source": [
        "lda.show_topics(num_topics=10, num_words=10, formatted=True)"
      ],
      "metadata": {
        "colab": {
          "base_uri": "https://localhost:8080/"
        },
        "id": "JbrACgigYeB4",
        "outputId": "c48047f9-5f32-4d77-8c21-33a9364d4901"
      },
      "execution_count": 19,
      "outputs": [
        {
          "output_type": "execute_result",
          "data": {
            "text/plain": [
              "[(0,\n",
              "  '0.029*\"кредит\" + 0.025*\"давать\" + 0.025*\"который\" + 0.022*\"окно\" + 0.020*\"подписка\" + 0.017*\"пожалуйста\" + 0.016*\"стать\" + 0.016*\"банк\" + 0.016*\"температура\" + 0.016*\"результат\"'),\n",
              " (1,\n",
              "  '0.074*\"товар\" + 0.029*\"возврат\" + 0.027*\"продавец\" + 0.021*\"магазин\" + 0.014*\"закон\" + 0.014*\"покупатель\" + 0.011*\"потребитель\" + 0.010*\"пункт\" + 0.009*\"интернет\" + 0.009*\"сайт\"'),\n",
              " (2,\n",
              "  '0.032*\"деньга\" + 0.018*\"возврат\" + 0.018*\"средство\" + 0.017*\"договор\" + 0.014*\"сумма\" + 0.014*\"вернуть\" + 0.014*\"карта\" + 0.014*\"заказ\" + 0.014*\"услуга\" + 0.012*\"денежный\"'),\n",
              " (3,\n",
              "  '0.044*\"магазин\" + 0.035*\"ремонт\" + 0.031*\"июль\" + 0.028*\"центр\" + 0.024*\"телефон\" + 0.020*\"гарантия\" + 0.018*\"работать\" + 0.018*\"сервисный\" + 0.015*\"обратиться\" + 0.014*\"замена\"'),\n",
              " (4,\n",
              "  '0.042*\"август\" + 0.022*\"находиться\" + 0.021*\"требовать\" + 0.021*\"санитарный\" + 0.020*\"улица\" + 0.020*\"город\" + 0.018*\"жилой\" + 0.018*\"документ\" + 0.018*\"час\" + 0.016*\"условие\"'),\n",
              " (5,\n",
              "  '0.028*\"постоянно\" + 0.023*\"клуб\" + 0.023*\"федеральный\" + 0.023*\"данные\" + 0.017*\"продавать\" + 0.016*\"здоровье\" + 0.016*\"продукция\" + 0.016*\"работать\" + 0.015*\"работа\" + 0.014*\"вес\"'),\n",
              " (6,\n",
              "  '0.061*\"билет\" + 0.054*\"ребёнок\" + 0.031*\"гарантийный\" + 0.027*\"концерт\" + 0.021*\"детский\" + 0.019*\"группа\" + 0.019*\"должный\" + 0.019*\"организатор\" + 0.019*\"дата\" + 0.015*\"мероприятие\"'),\n",
              " (7,\n",
              "  '0.033*\"дом\" + 0.016*\"вода\" + 0.015*\"наш\" + 0.015*\"квартира\" + 0.013*\"весь\" + 0.012*\"работа\" + 0.011*\"принять\" + 0.011*\"свой\" + 0.011*\"всё\" + 0.011*\"проблема\"'),\n",
              " (8,\n",
              "  '0.044*\"сертификат\" + 0.037*\"участок\" + 0.032*\"оператор\" + 0.031*\"банковский\" + 0.028*\"правило\" + 0.025*\"мусор\" + 0.022*\"связь\" + 0.021*\"клиент\" + 0.020*\"комиссия\" + 0.019*\"услуга\"'),\n",
              " (9,\n",
              "  '0.048*\"магазин\" + 0.022*\"цена\" + 0.018*\"пользоваться\" + 0.018*\"продажа\" + 0.017*\"рубль\" + 0.015*\"около\" + 0.012*\"купить\" + 0.012*\"продукт\" + 0.012*\"провести\" + 0.012*\"чек\"')]"
            ]
          },
          "metadata": {},
          "execution_count": 19
        }
      ]
    },
    {
      "cell_type": "code",
      "source": [
        "!pip install pyLDAvis"
      ],
      "metadata": {
        "colab": {
          "base_uri": "https://localhost:8080/"
        },
        "id": "8vrw0EkEYVw7",
        "outputId": "4c538c87-8179-4e2c-fb7c-7989e7e586f2"
      },
      "execution_count": 20,
      "outputs": [
        {
          "output_type": "stream",
          "name": "stdout",
          "text": [
            "Looking in indexes: https://pypi.org/simple, https://us-python.pkg.dev/colab-wheels/public/simple/\n",
            "Collecting pyLDAvis\n",
            "  Downloading pyLDAvis-3.4.0-py3-none-any.whl (2.6 MB)\n",
            "\u001b[2K     \u001b[90m━━━━━━━━━━━━━━━━━━━━━━━━━━━━━━━━━━━━━━━━\u001b[0m \u001b[32m2.6/2.6 MB\u001b[0m \u001b[31m22.7 MB/s\u001b[0m eta \u001b[36m0:00:00\u001b[0m\n",
            "\u001b[?25hRequirement already satisfied: joblib>=1.2.0 in /usr/local/lib/python3.9/dist-packages (from pyLDAvis) (1.2.0)\n",
            "Requirement already satisfied: scikit-learn>=1.0.0 in /usr/local/lib/python3.9/dist-packages (from pyLDAvis) (1.2.2)\n",
            "Collecting funcy\n",
            "  Downloading funcy-2.0-py2.py3-none-any.whl (30 kB)\n",
            "Requirement already satisfied: pandas>=1.3.4 in /usr/local/lib/python3.9/dist-packages (from pyLDAvis) (1.5.3)\n",
            "Requirement already satisfied: scipy in /usr/local/lib/python3.9/dist-packages (from pyLDAvis) (1.10.1)\n",
            "Requirement already satisfied: jinja2 in /usr/local/lib/python3.9/dist-packages (from pyLDAvis) (3.1.2)\n",
            "Requirement already satisfied: numpy>=1.22.0 in /usr/local/lib/python3.9/dist-packages (from pyLDAvis) (1.22.4)\n",
            "Requirement already satisfied: numexpr in /usr/local/lib/python3.9/dist-packages (from pyLDAvis) (2.8.4)\n",
            "Requirement already satisfied: gensim in /usr/local/lib/python3.9/dist-packages (from pyLDAvis) (4.3.1)\n",
            "Requirement already satisfied: setuptools in /usr/local/lib/python3.9/dist-packages (from pyLDAvis) (67.6.1)\n",
            "Requirement already satisfied: pytz>=2020.1 in /usr/local/lib/python3.9/dist-packages (from pandas>=1.3.4->pyLDAvis) (2022.7.1)\n",
            "Requirement already satisfied: python-dateutil>=2.8.1 in /usr/local/lib/python3.9/dist-packages (from pandas>=1.3.4->pyLDAvis) (2.8.2)\n",
            "Requirement already satisfied: threadpoolctl>=2.0.0 in /usr/local/lib/python3.9/dist-packages (from scikit-learn>=1.0.0->pyLDAvis) (3.1.0)\n",
            "Requirement already satisfied: smart-open>=1.8.1 in /usr/local/lib/python3.9/dist-packages (from gensim->pyLDAvis) (6.3.0)\n",
            "Requirement already satisfied: MarkupSafe>=2.0 in /usr/local/lib/python3.9/dist-packages (from jinja2->pyLDAvis) (2.1.2)\n",
            "Requirement already satisfied: six>=1.5 in /usr/local/lib/python3.9/dist-packages (from python-dateutil>=2.8.1->pandas>=1.3.4->pyLDAvis) (1.16.0)\n",
            "Installing collected packages: funcy, pyLDAvis\n",
            "Successfully installed funcy-2.0 pyLDAvis-3.4.0\n"
          ]
        }
      ]
    },
    {
      "cell_type": "code",
      "source": [
        "import pyLDAvis\n",
        "import pyLDAvis.gensim_models as gensimvis\n",
        "pyLDAvis.enable_notebook()\n",
        "\n",
        "import matplotlib.pyplot as plt\n",
        "%matplotlib inline"
      ],
      "metadata": {
        "id": "GeE8lXyUYWqJ"
      },
      "execution_count": 21,
      "outputs": []
    },
    {
      "cell_type": "code",
      "source": [
        "%time vis_data = gensimvis.prepare(lda, corpus, dictionary)\n",
        "pyLDAvis.display(vis_data)"
      ],
      "metadata": {
        "colab": {
          "base_uri": "https://localhost:8080/",
          "height": 986
        },
        "id": "Hrt1Ebs3Yjl4",
        "outputId": "c38cb96a-edba-45f1-bcee-52a8f894a422"
      },
      "execution_count": 22,
      "outputs": [
        {
          "output_type": "stream",
          "name": "stderr",
          "text": [
            "/usr/local/lib/python3.9/dist-packages/ipykernel/ipkernel.py:283: DeprecationWarning: `should_run_async` will not call `transform_cell` automatically in the future. Please pass the result to `transformed_cell` argument and any exception that happen during thetransform in `preprocessing_exc_tuple` in IPython 7.17 and above.\n",
            "  and should_run_async(code)\n",
            "/usr/local/lib/python3.9/dist-packages/pyLDAvis/_prepare.py:243: FutureWarning: In a future version of pandas all arguments of DataFrame.drop except for the argument 'labels' will be keyword-only.\n",
            "  default_term_info = default_term_info.sort_values(\n"
          ]
        },
        {
          "output_type": "stream",
          "name": "stdout",
          "text": [
            "CPU times: user 1.09 s, sys: 98.8 ms, total: 1.19 s\n",
            "Wall time: 4.62 s\n"
          ]
        },
        {
          "output_type": "execute_result",
          "data": {
            "text/plain": [
              "<IPython.core.display.HTML object>"
            ],
            "text/html": [
              "\n",
              "<link rel=\"stylesheet\" type=\"text/css\" href=\"https://cdn.jsdelivr.net/gh/bmabey/pyLDAvis@3.4.0/pyLDAvis/js/ldavis.v1.0.0.css\">\n",
              "\n",
              "\n",
              "<div id=\"ldavis_el1541397097415181767922234755\" style=\"background-color:white;\"></div>\n",
              "<script type=\"text/javascript\">\n",
              "\n",
              "var ldavis_el1541397097415181767922234755_data = {\"mdsDat\": {\"x\": [0.22790120107540734, 0.22140197333397763, -0.02011705541999011, 0.1568137494291013, 0.010644092513897288, -0.17468148131616504, -0.02448010989709183, -0.035996385417982495, -0.05126018845301935, -0.3102257958481344], \"y\": [-0.03846981120324133, 0.05428479088093271, 0.1365342068797632, 0.07773095651270494, 0.21356592613929404, -0.014884546588138184, -0.3240816094207324, -0.09313002599559199, -0.12525331567532874, 0.11370342847033828], \"topics\": [1, 2, 3, 4, 5, 6, 7, 8, 9, 10], \"cluster\": [1, 1, 1, 1, 1, 1, 1, 1, 1, 1], \"Freq\": [28.15568916683714, 20.69810666279483, 15.940527151454567, 7.370813111643269, 6.184659671717999, 5.624525538491894, 4.527912714901005, 4.293233489704138, 4.03817849099619, 3.1663540014589637]}, \"tinfo\": {\"Term\": [\"\\u0442\\u043e\\u0432\\u0430\\u0440\", \"\\u043c\\u0430\\u0433\\u0430\\u0437\\u0438\\u043d\", \"\\u0434\\u0435\\u043d\\u044c\\u0433\\u0430\", \"\\u0431\\u0438\\u043b\\u0435\\u0442\", \"\\u0432\\u043e\\u0437\\u0432\\u0440\\u0430\\u0442\", \"\\u0434\\u043e\\u043c\", \"\\u043f\\u0440\\u043e\\u0434\\u0430\\u0432\\u0435\\u0446\", \"\\u0440\\u0435\\u0431\\u0451\\u043d\\u043e\\u043a\", \"\\u0430\\u0432\\u0433\\u0443\\u0441\\u0442\", \"\\u0440\\u0435\\u043c\\u043e\\u043d\\u0442\", \"\\u0431\\u0430\\u043d\\u043a\", \"\\u0443\\u0441\\u043b\\u0443\\u0433\\u0430\", \"\\u0434\\u043e\\u0433\\u043e\\u0432\\u043e\\u0440\", \"\\u0438\\u044e\\u043b\\u044c\", \"\\u0441\\u0435\\u0440\\u0442\\u0438\\u0444\\u0438\\u043a\\u0430\\u0442\", \"\\u0442\\u0435\\u043b\\u0435\\u0444\\u043e\\u043d\", \"\\u0446\\u0435\\u043d\\u0442\\u0440\", \"\\u0432\\u0435\\u0440\\u043d\\u0443\\u0442\\u044c\", \"\\u043d\\u043e\\u043c\\u0435\\u0440\", \"\\u043f\\u0440\\u0430\\u0432\\u0438\\u043b\\u043e\", \"\\u043d\\u0430\\u0445\\u043e\\u0434\\u0438\\u0442\\u044c\\u0441\\u044f\", \"\\u0434\\u043e\\u043b\\u0436\\u043d\\u044b\\u0439\", \"\\u0443\\u0447\\u0430\\u0441\\u0442\\u043e\\u043a\", \"\\u0434\\u043e\\u043a\\u0443\\u043c\\u0435\\u043d\\u0442\", \"\\u043a\\u043e\\u0442\\u043e\\u0440\\u044b\\u0439\", \"\\u0441\\u0432\\u044f\\u0437\\u044c\", \"\\u0432\\u043e\\u0434\\u0430\", \"\\u0440\\u0430\\u0431\\u043e\\u0442\\u0430\\u0442\\u044c\", \"\\u043a\\u0430\\u0440\\u0442\\u0430\", \"\\u0433\\u0430\\u0440\\u0430\\u043d\\u0442\\u0438\\u0439\\u043d\\u044b\\u0439\", \"\\u0434\\u043e\\u0433\\u043e\\u0432\\u043e\\u0440\", \"\\u0432\\u043e\\u0437\\u0432\\u0440\\u0430\\u0449\\u0430\\u0442\\u044c\", \"\\u043f\\u043e\\u043c\\u0435\\u0449\\u0435\\u043d\\u0438\\u0435\", \"\\u043e\\u0442\\u043a\\u0430\\u0437\\u044b\\u0432\\u0430\\u0442\\u044c\\u0441\\u044f\", \"\\u0441\\u043f\\u0438\\u0441\\u0430\\u0442\\u044c\", \"\\u0434\\u043e\\u0441\\u0442\\u0430\\u0432\\u0438\\u0442\\u044c\", \"\\u043f\\u043e\\u0441\\u0442\\u0443\\u043f\\u0438\\u0442\\u044c\", \"\\u0440\\u0430\\u0441\\u043f\\u043e\\u043b\\u043e\\u0436\\u0438\\u0442\\u044c\", \"\\u0447\\u0438\\u0441\\u043b\\u043e\", \"\\u0438\\u0434\\u0442\\u0438\", \"\\u044f\\u043d\\u0434\\u0435\\u043a\\u0441\", \"\\u043f\\u0435\\u0440\\u0435\\u043d\\u0435\\u0441\\u0442\\u0438\", \"\\u043f\\u0438\\u0441\\u044c\\u043c\\u0435\\u043d\\u043d\\u044b\\u0439\", \"\\u043a\\u0443\\u0440\\u044c\\u0435\\u0440\", \"\\u0440\\u0430\\u0441\\u0442\\u043e\\u0440\\u0436\\u0435\\u043d\\u0438\\u0435\", \"\\u043a\\u0440\\u0435\\u0434\\u0438\\u0442\\u043d\\u044b\\u0439\", \"com\", \"\\u0438\\u043d\\u043d\\u0430\", \"\\u0441\\u0431\\u0435\\u0440\\u0431\\u0430\\u043d\\u043a\", \"\\u043f\\u0438\\u0441\\u044c\\u043c\\u043e\", \"\\u0441\\u0431\\u0435\\u0440\\u043c\\u0435\\u0433\\u0430\\u043c\\u0430\\u0440\\u043a\\u0435\\u0442\", \"\\u043f\\u043e\\u0434\\u0442\\u0432\\u0435\\u0440\\u0436\\u0434\\u0435\\u043d\\u0438\\u0435\", \"\\u0443\\u043f\\u0440\\u0430\\u0432\\u043b\\u044f\\u0442\\u044c\", \"\\u043f\\u0430\\u0441\\u043f\\u043e\\u0440\\u0442\", \"\\u043e\\u043d\\u043b\\u0430\\u0439\\u043d\", \"\\u043f\\u043e\\u0441\\u0442\\u0443\\u043f\\u0430\\u0442\\u044c\", \"\\u043e\\u0431\\u0435\\u0449\\u0430\\u0442\\u044c\", \"\\u0437\\u0430\\u043a\\u043b\\u044e\\u0447\\u0438\\u0442\\u044c\", \"\\u043e\\u0442\\u043c\\u0435\\u043d\\u0430\", \"\\u043f\\u0435\\u0440\\u0435\\u0441\\u0442\\u0430\\u0442\\u044c\", \"\\u0434\\u0435\\u043d\\u044c\\u0433\\u0430\", \"\\u043e\\u043f\\u043b\\u0430\\u0442\\u0438\\u0442\\u044c\", \"\\u043a\\u0430\\u0440\\u0442\\u0430\", \"\\u0440\\u0443\\u0431\", \"\\u043f\\u043e\\u0447\\u0442\\u0430\", \"\\u0441\\u0447\\u0451\\u0442\", \"\\u0441\\u0443\\u043c\\u043c\\u0430\", \"\\u0441\\u0440\\u0435\\u0434\\u0441\\u0442\\u0432\\u043e\", \"\\u0434\\u0435\\u043d\\u0435\\u0436\\u043d\\u044b\\u0439\", \"\\u043f\\u0438\\u0441\\u0430\\u0442\\u044c\", \"\\u0441\\u0432\\u044f\\u0437\\u0430\\u0442\\u044c\\u0441\\u044f\", \"\\u0431\\u0430\\u043d\\u043a\", \"\\u0434\\u043e\\u0441\\u0442\\u0430\\u0432\\u043a\\u0430\", \"\\u043e\\u043f\\u043b\\u0430\\u0442\\u0430\", \"\\u0437\\u0430\\u043a\\u0430\\u0437\", \"\\u0443\\u0441\\u043b\\u0443\\u0433\\u0430\", \"\\u043e\\u0442\\u0432\\u0435\\u0447\\u0430\\u0442\\u044c\", \"\\u0432\\u0435\\u0440\\u043d\\u0443\\u0442\\u044c\", \"\\u0436\\u0434\\u0430\\u0442\\u044c\", \"\\u043e\\u0442\\u0432\\u0435\\u0442\", \"\\u043d\\u043e\\u043c\\u0435\\u0440\", \"\\u043f\\u043e\\u043b\\u0443\\u0447\\u0438\\u0442\\u044c\", \"\\u0432\\u043e\\u0437\\u0432\\u0440\\u0430\\u0442\", \"\\u0441\\u0430\\u0439\\u0442\", \"\\u0441\\u0434\\u0435\\u043b\\u0430\\u0442\\u044c\", \"\\u0441\\u0440\\u043e\\u043a\", \"\\u043f\\u0440\\u0438\\u0439\\u0442\\u0438\", \"\\u043a\\u043e\\u043c\\u043f\\u0430\\u043d\\u0438\\u044f\", \"\\u0434\\u0430\\u0442\\u044c\", \"\\u043d\\u0430\\u043f\\u0438\\u0441\\u0430\\u0442\\u044c\", \"\\u0434\\u043e\\u043a\\u0443\\u043c\\u0435\\u043d\\u0442\", \"\\u043a\\u043e\\u0442\\u043e\\u0440\\u044b\\u0439\", \"\\u0441\\u0438\\u0442\\u0443\\u0430\\u0446\\u0438\\u044f\", \"\\u0432\\u0441\\u0451\", \"\\u043f\\u0443\\u043d\\u043a\\u0442\", \"\\u0432\\u044b\\u0434\\u0430\\u0447\\u0430\", \"\\u0443\\u043f\\u0430\\u043a\\u043e\\u0432\\u043a\\u0430\", \"\\u0441\\u043e\\u043e\\u0442\\u0432\\u0435\\u0442\\u0441\\u0442\\u0432\\u0438\\u0435\", \"\\u0440\\u043e\\u0441\\u0441\\u0438\\u0439\\u0441\\u043a\\u0438\\u0439\", \"\\u043a\\u043e\\u0434\", \"\\u043e\\u0448\\u0438\\u0431\\u043a\\u0430\", \"wildberries\", \"\\u0441\\u043e\\u043e\\u0442\\u0432\\u0435\\u0442\\u0441\\u0442\\u0432\\u0435\\u043d\\u043d\\u043e\", \"\\u0444\\u0435\\u0434\\u0435\\u0440\\u0430\\u0446\\u0438\\u044f\", \"\\u043e\\u0431\\u0440\\u0430\\u0437\", \"\\u0442\\u043e\\u0440\\u0433\\u043e\\u0432\\u044b\\u0439\", \"\\u0433\\u0440\\u0430\\u0436\\u0434\\u0430\\u043d\\u0438\\u043d\", \"\\u0437\\u0430\\u0449\\u0438\\u0442\\u0430\", \"\\u0437\\u0430\\u043a\\u043e\\u043d\\u043e\\u0434\\u0430\\u0442\\u0435\\u043b\\u044c\\u0441\\u0442\\u0432\\u043e\", \"\\u043f\\u0440\\u0435\\u0434\\u043b\\u043e\\u0436\\u0435\\u043d\\u0438\\u0435\", \"\\u0441\\u0442\\u0430\\u0442\\u044c\\u044f\", \"\\u043e\\u0444\\u043e\\u0440\\u043c\\u043b\\u0435\\u043d\\u0438\\u0435\", \"\\u0437\\u0430\\u043f\\u0438\\u0441\\u044c\", \"\\u043f\\u0440\\u0438\\u043e\\u0431\\u0440\\u0435\\u0442\\u0435\\u043d\\u0438\\u0435\", \"\\u043c\\u043e\\u0434\\u0435\\u043b\\u044c\", \"\\u0441\\u0441\\u044b\\u043b\\u043a\\u0430\", \"\\u0438\\u043d\\u0432\\u0430\\u043b\\u0438\\u0434\", \"\\u043d\\u0430\\u0434\\u043b\\u0435\\u0436\\u0430\\u0449\\u0438\\u0439\", \"\\u043e\\u0441\\u0443\\u0449\\u0435\\u0441\\u0442\\u0432\\u043b\\u044f\\u0442\\u044c\", \"\\u043f\\u0440\\u043e\\u0438\\u0437\\u0432\\u043e\\u0434\\u0441\\u0442\\u0432\\u0435\\u043d\\u043d\\u044b\\u0439\", \"www\", \"\\u0441\\u043e\\u0441\\u0442\\u0430\\u0432\", \"\\u0430\\u0440\\u0442\\u0438\\u043a\\u0443\\u043b\", \"\\u0437\\u0430\\u0440\\u0435\\u0433\\u0438\\u0441\\u0442\\u0440\\u0438\\u0440\\u043e\\u0432\\u0430\\u0442\\u044c\", \"\\u0442\\u043e\\u0432\\u0430\\u0440\", \"\\u043f\\u043e\\u043a\\u0443\\u043f\\u0430\\u0442\\u0435\\u043b\\u044c\", \"\\u0432\\u0430\\u0439\\u043b\\u0434\\u0431\\u0435\\u0440\\u0440\\u0438\\u0437\", \"\\u043e\\u0431\\u0440\\u0430\\u0442\\u043d\\u043e\", \"\\u043f\\u0440\\u043e\\u0434\\u0430\\u0432\\u0435\\u0446\", \"\\u043f\\u043e\\u0442\\u0440\\u0435\\u0431\\u0438\\u0442\\u0435\\u043b\\u044c\", \"\\u0437\\u0430\\u043a\\u043e\\u043d\", \"\\u043f\\u043e\\u0434\\u043e\\u0439\\u0442\\u0438\", \"\\u0431\\u0440\\u0430\\u043a\", \"\\u043f\\u043e\\u043b\\u0443\\u0447\\u0435\\u043d\\u0438\\u0435\", \"\\u043f\\u0440\\u043e\\u0438\\u0437\\u0432\\u043e\\u0434\\u0438\\u0442\\u0435\\u043b\\u044c\", \"\\u0440\\u0430\\u0437\\u043c\\u0435\\u0440\", \"\\u0432\\u043e\\u0437\\u0432\\u0440\\u0430\\u0442\", \"\\u0438\\u043c\\u0435\\u043d\\u043d\\u043e\", \"\\u043e\\u0434\\u043d\\u0430\\u043a\\u043e\", \"\\u043a\\u0430\\u0447\\u0435\\u0441\\u0442\\u0432\\u043e\", \"\\u043e\\u043a\\u0430\\u0437\\u0430\\u0442\\u044c\\u0441\\u044f\", \"\\u043f\\u043b\\u043e\\u0449\\u0430\\u0434\\u043a\\u0430\", \"\\u043c\\u0430\\u0433\\u0430\\u0437\\u0438\\u043d\", \"\\u0438\\u043d\\u0442\\u0435\\u0440\\u043d\\u0435\\u0442\", \"\\u0438\\u043d\\u0444\\u043e\\u0440\\u043c\\u0430\\u0446\\u0438\\u044f\", \"\\u0437\\u0430\\u043a\\u0430\\u0437\\u0430\\u0442\\u044c\", \"\\u0441\\u043e\\u0442\\u0440\\u0443\\u0434\\u043d\\u0438\\u043a\", \"\\u0441\\u0430\\u0439\\u0442\", \"\\u0441\\u0442\\u043e\\u0438\\u043c\\u043e\\u0441\\u0442\\u044c\", \"\\u043e\\u0442\\u043a\\u0430\\u0437\", \"\\u043f\\u043e\\u043b\\u0443\\u0447\\u0438\\u0442\\u044c\", \"\\u043e\\u043e\\u043e\", \"\\u0441\\u043b\\u0443\\u0447\\u0430\\u0439\", \"\\u043a\\u043e\\u0442\\u043e\\u0440\\u044b\\u0439\", \"\\u043f\\u0440\\u0438\\u043e\\u0431\\u0440\\u0435\\u0441\\u0442\\u0438\", \"\\u044f\\u0432\\u043b\\u044f\\u0442\\u044c\\u0441\\u044f\", \"\\u0437\\u0430\\u043a\\u0430\\u0437\", \"\\u0432\\u0435\\u0440\\u043d\\u0443\\u0442\\u044c\", \"\\u0432\\u043e\\u0434\\u0430\", \"\\u043a\\u0432\\u0430\\u0440\\u0442\\u0438\\u0440\\u0430\", \"\\u044d\\u0442\\u0430\\u0436\", \"\\u0447\\u0430\\u0441\\u0442\\u044c\", \"\\u043d\\u043e\\u0440\\u043c\\u0430\", \"\\u043e\\u0437\\u043e\\u043d\", \"\\u0442\\u0430\\u0440\\u0430\\u043a\\u0430\\u043d\", \"\\u0441\\u043e\\u043e\\u0442\\u0432\\u0435\\u0442\\u0441\\u0442\\u0432\\u043e\\u0432\\u0430\\u0442\\u044c\", \"\\u043f\\u0440\\u043e\\u0436\\u0438\\u0432\\u0430\\u0442\\u044c\", \"\\u0438\\u044e\\u043d\\u044c\", \"\\u0441\\u043c\\u043e\\u0447\\u044c\", \"\\u0441\\u0430\\u043b\\u043e\\u043d\", \"\\u0442\\u0435\\u043b\\u043e\", \"\\u043a\\u043e\\u043d\\u0434\\u0438\\u0446\\u0438\\u043e\\u043d\\u0435\\u0440\", \"\\u0432\\u043d\\u0438\\u043c\\u0430\\u043d\\u0438\\u0435\", \"\\u043a\\u0440\\u0430\\u0439\", \"\\u0441\\u043e\\u0431\\u0441\\u0442\\u0432\\u0435\\u043d\\u043d\\u0438\\u043a\", \"\\u0441\\u043e\\u0431\\u0441\\u0442\\u0432\\u0435\\u043d\\u043d\\u044b\\u0439\", \"\\u043c\\u043d\\u043e\\u0433\\u043e\\u043a\\u0432\\u0430\\u0440\\u0442\\u0438\\u0440\\u043d\\u044b\\u0439\", \"\\u043f\\u043b\\u0430\\u043d\\u0438\\u0440\\u043e\\u0432\\u0430\\u0442\\u044c\\u0441\\u044f\", \"\\u0440\\u043e\\u0441\\u0442\\u0435\\u043b\\u0435\\u043a\\u043e\\u043c\", \"\\u0445\\u043e\\u043b\\u043e\\u0434\\u043d\\u044b\\u0439\", \"\\u043a\\u043e\\u043d\\u0435\\u0446\", \"\\u0441\\u043f\\u0435\\u0446\\u0438\\u0430\\u043b\\u0438\\u0441\\u0442\", \"\\u0438\\u0437\\u0434\\u0435\\u043b\\u0438\\u0435\", \"\\u0436\\u0438\\u0442\\u044c\", \"\\u043f\\u043e\\u0432\\u0442\\u043e\\u0440\\u043d\\u043e\", \"\\u043e\\u0442\\u043f\\u0440\\u0430\\u0432\\u043b\\u044f\\u0442\\u044c\", \"\\u043f\\u043e\\u0434\\u0442\\u0432\\u0435\\u0440\\u0436\\u0434\\u0430\\u0442\\u044c\", \"\\u0442\\u0440\\u0443\\u0431\\u043a\\u0430\", \"\\u043d\\u0430\\u0448\", \"\\u0434\\u043e\\u043c\", \"\\u043f\\u043e\\u043c\\u043e\\u0449\\u044c\", \"\\u0442\\u0435\\u0445\\u043d\\u0438\\u043a\\u0430\", \"\\u0443\\u0432\\u0430\\u0436\\u0435\\u043d\\u0438\\u0435\", \"\\u043c\\u0435\\u0441\\u0442\\u043e\", \"\\u0440\\u0430\\u0439\\u043e\\u043d\", \"\\u0432\\u0435\\u0441\\u044c\", \"\\u043c\\u0435\\u0440\\u0430\", \"\\u043f\\u0440\\u043e\\u0431\\u043b\\u0435\\u043c\\u0430\", \"\\u043e\\u0440\\u0433\\u0430\\u043d\\u0438\\u0437\\u0430\\u0446\\u0438\\u044f\", \"\\u0441\\u0435\\u0439\", \"\\u0433\\u043e\\u0440\\u044f\\u0447\\u0438\\u0439\", \"\\u0440\\u0430\\u0431\\u043e\\u0442\\u0430\", \"\\u043d\\u0435\\u0432\\u043e\\u0437\\u043c\\u043e\\u0436\\u043d\\u043e\", \"\\u0432\\u0430\\u0448\", \"\\u0434\\u0435\\u044f\\u0442\\u0435\\u043b\\u044c\\u043d\\u043e\\u0441\\u0442\\u044c\", \"\\u043f\\u0440\\u0438\\u043d\\u044f\\u0442\\u044c\", \"\\u0441\\u0432\\u043e\\u0439\", \"\\u043f\\u0440\\u043e\\u0432\\u0435\\u0441\\u0442\\u0438\", \"\\u0442\\u0430\\u043a\\u0436\\u0435\", \"\\u043e\\u0431\\u0440\\u0430\\u0449\\u0430\\u0442\\u044c\\u0441\\u044f\", \"\\u043a\\u043e\\u043c\\u043f\\u0430\\u043d\\u0438\\u044f\", \"\\u0432\\u0440\\u0435\\u043c\\u044f\", \"\\u0432\\u0441\\u0451\", \"\\u043d\\u0430\\u0445\\u043e\\u0434\\u0438\\u0442\\u044c\\u0441\\u044f\", \"\\u0441\\u0442\\u043e\\u0440\\u043e\\u043d\\u0430\", \"\\u043a\\u043e\\u0442\\u043e\\u0440\\u044b\\u0439\", \"\\u043f\\u0440\\u043e\\u0441\\u0442\\u043e\", \"\\u043e\\u043e\\u043e\", \"\\u0434\\u0430\\u0442\\u044c\", \"\\u0440\\u0435\\u0448\\u0435\\u043d\\u0438\\u0435\", \"\\u0440\\u0435\\u043c\\u043e\\u043d\\u0442\", \"\\u0438\\u044e\\u043b\\u044c\", \"\\u0446\\u0435\\u043d\\u0442\\u0440\", \"\\u0433\\u0430\\u0440\\u0430\\u043d\\u0442\\u0438\\u044f\", \"\\u0441\\u0435\\u0440\\u0432\\u0438\\u0441\\u043d\\u044b\\u0439\", \"\\u043c\\u0430\\u0441\\u0442\\u0435\\u0440\", \"\\u043f\\u043e\\u0434\\u044a\\u0435\\u0437\\u0434\", \"\\u0441\\u0435\\u043d\\u0442\\u044f\\u0431\\u0440\\u044c\", \"\\u043d\\u0430\\u0437\\u0430\\u0434\", \"\\u043f\\u0440\\u0435\\u0434\\u043e\\u043f\\u043b\\u0430\\u0442\\u0430\", \"\\u0447\\u0430\\u0441\\u044b\", \"\\u0440\\u0430\\u0437\\u044a\\u044f\\u0441\\u043d\\u0438\\u0442\\u044c\", \"\\u0443\\u0441\\u0442\\u0440\\u043e\\u0439\\u0441\\u0442\\u0432\\u043e\", \"\\u044d\\u043a\\u0441\\u043f\\u0435\\u0440\\u0442\\u0438\\u0437\\u0430\", \"\\u043c\\u0435\\u0431\\u0435\\u043b\\u044c\", \"\\u0434\\u0438\\u0432\\u0430\\u043d\", \"\\u0445\\u043e\\u043b\\u043e\\u0434\\u0438\\u043b\\u044c\\u043d\\u0438\\u043a\", \"\\u0432\\u044b\\u043f\\u043e\\u043b\\u043d\\u0438\\u0442\\u044c\", \"\\u0441\\u043b\\u043e\\u043c\\u0430\\u0442\\u044c\\u0441\\u044f\", \"\\u0434\\u0435\\u0444\\u0435\\u043a\\u0442\", \"\\u043a\\u0443\\u0445\\u043d\\u044f\", \"\\u043a\\u0430\\u0441\\u0441\\u0438\\u0440\", \"\\u043f\\u0440\\u0438\\u043c\\u0435\\u0440\\u043d\\u043e\", \"\\u043e\\u0441\\u043c\\u043e\\u0442\\u0440\", \"\\u043e\\u0442\\u043a\\u043b\\u044e\\u0447\\u0438\\u0442\\u044c\", \"\\u043c\\u0430\\u043b\\u0435\\u043d\\u044c\\u043a\\u0438\\u0439\", \"\\u043a\\u0430\\u043c\\u0435\\u0440\\u0430\", \"\\u043c\\u0430\\u0442\\u0440\\u0430\\u0441\", \"\\u043e\\u043a\\u0442\\u044f\\u0431\\u0440\\u044c\", \"\\u0434\\u0435\\u0442\\u0430\\u043b\\u044c\", \"\\u0437\\u0430\\u043c\\u0435\\u043d\\u0430\", \"\\u043f\\u0440\\u0438\\u0441\\u043b\\u0430\\u0442\\u044c\", \"\\u0442\\u0435\\u043b\\u0435\\u0444\\u043e\\u043d\", \"\\u0430\\u043a\\u0442\", \"\\u043c\\u0430\\u0433\\u0430\\u0437\\u0438\\u043d\", \"\\u0444\\u0438\\u0440\\u043c\\u0430\", \"\\u0440\\u0430\\u0431\\u043e\\u0442\\u0430\\u0442\\u044c\", \"\\u043e\\u0431\\u0440\\u0430\\u0442\\u0438\\u0442\\u044c\\u0441\\u044f\", \"\\u043e\\u0431\\u043d\\u0430\\u0440\\u0443\\u0436\\u0438\\u0442\\u044c\", \"\\u043f\\u0440\\u0438\\u043e\\u0431\\u0440\\u0435\\u0441\\u0442\\u0438\", \"\\u0432\\u0435\\u0440\\u043d\\u0443\\u0442\\u044c\", \"\\u043a\\u0443\\u043f\\u0438\\u0442\\u044c\", \"\\u043d\\u0435\\u0434\\u0435\\u043b\\u044f\", \"\\u0437\\u0430\\u044f\\u0432\\u043b\\u0435\\u043d\\u0438\\u0435\", \"\\u0441\\u0440\\u043e\\u043a\", \"\\u0447\\u0435\\u043a\", \"\\u043f\\u043e\\u043b\\u044c\\u0437\\u043e\\u0432\\u0430\\u0442\\u044c\\u0441\\u044f\", \"\\u043e\\u043a\\u043e\\u043b\\u043e\", \"\\u043f\\u0440\\u043e\\u0434\\u0443\\u043a\\u0442\", \"\\u0441\\u043d\\u044f\\u0442\\u044c\", \"\\u0430\\u0432\\u0442\\u043e\\u043c\\u043e\\u0431\\u0438\\u043b\\u044c\", \"\\u0440\\u0435\\u0439\\u0441\", \"\\u043a\\u0430\\u0441\\u0441\\u0430\", \"\\u043f\\u0440\\u043e\\u0434\\u0430\\u0442\\u044c\", \"\\u043f\\u0430\\u0441\\u0441\\u0430\\u0436\\u0438\\u0440\", \"\\u0432\\u044b\\u0448\\u0435\", \"\\u0430\\u0432\\u0442\\u043e\\u0431\\u0443\\u0441\", \"\\u0446\\u0435\\u043d\\u043d\\u0438\\u043a\", \"\\u0432\\u0435\\u0440\\u043d\\u0443\\u0442\\u044c\\u0441\\u044f\", \"\\u0440\\u0430\\u0431\\u043e\\u0442\\u043d\\u0438\\u043a\", \"\\u0431\\u0443\\u043c\\u0430\\u0433\\u0430\", \"\\u043e\\u0431\\u044a\\u044f\\u0432\\u043b\\u0435\\u043d\\u0438\\u0435\", \"\\u043f\\u0435\\u0440\\u0435\\u0432\\u043e\\u0437\\u043a\\u0430\", \"\\u043a\\u043d\\u0438\\u0433\\u0430\", \"\\u0442\\u0443\\u0430\\u043b\\u0435\\u0442\", \"\\u043f\\u0440\\u043e\\u0438\\u0441\\u0445\\u043e\\u0434\\u0438\\u0442\\u044c\", \"\\u043c\\u043e\\u0441\\u043a\\u043e\\u0432\\u0441\\u043a\\u0438\\u0439\", \"\\u043a\\u0430\\u0441\\u0441\\u043e\\u0432\\u044b\\u0439\", \"\\u0440\\u0430\\u043d\\u043d\\u0438\\u0439\", \"\\u0432\\u0445\\u043e\\u0434\", \"\\u0440\\u044b\\u043d\\u043e\\u043a\", \"\\u0441\\u043e\\u0446\\u0438\\u0430\\u043b\\u044c\\u043d\\u044b\\u0439\", \"\\u0440\\u0430\\u0437\\u043d\\u0438\\u0446\\u0430\", \"\\u0441\\u043d\\u0438\\u043c\\u0430\\u0442\\u044c\", \"\\u0440\\u0430\\u0441\\u043f\\u0438\\u0441\\u0430\\u043d\\u0438\\u0435\", \"\\u0441\\u043e\\u0431\\u043b\\u044e\\u0434\\u0435\\u043d\\u0438\\u0435\", \"\\u0446\\u0435\\u043d\\u0430\", \"\\u043c\\u0438\\u043d\\u0443\\u0442\\u0430\", \"\\u043f\\u0440\\u043e\\u0434\\u0430\\u0436\\u0430\", \"\\u043c\\u0430\\u0433\\u0430\\u0437\\u0438\\u043d\", \"\\u0440\\u0443\\u0431\\u043b\\u044c\", \"\\u0447\\u0435\\u043a\", \"\\u0436\\u0430\\u043b\\u043e\\u0431\\u0430\", \"\\u043f\\u0440\\u043e\\u0432\\u0435\\u0441\\u0442\\u0438\", \"\\u043a\\u0443\\u043f\\u0438\\u0442\\u044c\", \"\\u043e\\u0442\\u043a\\u0430\\u0437\\u0430\\u0442\\u044c\", \"\\u043f\\u0440\\u043e\\u0432\\u0435\\u0440\\u043a\\u0430\", \"\\u043b\\u0438\\u043d\\u0438\\u044f\", \"\\u043a\\u043e\\u0442\\u043e\\u0440\\u044b\\u0439\", \"\\u043f\\u043e\\u043a\\u0443\\u043f\\u043a\\u0430\", \"\\u043f\\u0440\\u043e\\u0441\\u044c\\u0431\\u0430\", \"\\u0434\\u0430\\u0442\\u044c\", \"\\u0430\\u0432\\u0433\\u0443\\u0441\\u0442\", \"\\u0442\\u0440\\u0435\\u0431\\u043e\\u0432\\u0430\\u0442\\u044c\", \"\\u0443\\u043b\\u0438\\u0446\\u0430\", \"\\u0436\\u0438\\u043b\\u043e\\u0439\", \"\\u0440\\u0443\\u043a\\u0430\", \"\\u0430\\u0434\\u043c\\u0438\\u043d\\u0438\\u0441\\u0442\\u0440\\u0430\\u0446\\u0438\\u044f\", \"\\u0437\\u043d\\u0430\\u0442\\u044c\", \"\\u043f\\u043e\\u0441\\u0442\\u0430\\u043d\\u043e\\u0432\\u043b\\u0435\\u043d\\u0438\\u0435\", \"\\u0438\\u0441\\u043f\\u043e\\u043b\\u044c\\u0437\\u043e\\u0432\\u0430\\u0442\\u044c\", \"\\u0441\\u043e\\u0441\\u0435\\u0434\", \"\\u044e\\u0440\\u0438\\u0434\\u0438\\u0447\\u0435\\u0441\\u043a\\u0438\\u0439\", \"\\u0445\\u043e\\u0442\\u0435\\u0442\\u044c\\u0441\\u044f\", \"\\u0437\\u0430\\u0432\\u0435\\u0434\\u0435\\u043d\\u0438\\u0435\", \"\\u0442\\u043e\\u0447\\u043a\\u0430\", \"\\u043f\\u0438\\u0449\\u0435\\u0432\\u043e\\u0439\", \"\\u0437\\u043e\\u043d\\u0430\", \"\\u043e\\u043f\\u0435\\u0440\\u0430\\u0446\\u0438\\u044f\", \"\\u043f\\u0440\\u0438\\u0445\\u043e\\u0434\\u0438\\u0442\\u044c\\u0441\\u044f\", \"\\u0448\\u043a\\u043e\\u043b\\u0430\", \"\\u0441\\u043e\\u0433\\u043b\\u0430\\u0448\\u0435\\u043d\\u0438\\u0435\", \"\\u043f\\u043e\\u043b\\u043e\\u0436\\u0438\\u0442\\u044c\", \"\\u0437\\u0430\\u043d\\u044f\\u0442\\u0438\\u0435\", \"\\u043c\\u0435\\u0441\\u0442\\u043d\\u044b\\u0439\", \"\\u0443\\u0441\\u0442\\u0440\\u043e\\u0438\\u0442\\u044c\", \"\\u043d\\u0438\\u0436\\u043d\\u0438\\u0439\", \"\\u043f\\u0440\\u0430\\u0432\\u0438\\u0442\\u0435\\u043b\\u044c\\u0441\\u0442\\u0432\\u043e\", \"\\u043f\\u0440\\u0435\\u0434\\u043f\\u0440\\u0438\\u044f\\u0442\\u0438\\u0435\", \"\\u0440\\u0435\\u0430\\u0433\\u0438\\u0440\\u043e\\u0432\\u0430\\u0442\\u044c\", \"\\u0436\\u0430\\u043b\\u043e\\u0432\\u0430\\u0442\\u044c\\u0441\\u044f\", \"\\u043f\\u0440\\u043e\\u0432\\u043e\\u0434\\u0438\\u0442\\u044c\\u0441\\u044f\", \"\\u0446\\u0432\\u0435\\u0442\", \"\\u043f\\u0440\\u043e\\u0432\\u0435\\u0434\\u0435\\u043d\\u0438\\u0435\", \"\\u0441\\u0430\\u043d\\u0438\\u0442\\u0430\\u0440\\u043d\\u044b\\u0439\", \"\\u0437\\u0430\\u043a\\u043b\\u044e\\u0447\\u0435\\u043d\\u0438\\u0435\", \"\\u0437\\u0430\\u043f\\u0430\\u0445\", \"\\u043e\\u0431\\u043b\\u0430\\u0441\\u0442\\u044c\", \"\\u0447\\u0430\\u0441\", \"\\u0433\\u043e\\u0440\\u043e\\u0434\", \"\\u043d\\u0430\\u0445\\u043e\\u0434\\u0438\\u0442\\u044c\\u0441\\u044f\", \"\\u0443\\u0441\\u043b\\u043e\\u0432\\u0438\\u0435\", \"\\u043f\\u043e\\u043b\\u043d\\u044b\\u0439\", \"\\u0434\\u043e\\u043a\\u0443\\u043c\\u0435\\u043d\\u0442\", \"\\u0441\\u0435\\u0442\\u044c\", \"\\u0442\\u0440\\u0435\\u0431\\u043e\\u0432\\u0430\\u043d\\u0438\\u0435\", \"\\u0434\\u043e\\u043b\\u0436\\u043d\\u044b\\u0439\", \"\\u044f\\u0432\\u043b\\u044f\\u0442\\u044c\\u0441\\u044f\", \"\\u0431\\u0438\\u043b\\u0435\\u0442\", \"\\u0440\\u0435\\u0431\\u0451\\u043d\\u043e\\u043a\", \"\\u043a\\u043e\\u043d\\u0446\\u0435\\u0440\\u0442\", \"\\u0433\\u0430\\u0440\\u0430\\u043d\\u0442\\u0438\\u0439\\u043d\\u044b\\u0439\", \"\\u0434\\u0435\\u0442\\u0441\\u043a\\u0438\\u0439\", \"\\u0433\\u0440\\u0443\\u043f\\u043f\\u0430\", \"\\u043e\\u0440\\u0433\\u0430\\u043d\\u0438\\u0437\\u0430\\u0442\\u043e\\u0440\", \"\\u043c\\u0435\\u0440\\u043e\\u043f\\u0440\\u0438\\u044f\\u0442\\u0438\\u0435\", \"\\u043f\\u0440\\u043e\\u0438\\u0437\\u043e\\u0439\\u0442\\u0438\", \"\\u0441\\u0430\\u0434\", \"\\u0432\\u043e\\u0437\\u0432\\u0440\\u0430\\u0442\\u0438\\u0442\\u044c\", \"\\u043e\\u0441\\u0443\\u0449\\u0435\\u0441\\u0442\\u0432\\u043b\\u044f\\u0442\\u044c\\u0441\\u044f\", \"\\u043e\\u043f\\u043b\\u0430\\u0447\\u0438\\u0432\\u0430\\u0442\\u044c\", \"\\u0440\\u0435\\u0436\\u0438\\u043c\", \"\\u0441\\u0434\\u0430\\u0442\\u044c\", \"\\u043e\\u0431\\u0430\", \"\\u043f\\u0440\\u043e\\u0438\\u0437\\u0432\\u043e\\u0434\\u0441\\u0442\\u0432\\u043e\", \"\\u0441\\u043b\\u043e\\u0436\\u0438\\u0442\\u044c\\u0441\\u044f\", \"\\u044d\\u043f\\u0438\\u0434\\u0435\\u043c\\u0438\\u043e\\u043b\\u043e\\u0433\\u0438\\u0447\\u0435\\u0441\\u043a\\u0438\\u0439\", \"\\u0441\\u0435\\u0433\\u043e\\u0434\\u043d\\u044f\\u0448\\u043d\\u0438\\u0439\", \"\\u043c\\u0430\\u0440\\u0448\\u0440\\u0443\\u0442\", \"\\u043f\\u0440\\u0438\\u043e\\u0431\\u0440\\u0435\\u0442\\u0430\\u0442\\u044c\", \"\\u0441\\u043e\\u043e\\u0431\\u0449\\u0430\\u0442\\u044c\", \"\\u043f\\u0440\\u043e\\u0432\\u043e\\u0434\\u0438\\u0442\\u044c\", \"\\u043e\\u0441\\u0442\\u0430\\u0432\\u0430\\u0442\\u044c\\u0441\\u044f\", \"\\u0438\\u0437\\u0433\\u043e\\u0442\\u043e\\u0432\\u043b\\u0435\\u043d\\u0438\\u0435\", \"\\u0444\\u043e\\u0442\\u043e\\u0433\\u0440\\u0430\\u0444\\u0438\\u044f\", \"\\u0431\\u043e\\u043b\\u044c\\u043d\\u0438\\u0446\\u0430\", \"\\u0441\\u043e\\u0441\\u0442\\u043e\\u044f\\u0442\\u044c\\u0441\\u044f\", \"\\u0444\\u0438\\u0437\\u0438\\u0447\\u0435\\u0441\\u043a\\u0438\\u0439\", \"\\u0432\\u0435\\u0449\\u044c\", \"\\u0430\\u0432\\u0438\\u0430\\u043a\\u043e\\u043c\\u043f\\u0430\\u043d\\u0438\\u044f\", \"\\u0434\\u0430\\u0442\\u0430\", \"\\u0441\\u0435\\u0433\\u043e\\u0434\\u043d\\u044f\", \"\\u0434\\u043e\\u043b\\u0436\\u043d\\u044b\\u0439\", \"\\u043b\\u0438\\u0446\\u043e\", \"\\u043d\\u043e\\u044f\\u0431\\u0440\\u044c\", \"\\u0440\\u0435\\u0433\\u0438\\u0441\\u0442\\u0440\\u0430\\u0446\\u0438\\u044f\", \"\\u0441\\u0440\\u043e\\u043a\", \"\\u043f\\u043e\\u0436\\u0430\\u043b\\u0443\\u0439\\u0441\\u0442\\u0430\", \"\\u043d\\u0430\\u043b\\u0438\\u0447\\u0438\\u0435\", \"\\u043a\\u0440\\u0435\\u0434\\u0438\\u0442\", \"\\u043e\\u043a\\u043d\\u043e\", \"\\u043f\\u043e\\u0434\\u043f\\u0438\\u0441\\u043a\\u0430\", \"\\u0442\\u0435\\u043c\\u043f\\u0435\\u0440\\u0430\\u0442\\u0443\\u0440\\u0430\", \"\\u0434\\u0430\\u0432\\u0430\\u0442\\u044c\", \"\\u0432\\u0440\\u0430\\u0447\", \"\\u043c\\u0430\\u0439\", \"\\u043f\\u043e\\u0434\\u043b\\u0435\\u0436\\u0430\\u0442\\u044c\", \"\\u043e\\u0431\\u043c\\u0435\\u043d\\u044f\\u0442\\u044c\", \"\\u043e\\u0431\\u0440\\u0430\\u0442\\u0438\\u0442\\u044c\", \"\\u0441\\u043a\\u0438\\u0434\\u043a\\u0430\", \"\\u0441\\u0442\\u0440\\u043e\\u0438\\u0442\\u0435\\u043b\\u044c\\u043d\\u044b\\u0439\", \"\\u043f\\u043e\\u043b\\u0438\\u0441\", \"\\u0448\\u0443\\u043c\", \"\\u043f\\u0440\\u0435\\u0434\\u043e\\u0441\\u0442\\u0430\\u0432\\u043b\\u044f\\u0442\\u044c\\u0441\\u044f\", \"\\u0430\\u043f\\u0442\\u0435\\u043a\\u0430\", \"\\u0432\\u044b\\u0445\\u043e\\u0434\\u043d\\u043e\\u0439\", \"\\u043f\\u043b\\u0430\\u0441\\u0442\\u0438\\u043a\\u043e\\u0432\\u044b\\u0439\", \"\\u0443\\u0441\\u0442\\u0440\\u0430\\u043d\\u0438\\u0442\\u044c\", \"\\u0440\\u0430\\u0441\\u0441\\u0440\\u043e\\u0447\\u043a\\u0430\", \"\\u0441\\u043e\\u0436\\u0430\\u043b\\u0435\\u043d\\u0438\\u0435\", \"\\u043a\\u0443\\u0440\\u0441\", \"\\u0434\\u043e\\u043f\\u0443\\u0441\\u0442\\u0438\\u0442\\u044c\", \"\\u043c\\u0435\\u043d\\u044f\\u0442\\u044c\", \"\\u043f\\u0440\\u043e\\u0441\\u043f\\u0435\\u043a\\u0442\", \"\\u0434\\u0432\\u0435\\u0440\\u044c\", \"\\u0432\\u043a\\u043b\\u044e\\u0447\\u0430\\u0442\\u044c\", \"\\u043e\\u0431\\u043c\\u0435\\u043d\", \"\\u0432\\u0447\\u0435\\u0440\\u0430\", \"\\u0432\\u043d\\u0443\\u0442\\u0440\\u0438\", \"\\u0432\\u0430\\u0440\\u0438\\u0430\\u043d\\u0442\", \"\\u0443\\u0442\\u0440\\u043e\", \"\\u0441\\u0442\\u0430\\u0442\\u044c\", \"\\u0440\\u0435\\u0437\\u0443\\u043b\\u044c\\u0442\\u0430\\u0442\", \"\\u0441\\u0442\\u043e\\u0438\\u0442\\u044c\", \"\\u043f\\u043e\\u0434\\u0441\\u043a\\u0430\\u0437\\u0430\\u0442\\u044c\", \"\\u043f\\u043e\\u0436\\u0430\\u043b\\u0443\\u0439\\u0441\\u0442\\u0430\", \"\\u0434\\u0435\\u043b\\u0430\\u0442\\u044c\", \"\\u043e\\u0447\\u0435\\u043d\\u044c\", \"\\u043a\\u043e\\u0442\\u043e\\u0440\\u044b\\u0439\", \"\\u0431\\u0430\\u043d\\u043a\", \"\\u043f\\u0440\\u043e\\u0432\\u0435\\u0440\\u0438\\u0442\\u044c\", \"\\u0445\\u043e\\u0442\\u0435\\u0442\\u044c\", \"\\u043d\\u0443\\u0436\\u043d\\u043e\", \"\\u0441\\u0435\\u0440\\u0442\\u0438\\u0444\\u0438\\u043a\\u0430\\u0442\", \"\\u0443\\u0447\\u0430\\u0441\\u0442\\u043e\\u043a\", \"\\u043e\\u043f\\u0435\\u0440\\u0430\\u0442\\u043e\\u0440\", \"\\u0431\\u0430\\u043d\\u043a\\u043e\\u0432\\u0441\\u043a\\u0438\\u0439\", \"\\u043c\\u0443\\u0441\\u043e\\u0440\", \"\\u043a\\u043e\\u043c\\u0438\\u0441\\u0441\\u0438\\u044f\", \"\\u0441\\u043c\\u0441\", \"\\u043e\\u0444\\u0438\\u0441\", \"\\u0441\\u0443\\u0442\\u043a\\u0438\", \"\\u043c\\u043e\\u0431\\u0438\\u043b\\u044c\\u043d\\u044b\\u0439\", \"\\u043a\\u043e\\u043d\\u0442\\u0435\\u0439\\u043d\\u0435\\u0440\", \"\\u0432\\u044b\\u0432\\u043e\\u0437\", \"\\u043c\\u0430\\u0440\\u043a\\u0438\\u0440\\u043e\\u0432\\u043a\\u0430\", \"\\u043f\\u043e\\u043d\\u044f\\u0442\\u044c\", \"\\u0444\\u0430\\u0439\\u043b\", \"\\u0434\\u043e\\u043f\\u043e\\u043b\\u043d\\u0438\\u0442\\u0435\\u043b\\u044c\\u043d\\u043e\", \"\\u0440\\u0430\\u0441\\u0447\\u0451\\u0442\", \"\\u043a\\u043e\\u043c\\u043c\\u0443\\u043d\\u0430\\u043b\\u044c\\u043d\\u044b\\u0439\", \"\\u043f\\u0430\\u0440\\u0430\", \"\\u0441\\u043e\\u0445\\u0440\\u0430\\u043d\\u0438\\u0442\\u044c\", \"\\u043f\\u043e\\u0434\\u0430\\u0440\\u043e\\u0447\\u043d\\u044b\\u0439\", \"\\u043f\\u043e\\u0434\\u043e\\u0431\\u043d\\u044b\\u0439\", \"\\u0448\\u0442\\u0440\\u0430\\u0444\", \"\\u043b\\u0435\\u0442\\u043e\", \"\\u043e\\u0442\\u0434\\u044b\\u0445\", \"\\u0440\\u044f\\u0434\\u043e\\u043c\", \"\\u043f\\u043e\\u0434\\u043a\\u043b\\u044e\\u0447\\u0435\\u043d\\u0438\\u0435\", \"\\u043f\\u043e\\u0435\\u0437\\u0434\\u043a\\u0430\", \"\\u043f\\u0435\\u0440\\u0435\\u0447\\u0435\\u043d\\u044c\", \"\\u0434\\u043e\\u0441\\u0442\\u0443\\u043f\", \"\\u0442\\u0430\\u0440\\u0438\\u0444\", \"\\u0433\\u0440\\u0430\\u043d\\u0438\\u0446\\u0430\", \"\\u043a\\u043b\\u0438\\u0435\\u043d\\u0442\", \"\\u043f\\u0440\\u0430\\u0432\\u0438\\u043b\\u043e\", \"\\u043a\\u0432\\u0438\\u0442\\u0430\\u043d\\u0446\\u0438\\u044f\", \"\\u0441\\u0438\\u0441\\u0442\\u0435\\u043c\\u0430\", \"\\u0441\\u0432\\u044f\\u0437\\u044c\", \"\\u0443\\u0441\\u043b\\u0443\\u0433\\u0430\", \"\\u043d\\u043e\\u043c\\u0435\\u0440\", \"\\u0432\\u0440\\u0435\\u043c\\u044f\", \"\\u0432\\u0441\\u0451\", \"\\u0442\\u0435\\u0445\\u043d\\u0438\\u0447\\u0435\\u0441\\u043a\\u0438\\u0439\", \"\\u043f\\u043e\\u0441\\u0442\\u043e\\u044f\\u043d\\u043d\\u043e\", \"\\u043a\\u043b\\u0443\\u0431\", \"\\u0444\\u0435\\u0434\\u0435\\u0440\\u0430\\u043b\\u044c\\u043d\\u044b\\u0439\", \"\\u0434\\u0430\\u043d\\u043d\\u044b\\u0435\", \"\\u043f\\u0440\\u043e\\u0434\\u0430\\u0432\\u0430\\u0442\\u044c\", \"\\u0437\\u0434\\u043e\\u0440\\u043e\\u0432\\u044c\\u0435\", \"\\u0432\\u0435\\u0441\", \"\\u0430\\u0431\\u043e\\u043d\\u0435\\u043c\\u0435\\u043d\\u0442\", \"\\u043e\\u0440\\u0433\\u0430\\u043d\", \"\\u0441\\u043f\\u0440\\u0430\\u0432\\u043a\\u0430\", \"\\u0433\\u043e\\u0441\\u0443\\u0434\\u0430\\u0440\\u0441\\u0442\\u0432\\u0435\\u043d\\u043d\\u044b\\u0439\", \"\\u043c\\u0435\\u0434\\u0438\\u0446\\u0438\\u043d\\u0441\\u043a\\u0438\\u0439\", \"\\u0434\\u044b\\u0448\\u0430\\u0442\\u044c\", \"\\u043a\\u043e\\u043c\\u043d\\u0430\\u0442\\u0430\", \"\\u043e\\u0442\\u043a\\u0440\\u044b\\u0442\\u044c\\u0441\\u044f\", \"\\u043e\\u0442\\u0435\\u043b\\u044c\", \"\\u043f\\u0440\\u043e\\u0436\\u0438\\u0432\\u0430\\u043d\\u0438\\u0435\", \"\\u0438\\u043d\\u0441\\u0442\\u0430\\u043d\\u0446\\u0438\\u044f\", \"\\u043f\\u0440\\u043e\\u0442\\u044f\\u0436\\u0435\\u043d\\u0438\\u0435\", \"\\u0441\\u0447\\u0438\\u0442\\u0430\\u0442\\u044c\\u0441\\u044f\", \"\\u0442\\u0435\\u0441\\u0442\", \"\\u043e\\u0442\\u0434\\u0435\\u043b\", \"\\u0437\\u0432\\u0443\\u043a\", \"\\u0432\\u043e\\u0437\\u043b\\u0435\", \"\\u043a\\u0440\\u044b\\u0448\\u0430\", \"\\u0443\\u0432\\u0435\\u0434\\u043e\\u043c\\u0438\\u0442\\u044c\", \"\\u0438\\u0441\\u043f\\u0440\\u0430\\u0432\\u0438\\u0442\\u044c\", \"\\u0441\\u0430\\u043d\\u0442\\u0435\\u0445\\u043d\\u0438\\u043a\", \"\\u0441\\u043f\\u0438\\u0441\\u043e\\u043a\", \"\\u0430\\u043f\\u043f\\u0430\\u0440\\u0430\\u0442\", \"\\u0441\\u043e\\u0433\\u043b\\u0430\\u0441\\u0438\\u0435\", \"\\u0441\\u043a\\u043e\\u043b\\u044c\\u043a\\u043e\", \"\\u043f\\u0440\\u043e\\u0434\\u0443\\u043a\\u0446\\u0438\\u044f\", \"\\u0440\\u0430\\u0431\\u043e\\u0442\\u0430\\u0442\\u044c\", \"\\u0440\\u0430\\u0431\\u043e\\u0442\\u0430\", \"\\u043f\\u0440\\u043e\\u0432\\u0435\\u0441\\u0442\\u0438\"], \"Freq\": [1922.0, 1388.0, 1155.0, 336.0, 1342.0, 661.0, 701.0, 294.0, 287.0, 311.0, 477.0, 620.0, 590.0, 278.0, 214.0, 465.0, 246.0, 763.0, 402.0, 220.0, 315.0, 464.0, 180.0, 411.0, 1044.0, 278.0, 308.0, 322.0, 512.0, 169.0, 590.0280654209009, 209.33122065008695, 183.63080340752103, 175.23555007695646, 170.86375171260104, 142.9870912502537, 131.70838060745064, 130.34386400502953, 115.35755688703696, 115.35076840486006, 99.89695111407799, 103.83954630658612, 95.09762095446729, 94.76035933761098, 94.10986115225607, 91.52109684168289, 88.21483670018627, 87.48946718048357, 102.7267263449713, 196.116271713381, 85.13126570622661, 81.20886169349554, 77.59826050915335, 77.50772100940776, 74.94946922315829, 70.09131611296922, 66.6659367241258, 65.37702020793145, 68.07671322842914, 62.475629262497485, 1101.8322843718518, 317.6330335298294, 483.50016135402154, 241.2180759629327, 243.42467328271627, 241.31698026685422, 492.7066739501979, 601.2078796809986, 413.05551939799443, 180.72503202959717, 113.3710505559175, 392.39885727948797, 336.9496159975084, 255.56585385306076, 478.07561753076965, 466.98841812902947, 153.62954605420606, 484.9721134100777, 161.13941337912212, 349.77102307714, 281.24445606655416, 338.3677671539782, 622.1875056213447, 312.3638089113904, 270.3980933183804, 290.58014785449353, 237.08090401874037, 260.4918521789385, 292.9996357775284, 230.41870186852017, 237.15100678101055, 315.6874244373089, 251.07672643619168, 262.5449046463101, 240.226730364398, 172.9819381024813, 158.63618536529563, 132.01715435378986, 119.7027880899839, 119.42347594377084, 112.23278662735525, 121.28537446052134, 105.063340081014, 104.69973233732398, 104.13478412814877, 90.92726652826812, 88.86814449735989, 151.94606375752298, 79.85718620456151, 78.54145630995505, 76.981527729538, 68.41489737746099, 63.61914404683752, 61.269424648114246, 58.43228616323375, 57.16590727640688, 55.66768638087954, 58.570917365854235, 52.41874794695399, 52.09622236962208, 51.28429201956624, 50.553041104647406, 48.44464958974825, 48.3259713344029, 1857.306817462896, 340.164553389649, 92.59385733989446, 80.53344932402752, 672.3730371961527, 284.2763626298208, 354.65927338123197, 81.65362694214383, 153.00451039823852, 153.10239717591108, 101.77939882611345, 200.91777628722943, 715.2068469699749, 113.57031248917339, 122.43806260093068, 168.2105953234345, 113.43219954492369, 125.01480828169557, 535.7080020181176, 226.17601221838171, 198.3090383425423, 161.82216996499048, 198.4921640643892, 221.2376970738987, 180.01387730986008, 155.87299477985974, 195.39703190403088, 160.19326643623725, 158.26154861762512, 219.69657137302386, 156.2199250856405, 141.21268832724778, 156.4770744075929, 157.3996325388637, 307.18928691423196, 283.9641909658175, 155.07495406402037, 119.92656886962419, 110.42388641257823, 106.10551105708447, 101.67710934336132, 98.27017594356617, 92.50912514861977, 83.60750214735165, 83.14561926291528, 82.48973049859777, 86.04080945990792, 77.64152086957935, 73.87415629627412, 72.94454254618627, 71.50867928730551, 69.23198037353168, 68.39524817171518, 67.01668526251638, 65.48478326305182, 65.02936724127815, 64.81128328536646, 64.44730027050487, 64.37672536223651, 62.785495952116676, 60.62033472300591, 60.442298675262016, 61.03078317756812, 59.7017128455854, 285.9700664611877, 630.0293501562136, 104.15746061523228, 75.47630582469054, 98.5144816373342, 200.75620818543513, 129.71158683692897, 249.0742739841136, 166.50707567300853, 205.47893735862658, 173.70403905796556, 150.06940503856762, 134.0185353088828, 221.5646886817861, 102.90446785482384, 113.33573259287829, 122.63508110184725, 216.71174326429903, 211.0794736262335, 158.29837566065473, 184.47817308729213, 129.22200676538796, 194.84165685288883, 186.1710201403206, 207.711090262117, 142.50612662170002, 127.10077714976114, 187.0786770529628, 111.69416300703803, 119.89571449020713, 122.72337485503957, 114.19330495474583, 310.5710117563301, 277.2052677967754, 245.4969059829145, 181.51333861671648, 159.4255272333897, 116.950435682165, 116.20158946615572, 96.92352738733688, 99.01578447114476, 84.91332971589944, 74.62798334302495, 74.20784810058936, 73.69135323817837, 72.4027289150933, 71.91330797879057, 70.87228068215519, 69.55539628975308, 67.9271824838753, 63.6745812076628, 61.36570368351165, 60.95798147122955, 60.858577693508515, 56.76751170344657, 55.47133504895172, 55.02145498451115, 54.64544343997168, 54.61795063112185, 53.42049758831222, 51.28483429882892, 50.47045159685722, 122.05001371446758, 103.42801325072445, 216.47239639927508, 65.69063066398304, 393.2478477152916, 95.1308419687637, 160.47464187008498, 130.80364276411763, 103.73569714014235, 118.42917470696618, 120.54789190850856, 92.61169775040867, 82.51109940333362, 74.36044583913524, 71.61870484350035, 71.03923655982283, 134.34655408132997, 114.5170463791068, 88.92995349975341, 86.22893006140607, 78.32203776833529, 74.20467262462155, 71.60185999508806, 69.6683647110304, 68.85601495594977, 66.71260285489585, 63.954125641000495, 63.091859655970694, 62.16785957171485, 65.44802820338776, 57.3149295037786, 57.1998583955989, 55.074148738894635, 53.91496052825247, 52.63009087862227, 50.82254150883682, 48.642635298505354, 47.75990379839391, 47.52280866601121, 45.564953816306286, 45.31379625466922, 43.14120835384578, 41.97949718819015, 41.63661542207731, 40.965279712590714, 39.57228491092823, 166.9882746103915, 62.31176892568294, 131.49769591900738, 358.4755351020529, 130.18084563962026, 87.74597421115824, 81.387313271744, 87.82196213622589, 91.75986687987833, 75.88895563235599, 78.90163535359433, 64.48897818410346, 84.00614057572159, 63.553626542256, 63.052800832424296, 63.46760943601758, 286.52164797365606, 145.3052500822203, 135.104931171661, 121.73820070907679, 78.33231009366291, 74.09437844162855, 70.62609253196818, 70.33753550912954, 64.28431314049563, 62.93807870357938, 60.177174932492456, 56.91660526619114, 51.565261508276194, 50.70532816028939, 50.00869356662327, 48.23094646758428, 44.457064435620886, 44.26351368431283, 44.160769560220864, 43.548083546122385, 42.374705456465605, 41.97399862535815, 39.80797589556387, 39.13305159579182, 38.68220221418034, 37.982804779906424, 37.721255869034536, 37.16669394497372, 35.28829463208533, 33.829090712538964, 39.890658568782, 71.79988520595442, 140.21638251157827, 70.0004246482555, 81.05016038980307, 96.99492812175599, 120.84823056818203, 133.49530593013432, 146.79700678354428, 108.58548437394046, 77.7968253782892, 121.26822031775838, 66.89364994435594, 85.90351241365086, 81.56646029445, 64.82100046690138, 335.4415477538946, 294.06460702481274, 146.27754300601495, 168.89442228610548, 116.90344665254123, 106.57887486576485, 104.90822509104532, 83.89888316883325, 72.74322082526346, 72.41190866189983, 71.99828946888711, 71.10112603068099, 67.57855025473322, 62.37041537646404, 59.356927406635236, 55.873444030332585, 54.70422357937195, 48.94016848555493, 46.62421896163595, 46.53885974906358, 44.188515843287895, 42.983265366533374, 41.55721824465076, 41.35936647381908, 36.72143949209423, 35.90962762326451, 35.72084068285106, 35.34707056588431, 34.171427282578435, 34.02259132749053, 41.0568666115234, 74.88162909777014, 101.8793080562888, 80.20153297841365, 106.38533895292318, 61.22085832099748, 44.192999851589214, 44.76987771048175, 59.315343325104486, 53.27704016902207, 45.6635303740065, 151.14120085286788, 115.6470855367742, 103.64243833018254, 84.35936288839146, 128.08063268465443, 73.62066477630971, 69.90020152819149, 68.34210438864835, 68.19399394414724, 66.90203759093595, 58.69657112568593, 56.65335140515369, 55.993937191682264, 55.801614890525684, 48.32973864521974, 47.67180283062675, 44.34016815027504, 40.26136468773139, 39.52925528235018, 39.30887480640105, 39.223202557669445, 38.54190465883894, 37.26338675817788, 36.833298300143895, 34.72091753404037, 34.295638703730184, 34.24036542801531, 33.99092426823025, 32.826786610208224, 31.456605563399677, 45.124463586654386, 59.3714022372655, 84.81613982813944, 83.03283325944786, 67.7578421181641, 80.37340625737183, 85.7296937076354, 78.886673267611, 77.08401223517099, 127.97744430803469, 84.5422591888558, 51.65397166844151, 59.51172934649485, 50.23912944767131, 214.09966085352738, 179.7382034470093, 154.99208718442082, 151.7924690964716, 120.50648738813528, 95.46278021346272, 87.39318859712027, 83.91233014684843, 81.91427297088532, 64.16247473279509, 56.859736624427995, 54.99002535644507, 49.49380486820577, 48.00375082085111, 40.34235944988727, 40.19680411112704, 39.7951704428483, 38.60716530905518, 37.72129543135988, 37.417485584493, 37.18022765570742, 36.31110823004677, 35.960073560189066, 36.12702821491002, 35.720997893797986, 35.677640307562854, 35.27971709617133, 35.08391267347913, 32.94335168576101, 32.335657010351035, 44.700249028747685, 37.848434816004406, 102.6995844345344, 134.50908366194207, 57.300474372945004, 74.66618968797152, 105.88781439638518, 91.97904973777419, 72.01984093935167, 71.99858704239938, 41.12284598990385, 38.057929075038025, 105.50266761979421, 87.82466097125902, 87.33688895526174, 86.19677308945279, 66.77435346255835, 62.17572769169359, 54.81755730657602, 54.371332676848944, 51.48024390659811, 51.47308179284141, 47.77461969749212, 47.31808304925166, 46.92381759504706, 46.8453158397367, 45.68832802933174, 45.5010405362144, 44.470683172916694, 40.72833264217374, 40.205690752931154, 39.72495257402627, 39.51276871831288, 39.392626932474755, 38.96414724130905, 38.155972187058715, 38.093448002934934, 38.042276303601625, 37.48555914378426, 37.36774059086622, 35.78287171372896, 35.03302334608728, 47.804055628708085, 46.118314971302965, 60.66966700856474, 59.845646223032794, 56.813282086500564, 38.86055314516551], \"Total\": [1922.0, 1388.0, 1155.0, 336.0, 1342.0, 661.0, 701.0, 294.0, 287.0, 311.0, 477.0, 620.0, 590.0, 278.0, 214.0, 465.0, 246.0, 763.0, 402.0, 220.0, 315.0, 464.0, 180.0, 411.0, 1044.0, 278.0, 308.0, 322.0, 512.0, 169.0, 590.8943637070004, 210.19746002944694, 184.49803065745843, 176.10189983480262, 171.72995754482375, 143.85326659578382, 132.5776200566922, 131.2107708088085, 116.22427307180584, 116.21748045964003, 100.76324054765611, 104.76840836510871, 95.96429179804991, 95.62655923196296, 94.97615148736146, 92.38759111608155, 89.08112334620145, 88.35574675166362, 103.74537204532201, 198.10073372600417, 85.99761697815306, 82.07534049002585, 78.46515488939762, 78.37410906704731, 75.81716024132243, 70.9579524105078, 67.53219727239343, 66.2432964763072, 69.01380737005526, 63.341949786737196, 1155.652201314355, 327.50784328711484, 512.6255070935589, 254.17056708895618, 256.62018673703557, 258.2783814363813, 548.9885356443607, 689.6257711616621, 464.1225833322414, 195.78937109212106, 117.67394140097466, 477.71471042704906, 408.6506907654462, 301.3292711984318, 635.3150672290111, 620.7088442078017, 170.75013974619387, 763.5940277374156, 186.57917198225388, 524.4295683428705, 402.62796512289, 536.4311624593568, 1342.0667204858592, 534.3846817531687, 430.3574279781327, 495.83811398531043, 361.3630843050051, 475.4578540161308, 649.4533522827958, 363.1812626820357, 411.1713066357984, 1044.030029354255, 526.4408382568341, 707.7115272044556, 241.10693173417306, 173.84881049133605, 159.51126484276406, 132.8843280006873, 120.57006944163398, 120.29055780910606, 113.10041988350692, 122.22832459537655, 105.93091622007152, 105.56734809043282, 105.0019470073184, 91.79427059220073, 89.73872225179247, 153.54830419941558, 80.72433343159038, 79.41018975586292, 77.84848118095506, 69.28194269416925, 64.48652832435188, 62.14288529920985, 59.29922232037618, 58.032916968526166, 56.535010196545734, 59.49487804593745, 53.28587161535539, 52.964056063265126, 52.15132738909438, 51.420353139825565, 49.31151058189387, 49.19332326866712, 1922.9550693223596, 348.28420455628674, 94.43769818431784, 82.18070643535036, 701.787661195334, 298.11868796676424, 378.969935881264, 83.9470136948907, 164.04282915122738, 174.43017022088503, 110.50947634631268, 248.4738108507991, 1342.0667204858592, 132.37180223002554, 148.44338386549725, 240.09200672086345, 135.7523827470478, 157.46887695847255, 1388.2585036457192, 385.1165622124398, 316.37886028884543, 247.8187765056065, 357.09086889544596, 534.3846817531687, 366.7956361606937, 263.1530501259443, 536.4311624593568, 350.9576351595708, 348.85537795883863, 1044.030029354255, 336.5277805267599, 259.6549267644934, 635.3150672290111, 763.5940277374156, 308.06468717046636, 285.07724907106376, 156.02203420623394, 120.80210936763036, 111.29934504941266, 106.98090825062505, 102.5631399075726, 99.14562327879698, 93.38445465027533, 84.48372031656749, 84.02109694629901, 83.36601177528347, 86.96099476240954, 78.51763363352968, 74.74994731595716, 73.82086192868404, 72.38416269368709, 70.1083055736402, 69.27065974484596, 67.90573470147119, 66.36013062536543, 65.90472008820188, 65.68721123473303, 65.32271317283404, 65.25235146198406, 63.66081214387171, 61.496092471136194, 61.31837589175566, 61.91554159383223, 60.57732997412173, 294.45498733637015, 661.7636460537992, 106.7806518876167, 77.24153511713284, 102.31765350675124, 228.57421470538532, 146.39773402838026, 349.1798879494801, 216.78258556336797, 289.43327667030184, 234.58912009476626, 195.88527369600985, 169.41384201140636, 350.8195073012673, 120.74137691513462, 140.44697151486895, 159.58954540045767, 386.7136740354809, 468.7443428113485, 291.2817651367352, 399.55418270083544, 198.98027597969534, 475.4578540161308, 508.3331301681224, 707.7115272044556, 315.65991897212155, 224.11735562459432, 1044.030029354255, 166.36163915152056, 350.9576351595708, 649.4533522827958, 228.63404029917794, 311.44775814242035, 278.0806731574528, 246.37193241549815, 182.3881460991495, 160.30042177323205, 117.82520601800799, 117.07694103983599, 97.79839426521212, 99.99202028041006, 85.7883555297923, 75.50289322910102, 75.08329046566857, 74.56632999562257, 73.27795501000551, 72.78825978213825, 71.74708041291272, 70.43025657364596, 68.80228330477972, 64.54951030925454, 62.246374495789, 61.83319968904652, 61.733664003263435, 57.642594166828225, 56.34630607939716, 55.896529304007366, 55.52050756912458, 55.492815749658625, 54.29608853426939, 52.15963328796214, 51.3453753255756, 131.9900523087386, 140.43670167156546, 465.68268437936376, 74.36442635610203, 1388.2585036457192, 135.81795393945657, 322.7415893846638, 365.03741662585827, 228.8790840325044, 336.5277805267599, 763.5940277374156, 338.45126940020504, 228.77531562926671, 319.94890288403326, 495.83811398531043, 258.5952535510275, 135.2169587745732, 115.38738175904666, 89.80018137762816, 87.09920403735576, 79.19222491197266, 75.07497777972456, 72.47210939162888, 70.53879208931097, 69.72954130341448, 67.58291084747427, 64.8244562192492, 63.96196102909698, 63.038185368287884, 66.38386827974477, 58.185435044350996, 58.07056874012172, 55.960686206742665, 54.785164716181626, 53.50045733256757, 51.692801543552065, 49.51279583721467, 48.630093571929685, 48.39392822839471, 46.43526591088697, 46.18401379579931, 44.01162538416634, 42.85274293819854, 42.50686219616326, 41.83599729858971, 40.44282375661457, 177.5602863974155, 68.33940429168678, 215.39934397950083, 1388.2585036457192, 480.1176449903128, 258.5952535510275, 221.53150755643532, 291.2817651367352, 338.45126940020504, 217.40853480496563, 278.338373429741, 156.95440739662828, 1044.030029354255, 263.68218930843335, 260.54160480461405, 649.4533522827958, 287.40332507956026, 146.18690994956987, 135.986437216182, 122.61982345235309, 79.2139368881901, 74.97596265608833, 71.50768245124932, 71.23254937927271, 65.16582505565258, 63.819602358213125, 61.05874659428603, 57.79814127595825, 52.446776356200985, 51.589164939689, 50.89118912313197, 49.11238382073605, 45.33907853782617, 45.14535487020518, 45.0421232284332, 44.42980630166411, 43.25626984732755, 42.855402840217025, 40.68956184880012, 40.01512085264505, 39.563807991058916, 38.8646401308978, 38.602687109905865, 38.04858696469591, 36.16988872283548, 34.710697138118704, 41.146911831104894, 76.52308686908981, 165.36754897886954, 85.85807659368938, 110.25708379906996, 156.187622516034, 218.60412247036527, 260.2839783830253, 315.65991897212155, 220.18307744655192, 145.14145286336245, 411.1713066357984, 121.93863566271415, 239.829644046384, 464.0052300607469, 259.6549267644934, 336.32204156408136, 294.95288704009266, 147.15786530655114, 169.9544548659242, 117.78382358393426, 107.45983097953327, 105.78858392685297, 84.77924978756032, 73.62375040305909, 73.29223534073496, 72.87887011133432, 71.98188821477125, 68.45910754745007, 63.251124448791984, 60.2375025551662, 56.75452992495507, 55.58499583855137, 49.82074083185122, 47.50489862403105, 47.419300150607455, 45.06927856178158, 43.86387378348714, 42.43801067023693, 42.240173180335155, 37.60210488260819, 36.79006282663088, 36.60132234989853, 36.22783797470097, 35.05176687254289, 34.903185957606524, 42.17795418157946, 79.64040189761363, 183.25484366278744, 163.32711947490603, 464.0052300607469, 135.471732100373, 63.79395944468678, 71.24156279062504, 495.83811398531043, 247.17063765747045, 106.58107968745874, 152.0147118741046, 116.52062034272866, 104.51595216301011, 85.2330751980263, 129.49999000351417, 74.49424419184002, 70.7740669561353, 69.2157452350984, 69.06785539164318, 67.77586977823802, 59.57048257617459, 57.527232720520374, 56.86788462925866, 56.67511407814094, 49.20430361111886, 48.54528964025335, 45.21383995366907, 41.135553771655374, 40.40322287517862, 40.18247736827812, 40.096755878256005, 39.415533800685154, 38.13723387828455, 37.706957373512, 35.60123628168634, 35.169255535686716, 35.11422269294874, 34.86445475731833, 33.70039135396127, 32.33039745639008, 46.584479655309316, 65.77360538859635, 160.78917760926544, 174.13208069032112, 121.83764669108679, 201.72319229757323, 247.17063765747045, 222.44310239261972, 250.58693367828738, 1044.030029354255, 477.71471042704906, 135.8282687838896, 315.4949383043659, 196.74961844547244, 214.97339963181497, 180.6120118193572, 155.86584958390557, 152.861518540082, 121.38018258356486, 96.33786537858397, 88.26720709263735, 84.78614426006546, 82.79941971481294, 65.03640767174151, 57.733420041073124, 55.863677057779924, 50.367938145816964, 48.87790550556844, 41.21630633060217, 41.07449948799446, 40.67103935646839, 39.48119555953939, 38.59517396904235, 38.29147359050154, 38.053938139395285, 37.1849988530907, 36.83411661813096, 37.00896032409378, 36.59498183422486, 36.552426450560354, 36.15344029566844, 35.95846665889701, 33.81754237421839, 33.20963183498205, 46.324354594705525, 39.960670705925864, 142.09622613829762, 220.0655779513548, 70.08572738122794, 105.44878002678689, 278.368105000773, 620.7088442078017, 402.62796512289, 508.3331301681224, 707.7115272044556, 120.17543433071074, 106.37643904805299, 88.69844317167286, 88.21079843776022, 87.0705539844469, 67.64823634599907, 63.04957672935666, 55.6912678748685, 55.24500221848574, 52.35401508047992, 52.34728261607169, 48.648749431925644, 48.19174453058553, 47.797843737855786, 47.719256103799914, 46.562211849654304, 46.37482533835973, 45.34445677036729, 41.60261335843878, 41.07966857799551, 40.598817441452226, 40.386548810085685, 40.266422248587176, 39.837969303264366, 39.02979713828862, 38.96755772991375, 38.91664997574523, 38.35969300739435, 38.24253953082172, 36.656701493634195, 35.906788589651505, 51.681317681415116, 50.796976397604105, 104.14543545656082, 322.7415893846638, 350.8195073012673, 291.2817651367352], \"Category\": [\"Default\", \"Default\", \"Default\", \"Default\", \"Default\", \"Default\", \"Default\", \"Default\", \"Default\", \"Default\", \"Default\", \"Default\", \"Default\", \"Default\", \"Default\", \"Default\", \"Default\", \"Default\", \"Default\", \"Default\", \"Default\", \"Default\", \"Default\", \"Default\", \"Default\", \"Default\", \"Default\", \"Default\", \"Default\", \"Default\", \"Topic1\", \"Topic1\", \"Topic1\", \"Topic1\", \"Topic1\", \"Topic1\", \"Topic1\", \"Topic1\", \"Topic1\", \"Topic1\", \"Topic1\", \"Topic1\", \"Topic1\", \"Topic1\", \"Topic1\", \"Topic1\", \"Topic1\", \"Topic1\", \"Topic1\", \"Topic1\", \"Topic1\", \"Topic1\", \"Topic1\", \"Topic1\", \"Topic1\", \"Topic1\", \"Topic1\", \"Topic1\", \"Topic1\", \"Topic1\", \"Topic1\", \"Topic1\", \"Topic1\", \"Topic1\", \"Topic1\", \"Topic1\", \"Topic1\", \"Topic1\", \"Topic1\", \"Topic1\", \"Topic1\", \"Topic1\", \"Topic1\", \"Topic1\", \"Topic1\", \"Topic1\", \"Topic1\", \"Topic1\", \"Topic1\", \"Topic1\", \"Topic1\", \"Topic1\", \"Topic1\", \"Topic1\", \"Topic1\", \"Topic1\", \"Topic1\", \"Topic1\", \"Topic1\", \"Topic1\", \"Topic1\", \"Topic1\", \"Topic1\", \"Topic1\", \"Topic2\", \"Topic2\", \"Topic2\", \"Topic2\", \"Topic2\", \"Topic2\", \"Topic2\", \"Topic2\", \"Topic2\", \"Topic2\", \"Topic2\", \"Topic2\", \"Topic2\", \"Topic2\", \"Topic2\", \"Topic2\", \"Topic2\", \"Topic2\", \"Topic2\", \"Topic2\", \"Topic2\", \"Topic2\", \"Topic2\", \"Topic2\", \"Topic2\", \"Topic2\", \"Topic2\", \"Topic2\", \"Topic2\", \"Topic2\", \"Topic2\", \"Topic2\", \"Topic2\", \"Topic2\", \"Topic2\", \"Topic2\", \"Topic2\", \"Topic2\", \"Topic2\", \"Topic2\", \"Topic2\", \"Topic2\", \"Topic2\", \"Topic2\", \"Topic2\", \"Topic2\", \"Topic2\", \"Topic2\", \"Topic2\", \"Topic2\", \"Topic2\", \"Topic2\", \"Topic2\", \"Topic2\", \"Topic2\", \"Topic2\", \"Topic2\", \"Topic2\", \"Topic2\", \"Topic2\", \"Topic2\", \"Topic2\", \"Topic2\", \"Topic2\", \"Topic3\", \"Topic3\", \"Topic3\", \"Topic3\", \"Topic3\", \"Topic3\", \"Topic3\", \"Topic3\", \"Topic3\", \"Topic3\", \"Topic3\", \"Topic3\", \"Topic3\", \"Topic3\", \"Topic3\", \"Topic3\", \"Topic3\", \"Topic3\", \"Topic3\", \"Topic3\", \"Topic3\", \"Topic3\", \"Topic3\", \"Topic3\", \"Topic3\", \"Topic3\", \"Topic3\", \"Topic3\", \"Topic3\", \"Topic3\", \"Topic3\", \"Topic3\", \"Topic3\", \"Topic3\", \"Topic3\", \"Topic3\", \"Topic3\", \"Topic3\", \"Topic3\", \"Topic3\", \"Topic3\", \"Topic3\", \"Topic3\", \"Topic3\", \"Topic3\", \"Topic3\", \"Topic3\", \"Topic3\", \"Topic3\", \"Topic3\", \"Topic3\", \"Topic3\", \"Topic3\", \"Topic3\", \"Topic3\", \"Topic3\", \"Topic3\", \"Topic3\", \"Topic3\", \"Topic3\", \"Topic3\", \"Topic3\", \"Topic4\", \"Topic4\", \"Topic4\", \"Topic4\", \"Topic4\", \"Topic4\", \"Topic4\", \"Topic4\", \"Topic4\", \"Topic4\", \"Topic4\", \"Topic4\", \"Topic4\", \"Topic4\", \"Topic4\", \"Topic4\", \"Topic4\", \"Topic4\", \"Topic4\", \"Topic4\", \"Topic4\", \"Topic4\", \"Topic4\", \"Topic4\", \"Topic4\", \"Topic4\", \"Topic4\", \"Topic4\", \"Topic4\", \"Topic4\", \"Topic4\", \"Topic4\", \"Topic4\", \"Topic4\", \"Topic4\", \"Topic4\", \"Topic4\", \"Topic4\", \"Topic4\", \"Topic4\", \"Topic4\", \"Topic4\", \"Topic4\", \"Topic4\", \"Topic4\", \"Topic4\", \"Topic5\", \"Topic5\", \"Topic5\", \"Topic5\", \"Topic5\", \"Topic5\", \"Topic5\", \"Topic5\", \"Topic5\", \"Topic5\", \"Topic5\", \"Topic5\", \"Topic5\", \"Topic5\", \"Topic5\", \"Topic5\", \"Topic5\", \"Topic5\", \"Topic5\", \"Topic5\", \"Topic5\", \"Topic5\", \"Topic5\", \"Topic5\", \"Topic5\", \"Topic5\", \"Topic5\", \"Topic5\", \"Topic5\", \"Topic5\", \"Topic5\", \"Topic5\", \"Topic5\", \"Topic5\", \"Topic5\", \"Topic5\", \"Topic5\", \"Topic5\", \"Topic5\", \"Topic5\", \"Topic5\", \"Topic5\", \"Topic5\", \"Topic5\", \"Topic5\", \"Topic5\", \"Topic6\", \"Topic6\", \"Topic6\", \"Topic6\", \"Topic6\", \"Topic6\", \"Topic6\", \"Topic6\", \"Topic6\", \"Topic6\", \"Topic6\", \"Topic6\", \"Topic6\", \"Topic6\", \"Topic6\", \"Topic6\", \"Topic6\", \"Topic6\", \"Topic6\", \"Topic6\", \"Topic6\", \"Topic6\", \"Topic6\", \"Topic6\", \"Topic6\", \"Topic6\", \"Topic6\", \"Topic6\", \"Topic6\", \"Topic6\", \"Topic6\", \"Topic6\", \"Topic6\", \"Topic6\", \"Topic6\", \"Topic6\", \"Topic6\", \"Topic6\", \"Topic6\", \"Topic6\", \"Topic6\", \"Topic6\", \"Topic6\", \"Topic6\", \"Topic6\", \"Topic6\", \"Topic7\", \"Topic7\", \"Topic7\", \"Topic7\", \"Topic7\", \"Topic7\", \"Topic7\", \"Topic7\", \"Topic7\", \"Topic7\", \"Topic7\", \"Topic7\", \"Topic7\", \"Topic7\", \"Topic7\", \"Topic7\", \"Topic7\", \"Topic7\", \"Topic7\", \"Topic7\", \"Topic7\", \"Topic7\", \"Topic7\", \"Topic7\", \"Topic7\", \"Topic7\", \"Topic7\", \"Topic7\", \"Topic7\", \"Topic7\", \"Topic7\", \"Topic7\", \"Topic7\", \"Topic7\", \"Topic7\", \"Topic7\", \"Topic7\", \"Topic7\", \"Topic7\", \"Topic7\", \"Topic7\", \"Topic8\", \"Topic8\", \"Topic8\", \"Topic8\", \"Topic8\", \"Topic8\", \"Topic8\", \"Topic8\", \"Topic8\", \"Topic8\", \"Topic8\", \"Topic8\", \"Topic8\", \"Topic8\", \"Topic8\", \"Topic8\", \"Topic8\", \"Topic8\", \"Topic8\", \"Topic8\", \"Topic8\", \"Topic8\", \"Topic8\", \"Topic8\", \"Topic8\", \"Topic8\", \"Topic8\", \"Topic8\", \"Topic8\", \"Topic8\", \"Topic8\", \"Topic8\", \"Topic8\", \"Topic8\", \"Topic8\", \"Topic8\", \"Topic8\", \"Topic8\", \"Topic8\", \"Topic8\", \"Topic8\", \"Topic8\", \"Topic8\", \"Topic8\", \"Topic9\", \"Topic9\", \"Topic9\", \"Topic9\", \"Topic9\", \"Topic9\", \"Topic9\", \"Topic9\", \"Topic9\", \"Topic9\", \"Topic9\", \"Topic9\", \"Topic9\", \"Topic9\", \"Topic9\", \"Topic9\", \"Topic9\", \"Topic9\", \"Topic9\", \"Topic9\", \"Topic9\", \"Topic9\", \"Topic9\", \"Topic9\", \"Topic9\", \"Topic9\", \"Topic9\", \"Topic9\", \"Topic9\", \"Topic9\", \"Topic9\", \"Topic9\", \"Topic9\", \"Topic9\", \"Topic9\", \"Topic9\", \"Topic9\", \"Topic9\", \"Topic9\", \"Topic9\", \"Topic9\", \"Topic9\", \"Topic10\", \"Topic10\", \"Topic10\", \"Topic10\", \"Topic10\", \"Topic10\", \"Topic10\", \"Topic10\", \"Topic10\", \"Topic10\", \"Topic10\", \"Topic10\", \"Topic10\", \"Topic10\", \"Topic10\", \"Topic10\", \"Topic10\", \"Topic10\", \"Topic10\", \"Topic10\", \"Topic10\", \"Topic10\", \"Topic10\", \"Topic10\", \"Topic10\", \"Topic10\", \"Topic10\", \"Topic10\", \"Topic10\", \"Topic10\", \"Topic10\", \"Topic10\", \"Topic10\", \"Topic10\", \"Topic10\", \"Topic10\"], \"logprob\": [30.0, 29.0, 28.0, 27.0, 26.0, 25.0, 24.0, 23.0, 22.0, 21.0, 20.0, 19.0, 18.0, 17.0, 16.0, 15.0, 14.0, 13.0, 12.0, 11.0, 10.0, 9.0, 8.0, 7.0, 6.0, 5.0, 4.0, 3.0, 2.0, 1.0, -4.0546, -5.0908, -5.2218, -5.2686, -5.2939, -5.472, -5.5542, -5.5646, -5.6867, -5.6868, -5.8306, -5.7919, -5.8798, -5.8834, -5.8903, -5.9182, -5.955, -5.9632, -5.8027, -5.156, -5.9905, -6.0377, -6.0832, -6.0844, -6.1179, -6.1849, -6.235, -6.2546, -6.2141, -6.3, -3.43, -4.6738, -4.2537, -4.949, -4.9399, -4.9486, -4.2348, -4.0358, -4.4112, -5.2378, -5.7041, -4.4625, -4.6148, -4.8913, -4.265, -4.2884, -5.4002, -4.2507, -5.3525, -4.5775, -4.7955, -4.6106, -4.0015, -4.6906, -4.8348, -4.7629, -4.9663, -4.8722, -4.7546, -4.9948, -4.966, -4.68, -4.909, -4.8643, -4.6455, -4.9738, -5.0604, -5.2441, -5.342, -5.3444, -5.4065, -5.3289, -5.4725, -5.4759, -5.4814, -5.617, -5.6399, -5.1035, -5.7468, -5.7634, -5.7835, -5.9014, -5.9741, -6.0118, -6.0592, -6.0811, -6.1076, -6.0568, -6.1678, -6.1739, -6.1897, -6.204, -6.2466, -6.2491, -2.6002, -4.2976, -5.5988, -5.7384, -3.6162, -4.4771, -4.2559, -5.7246, -5.0966, -5.0959, -5.5042, -4.8241, -3.5545, -5.3946, -5.3194, -5.0018, -5.3958, -5.2986, -3.8434, -4.7057, -4.8372, -5.0405, -4.8363, -4.7278, -4.934, -5.078, -4.852, -5.0507, -5.0628, -4.7348, -5.0758, -5.1768, -5.0741, -5.0682, -4.1384, -4.217, -4.822, -5.079, -5.1615, -5.2014, -5.2441, -5.2781, -5.3386, -5.4397, -5.4453, -5.4532, -5.411, -5.5138, -5.5635, -5.5762, -5.596, -5.6284, -5.6406, -5.6609, -5.684, -5.691, -5.6944, -5.7, -5.7011, -5.7261, -5.7612, -5.7642, -5.7545, -5.7765, -4.21, -3.4201, -5.22, -5.542, -5.2757, -4.5638, -5.0005, -4.3481, -4.7508, -4.5405, -4.7085, -4.8548, -4.9679, -4.4651, -5.2321, -5.1355, -5.0566, -4.4873, -4.5136, -4.8014, -4.6483, -5.0043, -4.5937, -4.6392, -4.5297, -4.9065, -5.0209, -4.6343, -5.1501, -5.0792, -5.0559, -5.128, -3.3561, -3.4698, -3.5912, -3.8932, -4.0229, -4.3328, -4.3392, -4.5206, -4.4992, -4.6529, -4.782, -4.7877, -4.7946, -4.8123, -4.8191, -4.8336, -4.8524, -4.8761, -4.9407, -4.9777, -4.9843, -4.986, -5.0556, -5.0787, -5.0868, -5.0937, -5.0942, -5.1163, -5.1571, -5.1731, -4.2901, -4.4556, -3.7171, -4.9096, -3.1201, -4.5393, -4.0164, -4.2208, -4.4527, -4.3202, -4.3025, -4.5661, -4.6816, -4.7856, -4.8232, -4.8313, -4.0186, -4.1783, -4.4312, -4.4621, -4.5582, -4.6122, -4.6479, -4.6753, -4.687, -4.7187, -4.7609, -4.7745, -4.7892, -4.7378, -4.8705, -4.8725, -4.9104, -4.9317, -4.9558, -4.9907, -5.0346, -5.0529, -5.0579, -5.0999, -5.1055, -5.1546, -5.1819, -5.1901, -5.2063, -5.2409, -3.8011, -4.7869, -4.0401, -3.0372, -4.0501, -4.4446, -4.5198, -4.4438, -4.3999, -4.5898, -4.5509, -4.7526, -4.4882, -4.7672, -4.7751, -4.7685, -3.1663, -3.8453, -3.9181, -4.0223, -4.4632, -4.5188, -4.5667, -4.5708, -4.6608, -4.682, -4.7268, -4.7825, -4.8813, -4.8981, -4.9119, -4.9481, -5.0296, -5.034, -5.0363, -5.0503, -5.0776, -5.0871, -5.1401, -5.1572, -5.1688, -5.187, -5.1939, -5.2087, -5.2606, -5.3028, -5.138, -4.5502, -3.8809, -4.5756, -4.4291, -4.2495, -4.0296, -3.9301, -3.8351, -4.1366, -4.47, -4.0261, -4.621, -4.3709, -4.4227, -4.6525, -2.7918, -2.9235, -3.6217, -3.478, -3.8459, -3.9384, -3.9542, -4.1776, -4.3203, -4.3249, -4.3306, -4.3432, -4.394, -4.4742, -4.5237, -4.5842, -4.6053, -4.7167, -4.7651, -4.767, -4.8188, -4.8464, -4.8802, -4.885, -5.0039, -5.0263, -5.0315, -5.042, -5.0759, -5.0802, -4.8923, -4.2913, -3.9835, -4.2227, -3.9402, -4.4928, -4.8187, -4.8057, -4.5244, -4.6318, -4.786, -3.5358, -3.8035, -3.9131, -4.1189, -3.7014, -4.2551, -4.307, -4.3295, -4.3317, -4.3508, -4.4817, -4.5171, -4.5288, -4.5322, -4.676, -4.6897, -4.7621, -4.8586, -4.877, -4.8826, -4.8848, -4.9023, -4.936, -4.9476, -5.0067, -5.019, -5.0206, -5.0279, -5.0628, -5.1054, -4.7446, -4.4702, -4.1135, -4.1348, -4.3381, -4.1674, -4.1028, -4.186, -4.2091, -3.7022, -4.1168, -4.6095, -4.4679, -4.6372, -3.1263, -3.3013, -3.4494, -3.4703, -3.7011, -3.9341, -4.0224, -4.063, -4.0871, -4.3314, -4.4522, -4.4856, -4.5909, -4.6215, -4.7954, -4.799, -4.809, -4.8394, -4.8626, -4.8707, -4.877, -4.9007, -4.9104, -4.9057, -4.917, -4.9183, -4.9295, -4.935, -4.998, -5.0166, -4.6928, -4.8592, -3.861, -3.5912, -4.4445, -4.1798, -3.8304, -3.9712, -4.2158, -4.2161, -4.7762, -4.8537, -3.5908, -3.7742, -3.7798, -3.7929, -4.0483, -4.1196, -4.2456, -4.2537, -4.3084, -4.3085, -4.3831, -4.3927, -4.401, -4.4027, -4.4277, -4.4318, -4.4547, -4.5427, -4.5556, -4.5676, -4.573, -4.576, -4.5869, -4.6079, -4.6095, -4.6109, -4.6256, -4.6288, -4.6721, -4.6933, -4.3825, -4.4184, -4.1441, -4.1578, -4.2098, -4.5896], \"loglift\": [30.0, 29.0, 28.0, 27.0, 26.0, 25.0, 24.0, 23.0, 22.0, 21.0, 20.0, 19.0, 18.0, 17.0, 16.0, 15.0, 14.0, 13.0, 12.0, 11.0, 10.0, 9.0, 8.0, 7.0, 6.0, 5.0, 4.0, 3.0, 2.0, 1.0, 1.266, 1.2633, 1.2627, 1.2625, 1.2624, 1.2614, 1.2608, 1.2608, 1.2599, 1.2599, 1.2588, 1.2585, 1.2583, 1.2583, 1.2583, 1.258, 1.2576, 1.2576, 1.2576, 1.2574, 1.2573, 1.2568, 1.2563, 1.2563, 1.2559, 1.2551, 1.2545, 1.2543, 1.2537, 1.2536, 1.2197, 1.2368, 1.2089, 1.2151, 1.2146, 1.1995, 1.1593, 1.1302, 1.1509, 1.1874, 1.2302, 1.0707, 1.0745, 1.1027, 0.9831, 0.9829, 1.1618, 0.8135, 1.1208, 0.8624, 0.9086, 0.8066, 0.4987, 0.7305, 0.8027, 0.7331, 0.8459, 0.6657, 0.4715, 0.8124, 0.7171, 0.0713, 0.527, 0.2758, 1.5715, 1.5701, 1.5696, 1.5686, 1.5679, 1.5679, 1.5674, 1.5674, 1.5669, 1.5669, 1.5668, 1.5656, 1.5654, 1.5646, 1.5643, 1.5641, 1.5639, 1.5625, 1.5616, 1.561, 1.5604, 1.5601, 1.5597, 1.5595, 1.5587, 1.5586, 1.5584, 1.5581, 1.5574, 1.5573, 1.5404, 1.5515, 1.5554, 1.5549, 1.5323, 1.5276, 1.5088, 1.5474, 1.5055, 1.4447, 1.4928, 1.3627, 0.9457, 1.4219, 1.3825, 1.2193, 1.3955, 1.3443, 0.6229, 1.0429, 1.108, 1.1489, 0.9879, 0.6932, 0.8634, 1.0514, 0.5652, 0.7908, 0.7847, 0.0165, 0.8077, 0.966, 0.1739, -0.0041, 1.8335, 1.8324, 1.8302, 1.829, 1.8284, 1.8281, 1.8276, 1.8274, 1.8269, 1.8259, 1.8258, 1.8257, 1.8257, 1.8251, 1.8245, 1.8244, 1.8241, 1.8237, 1.8236, 1.8231, 1.823, 1.8229, 1.8229, 1.8228, 1.8228, 1.8225, 1.822, 1.8219, 1.8219, 1.8217, 1.8071, 1.7872, 1.8114, 1.8132, 1.7984, 1.7065, 1.7153, 1.4985, 1.5724, 1.4937, 1.5358, 1.5699, 1.6019, 1.3767, 1.6765, 1.6218, 1.5729, 1.2572, 1.0385, 1.2265, 1.0635, 1.4046, 0.9442, 0.8318, 0.6104, 1.041, 1.2691, 0.117, 1.4379, 0.7623, 0.1701, 1.1421, 2.6048, 2.6045, 2.6041, 2.6028, 2.6022, 2.6002, 2.6001, 2.5987, 2.5978, 2.5974, 2.596, 2.5959, 2.5958, 2.5956, 2.5955, 2.5954, 2.5951, 2.5948, 2.594, 2.5934, 2.5934, 2.5934, 2.5923, 2.592, 2.5919, 2.5918, 2.5918, 2.5914, 2.5907, 2.5905, 2.5293, 2.3018, 1.8416, 2.4836, 1.3463, 2.2516, 1.9089, 1.5813, 1.8163, 1.5633, 0.7617, 1.3117, 1.5878, 1.1484, 0.6727, 1.3156, 2.7766, 2.7755, 2.7734, 2.7731, 2.772, 2.7714, 2.771, 2.7707, 2.7705, 2.7701, 2.7696, 2.7694, 2.7692, 2.7689, 2.768, 2.768, 2.7671, 2.7671, 2.7667, 2.7661, 2.7654, 2.765, 2.7649, 2.7642, 2.7641, 2.7631, 2.7625, 2.7624, 2.7621, 2.7613, 2.7217, 2.6908, 2.2896, 1.4292, 1.478, 1.7023, 1.7818, 1.5841, 1.4779, 1.7306, 1.5225, 1.8936, 0.2631, 1.3602, 1.3643, 0.4575, 2.875, 2.872, 2.8715, 2.8708, 2.8668, 2.8662, 2.8656, 2.8654, 2.8644, 2.8641, 2.8635, 2.8627, 2.8611, 2.8608, 2.8605, 2.8599, 2.8584, 2.8583, 2.8583, 2.858, 2.8574, 2.8573, 2.8561, 2.8557, 2.8555, 2.8551, 2.8549, 2.8546, 2.8534, 2.8523, 2.847, 2.8143, 2.713, 2.6738, 2.5703, 2.4016, 2.2853, 2.2103, 2.1124, 2.1711, 2.2544, 1.657, 2.2776, 1.8513, 1.1396, 1.4903, 3.0923, 3.0919, 3.0889, 3.0887, 3.0874, 3.0867, 3.0866, 3.0845, 3.0829, 3.0828, 3.0828, 3.0826, 3.082, 3.0809, 3.0802, 3.0793, 3.0789, 3.0771, 3.0762, 3.0762, 3.0752, 3.0746, 3.0739, 3.0738, 3.0712, 3.0707, 3.0706, 3.0703, 3.0695, 3.0694, 3.068, 3.0333, 2.5078, 2.3837, 1.6221, 2.3006, 2.7278, 2.6304, 0.9715, 1.5603, 2.2473, 3.1424, 3.1406, 3.1397, 3.1378, 3.1371, 3.1363, 3.1357, 3.1354, 3.1354, 3.1352, 3.1334, 3.1328, 3.1326, 3.1326, 3.1302, 3.13, 3.1286, 3.1266, 3.1263, 3.1261, 3.1261, 3.1257, 3.125, 3.1247, 3.1231, 3.123, 3.1229, 3.1228, 3.1219, 3.1207, 3.1163, 3.0457, 2.5085, 2.4076, 2.5614, 2.2279, 2.0893, 2.1115, 1.9692, 1.0491, 1.4164, 2.1813, 1.4802, 1.783, 3.2053, 3.2045, 3.2038, 3.2024, 3.2022, 3.2003, 3.1994, 3.199, 3.1986, 3.1958, 3.1941, 3.1936, 3.1919, 3.1913, 3.1879, 3.1878, 3.1876, 3.187, 3.1865, 3.1863, 3.1861, 3.1856, 3.1854, 3.1853, 3.1852, 3.1852, 3.1849, 3.1848, 3.1832, 3.1827, 3.1737, 3.1551, 2.8847, 2.7171, 3.008, 2.8642, 2.2428, 1.3001, 1.4883, 1.2549, 0.3639, 2.0595, 3.4443, 3.4427, 3.4426, 3.4425, 3.4396, 3.4386, 3.4368, 3.4366, 3.4358, 3.4357, 3.4345, 3.4343, 3.4341, 3.4341, 3.4336, 3.4336, 3.4331, 3.4314, 3.4311, 3.4308, 3.4307, 3.4307, 3.4304, 3.4299, 3.4299, 3.4299, 3.4295, 3.4294, 3.4285, 3.428, 3.3746, 3.356, 2.9122, 1.7675, 1.6321, 1.4383]}, \"token.table\": {\"Topic\": [1, 2, 2, 10, 6, 1, 7, 5, 5, 6, 3, 4, 10, 8, 2, 1, 8, 9, 7, 7, 2, 4, 5, 1, 2, 6, 8, 2, 3, 1, 2, 4, 5, 10, 2, 3, 5, 8, 9, 10, 7, 8, 3, 8, 3, 1, 2, 7, 7, 1, 10, 8, 1, 2, 3, 5, 6, 7, 9, 1, 2, 3, 4, 6, 8, 9, 5, 8, 9, 2, 4, 8, 5, 7, 4, 3, 5, 6, 3, 5, 10, 2, 8, 9, 7, 2, 8, 10, 1, 7, 9, 1, 2, 3, 4, 5, 6, 7, 8, 9, 10, 8, 1, 2, 8, 1, 2, 7, 1, 2, 4, 7, 4, 2, 3, 4, 1, 1, 2, 3, 4, 6, 1, 2, 3, 6, 7, 9, 3, 6, 8, 9, 9, 8, 1, 1, 2, 9, 10, 1, 3, 5, 6, 10, 6, 1, 3, 4, 8, 6, 3, 6, 1, 2, 1, 2, 6, 10, 1, 1, 2, 5, 6, 2, 4, 8, 6, 3, 6, 2, 2, 1, 2, 1, 3, 4, 7, 8, 9, 10, 10, 6, 6, 1, 7, 3, 2, 9, 2, 1, 10, 1, 2, 3, 4, 9, 1, 2, 3, 7, 6, 10, 4, 3, 4, 1, 5, 5, 4, 5, 2, 3, 5, 3, 3, 9, 3, 9, 10, 5, 2, 9, 9, 10, 1, 2, 3, 9, 3, 3, 9, 7, 1, 2, 3, 4, 5, 6, 7, 8, 10, 3, 8, 1, 10, 1, 2, 4, 5, 8, 8, 1, 4, 9, 3, 5, 1, 7, 1, 2, 4, 5, 8, 4, 9, 7, 4, 4, 4, 10, 8, 3, 5, 7, 6, 2, 3, 9, 2, 5, 9, 3, 9, 2, 5, 9, 2, 4, 1, 7, 1, 2, 3, 4, 7, 8, 1, 3, 6, 3, 7, 8, 2, 3, 1, 3, 4, 8, 6, 1, 2, 3, 9, 3, 4, 7, 1, 2, 3, 4, 8, 7, 1, 5, 6, 9, 8, 8, 2, 3, 4, 2, 8, 1, 2, 3, 4, 5, 2, 7, 1, 3, 4, 5, 2, 5, 3, 1, 2, 5, 8, 5, 4, 1, 1, 2, 3, 9, 6, 1, 2, 5, 6, 9, 1, 2, 5, 7, 10, 7, 1, 2, 3, 6, 4, 7, 2, 7, 1, 2, 3, 4, 7, 1, 2, 7, 10, 9, 10, 1, 2, 5, 1, 2, 3, 5, 1, 4, 10, 1, 3, 9, 2, 3, 5, 6, 8, 2, 9, 1, 5, 5, 1, 1, 9, 1, 2, 3, 1, 1, 3, 6, 3, 8, 2, 6, 3, 9, 9, 8, 9, 1, 2, 8, 1, 2, 7, 8, 3, 1, 4, 9, 1, 2, 7, 8, 1, 2, 1, 2, 4, 5, 8, 2, 5, 6, 8, 6, 1, 2, 1, 2, 3, 5, 1, 3, 4, 9, 6, 10, 1, 1, 1, 2, 5, 1, 2, 3, 1, 9, 6, 2, 4, 8, 6, 1, 2, 3, 8, 4, 1, 2, 3, 4, 5, 1, 2, 4, 7, 7, 2, 4, 8, 6, 1, 2, 3, 6, 8, 1, 6, 2, 3, 8, 2, 3, 5, 7, 10, 1, 2, 3, 5, 10, 7, 6, 10, 1, 2, 4, 2, 5, 6, 7, 5, 5, 3, 5, 10, 10, 3, 1, 2, 7, 2, 7, 7, 5, 8, 1, 2, 3, 5, 9, 1, 2, 3, 5, 7, 9, 10, 2, 1, 2, 3, 4, 5, 6, 8, 10, 3, 4, 5, 10, 5, 1, 2, 3, 4, 5, 4, 3, 6, 5, 5, 1, 8, 1, 9, 6, 7, 3, 7, 7, 1, 2, 7, 8, 5, 4, 1, 2, 3, 2, 3, 1, 4, 8, 1, 2, 4, 5, 9, 6, 5, 9, 7, 1, 2, 3, 3, 6, 10, 10, 1, 1, 1, 2, 3, 5, 6, 7, 1, 2, 1, 2, 7, 9, 7, 1, 2, 3, 4, 7, 8, 3, 7, 10, 7, 3, 5, 4, 4, 9, 2, 6, 2, 6, 9, 1, 2, 3, 4, 5, 7, 9, 8, 2, 10, 7, 4, 1, 2, 3, 4, 6, 7, 3, 9, 5, 5, 5, 3, 3, 1, 10, 6, 8, 7, 2, 2, 3, 6, 2, 7, 1, 2, 3, 5, 8, 9, 5, 3, 1, 10, 10, 1, 2, 7, 1, 2, 4, 6, 7, 2, 4, 5, 6, 7, 8, 2, 1, 2, 3, 4, 5, 8, 3, 8, 10, 1, 2, 3, 8, 1, 2, 4, 8, 9, 10, 1, 4, 7, 1, 2, 3, 5, 7, 9, 3, 5, 9, 1, 2, 3, 4, 8, 9, 3, 8, 10, 3, 10, 1, 2, 9, 1, 2, 2, 6, 2, 3, 5, 6, 6, 3, 5, 3, 5, 10, 6, 2, 1, 1, 2, 3, 4, 5, 6, 8, 9, 1, 2, 3, 6, 8, 9, 8, 6, 4, 5, 8, 9, 9, 10, 2, 7, 1, 4, 7, 4, 3, 1, 2, 3, 5, 6, 7, 8, 6, 6, 5, 8, 5, 4, 1, 5, 6, 3, 4, 1, 2, 4, 5, 1, 6, 9, 8, 4, 7, 3, 6, 2, 3, 6, 1], \"Freq\": [0.9878636089713438, 0.989950573245254, 0.9779233349037414, 0.9774639846413267, 0.998596658269529, 0.05022576361609066, 0.9417330678016999, 0.9872817102165774, 0.9849451772153404, 0.9869829926617277, 0.10757831925833923, 0.8875211338812986, 0.9747460403653908, 0.9887674037111687, 0.9734035610262682, 0.8205734331471076, 0.17793046382016364, 0.9943640587355798, 0.996069120067382, 0.9661078871016701, 0.9326832559011328, 0.06095968992817861, 0.9796266016839538, 0.010588991676271694, 0.9847762258932675, 0.021466376943549872, 0.9659869624597442, 0.18512325128525403, 0.8045741305859118, 0.6351542604871991, 0.20560663689997993, 0.15846116601845586, 0.983530849401478, 0.9875874997778521, 0.12600954842612813, 0.7130994899569523, 0.04009394722649531, 0.06586862758638515, 0.005727706746642187, 0.048685507346458594, 0.9720718037553867, 0.9682686214445951, 0.9899672529160825, 0.9588499504781953, 0.9965439493236132, 0.4634642901917884, 0.5327603978892744, 0.002980477750429507, 0.9879406732020996, 0.9943031660359778, 0.9736151040027216, 0.9933653371854175, 0.31081979635626783, 0.03344263631681363, 0.36590178558396086, 0.0904918394454957, 0.04918034752472592, 0.005901641702967111, 0.14163940087121066, 0.3716203423150124, 0.09749735216629603, 0.29390506160274743, 0.05510719905051515, 0.06499823477753068, 0.05934621436209324, 0.05793320925823387, 0.9906263934888996, 0.979217115118785, 0.9845395594549456, 0.9951175363872947, 0.9883392924443253, 0.973153354041309, 0.9913748780547523, 0.9943840550300541, 0.9978718677312587, 0.3688279263148866, 0.11525872697340206, 0.5109803562487492, 0.7909625235403019, 0.20659468898440722, 0.9866646226367352, 0.9917680769989154, 0.02502460500122956, 0.9509349900467233, 0.9957209035660883, 0.007722008318092253, 0.9884170647158084, 0.9877047528072679, 0.431093653084391, 0.5566019318304796, 0.01091376336922509, 0.451148645195409, 0.1478166209513968, 0.18939004559397715, 0.007698782341218583, 0.09700465749935415, 0.021556590555412033, 0.030795129364874333, 0.0015397564682437168, 0.03849391170609292, 0.015397564682437167, 0.9667534749349398, 0.5844191103329675, 0.058441911033296746, 0.35514699781772635, 0.889851118716959, 0.10342095326492501, 0.006463809579057813, 0.9535740932666984, 0.045861548950213264, 0.9737975364471538, 0.9933452357031379, 0.9799767535718354, 0.22557868630846267, 0.7707271782205808, 0.9895873057326766, 0.9984864236961247, 0.5764020888012173, 0.017024534268390384, 0.02675283956461346, 0.08512267134195192, 0.29428123521074806, 0.3081861813955818, 0.14439492415037747, 0.12284344293390323, 0.17672214597508887, 0.22844570089462707, 0.0172411849731794, 0.9520015246482474, 0.022666702967815415, 0.019644475905440027, 0.004533340593563083, 0.973840229305569, 0.9701804834111974, 0.9940684934310082, 0.8246651911165577, 0.17374251800971988, 0.9635758733793652, 0.9833079554334813, 0.14444897862597705, 0.43334693587793116, 0.3656364771470044, 0.027084183492370698, 0.022570152910308915, 0.9676557278956492, 0.8629044618941347, 0.02679827521410356, 0.037517585299744985, 0.06967551555666926, 0.9949451611093378, 0.9896197971465037, 0.9914813380870804, 0.7523825966930767, 0.245547458334979, 0.3429925738418655, 0.6537034936750848, 0.8152989535424212, 0.17470691861623314, 0.9812313616253703, 0.03166478093333438, 0.9367497692778086, 0.0026387317444445313, 0.029026049188889846, 0.991027074479293, 0.9243120816001283, 0.06818695683935373, 0.9800397900025272, 0.25395193701138125, 0.7346466749257815, 0.9924553494040684, 0.9757421700878015, 0.006512608558029299, 0.9899165008204533, 0.6501038075926469, 0.04375698704950507, 0.23128693154738397, 0.003125499074964648, 0.003125499074964648, 0.06876097964922226, 0.9789655618014721, 0.9833531518560066, 0.992900308975956, 0.9773502376753623, 0.9895241193078279, 0.9785251025432067, 0.9808075657976298, 0.8612106058803941, 0.13598062198111485, 0.9905366569372543, 0.9846558169501511, 0.985515011923727, 0.36612291922729856, 0.586835317343046, 0.002596616448420557, 0.002596616448420557, 0.038949246726308354, 0.31607674390350443, 0.6258319529289388, 0.018964604634210264, 0.03792920926842053, 0.9821098704012886, 0.9645541217670264, 0.9961138142209512, 0.9942743961232419, 0.9911192873707863, 0.9441590270139748, 0.05462077015783325, 0.9934856402608945, 0.9881156575572017, 0.9870431347001687, 0.699731749900865, 0.29155489579202704, 0.004165069939886101, 0.9962212029385928, 0.17121888362129106, 0.8132896972011326, 0.27446189853094743, 0.7248609115048098, 0.9921256433969078, 0.9856682968783752, 0.9892713290834173, 0.9861127774284131, 0.9878120317097864, 0.9849273403961836, 0.5468413189598483, 0.016825886737226105, 0.4101309892198863, 0.025238830105839154, 0.9934074218799606, 0.9895381274099568, 0.9872964386909463, 0.9921318150128153, 0.3026732863186414, 0.21072190819652248, 0.1791136219670441, 0.02107219081965225, 0.08045745585685404, 0.04597568906105945, 0.028734805663162156, 0.12260183749615854, 0.008620441698948647, 0.9888803529620522, 0.9933249100590674, 0.9958047275462074, 0.97517017266979, 0.14477711986968342, 0.26887179404369776, 0.27478106424246035, 0.2718264291430791, 0.038410256291956824, 0.9894576132652063, 0.9934478534311466, 0.9865250432900673, 0.9727374042594512, 0.5861574805447378, 0.4077617255963394, 0.5388578035299144, 0.4502784385660929, 0.07203269401007739, 0.38609523989401484, 0.28308848745960413, 0.2578770445560771, 0.9890628447759678, 0.9906249493761106, 0.9728410930410386, 0.9762747797190541, 0.9929963541257728, 0.976129246705288, 0.9891705093033192, 0.9752707742333508, 0.9812512750230913, 0.7703570818015917, 0.22603291621723348, 0.9908084845110925, 0.9830531021355676, 0.09624882679070479, 0.8793642811332575, 0.021874733361523818, 0.05853138524484599, 0.9072364712951129, 0.029265692622422994, 0.9816565953099573, 0.9840641925216322, 0.9780903986673406, 0.9896431653970701, 0.9968678364501296, 0.991682005876954, 0.99007900552836, 0.5629517000197937, 0.4315963033485085, 0.6332925831621562, 0.261577371306108, 0.008260338041245516, 0.07709648838495815, 0.008260338041245516, 0.008260338041245516, 0.08236712498901791, 0.45301918743959846, 0.4656910528225243, 0.9712859768046258, 0.006792209628004376, 0.016980524070010942, 0.14079680416390128, 0.8530629899342254, 0.3147192685625092, 0.25789495618316727, 0.362801379037337, 0.06119541333159901, 0.9857494002805207, 0.6979147608741814, 0.002483682423039791, 0.11921675630590998, 0.17882513445886497, 0.9883256720977486, 0.2978338414074165, 0.6897204748382276, 0.5489210136889354, 0.010165203957202508, 0.005082601978601254, 0.18297367122964514, 0.2541300989300627, 0.9867053797123725, 0.992119355005631, 0.3393354681134166, 0.6210479322075737, 0.032012780010699675, 0.9752052695693779, 0.9845390393897712, 0.4937104693408867, 0.05242943037248354, 0.454388396561524, 0.9904578244892109, 0.9885524187180975, 0.2985995271594817, 0.24107117789022375, 0.054788904065959945, 0.3588673216320376, 0.04657056845606595, 0.9856328025571405, 0.012168306204409141, 0.32666554350659777, 0.6483054632669402, 0.020102494985021403, 0.9815643489749042, 0.821862159316866, 0.16841437690919386, 0.9908309971688868, 0.014732706413902662, 0.8323979123855004, 0.1473270641390266, 0.9955319466958095, 0.9966427719119618, 0.9777676104132088, 0.989221961905175, 0.1994542730725118, 0.45589548130859836, 0.34192161098144874, 0.9944449051141285, 0.9704652458538834, 0.8495689747691936, 0.019911772846152975, 0.0530980609230746, 0.0265490304615373, 0.04977943211538244, 0.9709691127037234, 0.024426895917074802, 0.0030533619896343503, 0.9932936965745301, 0.9741373211128412, 0.992545661378753, 0.021313861435603515, 0.11083207946513828, 0.7417223779590023, 0.12362039632650039, 0.9761065778207344, 0.9839874686673012, 0.9758684323560011, 0.9863592323135286, 0.6673918122236216, 0.2211927149084003, 0.09534168746051737, 0.013347836244472432, 0.0019068337492103475, 0.9019026293560194, 0.0761346375430406, 0.017569531740701676, 0.9685489254354698, 0.9837414365466793, 0.9919174824783721, 0.3762069257894556, 0.5928109133652028, 0.030400559659753985, 0.08279343778360664, 0.551956251890711, 0.013798906297267773, 0.3495722928641169, 0.9937428282384444, 0.9839609128657816, 0.9879255768289178, 0.9853100791176586, 0.9784994975391559, 0.9907279159003374, 0.9814967270789718, 0.44296004732036764, 0.23943786341641493, 0.011971893170820747, 0.30727859138439917, 0.9902704173455735, 0.9845790572282497, 0.995226624308708, 0.989537557686777, 0.9828328372673366, 0.9926656481939586, 0.9788142014690843, 0.975824902792414, 0.9244628500024014, 0.01532258867407295, 0.056182825138267486, 0.9899515561467468, 0.9893956287465865, 0.005047936881360135, 0.9824883415285163, 0.9866618820125722, 0.972394834454913, 0.7938076552928285, 0.20321475975496409, 0.9919329431968537, 0.9723040980532788, 0.9680959740971973, 0.9824354237468802, 0.9681323412763208, 0.02382455208316394, 0.9768066354097216, 0.9950634123085307, 0.5106006841695173, 0.04461559376238501, 0.04461559376238501, 0.3965830556656445, 0.9852130568470481, 0.9868981294064015, 0.990801424855561, 0.9733451743649403, 0.4126703760879227, 0.024274728005171924, 0.21442676404568534, 0.3479377680741309, 0.020098528467341732, 0.9762142398423127, 0.18203732351392765, 0.5006026396633011, 0.07584888479746986, 0.24271643135190354, 0.984738580748753, 0.02066949131909427, 0.34449152198490446, 0.537406774296451, 0.09645762615577325, 0.970957508547049, 0.12039201689367846, 0.8771418373682288, 0.6300901656242033, 0.3635135570908865, 0.0037283441752911438, 0.9909999545500647, 0.9973006180299936, 0.9739592160334135, 0.01872998492371949, 0.9820388067678467, 0.9826968234323598, 0.9964612554112388, 0.9864997173964966, 0.9956431556363343, 0.02348058099860011, 0.9526407148003474, 0.020126212284514382, 0.9469247259530971, 0.035071286146411, 0.011690428715470335, 0.38624850279305895, 0.6134535044360347, 0.9777525244544745, 0.994834545073825, 0.9908104599403527, 0.9755244252487151, 0.9843874311601689, 0.6558500585520861, 0.3016356809374573, 0.013836499125571436, 0.024905698426028584, 0.9888520949461705, 0.14739587407185986, 0.12153694879609496, 0.561138678484098, 0.05688963560668275, 0.1137792712133655, 0.06537350338674525, 0.4635575694696481, 0.3506396999834518, 0.11588939236741203, 0.9803055747481119, 0.9816087506444703, 0.7334265101218527, 0.2563432462561815, 0.9746296186285803, 0.2625821082990842, 0.010365083222332271, 0.7082806868593718, 0.006910055481554847, 0.006910055481554847, 0.05227180663585765, 0.9408925194454377, 0.07362237691412059, 0.5374433514730803, 0.3828363599534271, 0.22275045742354393, 0.38801692583456043, 0.2838271957493544, 0.003592749313282967, 0.10059698077192307, 0.0068662039282175735, 0.01029930589232636, 0.5424301103291883, 0.30211297284157324, 0.13389097660024268, 0.9706399598543191, 0.9795251263525264, 0.9904175425552332, 0.0014249324336890305, 0.9575545954390285, 0.03989810814329285, 0.35747555483422433, 0.6081726971854986, 0.004642539673171745, 0.027855238039030467, 0.9923617618993419, 0.9910893122335328, 0.2688547978819372, 0.14402935600818068, 0.5857193810999347, 0.97035014054362, 0.9958830979769051, 0.01809799544911818, 0.9229977679050272, 0.054293986347354536, 0.9817979185333999, 0.9894756520221659, 0.9915278643149212, 0.9865977172282224, 0.9831119268744153, 0.04207700787093392, 0.24044004497676527, 0.6732321259349427, 0.012022002248838265, 0.03005500562209566, 0.23028951573778528, 0.20726056416400676, 0.17271713680333894, 0.24180399152467455, 0.05757237893444632, 0.09211580629511411, 0.9737176901525968, 0.9954089593102471, 0.0028504686289900264, 0.008551405886970079, 0.6328040356357858, 0.037056092176870344, 0.13112155693354122, 0.019953280402930186, 0.0028504686289900264, 0.1624767118524315, 0.17971033764375477, 0.4957526555689787, 0.13633198028146915, 0.185907245838367, 0.9791535456488752, 0.1569581915553197, 0.8089383718620322, 0.016098276056955865, 0.016098276056955865, 0.9801006218101757, 0.9855721498225508, 0.8879918863689418, 0.10929130909156207, 0.9918599658507661, 0.9800172733394384, 0.9907723214996371, 0.9705723129651627, 0.9897221410630503, 0.9835008062964177, 0.972440843449223, 0.996769358490927, 0.3649554976273126, 0.6316537458934257, 0.9802197279543244, 0.040199370341464515, 0.2928811267735272, 0.189511317324047, 0.47664967690593635, 0.9856812774173757, 0.9985623330696264, 0.2668019159359593, 0.23181150073124332, 0.4986134166672026, 0.9952718826133716, 0.9795037982513324, 0.9481821705801732, 0.015737463412119058, 0.031474926824238116, 0.41448174645615277, 0.24785591873508633, 0.024993874158159967, 0.270766970046733, 0.041656456930266615, 0.9846752107535879, 0.9743631248458746, 0.9848867365533845, 0.9823687279460455, 0.5838490710033343, 0.4135597586273618, 0.9836142842125445, 0.1330369841957997, 0.8465989903369072, 0.018141406935790867, 0.9675089691723978, 0.9928153706461587, 0.9883994811343843, 0.41600502062694755, 0.11946810848773878, 0.45013876590915863, 0.0021333590801381926, 0.0021333590801381926, 0.010666795400690963, 0.9602805740563395, 0.02549417453246919, 0.41671440770729773, 0.10058623634314083, 0.10058623634314083, 0.38079075187046174, 0.9794562771915571, 0.6273854764596261, 0.1789210432866341, 0.03485474869220145, 0.04879664816908203, 0.01858919930250744, 0.08829869668691033, 0.41021968804325876, 0.4898145528874731, 0.09796291057749462, 0.9911576056737293, 0.7657543477861525, 0.22972630433584576, 0.9918363254201595, 0.9918875960596556, 0.9954719996358521, 0.4428456961693879, 0.5494566970990554, 0.028449831275790174, 0.25604848148211157, 0.7112457818947544, 0.4767867189618464, 0.1880553194311665, 0.11587246954849653, 0.05318736307144103, 0.049388265709195245, 0.07788149592603866, 0.03799097362245788, 0.99042340180063, 0.07874484435236315, 0.9055657100521762, 0.98352612148781, 0.9914869949187552, 0.23792094158225405, 0.45290974421682095, 0.08026248631690498, 0.13472631631766194, 0.01433258684230446, 0.0745294515799832, 0.9878471362144721, 0.9856435120768305, 0.9880757560079555, 0.9873798612799685, 0.9890506221998866, 0.9946927244939923, 0.9841915224655364, 0.05804805555642434, 0.9287688889027894, 0.990326172057878, 0.9726472664874426, 0.9896788123825956, 0.9912120441011051, 0.9933451294521147, 0.9884450443609045, 0.9871575138683444, 0.9918251603857617, 0.9699938985567437, 0.028004076471997215, 0.5544807141455448, 0.2968432106031705, 0.08961304471039108, 0.025203668824797493, 0.9662725544513414, 0.9770145870474877, 0.9797510986824086, 0.9957493872632373, 0.9820850903961384, 0.9742626064097156, 0.8714871530795991, 0.11165476004513998, 0.01595068000644857, 0.5868850977612041, 0.1452086839821536, 0.1452086839821536, 0.004033574555059823, 0.11899044937426476, 0.9822011881793506, 0.24255363812341954, 0.21767634190563293, 0.006219324054446655, 0.006219324054446655, 0.5286425446279657, 0.9891008640363477, 0.24536824086034348, 0.49073648172068696, 0.0027263137873371496, 0.06815784468342874, 0.15539988587821754, 0.0381683930227201, 0.42679747526512374, 0.5581197753467003, 0.016415287510197066, 0.20971155879032818, 0.21863545490906555, 0.5666674035398229, 0.9908350759181868, 0.8980151095894094, 0.03825216491151643, 0.04007369657396959, 0.023679911611891123, 0.9903451048622516, 0.9852503723214159, 0.9331017124225037, 0.042589704716379836, 0.019358956689263563, 0.025027894671015016, 0.3453849464600072, 0.4605132619466763, 0.1451617890918871, 0.012513947335507508, 0.010011157868406007, 0.9945093343663222, 0.0215869170493374, 0.971411267220183, 0.43591915011945787, 0.004294769951915842, 0.06442154927873762, 0.46383515480691084, 0.015031694831705444, 0.012884309855747523, 0.9889491286865436, 0.9855329026300947, 0.99042877340415, 0.9709801842527642, 0.012946402456703521, 0.3328467271432863, 0.3494890635004506, 0.316204390786122, 0.03380214183730548, 0.9657011906442505, 0.991347274867194, 0.9885796767523225, 0.5170336656798686, 0.11674953741158324, 0.004169626336127973, 0.35858786490700567, 0.9918808739443271, 0.9904695374595024, 0.9906457372979702, 0.9675749648956489, 0.02932045348168633, 0.9764458149322582, 0.9927460617663376, 0.9967948041583895, 0.9940718285708695, 0.16804197865288498, 0.08175015177707919, 0.013625025296179864, 0.009083350197453243, 0.013625025296179864, 0.49504258576120175, 0.13625025296179863, 0.0862918268758058, 0.752365629002794, 0.02738804216926659, 0.046720777818160655, 0.02416591956111758, 0.0016110613040745054, 0.1482176399748545, 0.9900200319062582, 0.9746315684917406, 0.9924050171752342, 0.09122200257309088, 0.8970163586353935, 0.9966114556103316, 0.9704896814176894, 0.9862738070711996, 0.9946257237612258, 0.9741231084548116, 0.2945118729872102, 0.6994656983446242, 0.9835710211737692, 0.9938910264625253, 0.986272302090183, 0.37401550920022186, 0.2060254923560544, 0.08241019694242177, 0.06339245918647828, 0.06973170510512611, 0.01584811479661957, 0.19017737755943484, 0.9861908833339897, 0.9721264177537161, 0.9405256287220699, 0.05631889992347724, 0.9849604200118353, 0.9944314581533401, 0.2927666654990738, 0.15095781189795995, 0.5535119769591865, 0.9933601377341074, 0.9933394177680706, 0.3480342301883769, 0.034803423018837695, 0.27456033714860845, 0.34030013618419075, 0.9894662875538103, 0.9768633635863917, 0.9773547815255496, 0.9880879978960407, 0.9825601709295652, 0.9893716513737462, 0.9934494239135289, 0.9826601977056453, 0.5430284021835133, 0.2041170589767816, 0.2503322421413359, 0.9924254068893791], \"Term\": [\"com\", \"wildberries\", \"www\", \"\\u0430\\u0431\\u043e\\u043d\\u0435\\u043c\\u0435\\u043d\\u0442\", \"\\u0430\\u0432\\u0433\\u0443\\u0441\\u0442\", \"\\u0430\\u0432\\u0438\\u0430\\u043a\\u043e\\u043c\\u043f\\u0430\\u043d\\u0438\\u044f\", \"\\u0430\\u0432\\u0438\\u0430\\u043a\\u043e\\u043c\\u043f\\u0430\\u043d\\u0438\\u044f\", \"\\u0430\\u0432\\u0442\\u043e\\u0431\\u0443\\u0441\", \"\\u0430\\u0432\\u0442\\u043e\\u043c\\u043e\\u0431\\u0438\\u043b\\u044c\", \"\\u0430\\u0434\\u043c\\u0438\\u043d\\u0438\\u0441\\u0442\\u0440\\u0430\\u0446\\u0438\\u044f\", \"\\u0430\\u043a\\u0442\", \"\\u0430\\u043a\\u0442\", \"\\u0430\\u043f\\u043f\\u0430\\u0440\\u0430\\u0442\", \"\\u0430\\u043f\\u0442\\u0435\\u043a\\u0430\", \"\\u0430\\u0440\\u0442\\u0438\\u043a\\u0443\\u043b\", \"\\u0431\\u0430\\u043d\\u043a\", \"\\u0431\\u0430\\u043d\\u043a\", \"\\u0431\\u0430\\u043d\\u043a\\u043e\\u0432\\u0441\\u043a\\u0438\\u0439\", \"\\u0431\\u0438\\u043b\\u0435\\u0442\", \"\\u0431\\u043e\\u043b\\u044c\\u043d\\u0438\\u0446\\u0430\", \"\\u0431\\u0440\\u0430\\u043a\", \"\\u0431\\u0440\\u0430\\u043a\", \"\\u0431\\u0443\\u043c\\u0430\\u0433\\u0430\", \"\\u0432\\u0430\\u0439\\u043b\\u0434\\u0431\\u0435\\u0440\\u0440\\u0438\\u0437\", \"\\u0432\\u0430\\u0439\\u043b\\u0434\\u0431\\u0435\\u0440\\u0440\\u0438\\u0437\", \"\\u0432\\u0430\\u0440\\u0438\\u0430\\u043d\\u0442\", \"\\u0432\\u0430\\u0440\\u0438\\u0430\\u043d\\u0442\", \"\\u0432\\u0430\\u0448\", \"\\u0432\\u0430\\u0448\", \"\\u0432\\u0435\\u0440\\u043d\\u0443\\u0442\\u044c\", \"\\u0432\\u0435\\u0440\\u043d\\u0443\\u0442\\u044c\", \"\\u0432\\u0435\\u0440\\u043d\\u0443\\u0442\\u044c\", \"\\u0432\\u0435\\u0440\\u043d\\u0443\\u0442\\u044c\\u0441\\u044f\", \"\\u0432\\u0435\\u0441\", \"\\u0432\\u0435\\u0441\\u044c\", \"\\u0432\\u0435\\u0441\\u044c\", \"\\u0432\\u0435\\u0441\\u044c\", \"\\u0432\\u0435\\u0441\\u044c\", \"\\u0432\\u0435\\u0441\\u044c\", \"\\u0432\\u0435\\u0441\\u044c\", \"\\u0432\\u0435\\u0449\\u044c\", \"\\u0432\\u043a\\u043b\\u044e\\u0447\\u0430\\u0442\\u044c\", \"\\u0432\\u043d\\u0438\\u043c\\u0430\\u043d\\u0438\\u0435\", \"\\u0432\\u043d\\u0443\\u0442\\u0440\\u0438\", \"\\u0432\\u043e\\u0434\\u0430\", \"\\u0432\\u043e\\u0437\\u0432\\u0440\\u0430\\u0442\", \"\\u0432\\u043e\\u0437\\u0432\\u0440\\u0430\\u0442\", \"\\u0432\\u043e\\u0437\\u0432\\u0440\\u0430\\u0442\", \"\\u0432\\u043e\\u0437\\u0432\\u0440\\u0430\\u0442\\u0438\\u0442\\u044c\", \"\\u0432\\u043e\\u0437\\u0432\\u0440\\u0430\\u0449\\u0430\\u0442\\u044c\", \"\\u0432\\u043e\\u0437\\u043b\\u0435\", \"\\u0432\\u0440\\u0430\\u0447\", \"\\u0432\\u0440\\u0435\\u043c\\u044f\", \"\\u0432\\u0440\\u0435\\u043c\\u044f\", \"\\u0432\\u0440\\u0435\\u043c\\u044f\", \"\\u0432\\u0440\\u0435\\u043c\\u044f\", \"\\u0432\\u0440\\u0435\\u043c\\u044f\", \"\\u0432\\u0440\\u0435\\u043c\\u044f\", \"\\u0432\\u0440\\u0435\\u043c\\u044f\", \"\\u0432\\u0441\\u0451\", \"\\u0432\\u0441\\u0451\", \"\\u0432\\u0441\\u0451\", \"\\u0432\\u0441\\u0451\", \"\\u0432\\u0441\\u0451\", \"\\u0432\\u0441\\u0451\", \"\\u0432\\u0441\\u0451\", \"\\u0432\\u0445\\u043e\\u0434\", \"\\u0432\\u0447\\u0435\\u0440\\u0430\", \"\\u0432\\u044b\\u0432\\u043e\\u0437\", \"\\u0432\\u044b\\u0434\\u0430\\u0447\\u0430\", \"\\u0432\\u044b\\u043f\\u043e\\u043b\\u043d\\u0438\\u0442\\u044c\", \"\\u0432\\u044b\\u0445\\u043e\\u0434\\u043d\\u043e\\u0439\", \"\\u0432\\u044b\\u0448\\u0435\", \"\\u0433\\u0430\\u0440\\u0430\\u043d\\u0442\\u0438\\u0439\\u043d\\u044b\\u0439\", \"\\u0433\\u0430\\u0440\\u0430\\u043d\\u0442\\u0438\\u044f\", \"\\u0433\\u043e\\u0440\\u043e\\u0434\", \"\\u0433\\u043e\\u0440\\u043e\\u0434\", \"\\u0433\\u043e\\u0440\\u043e\\u0434\", \"\\u0433\\u043e\\u0440\\u044f\\u0447\\u0438\\u0439\", \"\\u0433\\u043e\\u0440\\u044f\\u0447\\u0438\\u0439\", \"\\u0433\\u043e\\u0441\\u0443\\u0434\\u0430\\u0440\\u0441\\u0442\\u0432\\u0435\\u043d\\u043d\\u044b\\u0439\", \"\\u0433\\u0440\\u0430\\u0436\\u0434\\u0430\\u043d\\u0438\\u043d\", \"\\u0433\\u0440\\u0430\\u043d\\u0438\\u0446\\u0430\", \"\\u0433\\u0440\\u0430\\u043d\\u0438\\u0446\\u0430\", \"\\u0433\\u0440\\u0443\\u043f\\u043f\\u0430\", \"\\u0434\\u0430\\u0432\\u0430\\u0442\\u044c\", \"\\u0434\\u0430\\u0432\\u0430\\u0442\\u044c\", \"\\u0434\\u0430\\u043d\\u043d\\u044b\\u0435\", \"\\u0434\\u0430\\u0442\\u0430\", \"\\u0434\\u0430\\u0442\\u0430\", \"\\u0434\\u0430\\u0442\\u0430\", \"\\u0434\\u0430\\u0442\\u044c\", \"\\u0434\\u0430\\u0442\\u044c\", \"\\u0434\\u0430\\u0442\\u044c\", \"\\u0434\\u0430\\u0442\\u044c\", \"\\u0434\\u0430\\u0442\\u044c\", \"\\u0434\\u0430\\u0442\\u044c\", \"\\u0434\\u0430\\u0442\\u044c\", \"\\u0434\\u0430\\u0442\\u044c\", \"\\u0434\\u0430\\u0442\\u044c\", \"\\u0434\\u0430\\u0442\\u044c\", \"\\u0434\\u0432\\u0435\\u0440\\u044c\", \"\\u0434\\u0435\\u043b\\u0430\\u0442\\u044c\", \"\\u0434\\u0435\\u043b\\u0430\\u0442\\u044c\", \"\\u0434\\u0435\\u043b\\u0430\\u0442\\u044c\", \"\\u0434\\u0435\\u043d\\u0435\\u0436\\u043d\\u044b\\u0439\", \"\\u0434\\u0435\\u043d\\u0435\\u0436\\u043d\\u044b\\u0439\", \"\\u0434\\u0435\\u043d\\u0435\\u0436\\u043d\\u044b\\u0439\", \"\\u0434\\u0435\\u043d\\u044c\\u0433\\u0430\", \"\\u0434\\u0435\\u043d\\u044c\\u0433\\u0430\", \"\\u0434\\u0435\\u0442\\u0430\\u043b\\u044c\", \"\\u0434\\u0435\\u0442\\u0441\\u043a\\u0438\\u0439\", \"\\u0434\\u0435\\u0444\\u0435\\u043a\\u0442\", \"\\u0434\\u0435\\u044f\\u0442\\u0435\\u043b\\u044c\\u043d\\u043e\\u0441\\u0442\\u044c\", \"\\u0434\\u0435\\u044f\\u0442\\u0435\\u043b\\u044c\\u043d\\u043e\\u0441\\u0442\\u044c\", \"\\u0434\\u0438\\u0432\\u0430\\u043d\", \"\\u0434\\u043e\\u0433\\u043e\\u0432\\u043e\\u0440\", \"\\u0434\\u043e\\u043a\\u0443\\u043c\\u0435\\u043d\\u0442\", \"\\u0434\\u043e\\u043a\\u0443\\u043c\\u0435\\u043d\\u0442\", \"\\u0434\\u043e\\u043a\\u0443\\u043c\\u0435\\u043d\\u0442\", \"\\u0434\\u043e\\u043a\\u0443\\u043c\\u0435\\u043d\\u0442\", \"\\u0434\\u043e\\u043a\\u0443\\u043c\\u0435\\u043d\\u0442\", \"\\u0434\\u043e\\u043b\\u0436\\u043d\\u044b\\u0439\", \"\\u0434\\u043e\\u043b\\u0436\\u043d\\u044b\\u0439\", \"\\u0434\\u043e\\u043b\\u0436\\u043d\\u044b\\u0439\", \"\\u0434\\u043e\\u043b\\u0436\\u043d\\u044b\\u0439\", \"\\u0434\\u043e\\u043b\\u0436\\u043d\\u044b\\u0439\", \"\\u0434\\u043e\\u043b\\u0436\\u043d\\u044b\\u0439\", \"\\u0434\\u043e\\u043c\", \"\\u0434\\u043e\\u043c\", \"\\u0434\\u043e\\u043c\", \"\\u0434\\u043e\\u043c\", \"\\u0434\\u043e\\u043f\\u043e\\u043b\\u043d\\u0438\\u0442\\u0435\\u043b\\u044c\\u043d\\u043e\", \"\\u0434\\u043e\\u043f\\u0443\\u0441\\u0442\\u0438\\u0442\\u044c\", \"\\u0434\\u043e\\u0441\\u0442\\u0430\\u0432\\u0438\\u0442\\u044c\", \"\\u0434\\u043e\\u0441\\u0442\\u0430\\u0432\\u043a\\u0430\", \"\\u0434\\u043e\\u0441\\u0442\\u0430\\u0432\\u043a\\u0430\", \"\\u0434\\u043e\\u0441\\u0442\\u0443\\u043f\", \"\\u0434\\u044b\\u0448\\u0430\\u0442\\u044c\", \"\\u0436\\u0430\\u043b\\u043e\\u0431\\u0430\", \"\\u0436\\u0430\\u043b\\u043e\\u0431\\u0430\", \"\\u0436\\u0430\\u043b\\u043e\\u0431\\u0430\", \"\\u0436\\u0430\\u043b\\u043e\\u0431\\u0430\", \"\\u0436\\u0430\\u043b\\u043e\\u0431\\u0430\", \"\\u0436\\u0430\\u043b\\u043e\\u0432\\u0430\\u0442\\u044c\\u0441\\u044f\", \"\\u0436\\u0434\\u0430\\u0442\\u044c\", \"\\u0436\\u0434\\u0430\\u0442\\u044c\", \"\\u0436\\u0434\\u0430\\u0442\\u044c\", \"\\u0436\\u0434\\u0430\\u0442\\u044c\", \"\\u0436\\u0438\\u043b\\u043e\\u0439\", \"\\u0436\\u0438\\u0442\\u044c\", \"\\u0437\\u0430\\u0432\\u0435\\u0434\\u0435\\u043d\\u0438\\u0435\", \"\\u0437\\u0430\\u043a\\u0430\\u0437\", \"\\u0437\\u0430\\u043a\\u0430\\u0437\", \"\\u0437\\u0430\\u043a\\u0430\\u0437\\u0430\\u0442\\u044c\", \"\\u0437\\u0430\\u043a\\u0430\\u0437\\u0430\\u0442\\u044c\", \"\\u0437\\u0430\\u043a\\u043b\\u044e\\u0447\\u0435\\u043d\\u0438\\u0435\", \"\\u0437\\u0430\\u043a\\u043b\\u044e\\u0447\\u0435\\u043d\\u0438\\u0435\", \"\\u0437\\u0430\\u043a\\u043b\\u044e\\u0447\\u0438\\u0442\\u044c\", \"\\u0437\\u0430\\u043a\\u043e\\u043d\", \"\\u0437\\u0430\\u043a\\u043e\\u043d\", \"\\u0437\\u0430\\u043a\\u043e\\u043d\", \"\\u0437\\u0430\\u043a\\u043e\\u043d\", \"\\u0437\\u0430\\u043a\\u043e\\u043d\\u043e\\u0434\\u0430\\u0442\\u0435\\u043b\\u044c\\u0441\\u0442\\u0432\\u043e\", \"\\u0437\\u0430\\u043c\\u0435\\u043d\\u0430\", \"\\u0437\\u0430\\u043c\\u0435\\u043d\\u0430\", \"\\u0437\\u0430\\u043d\\u044f\\u0442\\u0438\\u0435\", \"\\u0437\\u0430\\u043f\\u0430\\u0445\", \"\\u0437\\u0430\\u043f\\u0430\\u0445\", \"\\u0437\\u0430\\u043f\\u0438\\u0441\\u044c\", \"\\u0437\\u0430\\u0440\\u0435\\u0433\\u0438\\u0441\\u0442\\u0440\\u0438\\u0440\\u043e\\u0432\\u0430\\u0442\\u044c\", \"\\u0437\\u0430\\u0449\\u0438\\u0442\\u0430\", \"\\u0437\\u0430\\u0449\\u0438\\u0442\\u0430\", \"\\u0437\\u0430\\u044f\\u0432\\u043b\\u0435\\u043d\\u0438\\u0435\", \"\\u0437\\u0430\\u044f\\u0432\\u043b\\u0435\\u043d\\u0438\\u0435\", \"\\u0437\\u0430\\u044f\\u0432\\u043b\\u0435\\u043d\\u0438\\u0435\", \"\\u0437\\u0430\\u044f\\u0432\\u043b\\u0435\\u043d\\u0438\\u0435\", \"\\u0437\\u0430\\u044f\\u0432\\u043b\\u0435\\u043d\\u0438\\u0435\", \"\\u0437\\u0430\\u044f\\u0432\\u043b\\u0435\\u043d\\u0438\\u0435\", \"\\u0437\\u0432\\u0443\\u043a\", \"\\u0437\\u0434\\u043e\\u0440\\u043e\\u0432\\u044c\\u0435\", \"\\u0437\\u043d\\u0430\\u0442\\u044c\", \"\\u0437\\u043e\\u043d\\u0430\", \"\\u0438\\u0434\\u0442\\u0438\", \"\\u0438\\u0437\\u0433\\u043e\\u0442\\u043e\\u0432\\u043b\\u0435\\u043d\\u0438\\u0435\", \"\\u0438\\u0437\\u0434\\u0435\\u043b\\u0438\\u0435\", \"\\u0438\\u043c\\u0435\\u043d\\u043d\\u043e\", \"\\u0438\\u043c\\u0435\\u043d\\u043d\\u043e\", \"\\u0438\\u043d\\u0432\\u0430\\u043b\\u0438\\u0434\", \"\\u0438\\u043d\\u043d\\u0430\", \"\\u0438\\u043d\\u0441\\u0442\\u0430\\u043d\\u0446\\u0438\\u044f\", \"\\u0438\\u043d\\u0442\\u0435\\u0440\\u043d\\u0435\\u0442\", \"\\u0438\\u043d\\u0442\\u0435\\u0440\\u043d\\u0435\\u0442\", \"\\u0438\\u043d\\u0442\\u0435\\u0440\\u043d\\u0435\\u0442\", \"\\u0438\\u043d\\u0442\\u0435\\u0440\\u043d\\u0435\\u0442\", \"\\u0438\\u043d\\u0442\\u0435\\u0440\\u043d\\u0435\\u0442\", \"\\u0438\\u043d\\u0444\\u043e\\u0440\\u043c\\u0430\\u0446\\u0438\\u044f\", \"\\u0438\\u043d\\u0444\\u043e\\u0440\\u043c\\u0430\\u0446\\u0438\\u044f\", \"\\u0438\\u043d\\u0444\\u043e\\u0440\\u043c\\u0430\\u0446\\u0438\\u044f\", \"\\u0438\\u043d\\u0444\\u043e\\u0440\\u043c\\u0430\\u0446\\u0438\\u044f\", \"\\u0438\\u0441\\u043f\\u043e\\u043b\\u044c\\u0437\\u043e\\u0432\\u0430\\u0442\\u044c\", \"\\u0438\\u0441\\u043f\\u0440\\u0430\\u0432\\u0438\\u0442\\u044c\", \"\\u0438\\u044e\\u043b\\u044c\", \"\\u0438\\u044e\\u043d\\u044c\", \"\\u043a\\u0430\\u043c\\u0435\\u0440\\u0430\", \"\\u043a\\u0430\\u0440\\u0442\\u0430\", \"\\u043a\\u0430\\u0440\\u0442\\u0430\", \"\\u043a\\u0430\\u0441\\u0441\\u0430\", \"\\u043a\\u0430\\u0441\\u0441\\u0438\\u0440\", \"\\u043a\\u0430\\u0441\\u0441\\u043e\\u0432\\u044b\\u0439\", \"\\u043a\\u0430\\u0447\\u0435\\u0441\\u0442\\u0432\\u043e\", \"\\u043a\\u0430\\u0447\\u0435\\u0441\\u0442\\u0432\\u043e\", \"\\u043a\\u0430\\u0447\\u0435\\u0441\\u0442\\u0432\\u043e\", \"\\u043a\\u0432\\u0430\\u0440\\u0442\\u0438\\u0440\\u0430\", \"\\u043a\\u0432\\u0438\\u0442\\u0430\\u043d\\u0446\\u0438\\u044f\", \"\\u043a\\u0432\\u0438\\u0442\\u0430\\u043d\\u0446\\u0438\\u044f\", \"\\u043a\\u043b\\u0438\\u0435\\u043d\\u0442\", \"\\u043a\\u043b\\u0438\\u0435\\u043d\\u0442\", \"\\u043a\\u043b\\u0443\\u0431\", \"\\u043a\\u043d\\u0438\\u0433\\u0430\", \"\\u043a\\u043e\\u0434\", \"\\u043a\\u043e\\u043c\\u0438\\u0441\\u0441\\u0438\\u044f\", \"\\u043a\\u043e\\u043c\\u043c\\u0443\\u043d\\u0430\\u043b\\u044c\\u043d\\u044b\\u0439\", \"\\u043a\\u043e\\u043c\\u043d\\u0430\\u0442\\u0430\", \"\\u043a\\u043e\\u043c\\u043f\\u0430\\u043d\\u0438\\u044f\", \"\\u043a\\u043e\\u043c\\u043f\\u0430\\u043d\\u0438\\u044f\", \"\\u043a\\u043e\\u043c\\u043f\\u0430\\u043d\\u0438\\u044f\", \"\\u043a\\u043e\\u043c\\u043f\\u0430\\u043d\\u0438\\u044f\", \"\\u043a\\u043e\\u043d\\u0434\\u0438\\u0446\\u0438\\u043e\\u043d\\u0435\\u0440\", \"\\u043a\\u043e\\u043d\\u0435\\u0446\", \"\\u043a\\u043e\\u043d\\u0442\\u0435\\u0439\\u043d\\u0435\\u0440\", \"\\u043a\\u043e\\u043d\\u0446\\u0435\\u0440\\u0442\", \"\\u043a\\u043e\\u0442\\u043e\\u0440\\u044b\\u0439\", \"\\u043a\\u043e\\u0442\\u043e\\u0440\\u044b\\u0439\", \"\\u043a\\u043e\\u0442\\u043e\\u0440\\u044b\\u0439\", \"\\u043a\\u043e\\u0442\\u043e\\u0440\\u044b\\u0439\", \"\\u043a\\u043e\\u0442\\u043e\\u0440\\u044b\\u0439\", \"\\u043a\\u043e\\u0442\\u043e\\u0440\\u044b\\u0439\", \"\\u043a\\u043e\\u0442\\u043e\\u0440\\u044b\\u0439\", \"\\u043a\\u043e\\u0442\\u043e\\u0440\\u044b\\u0439\", \"\\u043a\\u043e\\u0442\\u043e\\u0440\\u044b\\u0439\", \"\\u043a\\u0440\\u0430\\u0439\", \"\\u043a\\u0440\\u0435\\u0434\\u0438\\u0442\", \"\\u043a\\u0440\\u0435\\u0434\\u0438\\u0442\\u043d\\u044b\\u0439\", \"\\u043a\\u0440\\u044b\\u0448\\u0430\", \"\\u043a\\u0443\\u043f\\u0438\\u0442\\u044c\", \"\\u043a\\u0443\\u043f\\u0438\\u0442\\u044c\", \"\\u043a\\u0443\\u043f\\u0438\\u0442\\u044c\", \"\\u043a\\u0443\\u043f\\u0438\\u0442\\u044c\", \"\\u043a\\u0443\\u043f\\u0438\\u0442\\u044c\", \"\\u043a\\u0443\\u0440\\u0441\", \"\\u043a\\u0443\\u0440\\u044c\\u0435\\u0440\", \"\\u043a\\u0443\\u0445\\u043d\\u044f\", \"\\u043b\\u0435\\u0442\\u043e\", \"\\u043b\\u0438\\u043d\\u0438\\u044f\", \"\\u043b\\u0438\\u043d\\u0438\\u044f\", \"\\u043b\\u0438\\u0446\\u043e\", \"\\u043b\\u0438\\u0446\\u043e\", \"\\u043c\\u0430\\u0433\\u0430\\u0437\\u0438\\u043d\", \"\\u043c\\u0430\\u0433\\u0430\\u0437\\u0438\\u043d\", \"\\u043c\\u0430\\u0433\\u0430\\u0437\\u0438\\u043d\", \"\\u043c\\u0430\\u0433\\u0430\\u0437\\u0438\\u043d\", \"\\u043c\\u0430\\u0439\", \"\\u043c\\u0430\\u043b\\u0435\\u043d\\u044c\\u043a\\u0438\\u0439\", \"\\u043c\\u0430\\u0440\\u043a\\u0438\\u0440\\u043e\\u0432\\u043a\\u0430\", \"\\u043c\\u0430\\u0440\\u0448\\u0440\\u0443\\u0442\", \"\\u043c\\u0430\\u0441\\u0442\\u0435\\u0440\", \"\\u043c\\u0430\\u0442\\u0440\\u0430\\u0441\", \"\\u043c\\u0435\\u0431\\u0435\\u043b\\u044c\", \"\\u043c\\u0435\\u0434\\u0438\\u0446\\u0438\\u043d\\u0441\\u043a\\u0438\\u0439\", \"\\u043c\\u0435\\u043d\\u044f\\u0442\\u044c\", \"\\u043c\\u0435\\u0440\\u0430\", \"\\u043c\\u0435\\u0440\\u0430\", \"\\u043c\\u0435\\u0440\\u043e\\u043f\\u0440\\u0438\\u044f\\u0442\\u0438\\u0435\", \"\\u043c\\u0435\\u0441\\u0442\\u043d\\u044b\\u0439\", \"\\u043c\\u0435\\u0441\\u0442\\u043e\", \"\\u043c\\u0435\\u0441\\u0442\\u043e\", \"\\u043c\\u0435\\u0441\\u0442\\u043e\", \"\\u043c\\u0438\\u043d\\u0443\\u0442\\u0430\", \"\\u043c\\u0438\\u043d\\u0443\\u0442\\u0430\", \"\\u043c\\u0438\\u043d\\u0443\\u0442\\u0430\", \"\\u043c\\u043d\\u043e\\u0433\\u043e\\u043a\\u0432\\u0430\\u0440\\u0442\\u0438\\u0440\\u043d\\u044b\\u0439\", \"\\u043c\\u043e\\u0431\\u0438\\u043b\\u044c\\u043d\\u044b\\u0439\", \"\\u043c\\u043e\\u0434\\u0435\\u043b\\u044c\", \"\\u043c\\u043e\\u0441\\u043a\\u043e\\u0432\\u0441\\u043a\\u0438\\u0439\", \"\\u043c\\u0443\\u0441\\u043e\\u0440\", \"\\u043d\\u0430\\u0434\\u043b\\u0435\\u0436\\u0430\\u0449\\u0438\\u0439\", \"\\u043d\\u0430\\u0437\\u0430\\u0434\", \"\\u043d\\u0430\\u043b\\u0438\\u0447\\u0438\\u0435\", \"\\u043d\\u0430\\u043b\\u0438\\u0447\\u0438\\u0435\", \"\\u043d\\u0430\\u043f\\u0438\\u0441\\u0430\\u0442\\u044c\", \"\\u043d\\u0430\\u043f\\u0438\\u0441\\u0430\\u0442\\u044c\", \"\\u043d\\u0430\\u043f\\u0438\\u0441\\u0430\\u0442\\u044c\", \"\\u043d\\u0430\\u043f\\u0438\\u0441\\u0430\\u0442\\u044c\", \"\\u043d\\u0430\\u043f\\u0438\\u0441\\u0430\\u0442\\u044c\", \"\\u043d\\u0430\\u043f\\u0438\\u0441\\u0430\\u0442\\u044c\", \"\\u043d\\u0430\\u0445\\u043e\\u0434\\u0438\\u0442\\u044c\\u0441\\u044f\", \"\\u043d\\u0430\\u0445\\u043e\\u0434\\u0438\\u0442\\u044c\\u0441\\u044f\", \"\\u043d\\u0430\\u0445\\u043e\\u0434\\u0438\\u0442\\u044c\\u0441\\u044f\", \"\\u043d\\u0430\\u0448\", \"\\u043d\\u0430\\u0448\", \"\\u043d\\u0430\\u0448\", \"\\u043d\\u0435\\u0432\\u043e\\u0437\\u043c\\u043e\\u0436\\u043d\\u043e\", \"\\u043d\\u0435\\u0432\\u043e\\u0437\\u043c\\u043e\\u0436\\u043d\\u043e\", \"\\u043d\\u0435\\u0434\\u0435\\u043b\\u044f\", \"\\u043d\\u0435\\u0434\\u0435\\u043b\\u044f\", \"\\u043d\\u0435\\u0434\\u0435\\u043b\\u044f\", \"\\u043d\\u0435\\u0434\\u0435\\u043b\\u044f\", \"\\u043d\\u0438\\u0436\\u043d\\u0438\\u0439\", \"\\u043d\\u043e\\u043c\\u0435\\u0440\", \"\\u043d\\u043e\\u043c\\u0435\\u0440\", \"\\u043d\\u043e\\u043c\\u0435\\u0440\", \"\\u043d\\u043e\\u043c\\u0435\\u0440\", \"\\u043d\\u043e\\u0440\\u043c\\u0430\", \"\\u043d\\u043e\\u044f\\u0431\\u0440\\u044c\", \"\\u043d\\u043e\\u044f\\u0431\\u0440\\u044c\", \"\\u043d\\u0443\\u0436\\u043d\\u043e\", \"\\u043d\\u0443\\u0436\\u043d\\u043e\", \"\\u043d\\u0443\\u0436\\u043d\\u043e\", \"\\u043d\\u0443\\u0436\\u043d\\u043e\", \"\\u043d\\u0443\\u0436\\u043d\\u043e\", \"\\u043e\\u0431\\u0430\", \"\\u043e\\u0431\\u0435\\u0449\\u0430\\u0442\\u044c\", \"\\u043e\\u0431\\u043b\\u0430\\u0441\\u0442\\u044c\", \"\\u043e\\u0431\\u043b\\u0430\\u0441\\u0442\\u044c\", \"\\u043e\\u0431\\u043b\\u0430\\u0441\\u0442\\u044c\", \"\\u043e\\u0431\\u043c\\u0435\\u043d\", \"\\u043e\\u0431\\u043c\\u0435\\u043d\\u044f\\u0442\\u044c\", \"\\u043e\\u0431\\u043d\\u0430\\u0440\\u0443\\u0436\\u0438\\u0442\\u044c\", \"\\u043e\\u0431\\u043d\\u0430\\u0440\\u0443\\u0436\\u0438\\u0442\\u044c\", \"\\u043e\\u0431\\u043d\\u0430\\u0440\\u0443\\u0436\\u0438\\u0442\\u044c\", \"\\u043e\\u0431\\u0440\\u0430\\u0437\", \"\\u043e\\u0431\\u0440\\u0430\\u0442\\u0438\\u0442\\u044c\", \"\\u043e\\u0431\\u0440\\u0430\\u0442\\u0438\\u0442\\u044c\\u0441\\u044f\", \"\\u043e\\u0431\\u0440\\u0430\\u0442\\u0438\\u0442\\u044c\\u0441\\u044f\", \"\\u043e\\u0431\\u0440\\u0430\\u0442\\u0438\\u0442\\u044c\\u0441\\u044f\", \"\\u043e\\u0431\\u0440\\u0430\\u0442\\u0438\\u0442\\u044c\\u0441\\u044f\", \"\\u043e\\u0431\\u0440\\u0430\\u0442\\u0438\\u0442\\u044c\\u0441\\u044f\", \"\\u043e\\u0431\\u0440\\u0430\\u0442\\u043d\\u043e\", \"\\u043e\\u0431\\u0440\\u0430\\u0442\\u043d\\u043e\", \"\\u043e\\u0431\\u0440\\u0430\\u0449\\u0430\\u0442\\u044c\\u0441\\u044f\", \"\\u043e\\u0431\\u0440\\u0430\\u0449\\u0430\\u0442\\u044c\\u0441\\u044f\", \"\\u043e\\u0431\\u0440\\u0430\\u0449\\u0430\\u0442\\u044c\\u0441\\u044f\", \"\\u043e\\u0431\\u044a\\u044f\\u0432\\u043b\\u0435\\u043d\\u0438\\u0435\", \"\\u043e\\u0434\\u043d\\u0430\\u043a\\u043e\", \"\\u043e\\u0434\\u043d\\u0430\\u043a\\u043e\", \"\\u043e\\u0437\\u043e\\u043d\", \"\\u043e\\u043a\\u0430\\u0437\\u0430\\u0442\\u044c\\u0441\\u044f\", \"\\u043e\\u043a\\u0430\\u0437\\u0430\\u0442\\u044c\\u0441\\u044f\", \"\\u043e\\u043a\\u0430\\u0437\\u0430\\u0442\\u044c\\u0441\\u044f\", \"\\u043e\\u043a\\u043d\\u043e\", \"\\u043e\\u043a\\u043e\\u043b\\u043e\", \"\\u043e\\u043a\\u0442\\u044f\\u0431\\u0440\\u044c\", \"\\u043e\\u043d\\u043b\\u0430\\u0439\\u043d\", \"\\u043e\\u043e\\u043e\", \"\\u043e\\u043e\\u043e\", \"\\u043e\\u043e\\u043e\", \"\\u043e\\u043f\\u0435\\u0440\\u0430\\u0442\\u043e\\u0440\", \"\\u043e\\u043f\\u0435\\u0440\\u0430\\u0446\\u0438\\u044f\", \"\\u043e\\u043f\\u043b\\u0430\\u0442\\u0430\", \"\\u043e\\u043f\\u043b\\u0430\\u0442\\u0430\", \"\\u043e\\u043f\\u043b\\u0430\\u0442\\u0430\", \"\\u043e\\u043f\\u043b\\u0430\\u0442\\u0430\", \"\\u043e\\u043f\\u043b\\u0430\\u0442\\u0430\", \"\\u043e\\u043f\\u043b\\u0430\\u0442\\u0438\\u0442\\u044c\", \"\\u043e\\u043f\\u043b\\u0430\\u0442\\u0438\\u0442\\u044c\", \"\\u043e\\u043f\\u043b\\u0430\\u0442\\u0438\\u0442\\u044c\", \"\\u043e\\u043f\\u043b\\u0430\\u0447\\u0438\\u0432\\u0430\\u0442\\u044c\", \"\\u043e\\u0440\\u0433\\u0430\\u043d\", \"\\u043e\\u0440\\u0433\\u0430\\u043d\\u0438\\u0437\\u0430\\u0442\\u043e\\u0440\", \"\\u043e\\u0440\\u0433\\u0430\\u043d\\u0438\\u0437\\u0430\\u0446\\u0438\\u044f\", \"\\u043e\\u0440\\u0433\\u0430\\u043d\\u0438\\u0437\\u0430\\u0446\\u0438\\u044f\", \"\\u043e\\u0440\\u0433\\u0430\\u043d\\u0438\\u0437\\u0430\\u0446\\u0438\\u044f\", \"\\u043e\\u0440\\u0433\\u0430\\u043d\\u0438\\u0437\\u0430\\u0446\\u0438\\u044f\", \"\\u043e\\u0441\\u043c\\u043e\\u0442\\u0440\", \"\\u043e\\u0441\\u0442\\u0430\\u0432\\u0430\\u0442\\u044c\\u0441\\u044f\", \"\\u043e\\u0441\\u0443\\u0449\\u0435\\u0441\\u0442\\u0432\\u043b\\u044f\\u0442\\u044c\", \"\\u043e\\u0441\\u0443\\u0449\\u0435\\u0441\\u0442\\u0432\\u043b\\u044f\\u0442\\u044c\\u0441\\u044f\", \"\\u043e\\u0442\\u0432\\u0435\\u0442\", \"\\u043e\\u0442\\u0432\\u0435\\u0442\", \"\\u043e\\u0442\\u0432\\u0435\\u0442\", \"\\u043e\\u0442\\u0432\\u0435\\u0442\", \"\\u043e\\u0442\\u0432\\u0435\\u0442\", \"\\u043e\\u0442\\u0432\\u0435\\u0447\\u0430\\u0442\\u044c\", \"\\u043e\\u0442\\u0432\\u0435\\u0447\\u0430\\u0442\\u044c\", \"\\u043e\\u0442\\u0432\\u0435\\u0447\\u0430\\u0442\\u044c\", \"\\u043e\\u0442\\u0434\\u0435\\u043b\", \"\\u043e\\u0442\\u0434\\u044b\\u0445\", \"\\u043e\\u0442\\u0435\\u043b\\u044c\", \"\\u043e\\u0442\\u043a\\u0430\\u0437\", \"\\u043e\\u0442\\u043a\\u0430\\u0437\", \"\\u043e\\u0442\\u043a\\u0430\\u0437\", \"\\u043e\\u0442\\u043a\\u0430\\u0437\\u0430\\u0442\\u044c\", \"\\u043e\\u0442\\u043a\\u0430\\u0437\\u0430\\u0442\\u044c\", \"\\u043e\\u0442\\u043a\\u0430\\u0437\\u0430\\u0442\\u044c\", \"\\u043e\\u0442\\u043a\\u0430\\u0437\\u0430\\u0442\\u044c\", \"\\u043e\\u0442\\u043a\\u0430\\u0437\\u044b\\u0432\\u0430\\u0442\\u044c\\u0441\\u044f\", \"\\u043e\\u0442\\u043a\\u043b\\u044e\\u0447\\u0438\\u0442\\u044c\", \"\\u043e\\u0442\\u043a\\u0440\\u044b\\u0442\\u044c\\u0441\\u044f\", \"\\u043e\\u0442\\u043c\\u0435\\u043d\\u0430\", \"\\u043e\\u0442\\u043f\\u0440\\u0430\\u0432\\u043b\\u044f\\u0442\\u044c\", \"\\u043e\\u0444\\u0438\\u0441\", \"\\u043e\\u0444\\u043e\\u0440\\u043c\\u043b\\u0435\\u043d\\u0438\\u0435\", \"\\u043e\\u0447\\u0435\\u043d\\u044c\", \"\\u043e\\u0447\\u0435\\u043d\\u044c\", \"\\u043e\\u0447\\u0435\\u043d\\u044c\", \"\\u043e\\u0447\\u0435\\u043d\\u044c\", \"\\u043e\\u0448\\u0438\\u0431\\u043a\\u0430\", \"\\u043f\\u0430\\u0440\\u0430\", \"\\u043f\\u0430\\u0441\\u043f\\u043e\\u0440\\u0442\", \"\\u043f\\u0430\\u0441\\u0441\\u0430\\u0436\\u0438\\u0440\", \"\\u043f\\u0435\\u0440\\u0435\\u0432\\u043e\\u0437\\u043a\\u0430\", \"\\u043f\\u0435\\u0440\\u0435\\u043d\\u0435\\u0441\\u0442\\u0438\", \"\\u043f\\u0435\\u0440\\u0435\\u0441\\u0442\\u0430\\u0442\\u044c\", \"\\u043f\\u0435\\u0440\\u0435\\u0447\\u0435\\u043d\\u044c\", \"\\u043f\\u0438\\u0441\\u0430\\u0442\\u044c\", \"\\u043f\\u0438\\u0441\\u0430\\u0442\\u044c\", \"\\u043f\\u0438\\u0441\\u0430\\u0442\\u044c\", \"\\u043f\\u0438\\u0441\\u044c\\u043c\\u0435\\u043d\\u043d\\u044b\\u0439\", \"\\u043f\\u0438\\u0441\\u044c\\u043c\\u043e\", \"\\u043f\\u0438\\u0441\\u044c\\u043c\\u043e\", \"\\u043f\\u0438\\u0449\\u0435\\u0432\\u043e\\u0439\", \"\\u043f\\u043b\\u0430\\u043d\\u0438\\u0440\\u043e\\u0432\\u0430\\u0442\\u044c\\u0441\\u044f\", \"\\u043f\\u043b\\u0430\\u0441\\u0442\\u0438\\u043a\\u043e\\u0432\\u044b\\u0439\", \"\\u043f\\u043b\\u043e\\u0449\\u0430\\u0434\\u043a\\u0430\", \"\\u043f\\u043b\\u043e\\u0449\\u0430\\u0434\\u043a\\u0430\", \"\\u043f\\u043e\\u0432\\u0442\\u043e\\u0440\\u043d\\u043e\", \"\\u043f\\u043e\\u0434\\u0430\\u0440\\u043e\\u0447\\u043d\\u044b\\u0439\", \"\\u043f\\u043e\\u0434\\u043a\\u043b\\u044e\\u0447\\u0435\\u043d\\u0438\\u0435\", \"\\u043f\\u043e\\u0434\\u043b\\u0435\\u0436\\u0430\\u0442\\u044c\", \"\\u043f\\u043e\\u0434\\u043e\\u0431\\u043d\\u044b\\u0439\", \"\\u043f\\u043e\\u0434\\u043e\\u0439\\u0442\\u0438\", \"\\u043f\\u043e\\u0434\\u043e\\u0439\\u0442\\u0438\", \"\\u043f\\u043e\\u0434\\u043f\\u0438\\u0441\\u043a\\u0430\", \"\\u043f\\u043e\\u0434\\u0441\\u043a\\u0430\\u0437\\u0430\\u0442\\u044c\", \"\\u043f\\u043e\\u0434\\u0441\\u043a\\u0430\\u0437\\u0430\\u0442\\u044c\", \"\\u043f\\u043e\\u0434\\u0441\\u043a\\u0430\\u0437\\u0430\\u0442\\u044c\", \"\\u043f\\u043e\\u0434\\u0441\\u043a\\u0430\\u0437\\u0430\\u0442\\u044c\", \"\\u043f\\u043e\\u0434\\u0442\\u0432\\u0435\\u0440\\u0436\\u0434\\u0430\\u0442\\u044c\", \"\\u043f\\u043e\\u0434\\u0442\\u0432\\u0435\\u0440\\u0436\\u0434\\u0435\\u043d\\u0438\\u0435\", \"\\u043f\\u043e\\u0434\\u044a\\u0435\\u0437\\u0434\", \"\\u043f\\u043e\\u0435\\u0437\\u0434\\u043a\\u0430\", \"\\u043f\\u043e\\u0436\\u0430\\u043b\\u0443\\u0439\\u0441\\u0442\\u0430\", \"\\u043f\\u043e\\u0436\\u0430\\u043b\\u0443\\u0439\\u0441\\u0442\\u0430\", \"\\u043f\\u043e\\u0436\\u0430\\u043b\\u0443\\u0439\\u0441\\u0442\\u0430\", \"\\u043f\\u043e\\u0436\\u0430\\u043b\\u0443\\u0439\\u0441\\u0442\\u0430\", \"\\u043f\\u043e\\u043a\\u0443\\u043f\\u0430\\u0442\\u0435\\u043b\\u044c\", \"\\u043f\\u043e\\u043a\\u0443\\u043f\\u0430\\u0442\\u0435\\u043b\\u044c\", \"\\u043f\\u043e\\u043a\\u0443\\u043f\\u043a\\u0430\", \"\\u043f\\u043e\\u043a\\u0443\\u043f\\u043a\\u0430\", \"\\u043f\\u043e\\u043a\\u0443\\u043f\\u043a\\u0430\", \"\\u043f\\u043e\\u043a\\u0443\\u043f\\u043a\\u0430\", \"\\u043f\\u043e\\u043b\\u0438\\u0441\", \"\\u043f\\u043e\\u043b\\u043d\\u044b\\u0439\", \"\\u043f\\u043e\\u043b\\u043d\\u044b\\u0439\", \"\\u043f\\u043e\\u043b\\u043d\\u044b\\u0439\", \"\\u043f\\u043e\\u043b\\u043d\\u044b\\u0439\", \"\\u043f\\u043e\\u043b\\u043e\\u0436\\u0438\\u0442\\u044c\", \"\\u043f\\u043e\\u043b\\u0443\\u0447\\u0435\\u043d\\u0438\\u0435\", \"\\u043f\\u043e\\u043b\\u0443\\u0447\\u0435\\u043d\\u0438\\u0435\", \"\\u043f\\u043e\\u043b\\u0443\\u0447\\u0438\\u0442\\u044c\", \"\\u043f\\u043e\\u043b\\u0443\\u0447\\u0438\\u0442\\u044c\", \"\\u043f\\u043e\\u043b\\u0443\\u0447\\u0438\\u0442\\u044c\", \"\\u043f\\u043e\\u043b\\u044c\\u0437\\u043e\\u0432\\u0430\\u0442\\u044c\\u0441\\u044f\", \"\\u043f\\u043e\\u043c\\u0435\\u0449\\u0435\\u043d\\u0438\\u0435\", \"\\u043f\\u043e\\u043c\\u043e\\u0449\\u044c\", \"\\u043f\\u043e\\u043c\\u043e\\u0449\\u044c\", \"\\u043f\\u043e\\u043d\\u044f\\u0442\\u044c\", \"\\u043f\\u043e\\u0441\\u0442\\u0430\\u043d\\u043e\\u0432\\u043b\\u0435\\u043d\\u0438\\u0435\", \"\\u043f\\u043e\\u0441\\u0442\\u043e\\u044f\\u043d\\u043d\\u043e\", \"\\u043f\\u043e\\u0441\\u0442\\u0443\\u043f\\u0430\\u0442\\u044c\", \"\\u043f\\u043e\\u0441\\u0442\\u0443\\u043f\\u0438\\u0442\\u044c\", \"\\u043f\\u043e\\u0442\\u0440\\u0435\\u0431\\u0438\\u0442\\u0435\\u043b\\u044c\", \"\\u043f\\u043e\\u0442\\u0440\\u0435\\u0431\\u0438\\u0442\\u0435\\u043b\\u044c\", \"\\u043f\\u043e\\u0442\\u0440\\u0435\\u0431\\u0438\\u0442\\u0435\\u043b\\u044c\", \"\\u043f\\u043e\\u0447\\u0442\\u0430\", \"\\u043f\\u043e\\u0447\\u0442\\u0430\", \"\\u043f\\u043e\\u0447\\u0442\\u0430\", \"\\u043f\\u0440\\u0430\\u0432\\u0438\\u043b\\u043e\", \"\\u043f\\u0440\\u0430\\u0432\\u0438\\u043b\\u043e\", \"\\u043f\\u0440\\u0430\\u0432\\u0438\\u0442\\u0435\\u043b\\u044c\\u0441\\u0442\\u0432\\u043e\", \"\\u043f\\u0440\\u0435\\u0434\\u043b\\u043e\\u0436\\u0435\\u043d\\u0438\\u0435\", \"\\u043f\\u0440\\u0435\\u0434\\u043e\\u043f\\u043b\\u0430\\u0442\\u0430\", \"\\u043f\\u0440\\u0435\\u0434\\u043e\\u0441\\u0442\\u0430\\u0432\\u043b\\u044f\\u0442\\u044c\\u0441\\u044f\", \"\\u043f\\u0440\\u0435\\u0434\\u043f\\u0440\\u0438\\u044f\\u0442\\u0438\\u0435\", \"\\u043f\\u0440\\u0438\\u0439\\u0442\\u0438\", \"\\u043f\\u0440\\u0438\\u0439\\u0442\\u0438\", \"\\u043f\\u0440\\u0438\\u0439\\u0442\\u0438\", \"\\u043f\\u0440\\u0438\\u0439\\u0442\\u0438\", \"\\u043f\\u0440\\u0438\\u043c\\u0435\\u0440\\u043d\\u043e\", \"\\u043f\\u0440\\u0438\\u043d\\u044f\\u0442\\u044c\", \"\\u043f\\u0440\\u0438\\u043d\\u044f\\u0442\\u044c\", \"\\u043f\\u0440\\u0438\\u043d\\u044f\\u0442\\u044c\", \"\\u043f\\u0440\\u0438\\u043d\\u044f\\u0442\\u044c\", \"\\u043f\\u0440\\u0438\\u043d\\u044f\\u0442\\u044c\", \"\\u043f\\u0440\\u0438\\u043e\\u0431\\u0440\\u0435\\u0441\\u0442\\u0438\", \"\\u043f\\u0440\\u0438\\u043e\\u0431\\u0440\\u0435\\u0441\\u0442\\u0438\", \"\\u043f\\u0440\\u0438\\u043e\\u0431\\u0440\\u0435\\u0441\\u0442\\u0438\", \"\\u043f\\u0440\\u0438\\u043e\\u0431\\u0440\\u0435\\u0441\\u0442\\u0438\", \"\\u043f\\u0440\\u0438\\u043e\\u0431\\u0440\\u0435\\u0442\\u0430\\u0442\\u044c\", \"\\u043f\\u0440\\u0438\\u043e\\u0431\\u0440\\u0435\\u0442\\u0435\\u043d\\u0438\\u0435\", \"\\u043f\\u0440\\u0438\\u0441\\u043b\\u0430\\u0442\\u044c\", \"\\u043f\\u0440\\u0438\\u0441\\u043b\\u0430\\u0442\\u044c\", \"\\u043f\\u0440\\u0438\\u0445\\u043e\\u0434\\u0438\\u0442\\u044c\\u0441\\u044f\", \"\\u043f\\u0440\\u043e\\u0431\\u043b\\u0435\\u043c\\u0430\", \"\\u043f\\u0440\\u043e\\u0431\\u043b\\u0435\\u043c\\u0430\", \"\\u043f\\u0440\\u043e\\u0431\\u043b\\u0435\\u043c\\u0430\", \"\\u043f\\u0440\\u043e\\u0431\\u043b\\u0435\\u043c\\u0430\", \"\\u043f\\u0440\\u043e\\u0431\\u043b\\u0435\\u043c\\u0430\", \"\\u043f\\u0440\\u043e\\u0432\\u0435\\u0434\\u0435\\u043d\\u0438\\u0435\", \"\\u043f\\u0440\\u043e\\u0432\\u0435\\u0434\\u0435\\u043d\\u0438\\u0435\", \"\\u043f\\u0440\\u043e\\u0432\\u0435\\u0440\\u0438\\u0442\\u044c\", \"\\u043f\\u0440\\u043e\\u0432\\u0435\\u0440\\u0438\\u0442\\u044c\", \"\\u043f\\u0440\\u043e\\u0432\\u0435\\u0440\\u0438\\u0442\\u044c\", \"\\u043f\\u0440\\u043e\\u0432\\u0435\\u0440\\u043a\\u0430\", \"\\u043f\\u0440\\u043e\\u0432\\u0435\\u0440\\u043a\\u0430\", \"\\u043f\\u0440\\u043e\\u0432\\u0435\\u0440\\u043a\\u0430\", \"\\u043f\\u0440\\u043e\\u0432\\u0435\\u0440\\u043a\\u0430\", \"\\u043f\\u0440\\u043e\\u0432\\u0435\\u0440\\u043a\\u0430\", \"\\u043f\\u0440\\u043e\\u0432\\u0435\\u0441\\u0442\\u0438\", \"\\u043f\\u0440\\u043e\\u0432\\u0435\\u0441\\u0442\\u0438\", \"\\u043f\\u0440\\u043e\\u0432\\u0435\\u0441\\u0442\\u0438\", \"\\u043f\\u0440\\u043e\\u0432\\u0435\\u0441\\u0442\\u0438\", \"\\u043f\\u0440\\u043e\\u0432\\u0435\\u0441\\u0442\\u0438\", \"\\u043f\\u0440\\u043e\\u0432\\u043e\\u0434\\u0438\\u0442\\u044c\", \"\\u043f\\u0440\\u043e\\u0432\\u043e\\u0434\\u0438\\u0442\\u044c\\u0441\\u044f\", \"\\u043f\\u0440\\u043e\\u0434\\u0430\\u0432\\u0430\\u0442\\u044c\", \"\\u043f\\u0440\\u043e\\u0434\\u0430\\u0432\\u0435\\u0446\", \"\\u043f\\u0440\\u043e\\u0434\\u0430\\u0432\\u0435\\u0446\", \"\\u043f\\u0440\\u043e\\u0434\\u0430\\u0432\\u0435\\u0446\", \"\\u043f\\u0440\\u043e\\u0434\\u0430\\u0436\\u0430\", \"\\u043f\\u0440\\u043e\\u0434\\u0430\\u0436\\u0430\", \"\\u043f\\u0440\\u043e\\u0434\\u0430\\u0436\\u0430\", \"\\u043f\\u0440\\u043e\\u0434\\u0430\\u0436\\u0430\", \"\\u043f\\u0440\\u043e\\u0434\\u0430\\u0442\\u044c\", \"\\u043f\\u0440\\u043e\\u0434\\u0443\\u043a\\u0442\", \"\\u043f\\u0440\\u043e\\u0434\\u0443\\u043a\\u0446\\u0438\\u044f\", \"\\u043f\\u0440\\u043e\\u0434\\u0443\\u043a\\u0446\\u0438\\u044f\", \"\\u043f\\u0440\\u043e\\u0434\\u0443\\u043a\\u0446\\u0438\\u044f\", \"\\u043f\\u0440\\u043e\\u0436\\u0438\\u0432\\u0430\\u043d\\u0438\\u0435\", \"\\u043f\\u0440\\u043e\\u0436\\u0438\\u0432\\u0430\\u0442\\u044c\", \"\\u043f\\u0440\\u043e\\u0438\\u0437\\u0432\\u043e\\u0434\\u0438\\u0442\\u0435\\u043b\\u044c\", \"\\u043f\\u0440\\u043e\\u0438\\u0437\\u0432\\u043e\\u0434\\u0438\\u0442\\u0435\\u043b\\u044c\", \"\\u043f\\u0440\\u043e\\u0438\\u0437\\u0432\\u043e\\u0434\\u0438\\u0442\\u0435\\u043b\\u044c\", \"\\u043f\\u0440\\u043e\\u0438\\u0437\\u0432\\u043e\\u0434\\u0441\\u0442\\u0432\\u0435\\u043d\\u043d\\u044b\\u0439\", \"\\u043f\\u0440\\u043e\\u0438\\u0437\\u0432\\u043e\\u0434\\u0441\\u0442\\u0432\\u043e\", \"\\u043f\\u0440\\u043e\\u0438\\u0437\\u043e\\u0439\\u0442\\u0438\", \"\\u043f\\u0440\\u043e\\u0438\\u0441\\u0445\\u043e\\u0434\\u0438\\u0442\\u044c\", \"\\u043f\\u0440\\u043e\\u0441\\u043f\\u0435\\u043a\\u0442\", \"\\u043f\\u0440\\u043e\\u0441\\u0442\\u043e\", \"\\u043f\\u0440\\u043e\\u0441\\u0442\\u043e\", \"\\u043f\\u0440\\u043e\\u0441\\u0442\\u043e\", \"\\u043f\\u0440\\u043e\\u0441\\u0442\\u043e\", \"\\u043f\\u0440\\u043e\\u0441\\u0442\\u043e\", \"\\u043f\\u0440\\u043e\\u0441\\u044c\\u0431\\u0430\", \"\\u043f\\u0440\\u043e\\u0441\\u044c\\u0431\\u0430\", \"\\u043f\\u0440\\u043e\\u0441\\u044c\\u0431\\u0430\", \"\\u043f\\u0440\\u043e\\u0441\\u044c\\u0431\\u0430\", \"\\u043f\\u0440\\u043e\\u0441\\u044c\\u0431\\u0430\", \"\\u043f\\u0440\\u043e\\u0441\\u044c\\u0431\\u0430\", \"\\u043f\\u0440\\u043e\\u0442\\u044f\\u0436\\u0435\\u043d\\u0438\\u0435\", \"\\u043f\\u0443\\u043d\\u043a\\u0442\", \"\\u0440\\u0430\\u0431\\u043e\\u0442\\u0430\", \"\\u0440\\u0430\\u0431\\u043e\\u0442\\u0430\", \"\\u0440\\u0430\\u0431\\u043e\\u0442\\u0430\", \"\\u0440\\u0430\\u0431\\u043e\\u0442\\u0430\", \"\\u0440\\u0430\\u0431\\u043e\\u0442\\u0430\", \"\\u0440\\u0430\\u0431\\u043e\\u0442\\u0430\", \"\\u0440\\u0430\\u0431\\u043e\\u0442\\u0430\", \"\\u0440\\u0430\\u0431\\u043e\\u0442\\u0430\", \"\\u0440\\u0430\\u0431\\u043e\\u0442\\u0430\\u0442\\u044c\", \"\\u0440\\u0430\\u0431\\u043e\\u0442\\u0430\\u0442\\u044c\", \"\\u0440\\u0430\\u0431\\u043e\\u0442\\u0430\\u0442\\u044c\", \"\\u0440\\u0430\\u0431\\u043e\\u0442\\u0430\\u0442\\u044c\", \"\\u0440\\u0430\\u0431\\u043e\\u0442\\u043d\\u0438\\u043a\", \"\\u0440\\u0430\\u0437\\u043c\\u0435\\u0440\", \"\\u0440\\u0430\\u0437\\u043c\\u0435\\u0440\", \"\\u0440\\u0430\\u0437\\u043c\\u0435\\u0440\", \"\\u0440\\u0430\\u0437\\u043c\\u0435\\u0440\", \"\\u0440\\u0430\\u0437\\u043d\\u0438\\u0446\\u0430\", \"\\u0440\\u0430\\u0437\\u044a\\u044f\\u0441\\u043d\\u0438\\u0442\\u044c\", \"\\u0440\\u0430\\u0439\\u043e\\u043d\", \"\\u0440\\u0430\\u0439\\u043e\\u043d\", \"\\u0440\\u0430\\u043d\\u043d\\u0438\\u0439\", \"\\u0440\\u0430\\u0441\\u043f\\u0438\\u0441\\u0430\\u043d\\u0438\\u0435\", \"\\u0440\\u0430\\u0441\\u043f\\u043e\\u043b\\u043e\\u0436\\u0438\\u0442\\u044c\", \"\\u0440\\u0430\\u0441\\u0441\\u0440\\u043e\\u0447\\u043a\\u0430\", \"\\u0440\\u0430\\u0441\\u0442\\u043e\\u0440\\u0436\\u0435\\u043d\\u0438\\u0435\", \"\\u0440\\u0430\\u0441\\u0447\\u0451\\u0442\", \"\\u0440\\u0435\\u0430\\u0433\\u0438\\u0440\\u043e\\u0432\\u0430\\u0442\\u044c\", \"\\u0440\\u0435\\u0431\\u0451\\u043d\\u043e\\u043a\", \"\\u0440\\u0435\\u0433\\u0438\\u0441\\u0442\\u0440\\u0430\\u0446\\u0438\\u044f\", \"\\u0440\\u0435\\u0433\\u0438\\u0441\\u0442\\u0440\\u0430\\u0446\\u0438\\u044f\", \"\\u0440\\u0435\\u0436\\u0438\\u043c\", \"\\u0440\\u0435\\u0437\\u0443\\u043b\\u044c\\u0442\\u0430\\u0442\", \"\\u0440\\u0435\\u0437\\u0443\\u043b\\u044c\\u0442\\u0430\\u0442\", \"\\u0440\\u0435\\u0437\\u0443\\u043b\\u044c\\u0442\\u0430\\u0442\", \"\\u0440\\u0435\\u0437\\u0443\\u043b\\u044c\\u0442\\u0430\\u0442\", \"\\u0440\\u0435\\u0439\\u0441\", \"\\u0440\\u0435\\u043c\\u043e\\u043d\\u0442\", \"\\u0440\\u0435\\u0448\\u0435\\u043d\\u0438\\u0435\", \"\\u0440\\u0435\\u0448\\u0435\\u043d\\u0438\\u0435\", \"\\u0440\\u0435\\u0448\\u0435\\u043d\\u0438\\u0435\", \"\\u0440\\u043e\\u0441\\u0441\\u0438\\u0439\\u0441\\u043a\\u0438\\u0439\", \"\\u0440\\u043e\\u0441\\u0442\\u0435\\u043b\\u0435\\u043a\\u043e\\u043c\", \"\\u0440\\u0443\\u0431\", \"\\u0440\\u0443\\u0431\", \"\\u0440\\u0443\\u0431\", \"\\u0440\\u0443\\u0431\\u043b\\u044c\", \"\\u0440\\u0443\\u0431\\u043b\\u044c\", \"\\u0440\\u0443\\u0431\\u043b\\u044c\", \"\\u0440\\u0443\\u0431\\u043b\\u044c\", \"\\u0440\\u0443\\u0431\\u043b\\u044c\", \"\\u0440\\u0443\\u043a\\u0430\", \"\\u0440\\u044b\\u043d\\u043e\\u043a\", \"\\u0440\\u044f\\u0434\\u043e\\u043c\", \"\\u0441\\u0430\\u0434\", \"\\u0441\\u0430\\u0439\\u0442\", \"\\u0441\\u0430\\u0439\\u0442\", \"\\u0441\\u0430\\u043b\\u043e\\u043d\", \"\\u0441\\u0430\\u043d\\u0438\\u0442\\u0430\\u0440\\u043d\\u044b\\u0439\", \"\\u0441\\u0430\\u043d\\u0438\\u0442\\u0430\\u0440\\u043d\\u044b\\u0439\", \"\\u0441\\u0430\\u043d\\u0438\\u0442\\u0430\\u0440\\u043d\\u044b\\u0439\", \"\\u0441\\u0430\\u043d\\u0442\\u0435\\u0445\\u043d\\u0438\\u043a\", \"\\u0441\\u0431\\u0435\\u0440\\u0431\\u0430\\u043d\\u043a\", \"\\u0441\\u0431\\u0435\\u0440\\u043c\\u0435\\u0433\\u0430\\u043c\\u0430\\u0440\\u043a\\u0435\\u0442\", \"\\u0441\\u0432\\u043e\\u0439\", \"\\u0441\\u0432\\u043e\\u0439\", \"\\u0441\\u0432\\u043e\\u0439\", \"\\u0441\\u0432\\u043e\\u0439\", \"\\u0441\\u0432\\u043e\\u0439\", \"\\u0441\\u0432\\u043e\\u0439\", \"\\u0441\\u0432\\u044f\\u0437\\u0430\\u0442\\u044c\\u0441\\u044f\", \"\\u0441\\u0432\\u044f\\u0437\\u0430\\u0442\\u044c\\u0441\\u044f\", \"\\u0441\\u0432\\u044f\\u0437\\u044c\", \"\\u0441\\u0432\\u044f\\u0437\\u044c\", \"\\u0441\\u0432\\u044f\\u0437\\u044c\", \"\\u0441\\u0432\\u044f\\u0437\\u044c\", \"\\u0441\\u0434\\u0430\\u0442\\u044c\", \"\\u0441\\u0434\\u0435\\u043b\\u0430\\u0442\\u044c\", \"\\u0441\\u0434\\u0435\\u043b\\u0430\\u0442\\u044c\", \"\\u0441\\u0434\\u0435\\u043b\\u0430\\u0442\\u044c\", \"\\u0441\\u0434\\u0435\\u043b\\u0430\\u0442\\u044c\", \"\\u0441\\u0434\\u0435\\u043b\\u0430\\u0442\\u044c\", \"\\u0441\\u0434\\u0435\\u043b\\u0430\\u0442\\u044c\", \"\\u0441\\u0435\\u0433\\u043e\\u0434\\u043d\\u044f\", \"\\u0441\\u0435\\u0433\\u043e\\u0434\\u043d\\u044f\", \"\\u0441\\u0435\\u0433\\u043e\\u0434\\u043d\\u044f\", \"\\u0441\\u0435\\u0433\\u043e\\u0434\\u043d\\u044f\\u0448\\u043d\\u0438\\u0439\", \"\\u0441\\u0435\\u0439\", \"\\u0441\\u0435\\u0439\", \"\\u0441\\u0435\\u043d\\u0442\\u044f\\u0431\\u0440\\u044c\", \"\\u0441\\u0435\\u0440\\u0432\\u0438\\u0441\\u043d\\u044b\\u0439\", \"\\u0441\\u0435\\u0440\\u0442\\u0438\\u0444\\u0438\\u043a\\u0430\\u0442\", \"\\u0441\\u0435\\u0442\\u044c\", \"\\u0441\\u0435\\u0442\\u044c\", \"\\u0441\\u0438\\u0441\\u0442\\u0435\\u043c\\u0430\", \"\\u0441\\u0438\\u0441\\u0442\\u0435\\u043c\\u0430\", \"\\u0441\\u0438\\u0441\\u0442\\u0435\\u043c\\u0430\", \"\\u0441\\u0438\\u0442\\u0443\\u0430\\u0446\\u0438\\u044f\", \"\\u0441\\u0438\\u0442\\u0443\\u0430\\u0446\\u0438\\u044f\", \"\\u0441\\u0438\\u0442\\u0443\\u0430\\u0446\\u0438\\u044f\", \"\\u0441\\u0438\\u0442\\u0443\\u0430\\u0446\\u0438\\u044f\", \"\\u0441\\u0438\\u0442\\u0443\\u0430\\u0446\\u0438\\u044f\", \"\\u0441\\u0438\\u0442\\u0443\\u0430\\u0446\\u0438\\u044f\", \"\\u0441\\u0438\\u0442\\u0443\\u0430\\u0446\\u0438\\u044f\", \"\\u0441\\u043a\\u0438\\u0434\\u043a\\u0430\", \"\\u0441\\u043a\\u043e\\u043b\\u044c\\u043a\\u043e\", \"\\u0441\\u043a\\u043e\\u043b\\u044c\\u043a\\u043e\", \"\\u0441\\u043b\\u043e\\u0436\\u0438\\u0442\\u044c\\u0441\\u044f\", \"\\u0441\\u043b\\u043e\\u043c\\u0430\\u0442\\u044c\\u0441\\u044f\", \"\\u0441\\u043b\\u0443\\u0447\\u0430\\u0439\", \"\\u0441\\u043b\\u0443\\u0447\\u0430\\u0439\", \"\\u0441\\u043b\\u0443\\u0447\\u0430\\u0439\", \"\\u0441\\u043b\\u0443\\u0447\\u0430\\u0439\", \"\\u0441\\u043b\\u0443\\u0447\\u0430\\u0439\", \"\\u0441\\u043b\\u0443\\u0447\\u0430\\u0439\", \"\\u0441\\u043c\\u043e\\u0447\\u044c\", \"\\u0441\\u043c\\u0441\", \"\\u0441\\u043d\\u0438\\u043c\\u0430\\u0442\\u044c\", \"\\u0441\\u043d\\u044f\\u0442\\u044c\", \"\\u0441\\u043e\\u0431\\u043b\\u044e\\u0434\\u0435\\u043d\\u0438\\u0435\", \"\\u0441\\u043e\\u0431\\u0441\\u0442\\u0432\\u0435\\u043d\\u043d\\u0438\\u043a\", \"\\u0441\\u043e\\u0431\\u0441\\u0442\\u0432\\u0435\\u043d\\u043d\\u044b\\u0439\", \"\\u0441\\u043e\\u0433\\u043b\\u0430\\u0441\\u0438\\u0435\", \"\\u0441\\u043e\\u0433\\u043b\\u0430\\u0441\\u0438\\u0435\", \"\\u0441\\u043e\\u0433\\u043b\\u0430\\u0448\\u0435\\u043d\\u0438\\u0435\", \"\\u0441\\u043e\\u0436\\u0430\\u043b\\u0435\\u043d\\u0438\\u0435\", \"\\u0441\\u043e\\u043e\\u0431\\u0449\\u0430\\u0442\\u044c\", \"\\u0441\\u043e\\u043e\\u0442\\u0432\\u0435\\u0442\\u0441\\u0442\\u0432\\u0435\\u043d\\u043d\\u043e\", \"\\u0441\\u043e\\u043e\\u0442\\u0432\\u0435\\u0442\\u0441\\u0442\\u0432\\u0438\\u0435\", \"\\u0441\\u043e\\u043e\\u0442\\u0432\\u0435\\u0442\\u0441\\u0442\\u0432\\u043e\\u0432\\u0430\\u0442\\u044c\", \"\\u0441\\u043e\\u0441\\u0435\\u0434\", \"\\u0441\\u043e\\u0441\\u0442\\u0430\\u0432\", \"\\u0441\\u043e\\u0441\\u0442\\u043e\\u044f\\u0442\\u044c\\u0441\\u044f\", \"\\u0441\\u043e\\u0442\\u0440\\u0443\\u0434\\u043d\\u0438\\u043a\", \"\\u0441\\u043e\\u0442\\u0440\\u0443\\u0434\\u043d\\u0438\\u043a\", \"\\u0441\\u043e\\u0442\\u0440\\u0443\\u0434\\u043d\\u0438\\u043a\", \"\\u0441\\u043e\\u0442\\u0440\\u0443\\u0434\\u043d\\u0438\\u043a\", \"\\u0441\\u043e\\u0442\\u0440\\u0443\\u0434\\u043d\\u0438\\u043a\", \"\\u0441\\u043e\\u0445\\u0440\\u0430\\u043d\\u0438\\u0442\\u044c\", \"\\u0441\\u043e\\u0446\\u0438\\u0430\\u043b\\u044c\\u043d\\u044b\\u0439\", \"\\u0441\\u043f\\u0435\\u0446\\u0438\\u0430\\u043b\\u0438\\u0441\\u0442\", \"\\u0441\\u043f\\u0438\\u0441\\u0430\\u0442\\u044c\", \"\\u0441\\u043f\\u0438\\u0441\\u043e\\u043a\", \"\\u0441\\u043f\\u0440\\u0430\\u0432\\u043a\\u0430\", \"\\u0441\\u0440\\u0435\\u0434\\u0441\\u0442\\u0432\\u043e\", \"\\u0441\\u0440\\u0435\\u0434\\u0441\\u0442\\u0432\\u043e\", \"\\u0441\\u0440\\u0435\\u0434\\u0441\\u0442\\u0432\\u043e\", \"\\u0441\\u0440\\u043e\\u043a\", \"\\u0441\\u0440\\u043e\\u043a\", \"\\u0441\\u0440\\u043e\\u043a\", \"\\u0441\\u0440\\u043e\\u043a\", \"\\u0441\\u0440\\u043e\\u043a\", \"\\u0441\\u0441\\u044b\\u043b\\u043a\\u0430\", \"\\u0441\\u0442\\u0430\\u0442\\u044c\", \"\\u0441\\u0442\\u0430\\u0442\\u044c\", \"\\u0441\\u0442\\u0430\\u0442\\u044c\", \"\\u0441\\u0442\\u0430\\u0442\\u044c\", \"\\u0441\\u0442\\u0430\\u0442\\u044c\", \"\\u0441\\u0442\\u0430\\u0442\\u044c\\u044f\", \"\\u0441\\u0442\\u043e\\u0438\\u043c\\u043e\\u0441\\u0442\\u044c\", \"\\u0441\\u0442\\u043e\\u0438\\u043c\\u043e\\u0441\\u0442\\u044c\", \"\\u0441\\u0442\\u043e\\u0438\\u043c\\u043e\\u0441\\u0442\\u044c\", \"\\u0441\\u0442\\u043e\\u0438\\u043c\\u043e\\u0441\\u0442\\u044c\", \"\\u0441\\u0442\\u043e\\u0438\\u043c\\u043e\\u0441\\u0442\\u044c\", \"\\u0441\\u0442\\u043e\\u0438\\u043c\\u043e\\u0441\\u0442\\u044c\", \"\\u0441\\u0442\\u043e\\u0438\\u0442\\u044c\", \"\\u0441\\u0442\\u043e\\u0438\\u0442\\u044c\", \"\\u0441\\u0442\\u043e\\u0438\\u0442\\u044c\", \"\\u0441\\u0442\\u043e\\u0440\\u043e\\u043d\\u0430\", \"\\u0441\\u0442\\u043e\\u0440\\u043e\\u043d\\u0430\", \"\\u0441\\u0442\\u043e\\u0440\\u043e\\u043d\\u0430\", \"\\u0441\\u0442\\u0440\\u043e\\u0438\\u0442\\u0435\\u043b\\u044c\\u043d\\u044b\\u0439\", \"\\u0441\\u0443\\u043c\\u043c\\u0430\", \"\\u0441\\u0443\\u043c\\u043c\\u0430\", \"\\u0441\\u0443\\u043c\\u043c\\u0430\", \"\\u0441\\u0443\\u043c\\u043c\\u0430\", \"\\u0441\\u0443\\u0442\\u043a\\u0438\", \"\\u0441\\u0447\\u0438\\u0442\\u0430\\u0442\\u044c\\u0441\\u044f\", \"\\u0441\\u0447\\u0451\\u0442\", \"\\u0441\\u0447\\u0451\\u0442\", \"\\u0441\\u0447\\u0451\\u0442\", \"\\u0442\\u0430\\u043a\\u0436\\u0435\", \"\\u0442\\u0430\\u043a\\u0436\\u0435\", \"\\u0442\\u0430\\u043a\\u0436\\u0435\", \"\\u0442\\u0430\\u043a\\u0436\\u0435\", \"\\u0442\\u0430\\u043a\\u0436\\u0435\", \"\\u0442\\u0430\\u043a\\u0436\\u0435\", \"\\u0442\\u0430\\u0440\\u0430\\u043a\\u0430\\u043d\", \"\\u0442\\u0430\\u0440\\u0438\\u0444\", \"\\u0442\\u0430\\u0440\\u0438\\u0444\", \"\\u0442\\u0435\\u043b\\u0435\\u0444\\u043e\\u043d\", \"\\u0442\\u0435\\u043b\\u0435\\u0444\\u043e\\u043d\", \"\\u0442\\u0435\\u043b\\u0435\\u0444\\u043e\\u043d\", \"\\u0442\\u0435\\u043b\\u0435\\u0444\\u043e\\u043d\", \"\\u0442\\u0435\\u043b\\u0435\\u0444\\u043e\\u043d\", \"\\u0442\\u0435\\u043b\\u0435\\u0444\\u043e\\u043d\", \"\\u0442\\u0435\\u043b\\u043e\", \"\\u0442\\u0435\\u043c\\u043f\\u0435\\u0440\\u0430\\u0442\\u0443\\u0440\\u0430\", \"\\u0442\\u0435\\u0441\\u0442\", \"\\u0442\\u0435\\u0445\\u043d\\u0438\\u043a\\u0430\", \"\\u0442\\u0435\\u0445\\u043d\\u0438\\u043a\\u0430\", \"\\u0442\\u0435\\u0445\\u043d\\u0438\\u0447\\u0435\\u0441\\u043a\\u0438\\u0439\", \"\\u0442\\u0435\\u0445\\u043d\\u0438\\u0447\\u0435\\u0441\\u043a\\u0438\\u0439\", \"\\u0442\\u0435\\u0445\\u043d\\u0438\\u0447\\u0435\\u0441\\u043a\\u0438\\u0439\", \"\\u0442\\u043e\\u0432\\u0430\\u0440\", \"\\u0442\\u043e\\u0432\\u0430\\u0440\", \"\\u0442\\u043e\\u0440\\u0433\\u043e\\u0432\\u044b\\u0439\", \"\\u0442\\u043e\\u0447\\u043a\\u0430\", \"\\u0442\\u0440\\u0435\\u0431\\u043e\\u0432\\u0430\\u043d\\u0438\\u0435\", \"\\u0442\\u0440\\u0435\\u0431\\u043e\\u0432\\u0430\\u043d\\u0438\\u0435\", \"\\u0442\\u0440\\u0435\\u0431\\u043e\\u0432\\u0430\\u043d\\u0438\\u0435\", \"\\u0442\\u0440\\u0435\\u0431\\u043e\\u0432\\u0430\\u043d\\u0438\\u0435\", \"\\u0442\\u0440\\u0435\\u0431\\u043e\\u0432\\u0430\\u0442\\u044c\", \"\\u0442\\u0440\\u0443\\u0431\\u043a\\u0430\", \"\\u0442\\u0443\\u0430\\u043b\\u0435\\u0442\", \"\\u0443\\u0432\\u0430\\u0436\\u0435\\u043d\\u0438\\u0435\", \"\\u0443\\u0432\\u0430\\u0436\\u0435\\u043d\\u0438\\u0435\", \"\\u0443\\u0432\\u0435\\u0434\\u043e\\u043c\\u0438\\u0442\\u044c\", \"\\u0443\\u043b\\u0438\\u0446\\u0430\", \"\\u0443\\u043f\\u0430\\u043a\\u043e\\u0432\\u043a\\u0430\", \"\\u0443\\u043f\\u0440\\u0430\\u0432\\u043b\\u044f\\u0442\\u044c\", \"\\u0443\\u0441\\u043b\\u043e\\u0432\\u0438\\u0435\", \"\\u0443\\u0441\\u043b\\u043e\\u0432\\u0438\\u0435\", \"\\u0443\\u0441\\u043b\\u043e\\u0432\\u0438\\u0435\", \"\\u0443\\u0441\\u043b\\u043e\\u0432\\u0438\\u0435\", \"\\u0443\\u0441\\u043b\\u043e\\u0432\\u0438\\u0435\", \"\\u0443\\u0441\\u043b\\u043e\\u0432\\u0438\\u0435\", \"\\u0443\\u0441\\u043b\\u043e\\u0432\\u0438\\u0435\", \"\\u0443\\u0441\\u043b\\u043e\\u0432\\u0438\\u0435\", \"\\u0443\\u0441\\u043b\\u0443\\u0433\\u0430\", \"\\u0443\\u0441\\u043b\\u0443\\u0433\\u0430\", \"\\u0443\\u0441\\u043b\\u0443\\u0433\\u0430\", \"\\u0443\\u0441\\u043b\\u0443\\u0433\\u0430\", \"\\u0443\\u0441\\u043b\\u0443\\u0433\\u0430\", \"\\u0443\\u0441\\u043b\\u0443\\u0433\\u0430\", \"\\u0443\\u0441\\u0442\\u0440\\u0430\\u043d\\u0438\\u0442\\u044c\", \"\\u0443\\u0441\\u0442\\u0440\\u043e\\u0438\\u0442\\u044c\", \"\\u0443\\u0441\\u0442\\u0440\\u043e\\u0439\\u0441\\u0442\\u0432\\u043e\", \"\\u0443\\u0442\\u0440\\u043e\", \"\\u0443\\u0442\\u0440\\u043e\", \"\\u0443\\u0447\\u0430\\u0441\\u0442\\u043e\\u043a\", \"\\u0444\\u0430\\u0439\\u043b\", \"\\u0444\\u0435\\u0434\\u0435\\u0440\\u0430\\u043b\\u044c\\u043d\\u044b\\u0439\", \"\\u0444\\u0435\\u0434\\u0435\\u0440\\u0430\\u0446\\u0438\\u044f\", \"\\u0444\\u0438\\u0437\\u0438\\u0447\\u0435\\u0441\\u043a\\u0438\\u0439\", \"\\u0444\\u0438\\u0440\\u043c\\u0430\", \"\\u0444\\u0438\\u0440\\u043c\\u0430\", \"\\u0444\\u043e\\u0442\\u043e\\u0433\\u0440\\u0430\\u0444\\u0438\\u044f\", \"\\u0445\\u043e\\u043b\\u043e\\u0434\\u0438\\u043b\\u044c\\u043d\\u0438\\u043a\", \"\\u0445\\u043e\\u043b\\u043e\\u0434\\u043d\\u044b\\u0439\", \"\\u0445\\u043e\\u0442\\u0435\\u0442\\u044c\", \"\\u0445\\u043e\\u0442\\u0435\\u0442\\u044c\", \"\\u0445\\u043e\\u0442\\u0435\\u0442\\u044c\", \"\\u0445\\u043e\\u0442\\u0435\\u0442\\u044c\", \"\\u0445\\u043e\\u0442\\u0435\\u0442\\u044c\", \"\\u0445\\u043e\\u0442\\u0435\\u0442\\u044c\", \"\\u0445\\u043e\\u0442\\u0435\\u0442\\u044c\", \"\\u0445\\u043e\\u0442\\u0435\\u0442\\u044c\\u0441\\u044f\", \"\\u0446\\u0432\\u0435\\u0442\", \"\\u0446\\u0435\\u043d\\u0430\", \"\\u0446\\u0435\\u043d\\u0430\", \"\\u0446\\u0435\\u043d\\u043d\\u0438\\u043a\", \"\\u0446\\u0435\\u043d\\u0442\\u0440\", \"\\u0447\\u0430\\u0441\", \"\\u0447\\u0430\\u0441\", \"\\u0447\\u0430\\u0441\", \"\\u0447\\u0430\\u0441\\u0442\\u044c\", \"\\u0447\\u0430\\u0441\\u044b\", \"\\u0447\\u0435\\u043a\", \"\\u0447\\u0435\\u043a\", \"\\u0447\\u0435\\u043a\", \"\\u0447\\u0435\\u043a\", \"\\u0447\\u0438\\u0441\\u043b\\u043e\", \"\\u0448\\u043a\\u043e\\u043b\\u0430\", \"\\u0448\\u0442\\u0440\\u0430\\u0444\", \"\\u0448\\u0443\\u043c\", \"\\u044d\\u043a\\u0441\\u043f\\u0435\\u0440\\u0442\\u0438\\u0437\\u0430\", \"\\u044d\\u043f\\u0438\\u0434\\u0435\\u043c\\u0438\\u043e\\u043b\\u043e\\u0433\\u0438\\u0447\\u0435\\u0441\\u043a\\u0438\\u0439\", \"\\u044d\\u0442\\u0430\\u0436\", \"\\u044e\\u0440\\u0438\\u0434\\u0438\\u0447\\u0435\\u0441\\u043a\\u0438\\u0439\", \"\\u044f\\u0432\\u043b\\u044f\\u0442\\u044c\\u0441\\u044f\", \"\\u044f\\u0432\\u043b\\u044f\\u0442\\u044c\\u0441\\u044f\", \"\\u044f\\u0432\\u043b\\u044f\\u0442\\u044c\\u0441\\u044f\", \"\\u044f\\u043d\\u0434\\u0435\\u043a\\u0441\"]}, \"R\": 30, \"lambda.step\": 0.01, \"plot.opts\": {\"xlab\": \"PC1\", \"ylab\": \"PC2\"}, \"topic.order\": [3, 2, 8, 4, 10, 5, 7, 1, 9, 6]};\n",
              "\n",
              "function LDAvis_load_lib(url, callback){\n",
              "  var s = document.createElement('script');\n",
              "  s.src = url;\n",
              "  s.async = true;\n",
              "  s.onreadystatechange = s.onload = callback;\n",
              "  s.onerror = function(){console.warn(\"failed to load library \" + url);};\n",
              "  document.getElementsByTagName(\"head\")[0].appendChild(s);\n",
              "}\n",
              "\n",
              "if(typeof(LDAvis) !== \"undefined\"){\n",
              "   // already loaded: just create the visualization\n",
              "   !function(LDAvis){\n",
              "       new LDAvis(\"#\" + \"ldavis_el1541397097415181767922234755\", ldavis_el1541397097415181767922234755_data);\n",
              "   }(LDAvis);\n",
              "}else if(typeof define === \"function\" && define.amd){\n",
              "   // require.js is available: use it to load d3/LDAvis\n",
              "   require.config({paths: {d3: \"https://d3js.org/d3.v5\"}});\n",
              "   require([\"d3\"], function(d3){\n",
              "      window.d3 = d3;\n",
              "      LDAvis_load_lib(\"https://cdn.jsdelivr.net/gh/bmabey/pyLDAvis@3.4.0/pyLDAvis/js/ldavis.v3.0.0.js\", function(){\n",
              "        new LDAvis(\"#\" + \"ldavis_el1541397097415181767922234755\", ldavis_el1541397097415181767922234755_data);\n",
              "      });\n",
              "    });\n",
              "}else{\n",
              "    // require.js not available: dynamically load d3 & LDAvis\n",
              "    LDAvis_load_lib(\"https://d3js.org/d3.v5.js\", function(){\n",
              "         LDAvis_load_lib(\"https://cdn.jsdelivr.net/gh/bmabey/pyLDAvis@3.4.0/pyLDAvis/js/ldavis.v3.0.0.js\", function(){\n",
              "                 new LDAvis(\"#\" + \"ldavis_el1541397097415181767922234755\", ldavis_el1541397097415181767922234755_data);\n",
              "            })\n",
              "         });\n",
              "}\n",
              "</script>"
            ]
          },
          "metadata": {},
          "execution_count": 22
        }
      ]
    },
    {
      "cell_type": "markdown",
      "source": [
        "Заносить слова в стоп-лист можно бесконечно))"
      ],
      "metadata": {
        "id": "MkpWySV-MHuV"
      }
    },
    {
      "cell_type": "code",
      "source": [
        "print('Персплексия: ', np.exp(lda.log_perplexity(corpus)))"
      ],
      "metadata": {
        "colab": {
          "base_uri": "https://localhost:8080/"
        },
        "id": "hN0b6qUMdMxl",
        "outputId": "2ff27bdf-5907-4a37-8379-e7ddf9074ac0"
      },
      "execution_count": 23,
      "outputs": [
        {
          "output_type": "stream",
          "name": "stderr",
          "text": [
            "/usr/local/lib/python3.9/dist-packages/ipykernel/ipkernel.py:283: DeprecationWarning: `should_run_async` will not call `transform_cell` automatically in the future. Please pass the result to `transformed_cell` argument and any exception that happen during thetransform in `preprocessing_exc_tuple` in IPython 7.17 and above.\n",
            "  and should_run_async(code)\n"
          ]
        },
        {
          "output_type": "stream",
          "name": "stdout",
          "text": [
            "Персплексия:  0.0008514631551782369\n"
          ]
        }
      ]
    },
    {
      "cell_type": "code",
      "source": [
        "import matplotlib.pyplot as plt\n",
        "%matplotlib inline"
      ],
      "metadata": {
        "id": "AF5lky-EZz0k",
        "colab": {
          "base_uri": "https://localhost:8080/"
        },
        "outputId": "47ea722f-27e4-4824-92d6-066733d5eea3"
      },
      "execution_count": 24,
      "outputs": [
        {
          "output_type": "stream",
          "name": "stderr",
          "text": [
            "/usr/local/lib/python3.9/dist-packages/ipykernel/ipkernel.py:283: DeprecationWarning: `should_run_async` will not call `transform_cell` automatically in the future. Please pass the result to `transformed_cell` argument and any exception that happen during thetransform in `preprocessing_exc_tuple` in IPython 7.17 and above.\n",
            "  and should_run_async(code)\n"
          ]
        }
      ]
    },
    {
      "cell_type": "code",
      "source": [
        "CoherenceModel(model=lda, texts=df['preprocessed_text'], dictionary=dictionary, coherence='u_mass').get_coherence()"
      ],
      "metadata": {
        "colab": {
          "base_uri": "https://localhost:8080/"
        },
        "id": "xEaIANteOxdJ",
        "outputId": "99808af8-bdc9-4595-f516-aee6108dcb02"
      },
      "execution_count": 25,
      "outputs": [
        {
          "output_type": "stream",
          "name": "stderr",
          "text": [
            "/usr/local/lib/python3.9/dist-packages/ipykernel/ipkernel.py:283: DeprecationWarning: `should_run_async` will not call `transform_cell` automatically in the future. Please pass the result to `transformed_cell` argument and any exception that happen during thetransform in `preprocessing_exc_tuple` in IPython 7.17 and above.\n",
            "  and should_run_async(code)\n"
          ]
        },
        {
          "output_type": "execute_result",
          "data": {
            "text/plain": [
              "-4.418228268122287"
            ]
          },
          "metadata": {},
          "execution_count": 25
        }
      ]
    },
    {
      "cell_type": "code",
      "source": [
        "topics_list = list(range(3, 26))\n",
        "coherences = []\n",
        "\n",
        "for num in tqdm(topics_list):\n",
        "    lda = ldamodel.LdaModel(corpus, id2word=dictionary, num_topics=num, chunksize=150, update_every=1, passes=3)\n",
        "    coherences.append(CoherenceModel(model=lda, texts=df['preprocessed_text'], dictionary=dictionary, coherence='u_mass').get_coherence())\n",
        "\n",
        "plt.plot(topics_list, coherences)\n",
        "plt.xlabel(\"Число тем\")\n",
        "plt.ylabel(\"Средняя когерентность\")\n",
        "plt.show()"
      ],
      "metadata": {
        "colab": {
          "base_uri": "https://localhost:8080/",
          "height": 536,
          "referenced_widgets": [
            "c3408601446b4206a8c725d39b77fe77",
            "51a5eeef4daa4bd8894489dd4e77386b",
            "e7486682614945d0be6017dfa7f49adc",
            "fb0a0ef5d85d43a385da298999d373cd",
            "9693d02c0f564ec1afb2552c06582920",
            "a67d045cc4e74be1b7051f2ae83e3464",
            "01061e7c374f4601ad38364f34fabb24",
            "b484151f0a834bad84fe52fea98cc941",
            "a3b701d1348c4ff09f76f47d8e82dfbe",
            "88d6771fc1434c69870e7679f550c90e",
            "d4c14f9ca00a4767aee25b352105a57e"
          ]
        },
        "id": "HhO3ogxqZ0RK",
        "outputId": "1f7e94ad-80b4-4793-85f1-1b5b07c30a3b"
      },
      "execution_count": 26,
      "outputs": [
        {
          "output_type": "stream",
          "name": "stderr",
          "text": [
            "/usr/local/lib/python3.9/dist-packages/ipykernel/ipkernel.py:283: DeprecationWarning: `should_run_async` will not call `transform_cell` automatically in the future. Please pass the result to `transformed_cell` argument and any exception that happen during thetransform in `preprocessing_exc_tuple` in IPython 7.17 and above.\n",
            "  and should_run_async(code)\n"
          ]
        },
        {
          "output_type": "display_data",
          "data": {
            "text/plain": [
              "  0%|          | 0/23 [00:00<?, ?it/s]"
            ],
            "application/vnd.jupyter.widget-view+json": {
              "version_major": 2,
              "version_minor": 0,
              "model_id": "c3408601446b4206a8c725d39b77fe77"
            }
          },
          "metadata": {}
        },
        {
          "output_type": "display_data",
          "data": {
            "text/plain": [
              "<Figure size 640x480 with 1 Axes>"
            ],
            "image/png": "[encoded data removed]"
          },
          "metadata": {}
        }
      ]
    },
    {
      "cell_type": "markdown",
      "source": [
        "Выбираю оптимальным делить вопросы на 6 тем."
      ],
      "metadata": {
        "id": "_N-0cTERf2dL"
      }
    },
    {
      "cell_type": "code",
      "source": [
        "lda = ldamodel.LdaModel(corpus, id2word=dictionary, num_topics=6, chunksize=50, update_every=1, passes=2)\n",
        "vis_data = gensimvis.prepare(lda, corpus, dictionary)\n",
        "pyLDAvis.display(vis_data)"
      ],
      "metadata": {
        "colab": {
          "base_uri": "https://localhost:8080/",
          "height": 951
        },
        "id": "EcSANVpkgzWC",
        "outputId": "a3ca79f1-6eb4-4c31-bd14-3b9e6cfca40b"
      },
      "execution_count": 27,
      "outputs": [
        {
          "output_type": "stream",
          "name": "stderr",
          "text": [
            "/usr/local/lib/python3.9/dist-packages/ipykernel/ipkernel.py:283: DeprecationWarning: `should_run_async` will not call `transform_cell` automatically in the future. Please pass the result to `transformed_cell` argument and any exception that happen during thetransform in `preprocessing_exc_tuple` in IPython 7.17 and above.\n",
            "  and should_run_async(code)\n",
            "/usr/local/lib/python3.9/dist-packages/pyLDAvis/_prepare.py:243: FutureWarning: In a future version of pandas all arguments of DataFrame.drop except for the argument 'labels' will be keyword-only.\n",
            "  default_term_info = default_term_info.sort_values(\n"
          ]
        },
        {
          "output_type": "execute_result",
          "data": {
            "text/plain": [
              "<IPython.core.display.HTML object>"
            ],
            "text/html": [
              "\n",
              "<link rel=\"stylesheet\" type=\"text/css\" href=\"https://cdn.jsdelivr.net/gh/bmabey/pyLDAvis@3.4.0/pyLDAvis/js/ldavis.v1.0.0.css\">\n",
              "\n",
              "\n",
              "<div id=\"ldavis_el1541397097206572482256604004\" style=\"background-color:white;\"></div>\n",
              "<script type=\"text/javascript\">\n",
              "\n",
              "var ldavis_el1541397097206572482256604004_data = {\"mdsDat\": {\"x\": [0.10608115615618507, 0.15941389047005944, -0.20439627429127538, 0.00449057928682611, 0.2206655405927883, -0.28625489221458367], \"y\": [-0.022488102617047433, -0.05583793809679683, -0.21620482521974294, 0.31394461277531444, -0.07865460630514808, 0.059240859463420906], \"topics\": [1, 2, 3, 4, 5, 6], \"cluster\": [1, 1, 1, 1, 1, 1], \"Freq\": [30.883245371981793, 20.154923424861394, 15.462207974188749, 15.179849276093194, 9.854905367253682, 8.464868585621184]}, \"tinfo\": {\"Term\": [\"\\u0442\\u043e\\u0432\\u0430\\u0440\", \"\\u043c\\u0430\\u0433\\u0430\\u0437\\u0438\\u043d\", \"\\u0432\\u043e\\u0437\\u0432\\u0440\\u0430\\u0442\", \"\\u0437\\u0430\\u043a\\u0430\\u0437\", \"\\u0434\\u043e\\u043c\", \"\\u043f\\u0440\\u043e\\u0434\\u0430\\u0432\\u0435\\u0446\", \"\\u0434\\u043e\\u0441\\u0442\\u0430\\u0432\\u043a\\u0430\", \"\\u0443\\u0441\\u043b\\u0443\\u0433\\u0430\", \"\\u0434\\u0435\\u043d\\u044c\\u0433\\u0430\", \"\\u0440\\u0435\\u0431\\u0451\\u043d\\u043e\\u043a\", \"\\u0432\\u0435\\u0440\\u043d\\u0443\\u0442\\u044c\", \"\\u0441\\u0443\\u043c\\u043c\\u0430\", \"\\u0434\\u043e\\u0433\\u043e\\u0432\\u043e\\u0440\", \"\\u0437\\u0430\\u043a\\u0430\\u0437\\u0430\\u0442\\u044c\", \"\\u043f\\u0443\\u043d\\u043a\\u0442\", \"\\u0440\\u0443\\u0431\\u043b\\u044c\", \"\\u043f\\u043e\\u043a\\u0443\\u043f\\u0430\\u0442\\u0435\\u043b\\u044c\", \"\\u0442\\u0435\\u043b\\u0435\\u0444\\u043e\\u043d\", \"\\u043d\\u0430\\u0448\", \"\\u0437\\u0430\\u043a\\u043e\\u043d\", \"\\u043a\\u0432\\u0430\\u0440\\u0442\\u0438\\u0440\\u0430\", \"\\u0441\\u0440\\u0435\\u0434\\u0441\\u0442\\u0432\\u043e\", \"\\u0431\\u0438\\u043b\\u0435\\u0442\", \"\\u043e\\u0444\\u043e\\u0440\\u043c\\u0438\\u0442\\u044c\", \"\\u043f\\u043e\\u0442\\u0440\\u0435\\u0431\\u0438\\u0442\\u0435\\u043b\\u044c\", \"\\u0441\\u0430\\u043d\\u0438\\u0442\\u0430\\u0440\\u043d\\u044b\\u0439\", \"\\u043d\\u043e\\u043c\\u0435\\u0440\", \"\\u0432\\u043e\\u0434\\u0430\", \"\\u0432\\u044b\\u0434\\u0430\\u0447\\u0430\", \"\\u043f\\u0440\\u043e\\u0432\\u0435\\u0441\\u0442\\u0438\", \"\\u0442\\u0435\\u043b\\u0435\\u0444\\u043e\\u043d\", \"\\u0440\\u0435\\u043c\\u043e\\u043d\\u0442\", \"\\u0433\\u0430\\u0440\\u0430\\u043d\\u0442\\u0438\\u0439\\u043d\\u044b\\u0439\", \"\\u043d\\u043e\\u043c\\u0435\\u0440\", \"\\u043f\\u043e\\u0437\\u0432\\u043e\\u043d\\u0438\\u0442\\u044c\", \"\\u0437\\u0432\\u043e\\u043d\\u043e\\u043a\", \"\\u0441\\u0435\\u0440\\u0432\\u0438\\u0441\\u043d\\u044b\\u0439\", \"\\u043a\\u0440\\u0435\\u0434\\u0438\\u0442\", \"\\u0434\\u043e\\u0433\\u043e\\u0432\\u043e\\u0440\", \"\\u0437\\u0430\\u043c\\u0435\\u043d\\u0430\", \"\\u043d\\u0438\\u043a\\u0442\\u043e\", \"\\u0442\\u044b\\u0441\\u044f\\u0447\\u0430\", \"\\u043f\\u0440\\u0438\\u0435\\u0445\\u0430\\u0442\\u044c\", \"\\u043d\\u0430\\u0439\\u0442\\u0438\", \"\\u0441\\u043c\\u0441\", \"\\u0441\\u0430\\u043c\\u043e\\u0441\\u0442\\u043e\\u044f\\u0442\\u0435\\u043b\\u044c\\u043d\\u043e\", \"\\u043f\\u0440\\u0435\\u0434\\u043e\\u043f\\u043b\\u0430\\u0442\\u0430\", \"\\u043f\\u043e\\u0434\\u043f\\u0438\\u0441\\u043a\\u0430\", \"\\u043a\\u0440\\u0435\\u0434\\u0438\\u0442\\u043d\\u044b\\u0439\", \"\\u0430\\u0432\\u0438\\u0430\\u043a\\u043e\\u043c\\u043f\\u0430\\u043d\\u0438\\u044f\", \"\\u0441\\u0430\\u043b\\u043e\\u043d\", \"\\u0437\\u0432\\u043e\\u043d\\u0438\\u0442\\u044c\", \"\\u0437\\u043d\\u0430\\u0442\\u044c\", \"\\u0441\\u043d\\u044f\\u0442\\u044c\", \"\\u043a\\u043e\\u043f\\u0438\\u044f\", \"\\u043f\\u043e\\u043f\\u0440\\u043e\\u0441\\u0438\\u0442\\u044c\", \"\\u0430\\u043a\\u0442\", \"\\u043f\\u043e\\u0434\\u0442\\u0432\\u0435\\u0440\\u0436\\u0434\\u0435\\u043d\\u0438\\u0435\", \"\\u043c\\u0435\\u0431\\u0435\\u043b\\u044c\", \"\\u0440\\u0435\\u0439\\u0441\", \"\\u043c\\u0430\\u0441\\u0442\\u0435\\u0440\", \"\\u0441\\u0435\\u0440\\u0432\\u0438\\u0441\", \"\\u0438\\u044e\\u043b\\u044c\", \"\\u0430\\u0432\\u0433\\u0443\\u0441\\u0442\", \"\\u0441\\u0435\\u043d\\u0442\\u044f\\u0431\\u0440\\u044c\", \"\\u0446\\u0435\\u043d\\u0442\\u0440\", \"\\u0433\\u0430\\u0440\\u0430\\u043d\\u0442\\u0438\\u044f\", \"\\u043f\\u043e\\u0447\\u0442\\u0430\", \"\\u0438\\u0442\\u043e\\u0433\", \"\\u0440\\u0443\\u0431\", \"\\u0441\\u043e\\u043e\\u0431\\u0449\\u0438\\u0442\\u044c\", \"\\u0441\\u0432\\u044f\\u0437\\u0430\\u0442\\u044c\\u0441\\u044f\", \"\\u043d\\u0443\\u0436\\u043d\\u043e\", \"\\u043e\\u0431\\u0440\\u0430\\u0442\\u0438\\u0442\\u044c\\u0441\\u044f\", \"\\u0431\\u0430\\u043d\\u043a\", \"\\u0441\\u0442\\u043e\\u0438\\u043c\\u043e\\u0441\\u0442\\u044c\", \"\\u043a\\u043e\\u043c\\u043f\\u0430\\u043d\\u0438\\u044f\", \"\\u043a\\u0430\\u0440\\u0442\\u0430\", \"\\u0441\\u0443\\u043c\\u043c\\u0430\", \"\\u043e\\u0442\\u0432\\u0435\\u0442\", \"\\u0441\\u0430\\u0439\\u0442\", \"\\u0434\\u043e\\u043a\\u0443\\u043c\\u0435\\u043d\\u0442\", \"\\u043f\\u043e\\u043b\\u0443\\u0447\\u0438\\u0442\\u044c\", \"\\u043a\\u043e\\u0442\\u043e\\u0440\\u044b\\u0439\", \"\\u0434\\u0435\\u043d\\u044c\\u0433\\u0430\", \"\\u0432\\u0441\\u0451\", \"\\u0440\\u0443\\u0431\\u043b\\u044c\", \"\\u0434\\u0430\\u0442\\u044c\", \"\\u0431\\u0438\\u043b\\u0435\\u0442\", \"\\u0441\\u0438\\u0442\\u0443\\u0430\\u0446\\u0438\\u044f\", \"\\u0441\\u043e\\u0442\\u0440\\u0443\\u0434\\u043d\\u0438\\u043a\", \"\\u0441\\u0432\\u043e\\u0439\", \"\\u043e\\u0442\\u043f\\u0440\\u0430\\u0432\\u0438\\u0442\\u044c\", \"\\u043c\\u0430\\u0433\\u0430\\u0437\\u0438\\u043d\", \"\\u043f\\u0440\\u043e\\u0434\\u0430\\u0432\\u0435\\u0446\", \"\\u0441\\u0435\\u0440\\u0442\\u0438\\u0444\\u0438\\u043a\\u0430\\u0442\", \"\\u043f\\u043e\\u043a\\u0443\\u043f\\u0430\\u0442\\u0435\\u043b\\u044c\", \"\\u043f\\u0440\\u043e\\u0434\\u0430\\u0436\\u0430\", \"\\u0443\\u043f\\u0430\\u043a\\u043e\\u0432\\u043a\\u0430\", \"\\u043f\\u0440\\u043e\\u0438\\u0437\\u0432\\u043e\\u0434\\u0438\\u0442\\u0435\\u043b\\u044c\", \"\\u043f\\u0440\\u043e\\u0434\\u0443\\u043a\\u0446\\u0438\\u044f\", \"\\u0432\\u0430\\u0439\\u043b\\u0434\\u0431\\u0435\\u0440\\u0440\\u0438\\u0437\", \"\\u0442\\u043e\\u0440\\u0433\\u043e\\u0432\\u044b\\u0439\", \"\\u043e\\u0431\\u0440\\u0430\\u0442\\u043d\\u043e\", \"\\u0442\\u043e\\u0440\\u0433\\u043e\\u0432\\u043b\\u044f\", \"\\u0441\\u0431\\u0435\\u0440\\u043c\\u0435\\u0433\\u0430\\u043c\\u0430\\u0440\\u043a\\u0435\\u0442\", \"\\u0441\\u043a\\u043b\\u0430\\u0434\", \"\\u0432\\u044b\\u0439\\u0442\\u0438\", \"\\u0434\\u0438\\u0432\\u0430\\u043d\", \"\\u043f\\u0440\\u043e\\u0434\\u0430\\u0432\\u0430\\u0442\\u044c\", \"\\u0438\\u0437\\u0434\\u0435\\u043b\\u0438\\u0435\", \"\\u043c\\u043e\\u0434\\u0435\\u043b\\u044c\", \"\\u043c\\u0430\\u0440\\u043a\\u0435\\u0442\\u043f\\u043b\\u0435\\u0439\\u0441\", \"\\u043c\\u0430\\u0440\\u043a\\u0438\\u0440\\u043e\\u0432\\u043a\\u0430\", \"\\u0432\\u043b\\u043e\\u0436\\u0435\\u043d\\u0438\\u0435\", \"\\u043f\\u0438\\u0449\\u0435\\u0432\\u043e\\u0439\", \"\\u0430\\u0440\\u0442\\u0438\\u043a\\u0443\\u043b\", \"\\u043a\\u043d\\u0438\\u0433\\u0430\", \"\\u043f\\u043e\\u0434\\u0445\\u043e\\u0434\\u0438\\u0442\\u044c\", \"\\u0432\\u043e\\u0437\\u0432\\u0440\\u0430\\u0442\\u0438\\u0442\\u044c\", \"\\u0441\\u043e\\u0445\\u0440\\u0430\\u043d\\u0438\\u0442\\u044c\", \"\\u043d\\u0435\\u043c\\u043e\\u0439\", \"\\u0437\\u0430\\u0432\\u0442\\u0440\\u0430\", \"\\u0442\\u043e\\u0432\\u0430\\u0440\", \"\\u043f\\u043e\\u043a\\u0443\\u043f\\u043a\\u0430\", \"\\u0432\\u043e\\u0437\\u0432\\u0440\\u0430\\u0442\", \"\\u0434\\u0435\\u0444\\u0435\\u043a\\u0442\", \"\\u0431\\u0440\\u0430\\u043a\", \"\\u043a\\u0443\\u043f\\u0438\\u0442\\u044c\", \"\\u043f\\u043e\\u0434\\u043e\\u0439\\u0442\\u0438\", \"\\u043f\\u0440\\u0438\\u043e\\u0431\\u0440\\u0435\\u0441\\u0442\\u0438\", \"\\u0432\\u0435\\u0440\\u043d\\u0443\\u0442\\u044c\", \"\\u043e\\u0442\\u043a\\u0430\\u0437\\u0430\\u0442\\u044c\", \"\\u0434\\u0435\\u043d\\u0435\\u0436\\u043d\\u044b\\u0439\", \"\\u0441\\u0440\\u0435\\u0434\\u0441\\u0442\\u0432\\u043e\", \"\\u0438\\u043d\\u0442\\u0435\\u0440\\u043d\\u0435\\u0442\", \"\\u0447\\u0435\\u043a\", \"\\u0432\\u043e\\u0437\\u0432\\u0440\\u0430\\u0449\\u0430\\u0442\\u044c\", \"\\u043a\\u043e\\u043d\\u0446\\u0435\\u0440\\u0442\", \"\\u0434\\u0435\\u043d\\u044c\\u0433\\u0430\", \"wildberries\", \"\\u043d\\u0430\\u043f\\u0438\\u0441\\u0430\\u0442\\u044c\", \"\\u043e\\u0431\\u043d\\u0430\\u0440\\u0443\\u0436\\u0438\\u0442\\u044c\", \"\\u0441\\u0440\\u043e\\u043a\", \"\\u0434\\u0430\\u0442\\u0430\", \"\\u043f\\u0440\\u0435\\u0442\\u0435\\u043d\\u0437\\u0438\\u044f\", \"\\u043f\\u043e\\u043b\\u0443\\u0447\\u0438\\u0442\\u044c\", \"\\u0441\\u0430\\u0439\\u0442\", \"\\u043a\\u043e\\u0442\\u043e\\u0440\\u044b\\u0439\", \"\\u043a\\u0430\\u0447\\u0435\\u0441\\u0442\\u0432\\u043e\", \"\\u043e\\u0442\\u0432\\u0435\\u0442\", \"\\u0441\\u0438\\u0442\\u0443\\u0430\\u0446\\u0438\\u044f\", \"\\u0445\\u043e\\u0442\\u0435\\u0442\\u044c\", \"\\u0434\\u043e\\u043c\", \"\\u043d\\u0430\\u0448\", \"\\u043a\\u0432\\u0430\\u0440\\u0442\\u0438\\u0440\\u0430\", \"\\u0443\\u0447\\u0430\\u0441\\u0442\\u043e\\u043a\", \"\\u044d\\u0442\\u0430\\u0436\", \"\\u043f\\u0440\\u0438\\u0441\\u043b\\u0430\\u0442\\u044c\", \"\\u0436\\u0438\\u043b\\u043e\\u0439\", \"\\u0434\\u0430\\u0432\\u0430\\u0442\\u044c\", \"\\u043c\\u0443\\u0441\\u043e\\u0440\", \"\\u043e\\u043a\\u043d\\u043e\", \"\\u0436\\u0438\\u0442\\u0435\\u043b\\u044c\", \"\\u043e\\u043a\\u043e\\u043b\\u043e\", \"\\u043f\\u0440\\u043e\\u0436\\u0438\\u0432\\u0430\\u0442\\u044c\", \"\\u0442\\u0430\\u0440\\u0430\\u043a\\u0430\\u043d\", \"\\u043a\\u043e\\u043d\\u0434\\u0438\\u0446\\u0438\\u043e\\u043d\\u0435\\u0440\", \"\\u0443\\u0441\\u0442\\u0430\\u043d\\u043e\\u0432\\u043a\\u0430\", \"\\u0442\\u0435\\u0440\\u0440\\u0438\\u0442\\u043e\\u0440\\u0438\\u044f\", \"\\u043a\\u0440\\u0430\\u0439\", \"\\u0432\\u0440\\u0430\\u0447\", \"\\u043c\\u043d\\u043e\\u0433\\u043e\\u043a\\u0432\\u0430\\u0440\\u0442\\u0438\\u0440\\u043d\\u044b\\u0439\", \"\\u0441\\u043e\\u0441\\u0435\\u0434\", \"\\u043e\\u0431\\u0440\\u0430\\u0442\\u0438\\u0442\\u044c\", \"\\u043f\\u043e\\u0434\\u043b\\u0435\\u0436\\u0430\\u0442\\u044c\", \"\\u0443\\u0442\\u0440\\u043e\", \"\\u0436\\u0438\\u0442\\u044c\", \"\\u0445\\u043e\\u0442\\u0435\\u0442\\u044c\\u0441\\u044f\", \"\\u043e\\u0431\\u0435\\u0449\\u0430\\u0442\\u044c\", \"\\u0431\\u043e\\u043b\\u044c\\u0448\\u0438\\u0439\", \"\\u0441\\u043e\\u0431\\u0441\\u0442\\u0432\\u0435\\u043d\\u043d\\u0438\\u043a\", \"\\u0436\\u0438\\u043b\\u0435\\u0446\", \"\\u0430\\u0432\\u0442\\u043e\\u043c\\u043e\\u0431\\u0438\\u043b\\u044c\", \"\\u0441\\u0443\\u0442\\u043a\\u0438\", \"\\u0440\\u0430\\u0439\\u043e\\u043d\", \"\\u043e\\u0447\\u0435\\u043d\\u044c\", \"\\u043d\\u0430\\u0445\\u043e\\u0434\\u0438\\u0442\\u044c\\u0441\\u044f\", \"\\u0432\\u043e\\u0434\\u0430\", \"\\u0432\\u0435\\u0441\\u044c\", \"\\u043c\\u0435\\u0440\\u0430\", \"\\u0432\\u0440\\u0435\\u043c\\u044f\", \"\\u043e\\u043f\\u0435\\u0440\\u0430\\u0442\\u043e\\u0440\", \"\\u043e\\u0431\\u043b\\u0430\\u0441\\u0442\\u044c\", \"\\u043f\\u0440\\u043e\\u0431\\u043b\\u0435\\u043c\\u0430\", \"\\u0432\\u0441\\u0451\", \"\\u0433\\u043e\\u0440\\u043e\\u0434\", \"\\u043d\\u0435\\u0441\\u043a\\u043e\\u043b\\u044c\\u043a\\u043e\", \"\\u043a\\u043e\\u0442\\u043e\\u0440\\u044b\\u0439\", \"\\u043f\\u0440\\u0430\\u0432\\u0438\\u043b\\u043e\", \"\\u043f\\u0440\\u0438\\u043d\\u044f\\u0442\\u044c\", \"\\u043e\\u0431\\u0440\\u0430\\u0449\\u0430\\u0442\\u044c\\u0441\\u044f\", \"\\u0436\\u0430\\u043b\\u043e\\u0431\\u0430\", \"\\u043a\\u043e\\u043c\\u043f\\u0430\\u043d\\u0438\\u044f\", \"\\u0441\\u0432\\u043e\\u0439\", \"\\u043f\\u043e\\u043c\\u0435\\u0449\\u0435\\u043d\\u0438\\u0435\", \"\\u043a\\u043e\\u0434\", \"\\u0440\\u043e\\u0441\\u0441\\u0438\\u0439\\u0441\\u043a\\u0438\\u0439\", \"\\u0444\\u0435\\u0434\\u0435\\u0440\\u0430\\u0446\\u0438\\u044f\", \"\\u0444\\u0435\\u0434\\u0435\\u0440\\u0430\\u043b\\u044c\\u043d\\u044b\\u0439\", \"\\u0440\\u0430\\u0441\\u0442\\u043e\\u0440\\u0436\\u0435\\u043d\\u0438\\u0435\", \"\\u0438\\u0437\\u043c\\u0435\\u043d\\u0435\\u043d\\u0438\\u0435\", \"\\u043f\\u0440\\u043e\\u0432\\u0435\\u0434\\u0435\\u043d\\u0438\\u0435\", \"\\u043e\\u0442\\u0441\\u0443\\u0442\\u0441\\u0442\\u0432\\u0438\\u0435\", \"\\u0437\\u0430\\u043a\\u043e\\u043d\\u043e\\u0434\\u0430\\u0442\\u0435\\u043b\\u044c\\u0441\\u0442\\u0432\\u043e\", \"\\u0443\\u043f\\u0440\\u0430\\u0432\\u043b\\u044f\\u0442\\u044c\", \"\\u043c\\u0430\\u0439\", \"\\u0440\\u043e\\u0441\\u0442\\u0435\\u043b\\u0435\\u043a\\u043e\\u043c\", \"\\u043f\\u0430\\u0441\\u043f\\u043e\\u0440\\u0442\", \"\\u043f\\u0440\\u043e\\u0434\\u0430\\u0442\\u044c\", \"\\u043d\\u0430\\u0441\\u0442\\u043e\\u044f\\u0449\\u0438\\u0439\", \"\\u0446\\u0435\\u043d\\u043d\\u0438\\u043a\", \"\\u0441\\u043e\\u043e\\u0442\\u0432\\u0435\\u0442\\u0441\\u0442\\u0432\\u0438\\u0435\", \"\\u0441\\u0430\\u043d\\u043f\\u0438\\u043d\", \"\\u0441\\u0442\\u0440\\u043e\\u0438\\u0442\\u0435\\u043b\\u044c\\u043d\\u044b\\u0439\", \"\\u043e\\u043a\\u0430\\u0437\\u0430\\u043d\\u0438\\u0435\", \"\\u043e\\u0442\\u043a\\u043b\\u044e\\u0447\\u0438\\u0442\\u044c\", \"\\u043f\\u0440\\u0435\\u0434\\u043e\\u0441\\u0442\\u0430\\u0432\\u043b\\u0435\\u043d\\u0438\\u0435\", \"\\u0438\\u043d\\u043e\\u0439\", \"\\u043e\\u0431\\u043e\\u0440\\u0443\\u0434\\u043e\\u0432\\u0430\\u043d\\u0438\\u0435\", \"\\u0441\\u043e\\u0434\\u0435\\u0439\\u0441\\u0442\\u0432\\u0438\\u0435\", \"\\u0441\\u0435\\u043c\\u044c\\u044f\", \"\\u043e\\u0431\\u044f\\u0437\\u0430\\u0442\\u0435\\u043b\\u044c\\u0441\\u0442\\u0432\\u043e\", \"\\u043f\\u0440\\u043e\\u0438\\u0437\\u0432\\u043e\\u0434\\u0441\\u0442\\u0432\\u0435\\u043d\\u043d\\u044b\\u0439\", \"\\u043f\\u043e\\u043d\\u044f\\u0442\\u044c\", \"\\u0447\\u0438\\u0441\\u043b\\u043e\", \"\\u0441\\u043e\\u0433\\u043b\\u0430\\u0441\\u043d\\u043e\", \"\\u0437\\u0430\\u0449\\u0438\\u0442\\u0430\", \"\\u043f\\u043e\\u0442\\u0440\\u0435\\u0431\\u0438\\u0442\\u0435\\u043b\\u044c\", \"\\u043e\\u0441\\u043d\\u043e\\u0432\\u0430\\u043d\\u0438\\u0435\", \"\\u0434\\u0430\\u043d\\u043d\\u044b\\u0435\", \"\\u0437\\u0430\\u043a\\u043e\\u043d\", \"\\u043d\\u0430\\u0440\\u0443\\u0448\\u0430\\u0442\\u044c\", \"\\u0443\\u0441\\u043b\\u0443\\u0433\\u0430\", \"\\u043e\\u0440\\u0433\\u0430\\u043d\\u0438\\u0437\\u0430\\u0446\\u0438\\u044f\", \"\\u043f\\u0438\\u0441\\u044c\\u043c\\u0435\\u043d\\u043d\\u044b\\u0439\", \"\\u0441\\u0438\\u0441\\u0442\\u0435\\u043c\\u0430\", \"\\u0442\\u0440\\u0435\\u0431\\u043e\\u0432\\u0430\\u043d\\u0438\\u0435\", \"\\u043f\\u0435\\u0440\\u0438\\u043e\\u0434\", \"\\u0441\\u0447\\u0451\\u0442\", \"\\u0442\\u0430\\u043a\\u0436\\u0435\", \"\\u044f\\u0432\\u043b\\u044f\\u0442\\u044c\\u0441\\u044f\", \"\\u043e\\u043e\\u043e\", \"\\u0431\\u0430\\u043d\\u043a\\u043e\\u0432\\u0441\\u043a\\u0438\\u0439\", \"\\u043d\\u0430\\u0440\\u0443\\u0448\\u0435\\u043d\\u0438\\u0435\", \"\\u0441\\u0432\\u044f\\u0437\\u044c\", \"\\u0434\\u0430\\u0442\\u044c\", \"\\u0434\\u043e\\u043a\\u0443\\u043c\\u0435\\u043d\\u0442\", \"\\u0434\\u0435\\u0439\\u0441\\u0442\\u0432\\u0438\\u0435\", \"\\u043e\\u043f\\u043b\\u0430\\u0442\\u0430\", \"\\u0431\\u0430\\u043d\\u043a\", \"\\u0441\\u0440\\u0435\\u0434\\u0441\\u0442\\u0432\\u043e\", \"\\u0441\\u0440\\u043e\\u043a\", \"\\u043f\\u0440\\u043e\\u0432\\u0435\\u0441\\u0442\\u0438\", \"\\u0434\\u043e\\u043b\\u0436\\u043d\\u044b\\u0439\", \"\\u043a\\u043e\\u0442\\u043e\\u0440\\u044b\\u0439\", \"\\u0441\\u0432\\u043e\\u0439\", \"\\u0438\\u043d\\u0444\\u043e\\u0440\\u043c\\u0430\\u0446\\u0438\\u044f\", \"\\u0437\\u0430\\u043a\\u0430\\u0437\", \"\\u043f\\u0443\\u043d\\u043a\\u0442\", \"\\u0432\\u044b\\u0434\\u0430\\u0447\\u0430\", \"\\u043e\\u0442\\u043c\\u0435\\u043d\\u0438\\u0442\\u044c\", \"\\u044f\\u043d\\u0434\\u0435\\u043a\\u0441\", \"\\u0434\\u043e\\u0441\\u0442\\u0430\\u0432\\u0438\\u0442\\u044c\", \"\\u043a\\u0443\\u0440\\u044c\\u0435\\u0440\", \"\\u043a\\u043b\\u0443\\u0431\", \"\\u0440\\u0443\\u043a\\u0430\", \"\\u043e\\u0442\\u043c\\u0435\\u043d\\u0430\", \"\\u0441\\u043e\\u0431\\u0441\\u0442\\u0432\\u0435\\u043d\\u043d\\u044b\\u0439\", \"\\u043f\\u043e\\u0441\\u044b\\u043b\\u043a\\u0430\", \"\\u0437\\u0430\\u043f\\u0438\\u0441\\u044c\", \"\\u0430\\u0431\\u043e\\u043d\\u0435\\u043c\\u0435\\u043d\\u0442\", \"\\u0437\\u043e\\u043d\\u0430\", \"\\u0441\\u043e\\u0433\\u043b\\u0430\\u0448\\u0435\\u043d\\u0438\\u0435\", \"\\u0437\\u0430\\u043a\\u0430\\u0437\\u0430\\u0442\\u044c\", \"\\u0441\\u0434\\u044d\\u043a\", \"\\u043f\\u043e\\u0434\\u0430\\u0440\\u043e\\u0447\\u043d\\u044b\\u0439\", \"\\u0441\\u043e\\u0441\\u0442\\u043e\\u044f\\u0442\\u044c\\u0441\\u044f\", \"\\u0432\\u044b\\u0448\\u0435\\u0443\\u043a\\u0430\\u0437\\u0430\\u043d\\u043d\\u044b\\u0439\", \"\\u0437\\u0430\\u0442\\u0440\\u0430\\u0442\\u0430\", \"\\u043d\\u0435\\u043e\\u0431\\u0445\\u043e\\u0434\\u0438\\u043c\\u043e\\u0441\\u0442\\u044c\", \"\\u043e\\u0444\\u043e\\u0440\\u043c\\u043b\\u044f\\u0442\\u044c\", \"\\u0443\\u0441\\u0442\\u0430\\u043d\\u043e\\u0432\\u043b\\u0435\\u043d\\u0438\\u0435\", \"\\u0432\\u043e\\u0441\\u043f\\u043e\\u043b\\u044c\\u0437\\u043e\\u0432\\u0430\\u0442\\u044c\\u0441\\u044f\", \"\\u043e\\u043d\\u043e\", \"\\u0441\\u043f\\u0438\\u0441\\u0430\\u0442\\u044c\", \"\\u0442\\u0435\\u0441\\u0442\", \"\\u043f\\u043b\\u0430\\u0442\\u044c\\u0435\", \"\\u0434\\u043e\\u0441\\u0442\\u0430\\u0432\\u043a\\u0430\", \"\\u043f\\u0430\\u043a\\u0435\\u0442\", \"\\u043e\\u0444\\u043e\\u0440\\u043c\\u043b\\u0435\\u043d\\u0438\\u0435\", \"\\u043e\\u0444\\u043e\\u0440\\u043c\\u0438\\u0442\\u044c\", \"\\u043c\\u0435\\u0440\\u043e\\u043f\\u0440\\u0438\\u044f\\u0442\\u0438\\u0435\", \"\\u0432\\u0435\\u0447\\u0435\\u0440\", \"\\u043e\\u0442\\u043a\\u0430\\u0437\\u044b\\u0432\\u0430\\u0442\\u044c\\u0441\\u044f\", \"\\u043f\\u043e\\u0434\\u0434\\u0435\\u0440\\u0436\\u043a\\u0430\", \"\\u043a\\u0430\\u0431\\u0438\\u043d\\u0435\\u0442\", \"\\u043f\\u0440\\u0438\\u043b\\u043e\\u0436\\u0435\\u043d\\u0438\\u0435\", \"\\u043b\\u0438\\u0447\\u043d\\u044b\\u0439\", \"\\u0440\\u0443\\u0431\\u043b\\u044c\", \"\\u043e\\u043f\\u043b\\u0430\\u0442\\u0438\\u0442\\u044c\", \"\\u0441\\u0443\\u043c\\u043c\\u0430\", \"\\u0431\\u0438\\u043b\\u0435\\u0442\", \"\\u0442\\u0440\\u0435\\u0431\\u043e\\u0432\\u0430\\u0442\\u044c\", \"\\u0434\\u0435\\u043d\\u044c\\u0433\\u0430\", \"\\u0437\\u0430\\u0431\\u0440\\u0430\\u0442\\u044c\", \"\\u0441\\u0434\\u0435\\u043b\\u0430\\u0442\\u044c\", \"\\u0434\\u0435\\u043b\\u0430\\u0442\\u044c\", \"\\u0432\\u043e\\u0437\\u0432\\u0440\\u0430\\u0442\", \"\\u0442\\u043e\\u0432\\u0430\\u0440\", \"\\u0440\\u0435\\u0431\\u0451\\u043d\\u043e\\u043a\", \"\\u0441\\u0430\\u043d\\u0438\\u0442\\u0430\\u0440\\u043d\\u044b\\u0439\", \"\\u0443\\u043b\\u0438\\u0446\\u0430\", \"\\u0434\\u0435\\u0442\\u0441\\u043a\\u0438\\u0439\", \"\\u0440\\u0430\\u0441\\u043f\\u043e\\u043b\\u043e\\u0436\\u0438\\u0442\\u044c\", \"\\u043f\\u043e\\u0434\\u044a\\u0435\\u0437\\u0434\", \"\\u0433\\u0440\\u0443\\u043f\\u043f\\u0430\", \"\\u043e\\u0437\\u043e\\u043d\", \"\\u0442\\u0435\\u043c\\u043f\\u0435\\u0440\\u0430\\u0442\\u0443\\u0440\\u0430\", \"\\u0430\\u0434\\u043c\\u0438\\u043d\\u0438\\u0441\\u0442\\u0440\\u0430\\u0446\\u0438\\u044f\", \"\\u0441\\u0430\\u0434\", \"\\u0437\\u0434\\u043e\\u0440\\u043e\\u0432\\u044c\\u0435\", \"\\u0437\\u0430\\u0432\\u0435\\u0434\\u0435\\u043d\\u0438\\u0435\", \"\\u043e\\u0441\\u043c\\u043e\\u0442\\u0440\", \"\\u043f\\u043b\\u043e\\u0449\\u0430\\u0434\\u044c\", \"\\u044d\\u043f\\u0438\\u0434\\u0435\\u043c\\u0438\\u043e\\u043b\\u043e\\u0433\\u0438\\u0447\\u0435\\u0441\\u043a\\u0438\\u0439\", \"\\u043d\\u0430\\u0437\\u0432\\u0430\\u043d\\u0438\\u0435\", \"\\u0448\\u043a\\u043e\\u043b\\u0430\", \"\\u0434\\u043e\\u0440\\u043e\\u0433\\u0430\", \"\\u0430\\u043f\\u0442\\u0435\\u043a\\u0430\", \"\\u043f\\u0440\\u0438\\u0445\\u043e\\u0434\\u0438\\u0442\\u044c\\u0441\\u044f\", \"\\u0437\\u0430\\u043d\\u044f\\u0442\\u0438\\u0435\", \"\\u043f\\u0440\\u0435\\u0434\\u043e\\u0441\\u0442\\u0430\\u0432\\u043b\\u044f\\u0442\\u044c\\u0441\\u044f\", \"\\u043f\\u0440\\u0435\\u0434\\u043f\\u0440\\u0438\\u044f\\u0442\\u0438\\u0435\", \"\\u043e\\u0440\\u0433\\u0430\\u043d\\u0438\\u0437\\u043e\\u0432\\u0430\\u0442\\u044c\", \"\\u0440\\u0435\\u0430\\u0433\\u0438\\u0440\\u043e\\u0432\\u0430\\u0442\\u044c\", \"\\u0432\\u043e\\u0437\\u043d\\u0438\\u043a\\u043d\\u0443\\u0442\\u044c\", \"\\u043c\\u0430\\u043c\\u0430\", \"\\u0431\\u043e\\u043b\\u044c\\u043d\\u0438\\u0446\\u0430\", \"\\u043c\\u0435\\u043d\\u0435\\u0435\", \"\\u0446\\u0435\\u043d\\u0430\", \"\\u0440\\u0435\\u0436\\u0438\\u043c\", \"\\u0447\\u0430\\u0441\", \"\\u043f\\u0440\\u043e\\u0432\\u0435\\u0441\\u0442\\u0438\", \"\\u043f\\u0440\\u043e\\u0432\\u0435\\u0440\\u043a\\u0430\", \"\\u043e\\u0442\\u0441\\u0443\\u0442\\u0441\\u0442\\u0432\\u043e\\u0432\\u0430\\u0442\\u044c\", \"\\u0433\\u043e\\u0440\\u043e\\u0434\", \"\\u043d\\u043e\\u0440\\u043c\\u0430\", \"\\u043f\\u0440\\u0435\\u0434\\u043b\\u043e\\u0436\\u0435\\u043d\\u0438\\u0435\", \"\\u0440\\u0430\\u0431\\u043e\\u0442\\u0430\", \"\\u0442\\u0440\\u0435\\u0431\\u043e\\u0432\\u0430\\u0442\\u044c\", \"\\u043c\\u0435\\u0441\\u0442\\u043e\", \"\\u0438\\u0434\\u0442\\u0438\", \"\\u0432\\u043e\\u0434\\u0430\", \"\\u0434\\u043e\\u043b\\u0436\\u043d\\u044b\\u0439\", \"\\u0432\\u0435\\u0441\\u044c\", \"\\u0434\\u0435\\u044f\\u0442\\u0435\\u043b\\u044c\\u043d\\u043e\\u0441\\u0442\\u044c\", \"\\u043a\\u043e\\u0442\\u043e\\u0440\\u044b\\u0439\", \"\\u043d\\u0430\\u0445\\u043e\\u0434\\u0438\\u0442\\u044c\\u0441\\u044f\"], \"Freq\": [1915.0, 1421.0, 1337.0, 671.0, 637.0, 698.0, 429.0, 600.0, 1135.0, 319.0, 758.0, 543.0, 557.0, 262.0, 255.0, 483.0, 345.0, 461.0, 283.0, 366.0, 274.0, 674.0, 383.0, 210.0, 286.0, 179.0, 389.0, 301.0, 184.0, 293.0, 460.5185697116468, 319.4286684146465, 184.62276269392987, 387.559341688317, 179.09050275640365, 178.53328696832236, 164.00284179606476, 153.4059758625343, 553.823176992603, 134.76476531099036, 113.71644546022905, 112.37257464443782, 111.70689066733377, 106.58263759365882, 88.905389850455, 88.4146590497497, 87.37640891233681, 105.02229089437657, 86.37226143768541, 85.44530327665768, 85.33691328482342, 79.68973823451164, 78.05040368627026, 84.51515640805455, 78.28039899479487, 112.36040194876169, 75.66798732146515, 76.63049913752981, 73.98249036628066, 72.7495031637791, 119.53634072277916, 123.03361440399537, 276.3685698422208, 304.50687237968765, 98.80200864956545, 241.48782767803795, 180.96283886063856, 227.73068319141018, 149.8211387073537, 224.7501712860925, 214.8279211863078, 106.14479415810743, 166.71263503480355, 273.84949085765123, 304.3393218704666, 247.36246966111293, 292.2003031168444, 285.0650008151162, 304.2385343830697, 286.3019065656191, 280.36079697232117, 243.42683991833186, 278.90544303146174, 413.6137760380863, 426.27087723123503, 313.87576441935687, 239.2942749006077, 259.7343943963872, 212.63782646232443, 231.79624190716837, 194.47246317994174, 199.01432965941564, 184.70290612356348, 1420.022419227694, 697.8789676619394, 227.54307809900487, 344.4127614617101, 218.19579786447522, 157.53797895068476, 109.80835483029105, 109.71808348531833, 92.93232534851461, 90.3112866406729, 80.89190273637739, 81.88948048267441, 83.95181781542152, 78.65319039198606, 76.11342424617285, 76.17848539015633, 70.95718399256211, 69.63109113054028, 58.06096975102752, 53.88330036253613, 52.57700822517791, 50.481800101802236, 57.56421651938938, 48.1388731186387, 55.00089023297558, 41.31797993202886, 81.34343524086997, 39.80905640972892, 37.35011487140573, 37.90248534469995, 1805.4738949885448, 249.03276148206206, 1194.751230460482, 64.32173547942337, 150.5462364701239, 293.73188809487635, 78.58391053690586, 287.0750795216552, 569.5042694261898, 177.6836059276954, 318.24924517082724, 435.42977496138445, 260.78727002211645, 182.76225365086603, 151.02707881017952, 130.6294632294888, 471.25284683292364, 102.4018404689473, 186.18336751601328, 141.47199303227302, 209.47996341990546, 126.5590307553268, 142.3758859066078, 182.85998712460656, 179.91508862605406, 211.10559611041526, 132.1216735112544, 153.58807459893103, 149.33928817472056, 135.78873142896734, 636.760411688196, 282.62578768148836, 273.58362514498094, 170.1113954601297, 149.3662484749662, 133.15980058058904, 125.17462909460826, 121.47692220001836, 114.08010768519523, 109.2719907621278, 99.51762448717756, 104.47959502687101, 89.08759514274111, 97.77963716952891, 74.75494405230145, 72.33502085032907, 71.1063669571397, 70.25575238478464, 69.57790992539995, 65.87820199417672, 64.74884301879739, 63.220816644941785, 64.5299557115878, 61.174043274290945, 60.482946122250205, 58.54240604643154, 58.56446530027429, 58.65498175737547, 68.7101690895113, 56.36725747559265, 71.2778514465373, 76.74004199384905, 131.91548640070397, 195.2224563728703, 243.13877498559447, 229.73330856929257, 186.49353437091412, 134.9198428020008, 211.88275677600754, 105.0107658511115, 106.57136562129416, 145.64607776912723, 222.93949339368757, 125.88012501024978, 109.99411268214459, 203.58955615088152, 103.15342974852304, 120.13898560617079, 97.48161321355038, 97.84804652191133, 99.579969828545, 99.39384732116655, 174.67243106265587, 114.32688587066305, 114.57601803653444, 100.21507927210595, 89.51303857925086, 89.52870329373961, 105.95186670134964, 83.62867484851492, 77.35839029185446, 76.4758877670957, 73.86067478686633, 71.51663902599553, 68.3101300508764, 73.68872166140957, 68.8644209337037, 79.05404865820172, 62.380561575630246, 125.43836154374343, 57.95126532916994, 57.97608202925014, 56.662257484529235, 57.08837786265734, 57.21104778058948, 51.86533157140159, 50.984464702490484, 50.585637996744516, 49.87463163875923, 58.802809970796474, 49.9290780523408, 49.224955969098126, 108.21045545908765, 178.972659969618, 143.27134925534176, 265.28141030753767, 105.89744164097758, 85.08517726846893, 316.4700074222005, 140.1473149165931, 447.30231780474907, 198.32703823419712, 84.81398296654275, 97.91822556294503, 190.88742630149818, 96.13479696427143, 161.72635595965758, 212.42989356733207, 163.99968697323396, 187.910191007416, 115.69538744362812, 122.90574277785772, 143.31059645440163, 205.2110738208569, 168.2357708388599, 134.88860022418956, 136.54012577714346, 152.89456601530063, 167.99540203016707, 119.67442137330029, 108.81206932480751, 112.03578898678316, 115.1843538926047, 110.4500142365198, 109.02788194257604, 670.3537999633141, 255.175107841162, 183.50759955066113, 117.6620083255315, 105.43069469588443, 150.45718936852512, 100.00978703532104, 99.83700220922223, 96.7495658243087, 71.94672546422937, 79.97446042008939, 133.97245230251713, 67.52349491202685, 61.83177088041597, 59.46584422648766, 53.808011749983194, 257.5567215385124, 44.35493228828851, 42.290990924133666, 41.75276286378531, 43.25423583167102, 43.555231323900884, 38.11190488760202, 35.57687811607755, 36.48797150598141, 34.84057410023895, 34.90647465433944, 176.4892640113254, 44.6394256097074, 32.85042394511203, 404.3475011825018, 59.83780293476372, 69.76259439835144, 190.5090447632864, 96.32598792648983, 60.24441841977655, 152.26445432654108, 173.56648335895932, 133.9271489639668, 149.70906877809037, 149.6759424446143, 216.82242153150364, 160.3401265359834, 214.23617204396223, 157.1438734172007, 101.89268694288731, 237.96888876959017, 96.64961013511561, 130.44733132538178, 99.28994637470348, 137.59969155171393, 109.30697477016948, 319.07138815307286, 178.82131196535062, 148.31454868416532, 126.87025761360958, 122.24890175402042, 118.8198739197215, 115.65990506322281, 109.08305389186917, 85.12042984966835, 81.36761675583925, 78.61490383661811, 62.84683794852866, 56.64754096572604, 56.735169697777174, 57.68026733962471, 50.64285330800644, 51.35874832762521, 48.523350617208955, 48.36867861782703, 48.12609210946588, 48.619638390181336, 46.119595141934255, 48.727038122707754, 41.43747358153478, 40.45819225613843, 40.818971339010346, 38.676492183194135, 38.208206201447766, 38.39957433987132, 36.709441957637054, 164.87817943647727, 59.62408390092778, 144.1065310474733, 152.63797257031916, 144.6425342538059, 91.18988408519161, 126.44596460846883, 73.73832060254846, 55.800864897913975, 94.04941565718536, 69.10399523337266, 72.24465985837863, 58.807023848763826, 70.58283368087204, 69.74595499874479, 66.5509546538106, 59.7894153797276, 60.333763272360514, 57.911017920213986], \"Total\": [1915.0, 1421.0, 1337.0, 671.0, 637.0, 698.0, 429.0, 600.0, 1135.0, 319.0, 758.0, 543.0, 557.0, 262.0, 255.0, 483.0, 345.0, 461.0, 283.0, 366.0, 274.0, 674.0, 383.0, 210.0, 286.0, 179.0, 389.0, 301.0, 184.0, 293.0, 461.4104099077884, 320.2768084777231, 185.4688275401217, 389.3733363030081, 179.9324720700692, 179.37621847371054, 164.8453998806055, 154.24706771673294, 557.244374221505, 135.6076949427806, 114.56152174744986, 113.22030834156371, 112.55308755390969, 107.43322485997736, 89.75115224679436, 89.27069734223257, 88.22537354258971, 106.05681078413188, 87.2266634912041, 86.29174726293833, 86.19482326493196, 80.53061386841611, 78.89751299692321, 85.43672119477061, 79.13723498665283, 113.59204436326631, 76.52380446962304, 77.50159940723881, 74.85521536625579, 73.64827032152554, 121.15893077159465, 125.15477116944461, 286.0094781777325, 317.3958435005862, 100.58329275304801, 253.24660079683133, 187.8106389216001, 243.09843207044528, 156.3815285243805, 240.86057855305128, 245.5088118494405, 111.37027738134684, 193.39289163199243, 359.74744564811374, 457.9098905361263, 361.31974098091666, 460.9083223075232, 490.73105878731883, 543.9635201881055, 510.5576820416875, 519.4816038468539, 412.757470676779, 520.2455280672913, 1027.138369055363, 1135.982852614665, 695.6252981366337, 483.98551793742, 638.0061664528005, 383.5660686743495, 514.5876602243683, 352.6572829973788, 458.1707477068756, 261.0952916912336, 1421.1356798510822, 698.928927100604, 228.3786448465895, 345.717040266088, 219.03333457643208, 158.37175019892433, 110.64455321514532, 110.55624220360195, 93.76769280518569, 91.15041383689784, 81.7268165695925, 82.7413070167935, 84.83794596709032, 79.49503588642129, 76.96553343590166, 77.06437986752027, 71.81031948026781, 70.47772006569157, 58.897904342819636, 54.71782180473852, 53.454449550622535, 51.324446575393175, 58.53824789934794, 48.98235395693912, 56.092634332503884, 42.15193758698757, 83.02224628048462, 40.65491004159788, 38.19828820296185, 38.769723582730045, 1915.4404787367826, 264.42497951340897, 1337.3344049223638, 66.78820150902477, 164.56156127012488, 344.60012605834146, 83.12307196046767, 346.75016568553883, 758.5161373916732, 216.91657865809043, 453.5984281109294, 674.2082424683026, 377.75270701801776, 261.33310352535824, 204.87431038931032, 170.3166393019567, 1135.982852614665, 122.62476052647862, 354.6532358489184, 232.04362128527336, 493.47927059591836, 193.64283725392738, 269.6844558314511, 520.2455280672913, 519.4816038468539, 1027.138369055363, 240.05306965367976, 510.5576820416875, 514.5876602243683, 312.23537401460067, 637.6496746527239, 283.4826504164153, 274.4357112778898, 170.97035386159126, 150.21961891154072, 134.02728601446347, 126.03431053269618, 122.33971539259691, 114.93059389712498, 110.1232201583509, 100.3717160025246, 105.40808580165015, 89.939299475269, 98.78305024209546, 75.63102096152573, 73.19443418604388, 71.96215006913982, 71.11345810095295, 70.43337337579733, 66.73271808286627, 65.60257919835843, 64.08698332994844, 65.42171487022551, 62.03080920324424, 61.333768773545756, 59.4035604378325, 59.42922986993143, 59.524003049747186, 69.746087028017, 57.21820926051961, 72.38508491950039, 78.51635166181664, 142.61833393579934, 240.0102938949008, 317.59411622220875, 301.00435366330305, 342.9741861121866, 211.17988451067833, 500.2870271212002, 152.6724978161442, 157.13985247187054, 281.3483514494804, 695.6252981366337, 267.38117415613374, 210.67274978109614, 1027.138369055363, 214.63689363742392, 382.94130426578965, 193.92644675500733, 215.81409325391598, 460.9083223075232, 458.1707477068756, 175.519646048407, 115.19408417152832, 115.48609472819929, 101.1383513872405, 90.35563262136569, 90.37248636715545, 106.9830650707061, 84.4740645185929, 78.22870707165957, 77.34002159982309, 74.70614477907802, 72.37489647565312, 69.1485510620213, 74.5957520510218, 69.7273128437649, 80.06796898127817, 63.2286248151046, 127.20442365146329, 58.796807085803394, 58.831579104940175, 57.50077869729046, 57.93456589798507, 58.12537477827562, 52.71069952142706, 51.82461462622414, 51.42935657375802, 50.72326907663485, 59.812972967246715, 50.79307988067261, 50.084301442856976, 110.55824169846274, 184.2939790665115, 147.36286227574897, 286.88508921771745, 111.9878076851849, 89.1601616511826, 366.72085566170483, 157.17511885685747, 600.9279335364254, 243.35904280824704, 91.53444230704521, 109.29507291563364, 243.82036978564227, 111.06027686336986, 246.5948726316707, 398.4736966731693, 265.0897422730041, 343.7907286189363, 156.3067646342942, 190.05725391691487, 276.5903254292874, 638.0061664528005, 412.757470676779, 254.27890116489843, 297.268258972011, 457.9098905361263, 674.2082424683026, 493.47927059591836, 293.4222055468689, 473.69284864682425, 1027.138369055363, 458.1707477068756, 308.5068821057569, 671.1762379402513, 255.99929609697753, 184.562171584364, 118.48478224276057, 106.25462323545452, 151.675060329032, 100.83451374137815, 100.6682392075109, 97.59358255475402, 72.76770492964123, 80.93236616486979, 135.62862810386318, 68.40383781758547, 62.657780167547486, 60.378764300351676, 54.649393050284125, 262.2471275072838, 45.17473174882812, 43.12940836273269, 42.587912712834715, 44.14944558567563, 44.46959375950975, 38.95342917445764, 36.401858336832554, 37.34923724402104, 35.665437568687096, 35.74323364972749, 180.85563067563328, 45.75032811190051, 33.67072488675883, 429.7756842819107, 62.31357474443334, 73.22449347453963, 210.41445391647196, 102.87138464422993, 63.848757085404785, 180.2431331561796, 234.89172243780607, 178.94320199733986, 213.56715195226892, 239.12180501675422, 483.98551793742, 326.72014261809585, 543.9635201881055, 383.5660686743495, 171.66744472452189, 1135.982852614665, 174.68745737805943, 427.6269344247867, 224.20653644140285, 1337.3344049223638, 1915.4404787367826, 319.91316297972753, 179.66451732754197, 149.1613768728794, 127.71693088154089, 123.09995310249816, 119.66364933284046, 116.51243552407725, 109.9298289585766, 85.96403091078537, 82.214041019942, 79.45510222265833, 63.6907515533147, 57.49062737972088, 57.586364510573915, 58.54955553760431, 51.488372955589185, 52.23559777073394, 49.36383283627546, 49.21524855186675, 48.9687888813556, 49.477314935029064, 46.9631728846493, 49.623323263918955, 42.29646254814407, 41.30597213189062, 41.68218092694103, 39.525390816758474, 39.05692891441264, 39.25438414629745, 37.5622407923517, 173.4016974974673, 68.73592193810462, 226.49308229002628, 293.4222055468689, 279.4219761954373, 150.21224730047555, 267.38117415613374, 111.84366518183026, 75.48446834031941, 355.0627067992547, 171.66744472452189, 226.9517056418993, 115.22130410829456, 301.00435366330305, 473.69284864682425, 342.9741861121866, 162.39277861582312, 1027.138369055363, 317.59411622220875], \"Category\": [\"Default\", \"Default\", \"Default\", \"Default\", \"Default\", \"Default\", \"Default\", \"Default\", \"Default\", \"Default\", \"Default\", \"Default\", \"Default\", \"Default\", \"Default\", \"Default\", \"Default\", \"Default\", \"Default\", \"Default\", \"Default\", \"Default\", \"Default\", \"Default\", \"Default\", \"Default\", \"Default\", \"Default\", \"Default\", \"Default\", \"Topic1\", \"Topic1\", \"Topic1\", \"Topic1\", \"Topic1\", \"Topic1\", \"Topic1\", \"Topic1\", \"Topic1\", \"Topic1\", \"Topic1\", \"Topic1\", \"Topic1\", \"Topic1\", \"Topic1\", \"Topic1\", \"Topic1\", \"Topic1\", \"Topic1\", \"Topic1\", \"Topic1\", \"Topic1\", \"Topic1\", \"Topic1\", \"Topic1\", \"Topic1\", \"Topic1\", \"Topic1\", \"Topic1\", \"Topic1\", \"Topic1\", \"Topic1\", \"Topic1\", \"Topic1\", \"Topic1\", \"Topic1\", \"Topic1\", \"Topic1\", \"Topic1\", \"Topic1\", \"Topic1\", \"Topic1\", \"Topic1\", \"Topic1\", \"Topic1\", \"Topic1\", \"Topic1\", \"Topic1\", \"Topic1\", \"Topic1\", \"Topic1\", \"Topic1\", \"Topic1\", \"Topic1\", \"Topic1\", \"Topic1\", \"Topic1\", \"Topic1\", \"Topic1\", \"Topic1\", \"Topic1\", \"Topic1\", \"Topic1\", \"Topic2\", \"Topic2\", \"Topic2\", \"Topic2\", \"Topic2\", \"Topic2\", \"Topic2\", \"Topic2\", \"Topic2\", \"Topic2\", \"Topic2\", \"Topic2\", \"Topic2\", \"Topic2\", \"Topic2\", \"Topic2\", \"Topic2\", \"Topic2\", \"Topic2\", \"Topic2\", \"Topic2\", \"Topic2\", \"Topic2\", \"Topic2\", \"Topic2\", \"Topic2\", \"Topic2\", \"Topic2\", \"Topic2\", \"Topic2\", \"Topic2\", \"Topic2\", \"Topic2\", \"Topic2\", \"Topic2\", \"Topic2\", \"Topic2\", \"Topic2\", \"Topic2\", \"Topic2\", \"Topic2\", \"Topic2\", \"Topic2\", \"Topic2\", \"Topic2\", \"Topic2\", \"Topic2\", \"Topic2\", \"Topic2\", \"Topic2\", \"Topic2\", \"Topic2\", \"Topic2\", \"Topic2\", \"Topic2\", \"Topic2\", \"Topic2\", \"Topic2\", \"Topic2\", \"Topic2\", \"Topic3\", \"Topic3\", \"Topic3\", \"Topic3\", \"Topic3\", \"Topic3\", \"Topic3\", \"Topic3\", \"Topic3\", \"Topic3\", \"Topic3\", \"Topic3\", \"Topic3\", \"Topic3\", \"Topic3\", \"Topic3\", \"Topic3\", \"Topic3\", \"Topic3\", \"Topic3\", \"Topic3\", \"Topic3\", \"Topic3\", \"Topic3\", \"Topic3\", \"Topic3\", \"Topic3\", \"Topic3\", \"Topic3\", \"Topic3\", \"Topic3\", \"Topic3\", \"Topic3\", \"Topic3\", \"Topic3\", \"Topic3\", \"Topic3\", \"Topic3\", \"Topic3\", \"Topic3\", \"Topic3\", \"Topic3\", \"Topic3\", \"Topic3\", \"Topic3\", \"Topic3\", \"Topic3\", \"Topic3\", \"Topic3\", \"Topic3\", \"Topic3\", \"Topic3\", \"Topic4\", \"Topic4\", \"Topic4\", \"Topic4\", \"Topic4\", \"Topic4\", \"Topic4\", \"Topic4\", \"Topic4\", \"Topic4\", \"Topic4\", \"Topic4\", \"Topic4\", \"Topic4\", \"Topic4\", \"Topic4\", \"Topic4\", \"Topic4\", \"Topic4\", \"Topic4\", \"Topic4\", \"Topic4\", \"Topic4\", \"Topic4\", \"Topic4\", \"Topic4\", \"Topic4\", \"Topic4\", \"Topic4\", \"Topic4\", \"Topic4\", \"Topic4\", \"Topic4\", \"Topic4\", \"Topic4\", \"Topic4\", \"Topic4\", \"Topic4\", \"Topic4\", \"Topic4\", \"Topic4\", \"Topic4\", \"Topic4\", \"Topic4\", \"Topic4\", \"Topic4\", \"Topic4\", \"Topic4\", \"Topic4\", \"Topic4\", \"Topic4\", \"Topic4\", \"Topic4\", \"Topic4\", \"Topic4\", \"Topic4\", \"Topic4\", \"Topic4\", \"Topic4\", \"Topic4\", \"Topic4\", \"Topic4\", \"Topic4\", \"Topic5\", \"Topic5\", \"Topic5\", \"Topic5\", \"Topic5\", \"Topic5\", \"Topic5\", \"Topic5\", \"Topic5\", \"Topic5\", \"Topic5\", \"Topic5\", \"Topic5\", \"Topic5\", \"Topic5\", \"Topic5\", \"Topic5\", \"Topic5\", \"Topic5\", \"Topic5\", \"Topic5\", \"Topic5\", \"Topic5\", \"Topic5\", \"Topic5\", \"Topic5\", \"Topic5\", \"Topic5\", \"Topic5\", \"Topic5\", \"Topic5\", \"Topic5\", \"Topic5\", \"Topic5\", \"Topic5\", \"Topic5\", \"Topic5\", \"Topic5\", \"Topic5\", \"Topic5\", \"Topic5\", \"Topic5\", \"Topic5\", \"Topic5\", \"Topic5\", \"Topic5\", \"Topic5\", \"Topic5\", \"Topic5\", \"Topic5\", \"Topic5\", \"Topic5\", \"Topic6\", \"Topic6\", \"Topic6\", \"Topic6\", \"Topic6\", \"Topic6\", \"Topic6\", \"Topic6\", \"Topic6\", \"Topic6\", \"Topic6\", \"Topic6\", \"Topic6\", \"Topic6\", \"Topic6\", \"Topic6\", \"Topic6\", \"Topic6\", \"Topic6\", \"Topic6\", \"Topic6\", \"Topic6\", \"Topic6\", \"Topic6\", \"Topic6\", \"Topic6\", \"Topic6\", \"Topic6\", \"Topic6\", \"Topic6\", \"Topic6\", \"Topic6\", \"Topic6\", \"Topic6\", \"Topic6\", \"Topic6\", \"Topic6\", \"Topic6\", \"Topic6\", \"Topic6\", \"Topic6\", \"Topic6\", \"Topic6\", \"Topic6\", \"Topic6\", \"Topic6\", \"Topic6\", \"Topic6\", \"Topic6\"], \"logprob\": [30.0, 29.0, 28.0, 27.0, 26.0, 25.0, 24.0, 23.0, 22.0, 21.0, 20.0, 19.0, 18.0, 17.0, 16.0, 15.0, 14.0, 13.0, 12.0, 11.0, 10.0, 9.0, 8.0, 7.0, 6.0, 5.0, 4.0, 3.0, 2.0, 1.0, -4.3949, -4.7607, -5.3089, -4.5673, -5.3393, -5.3424, -5.4273, -5.4941, -4.2104, -5.6237, -5.7935, -5.8054, -5.8113, -5.8583, -6.0396, -6.0452, -6.057, -5.873, -6.0685, -6.0793, -6.0806, -6.1491, -6.1699, -6.0903, -6.1669, -5.8055, -6.2009, -6.1882, -6.2234, -6.2402, -5.7436, -5.7148, -4.9055, -4.8085, -5.9341, -5.0404, -5.3289, -5.099, -5.5178, -5.1122, -5.1574, -5.8624, -5.4109, -4.9146, -4.8091, -5.0164, -4.8498, -4.8745, -4.8094, -4.8702, -4.8911, -5.0324, -4.8963, -4.5023, -4.4721, -4.7782, -5.0495, -4.9675, -5.1676, -5.0813, -5.2569, -5.2338, -5.3085, -2.842, -3.5524, -4.6731, -4.2586, -4.7151, -5.0408, -5.4017, -5.4025, -5.5686, -5.5972, -5.7073, -5.6951, -5.6702, -5.7354, -5.7682, -5.7674, -5.8384, -5.8572, -6.0389, -6.1136, -6.1382, -6.1788, -6.0475, -6.2264, -6.0931, -6.3791, -5.7018, -6.4163, -6.4801, -6.4654, -2.6019, -4.5829, -3.0147, -5.9365, -5.0862, -4.4178, -5.7363, -4.4407, -3.7557, -4.9204, -4.3376, -4.0241, -4.5367, -4.8923, -5.083, -5.2281, -3.945, -5.4715, -4.8737, -5.1483, -4.7558, -5.2597, -5.142, -4.8917, -4.908, -4.7481, -5.2167, -5.0662, -5.0942, -5.1893, -3.379, -4.1913, -4.2238, -4.6989, -4.829, -4.9438, -5.0057, -5.0357, -5.0985, -5.1416, -5.2351, -5.1864, -5.3458, -5.2527, -5.5212, -5.5541, -5.5712, -5.5833, -5.5929, -5.6476, -5.6649, -5.6888, -5.6683, -5.7217, -5.733, -5.7656, -5.7653, -5.7637, -5.6055, -5.8035, -5.5688, -5.495, -4.9532, -4.5613, -4.3418, -4.3985, -4.607, -4.9307, -4.4794, -5.1813, -5.1666, -4.8542, -4.4285, -5.0001, -5.135, -4.5193, -5.1992, -5.0467, -5.2557, -5.252, -5.2344, -5.2363, -4.6541, -5.0779, -5.0757, -5.2096, -5.3226, -5.3224, -5.154, -5.3906, -5.4685, -5.48, -5.5148, -5.547, -5.5929, -5.5171, -5.5848, -5.4468, -5.6837, -4.9851, -5.7574, -5.7569, -5.7799, -5.7724, -5.7702, -5.8683, -5.8854, -5.8933, -5.9075, -5.7428, -5.9064, -5.9206, -5.1329, -4.6297, -4.8522, -4.2362, -5.1545, -5.3733, -4.0597, -4.8743, -3.7137, -4.527, -5.3765, -5.2328, -4.5653, -5.2512, -4.7311, -4.4584, -4.7171, -4.581, -5.066, -5.0055, -4.8519, -4.4929, -4.6916, -4.9125, -4.9003, -4.7872, -4.693, -5.0322, -5.1273, -5.0981, -5.0704, -5.1124, -5.1254, -2.8772, -3.843, -4.1727, -4.6171, -4.7269, -4.3713, -4.7797, -4.7814, -4.8128, -5.109, -5.0033, -4.4873, -5.1725, -5.2605, -5.2996, -5.3995, -3.8337, -5.5927, -5.6404, -5.6532, -5.6179, -5.6109, -5.7444, -5.8133, -5.788, -5.8342, -5.8323, -4.2117, -5.5863, -5.893, -3.3827, -5.2933, -5.1399, -4.1353, -4.8172, -5.2866, -4.3593, -4.2284, -4.4877, -4.3763, -4.3765, -4.0059, -4.3077, -4.0179, -4.3278, -4.761, -3.9128, -4.8139, -4.514, -4.7869, -4.4606, -4.6908, -3.4675, -4.0465, -4.2336, -4.3898, -4.4269, -4.4553, -4.4823, -4.5408, -4.7889, -4.8339, -4.8684, -5.0922, -5.1961, -5.1945, -5.178, -5.3081, -5.2941, -5.3509, -5.3541, -5.3591, -5.3489, -5.4017, -5.3467, -5.5087, -5.5326, -5.5238, -5.5777, -5.5899, -5.5849, -5.6299, -4.1277, -5.1449, -4.2624, -4.2049, -4.2587, -4.72, -4.3931, -4.9324, -5.2111, -4.6891, -4.9973, -4.9529, -5.1587, -4.9761, -4.9881, -5.035, -5.1421, -5.133, -5.174], \"loglift\": [30.0, 29.0, 28.0, 27.0, 26.0, 25.0, 24.0, 23.0, 22.0, 21.0, 20.0, 19.0, 18.0, 17.0, 16.0, 15.0, 14.0, 13.0, 12.0, 11.0, 10.0, 9.0, 8.0, 7.0, 6.0, 5.0, 4.0, 3.0, 2.0, 1.0, 1.173, 1.1723, 1.1704, 1.1703, 1.1703, 1.1702, 1.1698, 1.1695, 1.1688, 1.1687, 1.1676, 1.1674, 1.1674, 1.167, 1.1655, 1.1653, 1.1653, 1.1652, 1.1651, 1.1651, 1.165, 1.1645, 1.1642, 1.1641, 1.1641, 1.1641, 1.1637, 1.1637, 1.1632, 1.1627, 1.1615, 1.1579, 1.1407, 1.1335, 1.1571, 1.1274, 1.1378, 1.1097, 1.1321, 1.1057, 1.0415, 1.1269, 1.0265, 0.9021, 0.7664, 0.796, 0.7192, 0.6318, 0.5939, 0.5965, 0.5582, 0.6469, 0.5515, 0.2654, 0.1948, 0.3791, 0.4706, 0.2763, 0.585, 0.3774, 0.5798, 0.3411, 0.8288, 1.6009, 1.6002, 1.5981, 1.5979, 1.5979, 1.5964, 1.5941, 1.5941, 1.5928, 1.5925, 1.5915, 1.5914, 1.5912, 1.5911, 1.5906, 1.5902, 1.5898, 1.5896, 1.5874, 1.5864, 1.5852, 1.5852, 1.5849, 1.5844, 1.5821, 1.5817, 1.5813, 1.5807, 1.5793, 1.5791, 1.5426, 1.5417, 1.489, 1.5641, 1.5127, 1.442, 1.5456, 1.4129, 1.3151, 1.4022, 1.2473, 1.1645, 1.2312, 1.2441, 1.2968, 1.3364, 0.7219, 1.4215, 0.9573, 1.1069, 0.7449, 1.1764, 0.9629, 0.5561, 0.5414, 0.0195, 1.0046, 0.4005, 0.3646, 0.7691, 1.8654, 1.8637, 1.8637, 1.8617, 1.8611, 1.8603, 1.8599, 1.8597, 1.8593, 1.859, 1.8582, 1.8579, 1.8573, 1.8566, 1.8551, 1.855, 1.8548, 1.8546, 1.8546, 1.8539, 1.8537, 1.8532, 1.853, 1.8529, 1.8528, 1.8522, 1.8521, 1.8521, 1.8518, 1.8518, 1.8514, 1.8439, 1.7888, 1.6602, 1.5996, 1.5966, 1.2575, 1.4187, 1.0076, 1.4925, 1.4785, 1.2084, 0.7289, 1.1134, 1.2169, 0.2483, 1.134, 0.7075, 1.179, 1.0758, 0.3345, 0.3386, 1.8804, 1.8776, 1.8773, 1.876, 1.8758, 1.8758, 1.8755, 1.8751, 1.874, 1.874, 1.8738, 1.8733, 1.873, 1.873, 1.8727, 1.8725, 1.8717, 1.8712, 1.8707, 1.8706, 1.8705, 1.8705, 1.8693, 1.869, 1.8689, 1.8687, 1.8683, 1.8682, 1.868, 1.8679, 1.8637, 1.8559, 1.857, 1.8069, 1.8293, 1.8384, 1.7378, 1.7705, 1.59, 1.6806, 1.8089, 1.7753, 1.6405, 1.7409, 1.4634, 1.2562, 1.405, 1.2811, 1.5843, 1.4493, 1.2277, 0.7509, 0.9877, 1.2512, 1.1072, 0.7883, 0.4956, 0.4685, 0.8932, 0.4435, -0.3028, 0.4625, 0.8451, 2.316, 2.314, 2.3115, 2.3102, 2.3094, 2.3091, 2.309, 2.3089, 2.3085, 2.3059, 2.3053, 2.3049, 2.3042, 2.3039, 2.302, 2.3017, 2.2992, 2.2989, 2.2976, 2.2974, 2.2967, 2.2964, 2.2954, 2.2943, 2.2939, 2.2938, 2.2935, 2.2928, 2.2926, 2.2925, 2.2562, 2.2767, 2.2688, 2.2178, 2.2515, 2.2591, 2.1485, 2.0146, 2.0274, 1.9619, 1.8487, 1.5142, 1.6054, 1.3854, 1.4249, 1.7956, 0.7541, 1.7253, 1.1299, 1.5027, 0.0431, -0.5463, 2.4666, 2.4645, 2.4636, 2.4626, 2.4623, 2.4622, 2.4619, 2.4615, 2.4594, 2.4589, 2.4586, 2.4559, 2.4545, 2.4544, 2.4543, 2.4527, 2.4523, 2.4521, 2.4519, 2.4519, 2.4518, 2.4511, 2.451, 2.4487, 2.4485, 2.4483, 2.4475, 2.4473, 2.4472, 2.4463, 2.4188, 2.327, 2.0171, 1.8157, 1.8108, 1.9701, 1.7204, 2.0527, 2.1671, 1.1408, 1.5593, 1.3246, 1.7967, 1.0189, 0.5535, 0.8296, 1.4701, -0.3654, 0.7674]}, \"token.table\": {\"Topic\": [2, 5, 5, 1, 4, 1, 3, 6, 1, 6, 2, 1, 4, 1, 4, 1, 5, 6, 6, 3, 2, 5, 2, 1, 2, 5, 1, 2, 3, 4, 5, 6, 4, 5, 2, 3, 6, 1, 2, 5, 1, 2, 1, 2, 6, 5, 3, 1, 2, 3, 5, 6, 1, 2, 3, 4, 5, 6, 5, 2, 5, 1, 1, 2, 2, 3, 6, 6, 3, 1, 4, 1, 2, 4, 1, 2, 3, 4, 5, 6, 1, 2, 3, 4, 5, 6, 1, 3, 5, 6, 1, 2, 4, 5, 1, 2, 5, 6, 1, 2, 4, 6, 2, 1, 3, 1, 4, 5, 1, 2, 3, 4, 5, 6, 3, 6, 2, 5, 2, 5, 1, 2, 3, 4, 6, 3, 3, 3, 3, 1, 5, 6, 2, 5, 2, 5, 2, 4, 5, 6, 4, 1, 6, 5, 5, 4, 5, 1, 1, 6, 1, 5, 5, 6, 2, 4, 4, 1, 2, 4, 1, 2, 4, 5, 6, 1, 2, 1, 3, 4, 4, 5, 1, 2, 4, 2, 4, 6, 3, 5, 2, 4, 1, 2, 3, 4, 3, 2, 5, 1, 1, 2, 3, 4, 5, 6, 3, 1, 1, 1, 2, 3, 5, 2, 4, 5, 2, 4, 6, 2, 2, 1, 6, 1, 6, 1, 2, 3, 6, 2, 5, 1, 3, 4, 6, 3, 2, 3, 6, 1, 1, 2, 3, 5, 4, 5, 6, 3, 4, 5, 6, 4, 3, 5, 6, 3, 2, 5, 2, 3, 4, 6, 1, 1, 3, 3, 6, 1, 2, 3, 5, 3, 3, 4, 6, 1, 2, 3, 4, 5, 4, 3, 1, 2, 3, 4, 6, 2, 1, 2, 3, 4, 4, 6, 4, 3, 3, 5, 1, 2, 3, 4, 2, 3, 1, 2, 4, 5, 6, 1, 2, 4, 5, 1, 3, 4, 6, 6, 6, 2, 3, 4, 1, 2, 3, 4, 5, 2, 4, 6, 3, 5, 4, 5, 5, 1, 2, 5, 4, 1, 4, 5, 6, 1, 5, 1, 5, 6, 5, 1, 3, 6, 3, 5, 4, 1, 4, 2, 4, 2, 5, 6, 5, 1, 2, 5, 3, 1, 2, 3, 1, 1, 2, 6, 1, 2, 5, 1, 2, 1, 2, 4, 5, 6, 4, 4, 1, 6, 1, 5, 2, 4, 5, 1, 2, 2, 3, 1, 2, 6, 1, 4, 6, 6, 1, 2, 4, 1, 1, 4, 5, 1, 2, 3, 4, 6, 1, 2, 3, 6, 1, 3, 6, 4, 1, 2, 4, 6, 1, 2, 3, 4, 6, 2, 2, 2, 4, 2, 3, 2, 4, 5, 1, 3, 4, 5, 6, 3, 6, 6, 4, 6, 6, 1, 2, 6, 1, 1, 4, 4, 1, 4, 1, 4, 5, 6, 5, 6, 1, 2, 5, 1, 1, 6, 4, 2, 1, 2, 3, 4, 1, 2, 5, 1, 4, 5, 1, 2, 3, 5, 6, 5, 4, 1, 4, 1, 2, 1, 2, 3, 4, 1, 2, 3, 4, 5, 6, 2, 1, 1, 3, 5, 1, 4, 5, 6, 5, 4, 1, 2, 3, 3, 4, 3, 5, 1, 2, 3, 4, 5, 2, 2, 5, 1, 2, 4, 5, 1, 2, 4, 5, 1, 2, 4, 5, 6, 4, 1, 2, 4, 5, 2, 3, 1, 3, 4, 1, 2, 3, 4, 5, 6, 3, 1, 6, 3, 5, 2, 5, 2, 2, 2, 3, 4, 6, 5, 6, 1, 6, 2, 4, 1, 4, 3, 5, 3, 3, 4, 4, 1, 2, 3, 5, 6, 3, 1, 6, 4, 1, 3, 6, 1, 2, 6, 1, 2, 4, 5, 3, 4, 5, 6, 6, 3, 1, 2, 4, 6, 5], \"Freq\": [0.8318059057736135, 0.16309919721051244, 0.9895020192897263, 0.9609451612098276, 0.037807678473829286, 0.9850304657871596, 0.9808650508452018, 0.9852331669276843, 0.9931550127015578, 0.9802161968166532, 0.9799447376946662, 0.6638860751491373, 0.3341268733480856, 0.2559070305983665, 0.7421303887352628, 0.5553150223536552, 0.4093167066174829, 0.033892466153039986, 0.968044737585935, 0.9911967773855994, 0.9175897386640381, 0.07899779207041388, 0.9918128218555973, 0.2201667067681206, 0.7514672027414896, 0.029003997298794333, 0.1691089369070716, 0.06997611182361584, 0.5423148666330228, 0.00874701397795198, 0.011662685303935973, 0.19534997884092756, 0.04698603601613055, 0.939720720322611, 0.974194625295226, 0.7641085492646164, 0.23587698694690332, 0.0029910245225704874, 0.8935685761179332, 0.10319034602868181, 0.012044964389683853, 0.9756421155643921, 0.25869519657826934, 0.7370372581758239, 0.986707511149119, 0.981342228946286, 0.9938470450153641, 0.3258129656848196, 0.02798393570299064, 0.4237567406452868, 0.14391738361538042, 0.07795524945833106, 0.45139243906325643, 0.1408804427649654, 0.32057488506721715, 0.001437555538418014, 0.06037733261355659, 0.025875999691524255, 0.9969540259548418, 0.9874549893595452, 0.973964665457802, 0.9974722030308825, 0.9637366713584148, 0.03194707197873198, 0.05609968632735881, 0.47123736514981396, 0.47123736514981396, 0.9956018812775452, 0.9890492193128154, 0.0336473145005812, 0.9533405775164673, 0.33566952912781545, 0.6558466184497317, 0.010328293203932783, 0.40751957217835877, 0.1316601694730082, 0.047021489097502936, 0.32131350883293675, 0.006269531879667058, 0.08620606334542205, 0.14944220627789018, 0.12191337880564725, 0.027528827472242928, 0.5309131012503994, 0.11404799952786356, 0.05112496530559401, 0.4103359405136902, 0.11150433166132886, 0.4415571533788623, 0.03122121286517208, 0.11022965888182552, 0.7010606304884103, 0.17416286103328432, 0.015432152243455573, 0.3750056605339472, 0.414618934534012, 0.20951020471145404, 0.9943865634995108, 0.014972704420927919, 0.9582530829393868, 0.6281067475377343, 0.36947455737513785, 0.9861884327188511, 0.994177825077126, 0.005383634431825593, 0.5887234447908704, 0.4070186778801079, 0.0024227302254768326, 0.23855120532809754, 0.1456640103330861, 0.16677473646831598, 0.23644013271457456, 0.0654432510192126, 0.1477750829466091, 0.9989811417169189, 0.9753074791324882, 0.006593041715827759, 0.9889562573741639, 0.05816988004282087, 0.9400252614919853, 0.13900853066487884, 0.0834051183989273, 0.45409453350527085, 0.20851279599731826, 0.11120682453190306, 0.9787094130301598, 0.9917934209476407, 0.9962966060825816, 0.9782539243842939, 0.44078722740440507, 0.5552774163406141, 0.9914659588513389, 0.9801462710692909, 0.9982474976410651, 0.015252788612103682, 0.9838048654806875, 0.10362104967123686, 0.8616908341081803, 0.024541827553713993, 0.005453739456380887, 0.9826736329767698, 0.9955187281736703, 0.9794908898720484, 0.9940962695885223, 0.9894401158227507, 0.9703937463729153, 0.020357910763068154, 0.9934110291362845, 0.9979026290279072, 0.9891546019403386, 0.9886243182727672, 0.9771647479651443, 0.4860212304780594, 0.5120580821108126, 0.9932216867224665, 0.9908110216317285, 0.986516977997263, 0.17207024276043026, 0.6909282055457276, 0.13500895970433757, 0.20096796407525927, 0.41814302202755554, 0.3533146465194074, 0.0032414187754074074, 0.02268993142785185, 0.9591925684280186, 0.03836770273712074, 0.9650029843713348, 0.0034963876245338215, 0.031467488620804396, 0.24588807794248646, 0.748840964643027, 0.5807661750700764, 0.2567597826625601, 0.16098430817731946, 0.5498784089303004, 0.29160218655394715, 0.15413258432137208, 0.9984123375348603, 0.9933619658715453, 0.9805208946681483, 0.9896341536970745, 0.6335316284551147, 0.0412229484268739, 0.21696288645723105, 0.10848144322861553, 0.9916565854393696, 0.7691556182467193, 0.22898526039406147, 0.9856295840151019, 0.4030615664574451, 0.20542509788048532, 0.1986100472399005, 0.11196154623817921, 0.02239230924763584, 0.058414719776441325, 0.9843425122236035, 0.9919151285324715, 0.9859370582100988, 0.13638996751859228, 0.8531627755418326, 0.008705742607569721, 0.9917239275480763, 0.004181969101186462, 0.3680132809044086, 0.6272953651779692, 0.9992008645851456, 0.9948200758286511, 0.9729387603226886, 0.9868813892610696, 0.9914983775075232, 0.9904346236450415, 0.00825362186370868, 0.9885750730650985, 0.9850317558140412, 0.08523539086929384, 0.004735299492738547, 0.6392654315197038, 0.2651767715933586, 0.05832525751209027, 0.9332041201934443, 0.1674365032530715, 0.4229974819024964, 0.08812447539635342, 0.3172481114268723, 0.9890201073189255, 0.9847549016753921, 0.9919029923576488, 0.976345675679695, 0.9959674964561289, 0.4708824934312503, 0.5244559507677399, 0.002819655649288924, 0.002819655649288924, 0.8907262231975839, 0.0063623301656970275, 0.10179728265115244, 0.02104628956571494, 0.6471734041457343, 0.03156943434857241, 0.29990962631143786, 0.9866617201002328, 0.7651275246862003, 0.05037876705752759, 0.18262303058353752, 0.9982974252014847, 0.9686297931311767, 0.9755238705638061, 0.42720285415895676, 0.522136821749836, 0.018986793518175855, 0.028480190277263784, 0.9950985135420274, 0.9964729575064191, 0.0025682292719237604, 0.33081891531225405, 0.6616378306245081, 0.8635270851515293, 0.10858723825258751, 0.010341641738341668, 0.015512462607512502, 0.9927774620187598, 0.680922110571244, 0.0063637580427219065, 0.3118241440933734, 0.2456434686042262, 0.6076443697051911, 0.09480975981215747, 0.008619069073832497, 0.03878581083224624, 0.9840883597076114, 0.9830389374960565, 0.7616454357483127, 0.16122421632628514, 0.05003510161850229, 0.022237822941556573, 0.0027797278676945716, 0.9911067554066101, 0.3093956549196184, 0.1598544217084695, 0.5001896421200498, 0.025782971243301533, 0.9864080829472914, 0.9915416137058943, 0.9912909232077225, 0.9898003331473982, 0.9866415769630824, 0.9792063119691142, 0.18906850763868951, 0.14834605983958715, 0.11344110458321371, 0.5468442990165174, 0.30784850364208843, 0.6877466570727507, 0.2455694403850673, 0.010091894810345232, 0.4608631963390989, 0.2792090897528847, 0.006727929873563488, 0.4285012821007685, 0.03978940476649993, 0.03978940476649993, 0.48971575097230685, 0.1684753503583824, 0.012327464660369443, 0.8136126675843833, 0.004109154886789815, 0.9683829706822871, 0.989817650140664, 0.04464771749131634, 0.008929543498263267, 0.9465316108159063, 0.5601717691452693, 0.3016309526166835, 0.017627782945130854, 0.052883348835392564, 0.06659384668160545, 0.820591957982927, 0.15213221692941903, 0.023050335898396824, 0.14979766234203587, 0.8433053583699797, 0.9838685958287715, 0.9894499224568988, 0.9959084851777226, 0.7085535660243828, 0.10724053972260929, 0.1800109059629513, 0.9842933992180896, 0.006657246782279078, 0.37946306658990747, 0.006657246782279078, 0.6058094571873961, 0.09029797928018013, 0.9077323180270739, 0.02731326507154885, 0.9559642775042098, 0.013656632535774425, 0.9889604994032423, 0.13332761474811003, 0.8124651523712956, 0.049997855530541264, 0.032095735290466, 0.96287205871398, 0.9920135928033231, 0.1260576724225465, 0.864395468040319, 0.06554909658894806, 0.9286122016767642, 0.9908051928668344, 0.980079879806134, 0.9906138392929157, 0.9738134974346508, 0.09791745644033868, 0.1617766671622987, 0.7407668443747362, 0.993553900703122, 0.03609106267663885, 0.9503979838181563, 0.012030354225546283, 0.9900354274627122, 0.9935278831524094, 0.972671776128669, 0.9944540440096846, 0.9948176554273869, 0.9950333941747087, 0.0028925389365543857, 0.05672686456326018, 0.9416659517501191, 0.5362852440778937, 0.35175698805109157, 0.021143862669737744, 0.0864976200125635, 0.0038443386672250444, 0.9970393852762005, 0.9783504728703445, 0.9859845434406043, 0.008803433423576824, 0.007373074652308722, 0.9879920034093688, 0.03834287808402648, 0.9237147902060925, 0.03485716189456953, 0.9378916929169249, 0.06170340084979769, 0.517152471408327, 0.47988022121673585, 0.14572534246921945, 0.10598206725034143, 0.74187447075239, 0.9861108715850528, 0.9806388383288974, 0.9874389052783941, 0.9693482038440362, 0.4635046525563313, 0.5265412853039924, 0.0074160744409013, 0.9950859850588748, 0.14047104025952847, 0.1545181442854813, 0.7023552012976423, 0.28463892190732687, 0.23241159678671644, 0.31336395072366263, 0.023502296304274695, 0.1462365103377092, 0.17015132460962104, 0.827685256999343, 0.992335247209642, 0.9903528529052992, 0.47627789290267575, 0.5189296445059004, 0.003554312633602058, 0.9943880465407396, 0.007157633151234789, 0.14673147960031316, 0.32925112495680026, 0.5189284034645222, 0.010224175073623745, 0.006816116715749164, 0.08860951730473912, 0.3714783610083294, 0.521432928754811, 0.9887158351873024, 0.9986709276657678, 0.9952822953710203, 0.9895691829485159, 0.9949686947338752, 0.9895562954042434, 0.9941745599180829, 0.984386064350975, 0.9960964888880047, 0.2591091608277941, 0.1746170431665569, 0.2985388157363715, 0.0028164039220412405, 0.2647419686718766, 0.9255472025035767, 0.07011721231087702, 0.9910645530337262, 0.9958783211336895, 0.983633751599113, 0.9971455910997155, 0.08729060192722642, 0.04364530096361321, 0.8729060192722642, 0.9911977522527631, 0.996013422002699, 0.9957908808905234, 0.9833900921366938, 0.9341503759214882, 0.062276691728099215, 0.49381642867856024, 0.039257372991182614, 0.44836052310982244, 0.016529420206813732, 0.9939178116099898, 0.9942722089591807, 0.5389988748909491, 0.34649927671561015, 0.11164976694169661, 0.9861381087671647, 0.985765795719494, 0.9963013435405806, 0.9864481232009658, 0.9901229814378655, 0.4343358911409911, 0.10694702847190232, 0.21607664936159857, 0.24008516595733173, 0.9517799766004148, 0.026937169149068345, 0.008979056383022781, 0.45193193148021826, 0.5170101296133697, 0.025308188162892223, 0.30400330179123713, 0.2502181022435567, 0.13563224233762886, 0.30400330179123713, 0.00233848693685567, 0.9739958223690262, 0.9857408820487871, 0.9842588892279027, 0.009942008982100028, 0.9827831480229602, 0.007990106894495612, 0.9948715591625984, 0.9983420304168813, 0.10064497608680906, 0.8966552415006626, 0.45084641147213744, 0.28955222116098484, 0.18267052878612466, 0.033036159461320415, 0.025262945470421495, 0.019433034977247306, 0.9937727446638482, 0.9916307230827648, 0.9948883666336514, 0.9893028116729, 0.9884796873111255, 0.005426113240732087, 0.9712742700910435, 0.005426113240732087, 0.01627833972219626, 0.9881171040694523, 0.9916515274084315, 0.8757323143735054, 0.07331712399406091, 0.048878082662707274, 0.00786136182449105, 0.9826702280613814, 0.9908147026272177, 0.9861953151637428, 0.5501091551296332, 0.031191756218690542, 0.12476702487476217, 0.15028755269005442, 0.14461632428665616, 0.9838909976451116, 0.022117088558741352, 0.9731518965846194, 0.08454361191331744, 0.6452012488121593, 0.24918117195504086, 0.019281876401282923, 0.3303076941877692, 0.423523362486158, 0.24317130860449265, 0.0020264275717041054, 0.6836050511091379, 0.002767631785866955, 0.06642316286080692, 0.2269458064410903, 0.019373422501068684, 0.9858650895047903, 0.5588610057800847, 0.01654522714480514, 0.029413737146320246, 0.39340873433203327, 0.012736200534471737, 0.9806874411543238, 0.33658445171312995, 0.004055234357989518, 0.6569479659943018, 0.04266279089920334, 0.11795006895662101, 0.19574692294928592, 0.5320300982724182, 0.07026812618692316, 0.04015321496395609, 0.9920730303409707, 0.9991105317544301, 0.988785647897481, 0.9866297759556182, 0.9835995031540476, 0.9423419939367591, 0.05690597082498988, 0.9910406658593991, 0.9873789510275142, 0.01640552019306939, 0.06152070072401021, 0.7833635892190633, 0.13534554159282247, 0.5941720642704352, 0.40193992583000027, 0.9892218246051558, 0.9922139571434154, 0.9976526735452668, 0.9905477015155013, 0.2546062372231626, 0.7438495950245338, 0.9836813522868707, 0.9638751057965171, 0.9833823028188011, 0.9943244320452375, 0.9960640791166173, 0.9887446119931107, 0.3170684946010332, 0.435568841068086, 0.13771661886711545, 0.0032027120666771034, 0.1056894982003444, 0.9932064604401138, 0.04613564985496666, 0.9515477782586874, 0.9805685349207358, 0.9516415985118938, 0.003948720325775493, 0.03948720325775493, 0.3134753577554475, 0.04856660472267497, 0.635781007278654, 0.2793369803336702, 0.7002557178227623, 0.019132669885867825, 0.0038265339771735647, 0.009045006366213805, 0.9768606875510909, 0.009045006366213805, 0.9926295667218106, 0.9905148885553167, 0.9918810943578621, 0.022633844480564123, 0.24897228928620535, 0.618658415802086, 0.10562460757596591, 0.9881922950997215], \"Term\": [\"wildberries\", \"wildberries\", \"\\u0430\\u0431\\u043e\\u043d\\u0435\\u043c\\u0435\\u043d\\u0442\", \"\\u0430\\u0432\\u0433\\u0443\\u0441\\u0442\", \"\\u0430\\u0432\\u0433\\u0443\\u0441\\u0442\", \"\\u0430\\u0432\\u0438\\u0430\\u043a\\u043e\\u043c\\u043f\\u0430\\u043d\\u0438\\u044f\", \"\\u0430\\u0432\\u0442\\u043e\\u043c\\u043e\\u0431\\u0438\\u043b\\u044c\", \"\\u0430\\u0434\\u043c\\u0438\\u043d\\u0438\\u0441\\u0442\\u0440\\u0430\\u0446\\u0438\\u044f\", \"\\u0430\\u043a\\u0442\", \"\\u0430\\u043f\\u0442\\u0435\\u043a\\u0430\", \"\\u0430\\u0440\\u0442\\u0438\\u043a\\u0443\\u043b\", \"\\u0431\\u0430\\u043d\\u043a\", \"\\u0431\\u0430\\u043d\\u043a\", \"\\u0431\\u0430\\u043d\\u043a\\u043e\\u0432\\u0441\\u043a\\u0438\\u0439\", \"\\u0431\\u0430\\u043d\\u043a\\u043e\\u0432\\u0441\\u043a\\u0438\\u0439\", \"\\u0431\\u0438\\u043b\\u0435\\u0442\", \"\\u0431\\u0438\\u043b\\u0435\\u0442\", \"\\u0431\\u0438\\u043b\\u0435\\u0442\", \"\\u0431\\u043e\\u043b\\u044c\\u043d\\u0438\\u0446\\u0430\", \"\\u0431\\u043e\\u043b\\u044c\\u0448\\u0438\\u0439\", \"\\u0431\\u0440\\u0430\\u043a\", \"\\u0431\\u0440\\u0430\\u043a\", \"\\u0432\\u0430\\u0439\\u043b\\u0434\\u0431\\u0435\\u0440\\u0440\\u0438\\u0437\", \"\\u0432\\u0435\\u0440\\u043d\\u0443\\u0442\\u044c\", \"\\u0432\\u0435\\u0440\\u043d\\u0443\\u0442\\u044c\", \"\\u0432\\u0435\\u0440\\u043d\\u0443\\u0442\\u044c\", \"\\u0432\\u0435\\u0441\\u044c\", \"\\u0432\\u0435\\u0441\\u044c\", \"\\u0432\\u0435\\u0441\\u044c\", \"\\u0432\\u0435\\u0441\\u044c\", \"\\u0432\\u0435\\u0441\\u044c\", \"\\u0432\\u0435\\u0441\\u044c\", \"\\u0432\\u0435\\u0447\\u0435\\u0440\", \"\\u0432\\u0435\\u0447\\u0435\\u0440\", \"\\u0432\\u043b\\u043e\\u0436\\u0435\\u043d\\u0438\\u0435\", \"\\u0432\\u043e\\u0434\\u0430\", \"\\u0432\\u043e\\u0434\\u0430\", \"\\u0432\\u043e\\u0437\\u0432\\u0440\\u0430\\u0442\", \"\\u0432\\u043e\\u0437\\u0432\\u0440\\u0430\\u0442\", \"\\u0432\\u043e\\u0437\\u0432\\u0440\\u0430\\u0442\", \"\\u0432\\u043e\\u0437\\u0432\\u0440\\u0430\\u0442\\u0438\\u0442\\u044c\", \"\\u0432\\u043e\\u0437\\u0432\\u0440\\u0430\\u0442\\u0438\\u0442\\u044c\", \"\\u0432\\u043e\\u0437\\u0432\\u0440\\u0430\\u0449\\u0430\\u0442\\u044c\", \"\\u0432\\u043e\\u0437\\u0432\\u0440\\u0430\\u0449\\u0430\\u0442\\u044c\", \"\\u0432\\u043e\\u0437\\u043d\\u0438\\u043a\\u043d\\u0443\\u0442\\u044c\", \"\\u0432\\u043e\\u0441\\u043f\\u043e\\u043b\\u044c\\u0437\\u043e\\u0432\\u0430\\u0442\\u044c\\u0441\\u044f\", \"\\u0432\\u0440\\u0430\\u0447\", \"\\u0432\\u0440\\u0435\\u043c\\u044f\", \"\\u0432\\u0440\\u0435\\u043c\\u044f\", \"\\u0432\\u0440\\u0435\\u043c\\u044f\", \"\\u0432\\u0440\\u0435\\u043c\\u044f\", \"\\u0432\\u0440\\u0435\\u043c\\u044f\", \"\\u0432\\u0441\\u0451\", \"\\u0432\\u0441\\u0451\", \"\\u0432\\u0441\\u0451\", \"\\u0432\\u0441\\u0451\", \"\\u0432\\u0441\\u0451\", \"\\u0432\\u0441\\u0451\", \"\\u0432\\u044b\\u0434\\u0430\\u0447\\u0430\", \"\\u0432\\u044b\\u0439\\u0442\\u0438\", \"\\u0432\\u044b\\u0448\\u0435\\u0443\\u043a\\u0430\\u0437\\u0430\\u043d\\u043d\\u044b\\u0439\", \"\\u0433\\u0430\\u0440\\u0430\\u043d\\u0442\\u0438\\u0439\\u043d\\u044b\\u0439\", \"\\u0433\\u0430\\u0440\\u0430\\u043d\\u0442\\u0438\\u044f\", \"\\u0433\\u0430\\u0440\\u0430\\u043d\\u0442\\u0438\\u044f\", \"\\u0433\\u043e\\u0440\\u043e\\u0434\", \"\\u0433\\u043e\\u0440\\u043e\\u0434\", \"\\u0433\\u043e\\u0440\\u043e\\u0434\", \"\\u0433\\u0440\\u0443\\u043f\\u043f\\u0430\", \"\\u0434\\u0430\\u0432\\u0430\\u0442\\u044c\", \"\\u0434\\u0430\\u043d\\u043d\\u044b\\u0435\", \"\\u0434\\u0430\\u043d\\u043d\\u044b\\u0435\", \"\\u0434\\u0430\\u0442\\u0430\", \"\\u0434\\u0430\\u0442\\u0430\", \"\\u0434\\u0430\\u0442\\u0430\", \"\\u0434\\u0430\\u0442\\u044c\", \"\\u0434\\u0430\\u0442\\u044c\", \"\\u0434\\u0430\\u0442\\u044c\", \"\\u0434\\u0430\\u0442\\u044c\", \"\\u0434\\u0430\\u0442\\u044c\", \"\\u0434\\u0430\\u0442\\u044c\", \"\\u0434\\u0435\\u0439\\u0441\\u0442\\u0432\\u0438\\u0435\", \"\\u0434\\u0435\\u0439\\u0441\\u0442\\u0432\\u0438\\u0435\", \"\\u0434\\u0435\\u0439\\u0441\\u0442\\u0432\\u0438\\u0435\", \"\\u0434\\u0435\\u0439\\u0441\\u0442\\u0432\\u0438\\u0435\", \"\\u0434\\u0435\\u0439\\u0441\\u0442\\u0432\\u0438\\u0435\", \"\\u0434\\u0435\\u0439\\u0441\\u0442\\u0432\\u0438\\u0435\", \"\\u0434\\u0435\\u043b\\u0430\\u0442\\u044c\", \"\\u0434\\u0435\\u043b\\u0430\\u0442\\u044c\", \"\\u0434\\u0435\\u043b\\u0430\\u0442\\u044c\", \"\\u0434\\u0435\\u043b\\u0430\\u0442\\u044c\", \"\\u0434\\u0435\\u043d\\u0435\\u0436\\u043d\\u044b\\u0439\", \"\\u0434\\u0435\\u043d\\u0435\\u0436\\u043d\\u044b\\u0439\", \"\\u0434\\u0435\\u043d\\u0435\\u0436\\u043d\\u044b\\u0439\", \"\\u0434\\u0435\\u043d\\u0435\\u0436\\u043d\\u044b\\u0439\", \"\\u0434\\u0435\\u043d\\u044c\\u0433\\u0430\", \"\\u0434\\u0435\\u043d\\u044c\\u0433\\u0430\", \"\\u0434\\u0435\\u043d\\u044c\\u0433\\u0430\", \"\\u0434\\u0435\\u0442\\u0441\\u043a\\u0438\\u0439\", \"\\u0434\\u0435\\u0444\\u0435\\u043a\\u0442\", \"\\u0434\\u0435\\u0444\\u0435\\u043a\\u0442\", \"\\u0434\\u0435\\u044f\\u0442\\u0435\\u043b\\u044c\\u043d\\u043e\\u0441\\u0442\\u044c\", \"\\u0434\\u0435\\u044f\\u0442\\u0435\\u043b\\u044c\\u043d\\u043e\\u0441\\u0442\\u044c\", \"\\u0434\\u0438\\u0432\\u0430\\u043d\", \"\\u0434\\u043e\\u0433\\u043e\\u0432\\u043e\\u0440\", \"\\u0434\\u043e\\u0433\\u043e\\u0432\\u043e\\u0440\", \"\\u0434\\u043e\\u043a\\u0443\\u043c\\u0435\\u043d\\u0442\", \"\\u0434\\u043e\\u043a\\u0443\\u043c\\u0435\\u043d\\u0442\", \"\\u0434\\u043e\\u043a\\u0443\\u043c\\u0435\\u043d\\u0442\", \"\\u0434\\u043e\\u043b\\u0436\\u043d\\u044b\\u0439\", \"\\u0434\\u043e\\u043b\\u0436\\u043d\\u044b\\u0439\", \"\\u0434\\u043e\\u043b\\u0436\\u043d\\u044b\\u0439\", \"\\u0434\\u043e\\u043b\\u0436\\u043d\\u044b\\u0439\", \"\\u0434\\u043e\\u043b\\u0436\\u043d\\u044b\\u0439\", \"\\u0434\\u043e\\u043b\\u0436\\u043d\\u044b\\u0439\", \"\\u0434\\u043e\\u043c\", \"\\u0434\\u043e\\u0440\\u043e\\u0433\\u0430\", \"\\u0434\\u043e\\u0441\\u0442\\u0430\\u0432\\u0438\\u0442\\u044c\", \"\\u0434\\u043e\\u0441\\u0442\\u0430\\u0432\\u0438\\u0442\\u044c\", \"\\u0434\\u043e\\u0441\\u0442\\u0430\\u0432\\u043a\\u0430\", \"\\u0434\\u043e\\u0441\\u0442\\u0430\\u0432\\u043a\\u0430\", \"\\u0436\\u0430\\u043b\\u043e\\u0431\\u0430\", \"\\u0436\\u0430\\u043b\\u043e\\u0431\\u0430\", \"\\u0436\\u0430\\u043b\\u043e\\u0431\\u0430\", \"\\u0436\\u0430\\u043b\\u043e\\u0431\\u0430\", \"\\u0436\\u0430\\u043b\\u043e\\u0431\\u0430\", \"\\u0436\\u0438\\u043b\\u0435\\u0446\", \"\\u0436\\u0438\\u043b\\u043e\\u0439\", \"\\u0436\\u0438\\u0442\\u0435\\u043b\\u044c\", \"\\u0436\\u0438\\u0442\\u044c\", \"\\u0437\\u0430\\u0431\\u0440\\u0430\\u0442\\u044c\", \"\\u0437\\u0430\\u0431\\u0440\\u0430\\u0442\\u044c\", \"\\u0437\\u0430\\u0432\\u0435\\u0434\\u0435\\u043d\\u0438\\u0435\", \"\\u0437\\u0430\\u0432\\u0442\\u0440\\u0430\", \"\\u0437\\u0430\\u043a\\u0430\\u0437\", \"\\u0437\\u0430\\u043a\\u0430\\u0437\\u0430\\u0442\\u044c\", \"\\u0437\\u0430\\u043a\\u0430\\u0437\\u0430\\u0442\\u044c\", \"\\u0437\\u0430\\u043a\\u043e\\u043d\", \"\\u0437\\u0430\\u043a\\u043e\\u043d\", \"\\u0437\\u0430\\u043a\\u043e\\u043d\", \"\\u0437\\u0430\\u043a\\u043e\\u043d\", \"\\u0437\\u0430\\u043a\\u043e\\u043d\\u043e\\u0434\\u0430\\u0442\\u0435\\u043b\\u044c\\u0441\\u0442\\u0432\\u043e\", \"\\u0437\\u0430\\u043c\\u0435\\u043d\\u0430\", \"\\u0437\\u0430\\u043d\\u044f\\u0442\\u0438\\u0435\", \"\\u0437\\u0430\\u043f\\u0438\\u0441\\u044c\", \"\\u0437\\u0430\\u0442\\u0440\\u0430\\u0442\\u0430\", \"\\u0437\\u0430\\u0449\\u0438\\u0442\\u0430\", \"\\u0437\\u0430\\u0449\\u0438\\u0442\\u0430\", \"\\u0437\\u0432\\u043e\\u043d\\u0438\\u0442\\u044c\", \"\\u0437\\u0432\\u043e\\u043d\\u043e\\u043a\", \"\\u0437\\u0434\\u043e\\u0440\\u043e\\u0432\\u044c\\u0435\", \"\\u0437\\u043d\\u0430\\u0442\\u044c\", \"\\u0437\\u043e\\u043d\\u0430\", \"\\u0438\\u0434\\u0442\\u0438\", \"\\u0438\\u0434\\u0442\\u0438\", \"\\u0438\\u0437\\u0434\\u0435\\u043b\\u0438\\u0435\", \"\\u0438\\u0437\\u043c\\u0435\\u043d\\u0435\\u043d\\u0438\\u0435\", \"\\u0438\\u043d\\u043e\\u0439\", \"\\u0438\\u043d\\u0442\\u0435\\u0440\\u043d\\u0435\\u0442\", \"\\u0438\\u043d\\u0442\\u0435\\u0440\\u043d\\u0435\\u0442\", \"\\u0438\\u043d\\u0442\\u0435\\u0440\\u043d\\u0435\\u0442\", \"\\u0438\\u043d\\u0444\\u043e\\u0440\\u043c\\u0430\\u0446\\u0438\\u044f\", \"\\u0438\\u043d\\u0444\\u043e\\u0440\\u043c\\u0430\\u0446\\u0438\\u044f\", \"\\u0438\\u043d\\u0444\\u043e\\u0440\\u043c\\u0430\\u0446\\u0438\\u044f\", \"\\u0438\\u043d\\u0444\\u043e\\u0440\\u043c\\u0430\\u0446\\u0438\\u044f\", \"\\u0438\\u043d\\u0444\\u043e\\u0440\\u043c\\u0430\\u0446\\u0438\\u044f\", \"\\u0438\\u0442\\u043e\\u0433\", \"\\u0438\\u0442\\u043e\\u0433\", \"\\u0438\\u044e\\u043b\\u044c\", \"\\u0438\\u044e\\u043b\\u044c\", \"\\u0438\\u044e\\u043b\\u044c\", \"\\u043a\\u0430\\u0431\\u0438\\u043d\\u0435\\u0442\", \"\\u043a\\u0430\\u0431\\u0438\\u043d\\u0435\\u0442\", \"\\u043a\\u0430\\u0440\\u0442\\u0430\", \"\\u043a\\u0430\\u0440\\u0442\\u0430\", \"\\u043a\\u0430\\u0440\\u0442\\u0430\", \"\\u043a\\u0430\\u0447\\u0435\\u0441\\u0442\\u0432\\u043e\", \"\\u043a\\u0430\\u0447\\u0435\\u0441\\u0442\\u0432\\u043e\", \"\\u043a\\u0430\\u0447\\u0435\\u0441\\u0442\\u0432\\u043e\", \"\\u043a\\u0432\\u0430\\u0440\\u0442\\u0438\\u0440\\u0430\", \"\\u043a\\u043b\\u0443\\u0431\", \"\\u043a\\u043d\\u0438\\u0433\\u0430\", \"\\u043a\\u043e\\u0434\", \"\\u043a\\u043e\\u043c\\u043f\\u0430\\u043d\\u0438\\u044f\", \"\\u043a\\u043e\\u043c\\u043f\\u0430\\u043d\\u0438\\u044f\", \"\\u043a\\u043e\\u043c\\u043f\\u0430\\u043d\\u0438\\u044f\", \"\\u043a\\u043e\\u043c\\u043f\\u0430\\u043d\\u0438\\u044f\", \"\\u043a\\u043e\\u043d\\u0434\\u0438\\u0446\\u0438\\u043e\\u043d\\u0435\\u0440\", \"\\u043a\\u043e\\u043d\\u0446\\u0435\\u0440\\u0442\", \"\\u043a\\u043e\\u043d\\u0446\\u0435\\u0440\\u0442\", \"\\u043a\\u043e\\u043f\\u0438\\u044f\", \"\\u043a\\u043e\\u0442\\u043e\\u0440\\u044b\\u0439\", \"\\u043a\\u043e\\u0442\\u043e\\u0440\\u044b\\u0439\", \"\\u043a\\u043e\\u0442\\u043e\\u0440\\u044b\\u0439\", \"\\u043a\\u043e\\u0442\\u043e\\u0440\\u044b\\u0439\", \"\\u043a\\u043e\\u0442\\u043e\\u0440\\u044b\\u0439\", \"\\u043a\\u043e\\u0442\\u043e\\u0440\\u044b\\u0439\", \"\\u043a\\u0440\\u0430\\u0439\", \"\\u043a\\u0440\\u0435\\u0434\\u0438\\u0442\", \"\\u043a\\u0440\\u0435\\u0434\\u0438\\u0442\\u043d\\u044b\\u0439\", \"\\u043a\\u0443\\u043f\\u0438\\u0442\\u044c\", \"\\u043a\\u0443\\u043f\\u0438\\u0442\\u044c\", \"\\u043a\\u0443\\u043f\\u0438\\u0442\\u044c\", \"\\u043a\\u0443\\u0440\\u044c\\u0435\\u0440\", \"\\u043b\\u0438\\u0447\\u043d\\u044b\\u0439\", \"\\u043b\\u0438\\u0447\\u043d\\u044b\\u0439\", \"\\u043b\\u0438\\u0447\\u043d\\u044b\\u0439\", \"\\u043c\\u0430\\u0433\\u0430\\u0437\\u0438\\u043d\", \"\\u043c\\u0430\\u0439\", \"\\u043c\\u0430\\u043c\\u0430\", \"\\u043c\\u0430\\u0440\\u043a\\u0435\\u0442\\u043f\\u043b\\u0435\\u0439\\u0441\", \"\\u043c\\u0430\\u0440\\u043a\\u0438\\u0440\\u043e\\u0432\\u043a\\u0430\", \"\\u043c\\u0430\\u0441\\u0442\\u0435\\u0440\", \"\\u043c\\u0430\\u0441\\u0442\\u0435\\u0440\", \"\\u043c\\u0435\\u0431\\u0435\\u043b\\u044c\", \"\\u043c\\u0435\\u043d\\u0435\\u0435\", \"\\u043c\\u0435\\u0440\\u0430\", \"\\u043c\\u0435\\u0440\\u0430\", \"\\u043c\\u0435\\u0440\\u0430\", \"\\u043c\\u0435\\u0440\\u0430\", \"\\u043c\\u0435\\u0440\\u043e\\u043f\\u0440\\u0438\\u044f\\u0442\\u0438\\u0435\", \"\\u043c\\u0435\\u0440\\u043e\\u043f\\u0440\\u0438\\u044f\\u0442\\u0438\\u0435\", \"\\u043c\\u0435\\u0441\\u0442\\u043e\", \"\\u043c\\u0435\\u0441\\u0442\\u043e\", \"\\u043c\\u0435\\u0441\\u0442\\u043e\", \"\\u043c\\u0435\\u0441\\u0442\\u043e\", \"\\u043c\\u043d\\u043e\\u0433\\u043e\\u043a\\u0432\\u0430\\u0440\\u0442\\u0438\\u0440\\u043d\\u044b\\u0439\", \"\\u043c\\u043e\\u0434\\u0435\\u043b\\u044c\", \"\\u043c\\u0443\\u0441\\u043e\\u0440\", \"\\u043d\\u0430\\u0437\\u0432\\u0430\\u043d\\u0438\\u0435\", \"\\u043d\\u0430\\u0439\\u0442\\u0438\", \"\\u043d\\u0430\\u043f\\u0438\\u0441\\u0430\\u0442\\u044c\", \"\\u043d\\u0430\\u043f\\u0438\\u0441\\u0430\\u0442\\u044c\", \"\\u043d\\u0430\\u043f\\u0438\\u0441\\u0430\\u0442\\u044c\", \"\\u043d\\u0430\\u043f\\u0438\\u0441\\u0430\\u0442\\u044c\", \"\\u043d\\u0430\\u0440\\u0443\\u0448\\u0430\\u0442\\u044c\", \"\\u043d\\u0430\\u0440\\u0443\\u0448\\u0430\\u0442\\u044c\", \"\\u043d\\u0430\\u0440\\u0443\\u0448\\u0430\\u0442\\u044c\", \"\\u043d\\u0430\\u0440\\u0443\\u0448\\u0435\\u043d\\u0438\\u0435\", \"\\u043d\\u0430\\u0440\\u0443\\u0448\\u0435\\u043d\\u0438\\u0435\", \"\\u043d\\u0430\\u0440\\u0443\\u0448\\u0435\\u043d\\u0438\\u0435\", \"\\u043d\\u0430\\u0440\\u0443\\u0448\\u0435\\u043d\\u0438\\u0435\", \"\\u043d\\u0430\\u0441\\u0442\\u043e\\u044f\\u0449\\u0438\\u0439\", \"\\u043d\\u0430\\u0445\\u043e\\u0434\\u0438\\u0442\\u044c\\u0441\\u044f\", \"\\u043d\\u0430\\u0445\\u043e\\u0434\\u0438\\u0442\\u044c\\u0441\\u044f\", \"\\u043d\\u0430\\u0445\\u043e\\u0434\\u0438\\u0442\\u044c\\u0441\\u044f\", \"\\u043d\\u0430\\u0448\", \"\\u043d\\u0435\\u043c\\u043e\\u0439\", \"\\u043d\\u0435\\u043e\\u0431\\u0445\\u043e\\u0434\\u0438\\u043c\\u043e\\u0441\\u0442\\u044c\", \"\\u043d\\u0435\\u0441\\u043a\\u043e\\u043b\\u044c\\u043a\\u043e\", \"\\u043d\\u0435\\u0441\\u043a\\u043e\\u043b\\u044c\\u043a\\u043e\", \"\\u043d\\u0435\\u0441\\u043a\\u043e\\u043b\\u044c\\u043a\\u043e\", \"\\u043d\\u0435\\u0441\\u043a\\u043e\\u043b\\u044c\\u043a\\u043e\", \"\\u043d\\u0438\\u043a\\u0442\\u043e\", \"\\u043d\\u043e\\u043c\\u0435\\u0440\", \"\\u043d\\u043e\\u043c\\u0435\\u0440\", \"\\u043d\\u043e\\u0440\\u043c\\u0430\", \"\\u043d\\u043e\\u0440\\u043c\\u0430\", \"\\u043d\\u0443\\u0436\\u043d\\u043e\", \"\\u043d\\u0443\\u0436\\u043d\\u043e\", \"\\u043d\\u0443\\u0436\\u043d\\u043e\", \"\\u043d\\u0443\\u0436\\u043d\\u043e\", \"\\u043e\\u0431\\u0435\\u0449\\u0430\\u0442\\u044c\", \"\\u043e\\u0431\\u043b\\u0430\\u0441\\u0442\\u044c\", \"\\u043e\\u0431\\u043b\\u0430\\u0441\\u0442\\u044c\", \"\\u043e\\u0431\\u043b\\u0430\\u0441\\u0442\\u044c\", \"\\u043e\\u0431\\u043d\\u0430\\u0440\\u0443\\u0436\\u0438\\u0442\\u044c\", \"\\u043e\\u0431\\u043d\\u0430\\u0440\\u0443\\u0436\\u0438\\u0442\\u044c\", \"\\u043e\\u0431\\u043d\\u0430\\u0440\\u0443\\u0436\\u0438\\u0442\\u044c\", \"\\u043e\\u0431\\u043d\\u0430\\u0440\\u0443\\u0436\\u0438\\u0442\\u044c\", \"\\u043e\\u0431\\u043d\\u0430\\u0440\\u0443\\u0436\\u0438\\u0442\\u044c\", \"\\u043e\\u0431\\u043e\\u0440\\u0443\\u0434\\u043e\\u0432\\u0430\\u043d\\u0438\\u0435\", \"\\u043e\\u0431\\u0440\\u0430\\u0442\\u0438\\u0442\\u044c\", \"\\u043e\\u0431\\u0440\\u0430\\u0442\\u0438\\u0442\\u044c\\u0441\\u044f\", \"\\u043e\\u0431\\u0440\\u0430\\u0442\\u0438\\u0442\\u044c\\u0441\\u044f\", \"\\u043e\\u0431\\u0440\\u0430\\u0442\\u0438\\u0442\\u044c\\u0441\\u044f\", \"\\u043e\\u0431\\u0440\\u0430\\u0442\\u0438\\u0442\\u044c\\u0441\\u044f\", \"\\u043e\\u0431\\u0440\\u0430\\u0442\\u0438\\u0442\\u044c\\u0441\\u044f\", \"\\u043e\\u0431\\u0440\\u0430\\u0442\\u043d\\u043e\", \"\\u043e\\u0431\\u0440\\u0430\\u0449\\u0430\\u0442\\u044c\\u0441\\u044f\", \"\\u043e\\u0431\\u0440\\u0430\\u0449\\u0430\\u0442\\u044c\\u0441\\u044f\", \"\\u043e\\u0431\\u0440\\u0430\\u0449\\u0430\\u0442\\u044c\\u0441\\u044f\", \"\\u043e\\u0431\\u0440\\u0430\\u0449\\u0430\\u0442\\u044c\\u0441\\u044f\", \"\\u043e\\u0431\\u044f\\u0437\\u0430\\u0442\\u0435\\u043b\\u044c\\u0441\\u0442\\u0432\\u043e\", \"\\u043e\\u0437\\u043e\\u043d\", \"\\u043e\\u043a\\u0430\\u0437\\u0430\\u043d\\u0438\\u0435\", \"\\u043e\\u043a\\u043d\\u043e\", \"\\u043e\\u043a\\u043e\\u043b\\u043e\", \"\\u043e\\u043d\\u043e\", \"\\u043e\\u043e\\u043e\", \"\\u043e\\u043e\\u043e\", \"\\u043e\\u043e\\u043e\", \"\\u043e\\u043e\\u043e\", \"\\u043e\\u043f\\u0435\\u0440\\u0430\\u0442\\u043e\\u0440\", \"\\u043e\\u043f\\u0435\\u0440\\u0430\\u0442\\u043e\\u0440\", \"\\u043e\\u043f\\u043b\\u0430\\u0442\\u0430\", \"\\u043e\\u043f\\u043b\\u0430\\u0442\\u0430\", \"\\u043e\\u043f\\u043b\\u0430\\u0442\\u0430\", \"\\u043e\\u043f\\u043b\\u0430\\u0442\\u0430\", \"\\u043e\\u043f\\u043b\\u0430\\u0442\\u0430\", \"\\u043e\\u043f\\u043b\\u0430\\u0442\\u0438\\u0442\\u044c\", \"\\u043e\\u043f\\u043b\\u0430\\u0442\\u0438\\u0442\\u044c\", \"\\u043e\\u043f\\u043b\\u0430\\u0442\\u0438\\u0442\\u044c\", \"\\u043e\\u043f\\u043b\\u0430\\u0442\\u0438\\u0442\\u044c\", \"\\u043e\\u0440\\u0433\\u0430\\u043d\\u0438\\u0437\\u0430\\u0446\\u0438\\u044f\", \"\\u043e\\u0440\\u0433\\u0430\\u043d\\u0438\\u0437\\u0430\\u0446\\u0438\\u044f\", \"\\u043e\\u0440\\u0433\\u0430\\u043d\\u0438\\u0437\\u0430\\u0446\\u0438\\u044f\", \"\\u043e\\u0440\\u0433\\u0430\\u043d\\u0438\\u0437\\u0430\\u0446\\u0438\\u044f\", \"\\u043e\\u0440\\u0433\\u0430\\u043d\\u0438\\u0437\\u043e\\u0432\\u0430\\u0442\\u044c\", \"\\u043e\\u0441\\u043c\\u043e\\u0442\\u0440\", \"\\u043e\\u0441\\u043d\\u043e\\u0432\\u0430\\u043d\\u0438\\u0435\", \"\\u043e\\u0441\\u043d\\u043e\\u0432\\u0430\\u043d\\u0438\\u0435\", \"\\u043e\\u0441\\u043d\\u043e\\u0432\\u0430\\u043d\\u0438\\u0435\", \"\\u043e\\u0442\\u0432\\u0435\\u0442\", \"\\u043e\\u0442\\u0432\\u0435\\u0442\", \"\\u043e\\u0442\\u0432\\u0435\\u0442\", \"\\u043e\\u0442\\u0432\\u0435\\u0442\", \"\\u043e\\u0442\\u0432\\u0435\\u0442\", \"\\u043e\\u0442\\u043a\\u0430\\u0437\\u0430\\u0442\\u044c\", \"\\u043e\\u0442\\u043a\\u0430\\u0437\\u0430\\u0442\\u044c\", \"\\u043e\\u0442\\u043a\\u0430\\u0437\\u0430\\u0442\\u044c\", \"\\u043e\\u0442\\u043a\\u0430\\u0437\\u044b\\u0432\\u0430\\u0442\\u044c\\u0441\\u044f\", \"\\u043e\\u0442\\u043a\\u0430\\u0437\\u044b\\u0432\\u0430\\u0442\\u044c\\u0441\\u044f\", \"\\u043e\\u0442\\u043a\\u043b\\u044e\\u0447\\u0438\\u0442\\u044c\", \"\\u043e\\u0442\\u043c\\u0435\\u043d\\u0430\", \"\\u043e\\u0442\\u043c\\u0435\\u043d\\u0438\\u0442\\u044c\", \"\\u043e\\u0442\\u043f\\u0440\\u0430\\u0432\\u0438\\u0442\\u044c\", \"\\u043e\\u0442\\u043f\\u0440\\u0430\\u0432\\u0438\\u0442\\u044c\", \"\\u043e\\u0442\\u043f\\u0440\\u0430\\u0432\\u0438\\u0442\\u044c\", \"\\u043e\\u0442\\u0441\\u0443\\u0442\\u0441\\u0442\\u0432\\u0438\\u0435\", \"\\u043e\\u0442\\u0441\\u0443\\u0442\\u0441\\u0442\\u0432\\u043e\\u0432\\u0430\\u0442\\u044c\", \"\\u043e\\u0442\\u0441\\u0443\\u0442\\u0441\\u0442\\u0432\\u043e\\u0432\\u0430\\u0442\\u044c\", \"\\u043e\\u0442\\u0441\\u0443\\u0442\\u0441\\u0442\\u0432\\u043e\\u0432\\u0430\\u0442\\u044c\", \"\\u043e\\u0442\\u0441\\u0443\\u0442\\u0441\\u0442\\u0432\\u043e\\u0432\\u0430\\u0442\\u044c\", \"\\u043e\\u0444\\u043e\\u0440\\u043c\\u0438\\u0442\\u044c\", \"\\u043e\\u0444\\u043e\\u0440\\u043c\\u0438\\u0442\\u044c\", \"\\u043e\\u0444\\u043e\\u0440\\u043c\\u043b\\u0435\\u043d\\u0438\\u0435\", \"\\u043e\\u0444\\u043e\\u0440\\u043c\\u043b\\u0435\\u043d\\u0438\\u0435\", \"\\u043e\\u0444\\u043e\\u0440\\u043c\\u043b\\u0435\\u043d\\u0438\\u0435\", \"\\u043e\\u0444\\u043e\\u0440\\u043c\\u043b\\u044f\\u0442\\u044c\", \"\\u043e\\u0447\\u0435\\u043d\\u044c\", \"\\u043e\\u0447\\u0435\\u043d\\u044c\", \"\\u043e\\u0447\\u0435\\u043d\\u044c\", \"\\u043f\\u0430\\u043a\\u0435\\u0442\", \"\\u043f\\u0430\\u043a\\u0435\\u0442\", \"\\u043f\\u0430\\u0441\\u043f\\u043e\\u0440\\u0442\", \"\\u043f\\u0435\\u0440\\u0438\\u043e\\u0434\", \"\\u043f\\u0435\\u0440\\u0438\\u043e\\u0434\", \"\\u043f\\u0438\\u0441\\u044c\\u043c\\u0435\\u043d\\u043d\\u044b\\u0439\", \"\\u043f\\u0438\\u0441\\u044c\\u043c\\u0435\\u043d\\u043d\\u044b\\u0439\", \"\\u043f\\u0438\\u0449\\u0435\\u0432\\u043e\\u0439\", \"\\u043f\\u043b\\u0430\\u0442\\u044c\\u0435\", \"\\u043f\\u043b\\u043e\\u0449\\u0430\\u0434\\u044c\", \"\\u043f\\u043e\\u0434\\u0430\\u0440\\u043e\\u0447\\u043d\\u044b\\u0439\", \"\\u043f\\u043e\\u0434\\u0434\\u0435\\u0440\\u0436\\u043a\\u0430\", \"\\u043f\\u043e\\u0434\\u0434\\u0435\\u0440\\u0436\\u043a\\u0430\", \"\\u043f\\u043e\\u0434\\u0434\\u0435\\u0440\\u0436\\u043a\\u0430\", \"\\u043f\\u043e\\u0434\\u043b\\u0435\\u0436\\u0430\\u0442\\u044c\", \"\\u043f\\u043e\\u0434\\u043e\\u0439\\u0442\\u0438\", \"\\u043f\\u043e\\u0434\\u043e\\u0439\\u0442\\u0438\", \"\\u043f\\u043e\\u0434\\u043e\\u0439\\u0442\\u0438\", \"\\u043f\\u043e\\u0434\\u043f\\u0438\\u0441\\u043a\\u0430\", \"\\u043f\\u043e\\u0434\\u0442\\u0432\\u0435\\u0440\\u0436\\u0434\\u0435\\u043d\\u0438\\u0435\", \"\\u043f\\u043e\\u0434\\u0445\\u043e\\u0434\\u0438\\u0442\\u044c\", \"\\u043f\\u043e\\u0434\\u044a\\u0435\\u0437\\u0434\", \"\\u043f\\u043e\\u0437\\u0432\\u043e\\u043d\\u0438\\u0442\\u044c\", \"\\u043f\\u043e\\u043a\\u0443\\u043f\\u0430\\u0442\\u0435\\u043b\\u044c\", \"\\u043f\\u043e\\u043a\\u0443\\u043f\\u0430\\u0442\\u0435\\u043b\\u044c\", \"\\u043f\\u043e\\u043a\\u0443\\u043f\\u043a\\u0430\", \"\\u043f\\u043e\\u043a\\u0443\\u043f\\u043a\\u0430\", \"\\u043f\\u043e\\u043b\\u0443\\u0447\\u0438\\u0442\\u044c\", \"\\u043f\\u043e\\u043b\\u0443\\u0447\\u0438\\u0442\\u044c\", \"\\u043f\\u043e\\u043b\\u0443\\u0447\\u0438\\u0442\\u044c\", \"\\u043f\\u043e\\u043b\\u0443\\u0447\\u0438\\u0442\\u044c\", \"\\u043f\\u043e\\u043b\\u0443\\u0447\\u0438\\u0442\\u044c\", \"\\u043f\\u043e\\u043c\\u0435\\u0449\\u0435\\u043d\\u0438\\u0435\", \"\\u043f\\u043e\\u043d\\u044f\\u0442\\u044c\", \"\\u043f\\u043e\\u043f\\u0440\\u043e\\u0441\\u0438\\u0442\\u044c\", \"\\u043f\\u043e\\u043f\\u0440\\u043e\\u0441\\u0438\\u0442\\u044c\", \"\\u043f\\u043e\\u0441\\u044b\\u043b\\u043a\\u0430\", \"\\u043f\\u043e\\u0441\\u044b\\u043b\\u043a\\u0430\", \"\\u043f\\u043e\\u0442\\u0440\\u0435\\u0431\\u0438\\u0442\\u0435\\u043b\\u044c\", \"\\u043f\\u043e\\u0442\\u0440\\u0435\\u0431\\u0438\\u0442\\u0435\\u043b\\u044c\", \"\\u043f\\u043e\\u0442\\u0440\\u0435\\u0431\\u0438\\u0442\\u0435\\u043b\\u044c\", \"\\u043f\\u043e\\u0447\\u0442\\u0430\", \"\\u043f\\u043e\\u0447\\u0442\\u0430\", \"\\u043f\\u0440\\u0430\\u0432\\u0438\\u043b\\u043e\", \"\\u043f\\u0440\\u0430\\u0432\\u0438\\u043b\\u043e\", \"\\u043f\\u0440\\u0435\\u0434\\u043b\\u043e\\u0436\\u0435\\u043d\\u0438\\u0435\", \"\\u043f\\u0440\\u0435\\u0434\\u043b\\u043e\\u0436\\u0435\\u043d\\u0438\\u0435\", \"\\u043f\\u0440\\u0435\\u0434\\u043b\\u043e\\u0436\\u0435\\u043d\\u0438\\u0435\", \"\\u043f\\u0440\\u0435\\u0434\\u043e\\u043f\\u043b\\u0430\\u0442\\u0430\", \"\\u043f\\u0440\\u0435\\u0434\\u043e\\u0441\\u0442\\u0430\\u0432\\u043b\\u0435\\u043d\\u0438\\u0435\", \"\\u043f\\u0440\\u0435\\u0434\\u043e\\u0441\\u0442\\u0430\\u0432\\u043b\\u044f\\u0442\\u044c\\u0441\\u044f\", \"\\u043f\\u0440\\u0435\\u0434\\u043f\\u0440\\u0438\\u044f\\u0442\\u0438\\u0435\", \"\\u043f\\u0440\\u0435\\u0442\\u0435\\u043d\\u0437\\u0438\\u044f\", \"\\u043f\\u0440\\u0435\\u0442\\u0435\\u043d\\u0437\\u0438\\u044f\", \"\\u043f\\u0440\\u0435\\u0442\\u0435\\u043d\\u0437\\u0438\\u044f\", \"\\u043f\\u0440\\u0438\\u0435\\u0445\\u0430\\u0442\\u044c\", \"\\u043f\\u0440\\u0438\\u043b\\u043e\\u0436\\u0435\\u043d\\u0438\\u0435\", \"\\u043f\\u0440\\u0438\\u043b\\u043e\\u0436\\u0435\\u043d\\u0438\\u0435\", \"\\u043f\\u0440\\u0438\\u043b\\u043e\\u0436\\u0435\\u043d\\u0438\\u0435\", \"\\u043f\\u0440\\u0438\\u043d\\u044f\\u0442\\u044c\", \"\\u043f\\u0440\\u0438\\u043d\\u044f\\u0442\\u044c\", \"\\u043f\\u0440\\u0438\\u043d\\u044f\\u0442\\u044c\", \"\\u043f\\u0440\\u0438\\u043d\\u044f\\u0442\\u044c\", \"\\u043f\\u0440\\u0438\\u043d\\u044f\\u0442\\u044c\", \"\\u043f\\u0440\\u0438\\u043e\\u0431\\u0440\\u0435\\u0441\\u0442\\u0438\", \"\\u043f\\u0440\\u0438\\u043e\\u0431\\u0440\\u0435\\u0441\\u0442\\u0438\", \"\\u043f\\u0440\\u0438\\u0441\\u043b\\u0430\\u0442\\u044c\", \"\\u043f\\u0440\\u0438\\u0445\\u043e\\u0434\\u0438\\u0442\\u044c\\u0441\\u044f\", \"\\u043f\\u0440\\u043e\\u0431\\u043b\\u0435\\u043c\\u0430\", \"\\u043f\\u0440\\u043e\\u0431\\u043b\\u0435\\u043c\\u0430\", \"\\u043f\\u0440\\u043e\\u0431\\u043b\\u0435\\u043c\\u0430\", \"\\u043f\\u0440\\u043e\\u0432\\u0435\\u0434\\u0435\\u043d\\u0438\\u0435\", \"\\u043f\\u0440\\u043e\\u0432\\u0435\\u0440\\u043a\\u0430\", \"\\u043f\\u0440\\u043e\\u0432\\u0435\\u0440\\u043a\\u0430\", \"\\u043f\\u0440\\u043e\\u0432\\u0435\\u0440\\u043a\\u0430\", \"\\u043f\\u0440\\u043e\\u0432\\u0435\\u0440\\u043a\\u0430\", \"\\u043f\\u0440\\u043e\\u0432\\u0435\\u0441\\u0442\\u0438\", \"\\u043f\\u0440\\u043e\\u0432\\u0435\\u0441\\u0442\\u0438\", \"\\u043f\\u0440\\u043e\\u0432\\u0435\\u0441\\u0442\\u0438\", \"\\u043f\\u0440\\u043e\\u0432\\u0435\\u0441\\u0442\\u0438\", \"\\u043f\\u0440\\u043e\\u0432\\u0435\\u0441\\u0442\\u0438\", \"\\u043f\\u0440\\u043e\\u0434\\u0430\\u0432\\u0430\\u0442\\u044c\", \"\\u043f\\u0440\\u043e\\u0434\\u0430\\u0432\\u0435\\u0446\", \"\\u043f\\u0440\\u043e\\u0434\\u0430\\u0436\\u0430\", \"\\u043f\\u0440\\u043e\\u0434\\u0430\\u0442\\u044c\", \"\\u043f\\u0440\\u043e\\u0434\\u0443\\u043a\\u0446\\u0438\\u044f\", \"\\u043f\\u0440\\u043e\\u0436\\u0438\\u0432\\u0430\\u0442\\u044c\", \"\\u043f\\u0440\\u043e\\u0438\\u0437\\u0432\\u043e\\u0434\\u0438\\u0442\\u0435\\u043b\\u044c\", \"\\u043f\\u0440\\u043e\\u0438\\u0437\\u0432\\u043e\\u0434\\u0441\\u0442\\u0432\\u0435\\u043d\\u043d\\u044b\\u0439\", \"\\u043f\\u0443\\u043d\\u043a\\u0442\", \"\\u0440\\u0430\\u0431\\u043e\\u0442\\u0430\", \"\\u0440\\u0430\\u0431\\u043e\\u0442\\u0430\", \"\\u0440\\u0430\\u0431\\u043e\\u0442\\u0430\", \"\\u0440\\u0430\\u0431\\u043e\\u0442\\u0430\", \"\\u0440\\u0430\\u0431\\u043e\\u0442\\u0430\", \"\\u0440\\u0430\\u0439\\u043e\\u043d\", \"\\u0440\\u0430\\u0439\\u043e\\u043d\", \"\\u0440\\u0430\\u0441\\u043f\\u043e\\u043b\\u043e\\u0436\\u0438\\u0442\\u044c\", \"\\u0440\\u0430\\u0441\\u0442\\u043e\\u0440\\u0436\\u0435\\u043d\\u0438\\u0435\", \"\\u0440\\u0435\\u0430\\u0433\\u0438\\u0440\\u043e\\u0432\\u0430\\u0442\\u044c\", \"\\u0440\\u0435\\u0431\\u0451\\u043d\\u043e\\u043a\", \"\\u0440\\u0435\\u0436\\u0438\\u043c\", \"\\u0440\\u0435\\u0436\\u0438\\u043c\", \"\\u0440\\u0435\\u0436\\u0438\\u043c\", \"\\u0440\\u0435\\u0439\\u0441\", \"\\u0440\\u0435\\u043c\\u043e\\u043d\\u0442\", \"\\u0440\\u043e\\u0441\\u0441\\u0438\\u0439\\u0441\\u043a\\u0438\\u0439\", \"\\u0440\\u043e\\u0441\\u0442\\u0435\\u043b\\u0435\\u043a\\u043e\\u043c\", \"\\u0440\\u0443\\u0431\", \"\\u0440\\u0443\\u0431\", \"\\u0440\\u0443\\u0431\\u043b\\u044c\", \"\\u0440\\u0443\\u0431\\u043b\\u044c\", \"\\u0440\\u0443\\u0431\\u043b\\u044c\", \"\\u0440\\u0443\\u0431\\u043b\\u044c\", \"\\u0440\\u0443\\u043a\\u0430\", \"\\u0441\\u0430\\u0434\", \"\\u0441\\u0430\\u0439\\u0442\", \"\\u0441\\u0430\\u0439\\u0442\", \"\\u0441\\u0430\\u0439\\u0442\", \"\\u0441\\u0430\\u043b\\u043e\\u043d\", \"\\u0441\\u0430\\u043c\\u043e\\u0441\\u0442\\u043e\\u044f\\u0442\\u0435\\u043b\\u044c\\u043d\\u043e\", \"\\u0441\\u0430\\u043d\\u0438\\u0442\\u0430\\u0440\\u043d\\u044b\\u0439\", \"\\u0441\\u0430\\u043d\\u043f\\u0438\\u043d\", \"\\u0441\\u0431\\u0435\\u0440\\u043c\\u0435\\u0433\\u0430\\u043c\\u0430\\u0440\\u043a\\u0435\\u0442\", \"\\u0441\\u0432\\u043e\\u0439\", \"\\u0441\\u0432\\u043e\\u0439\", \"\\u0441\\u0432\\u043e\\u0439\", \"\\u0441\\u0432\\u043e\\u0439\", \"\\u0441\\u0432\\u044f\\u0437\\u0430\\u0442\\u044c\\u0441\\u044f\", \"\\u0441\\u0432\\u044f\\u0437\\u0430\\u0442\\u044c\\u0441\\u044f\", \"\\u0441\\u0432\\u044f\\u0437\\u0430\\u0442\\u044c\\u0441\\u044f\", \"\\u0441\\u0432\\u044f\\u0437\\u044c\", \"\\u0441\\u0432\\u044f\\u0437\\u044c\", \"\\u0441\\u0432\\u044f\\u0437\\u044c\", \"\\u0441\\u0434\\u0435\\u043b\\u0430\\u0442\\u044c\", \"\\u0441\\u0434\\u0435\\u043b\\u0430\\u0442\\u044c\", \"\\u0441\\u0434\\u0435\\u043b\\u0430\\u0442\\u044c\", \"\\u0441\\u0434\\u0435\\u043b\\u0430\\u0442\\u044c\", \"\\u0441\\u0434\\u0435\\u043b\\u0430\\u0442\\u044c\", \"\\u0441\\u0434\\u044d\\u043a\", \"\\u0441\\u0435\\u043c\\u044c\\u044f\", \"\\u0441\\u0435\\u043d\\u0442\\u044f\\u0431\\u0440\\u044c\", \"\\u0441\\u0435\\u043d\\u0442\\u044f\\u0431\\u0440\\u044c\", \"\\u0441\\u0435\\u0440\\u0432\\u0438\\u0441\", \"\\u0441\\u0435\\u0440\\u0432\\u0438\\u0441\", \"\\u0441\\u0435\\u0440\\u0432\\u0438\\u0441\\u043d\\u044b\\u0439\", \"\\u0441\\u0435\\u0440\\u0442\\u0438\\u0444\\u0438\\u043a\\u0430\\u0442\", \"\\u0441\\u0438\\u0441\\u0442\\u0435\\u043c\\u0430\", \"\\u0441\\u0438\\u0441\\u0442\\u0435\\u043c\\u0430\", \"\\u0441\\u0438\\u0442\\u0443\\u0430\\u0446\\u0438\\u044f\", \"\\u0441\\u0438\\u0442\\u0443\\u0430\\u0446\\u0438\\u044f\", \"\\u0441\\u0438\\u0442\\u0443\\u0430\\u0446\\u0438\\u044f\", \"\\u0441\\u0438\\u0442\\u0443\\u0430\\u0446\\u0438\\u044f\", \"\\u0441\\u0438\\u0442\\u0443\\u0430\\u0446\\u0438\\u044f\", \"\\u0441\\u0438\\u0442\\u0443\\u0430\\u0446\\u0438\\u044f\", \"\\u0441\\u043a\\u043b\\u0430\\u0434\", \"\\u0441\\u043c\\u0441\", \"\\u0441\\u043d\\u044f\\u0442\\u044c\", \"\\u0441\\u043e\\u0431\\u0441\\u0442\\u0432\\u0435\\u043d\\u043d\\u0438\\u043a\", \"\\u0441\\u043e\\u0431\\u0441\\u0442\\u0432\\u0435\\u043d\\u043d\\u044b\\u0439\", \"\\u0441\\u043e\\u0433\\u043b\\u0430\\u0441\\u043d\\u043e\", \"\\u0441\\u043e\\u0433\\u043b\\u0430\\u0441\\u043d\\u043e\", \"\\u0441\\u043e\\u0433\\u043b\\u0430\\u0441\\u043d\\u043e\", \"\\u0441\\u043e\\u0433\\u043b\\u0430\\u0441\\u043d\\u043e\", \"\\u0441\\u043e\\u0433\\u043b\\u0430\\u0448\\u0435\\u043d\\u0438\\u0435\", \"\\u0441\\u043e\\u0434\\u0435\\u0439\\u0441\\u0442\\u0432\\u0438\\u0435\", \"\\u0441\\u043e\\u043e\\u0431\\u0449\\u0438\\u0442\\u044c\", \"\\u0441\\u043e\\u043e\\u0431\\u0449\\u0438\\u0442\\u044c\", \"\\u0441\\u043e\\u043e\\u0431\\u0449\\u0438\\u0442\\u044c\", \"\\u0441\\u043e\\u043e\\u0442\\u0432\\u0435\\u0442\\u0441\\u0442\\u0432\\u0438\\u0435\", \"\\u0441\\u043e\\u043e\\u0442\\u0432\\u0435\\u0442\\u0441\\u0442\\u0432\\u0438\\u0435\", \"\\u0441\\u043e\\u0441\\u0435\\u0434\", \"\\u0441\\u043e\\u0441\\u0442\\u043e\\u044f\\u0442\\u044c\\u0441\\u044f\", \"\\u0441\\u043e\\u0442\\u0440\\u0443\\u0434\\u043d\\u0438\\u043a\", \"\\u0441\\u043e\\u0442\\u0440\\u0443\\u0434\\u043d\\u0438\\u043a\", \"\\u0441\\u043e\\u0442\\u0440\\u0443\\u0434\\u043d\\u0438\\u043a\", \"\\u0441\\u043e\\u0442\\u0440\\u0443\\u0434\\u043d\\u0438\\u043a\", \"\\u0441\\u043e\\u0442\\u0440\\u0443\\u0434\\u043d\\u0438\\u043a\", \"\\u0441\\u043e\\u0445\\u0440\\u0430\\u043d\\u0438\\u0442\\u044c\", \"\\u0441\\u043f\\u0438\\u0441\\u0430\\u0442\\u044c\", \"\\u0441\\u043f\\u0438\\u0441\\u0430\\u0442\\u044c\", \"\\u0441\\u0440\\u0435\\u0434\\u0441\\u0442\\u0432\\u043e\", \"\\u0441\\u0440\\u0435\\u0434\\u0441\\u0442\\u0432\\u043e\", \"\\u0441\\u0440\\u0435\\u0434\\u0441\\u0442\\u0432\\u043e\", \"\\u0441\\u0440\\u0435\\u0434\\u0441\\u0442\\u0432\\u043e\", \"\\u0441\\u0440\\u043e\\u043a\", \"\\u0441\\u0440\\u043e\\u043a\", \"\\u0441\\u0440\\u043e\\u043a\", \"\\u0441\\u0440\\u043e\\u043a\", \"\\u0441\\u0442\\u043e\\u0438\\u043c\\u043e\\u0441\\u0442\\u044c\", \"\\u0441\\u0442\\u043e\\u0438\\u043c\\u043e\\u0441\\u0442\\u044c\", \"\\u0441\\u0442\\u043e\\u0438\\u043c\\u043e\\u0441\\u0442\\u044c\", \"\\u0441\\u0442\\u043e\\u0438\\u043c\\u043e\\u0441\\u0442\\u044c\", \"\\u0441\\u0442\\u043e\\u0438\\u043c\\u043e\\u0441\\u0442\\u044c\", \"\\u0441\\u0442\\u0440\\u043e\\u0438\\u0442\\u0435\\u043b\\u044c\\u043d\\u044b\\u0439\", \"\\u0441\\u0443\\u043c\\u043c\\u0430\", \"\\u0441\\u0443\\u043c\\u043c\\u0430\", \"\\u0441\\u0443\\u043c\\u043c\\u0430\", \"\\u0441\\u0443\\u043c\\u043c\\u0430\", \"\\u0441\\u0443\\u0442\\u043a\\u0438\", \"\\u0441\\u0443\\u0442\\u043a\\u0438\", \"\\u0441\\u0447\\u0451\\u0442\", \"\\u0441\\u0447\\u0451\\u0442\", \"\\u0441\\u0447\\u0451\\u0442\", \"\\u0442\\u0430\\u043a\\u0436\\u0435\", \"\\u0442\\u0430\\u043a\\u0436\\u0435\", \"\\u0442\\u0430\\u043a\\u0436\\u0435\", \"\\u0442\\u0430\\u043a\\u0436\\u0435\", \"\\u0442\\u0430\\u043a\\u0436\\u0435\", \"\\u0442\\u0430\\u043a\\u0436\\u0435\", \"\\u0442\\u0430\\u0440\\u0430\\u043a\\u0430\\u043d\", \"\\u0442\\u0435\\u043b\\u0435\\u0444\\u043e\\u043d\", \"\\u0442\\u0435\\u043c\\u043f\\u0435\\u0440\\u0430\\u0442\\u0443\\u0440\\u0430\", \"\\u0442\\u0435\\u0440\\u0440\\u0438\\u0442\\u043e\\u0440\\u0438\\u044f\", \"\\u0442\\u0435\\u0441\\u0442\", \"\\u0442\\u043e\\u0432\\u0430\\u0440\", \"\\u0442\\u043e\\u0432\\u0430\\u0440\", \"\\u0442\\u043e\\u0440\\u0433\\u043e\\u0432\\u043b\\u044f\", \"\\u0442\\u043e\\u0440\\u0433\\u043e\\u0432\\u044b\\u0439\", \"\\u0442\\u0440\\u0435\\u0431\\u043e\\u0432\\u0430\\u043d\\u0438\\u0435\", \"\\u0442\\u0440\\u0435\\u0431\\u043e\\u0432\\u0430\\u043d\\u0438\\u0435\", \"\\u0442\\u0440\\u0435\\u0431\\u043e\\u0432\\u0430\\u043d\\u0438\\u0435\", \"\\u0442\\u0440\\u0435\\u0431\\u043e\\u0432\\u0430\\u043d\\u0438\\u0435\", \"\\u0442\\u0440\\u0435\\u0431\\u043e\\u0432\\u0430\\u0442\\u044c\", \"\\u0442\\u0440\\u0435\\u0431\\u043e\\u0432\\u0430\\u0442\\u044c\", \"\\u0442\\u044b\\u0441\\u044f\\u0447\\u0430\", \"\\u0443\\u043b\\u0438\\u0446\\u0430\", \"\\u0443\\u043f\\u0430\\u043a\\u043e\\u0432\\u043a\\u0430\", \"\\u0443\\u043f\\u0440\\u0430\\u0432\\u043b\\u044f\\u0442\\u044c\", \"\\u0443\\u0441\\u043b\\u0443\\u0433\\u0430\", \"\\u0443\\u0441\\u043b\\u0443\\u0433\\u0430\", \"\\u0443\\u0441\\u0442\\u0430\\u043d\\u043e\\u0432\\u043a\\u0430\", \"\\u0443\\u0441\\u0442\\u0430\\u043d\\u043e\\u0432\\u043b\\u0435\\u043d\\u0438\\u0435\", \"\\u0443\\u0442\\u0440\\u043e\", \"\\u0443\\u0447\\u0430\\u0441\\u0442\\u043e\\u043a\", \"\\u0444\\u0435\\u0434\\u0435\\u0440\\u0430\\u043b\\u044c\\u043d\\u044b\\u0439\", \"\\u0444\\u0435\\u0434\\u0435\\u0440\\u0430\\u0446\\u0438\\u044f\", \"\\u0445\\u043e\\u0442\\u0435\\u0442\\u044c\", \"\\u0445\\u043e\\u0442\\u0435\\u0442\\u044c\", \"\\u0445\\u043e\\u0442\\u0435\\u0442\\u044c\", \"\\u0445\\u043e\\u0442\\u0435\\u0442\\u044c\", \"\\u0445\\u043e\\u0442\\u0435\\u0442\\u044c\", \"\\u0445\\u043e\\u0442\\u0435\\u0442\\u044c\\u0441\\u044f\", \"\\u0446\\u0435\\u043d\\u0430\", \"\\u0446\\u0435\\u043d\\u0430\", \"\\u0446\\u0435\\u043d\\u043d\\u0438\\u043a\", \"\\u0446\\u0435\\u043d\\u0442\\u0440\", \"\\u0446\\u0435\\u043d\\u0442\\u0440\", \"\\u0446\\u0435\\u043d\\u0442\\u0440\", \"\\u0447\\u0430\\u0441\", \"\\u0447\\u0430\\u0441\", \"\\u0447\\u0430\\u0441\", \"\\u0447\\u0435\\u043a\", \"\\u0447\\u0435\\u043a\", \"\\u0447\\u0435\\u043a\", \"\\u0447\\u0435\\u043a\", \"\\u0447\\u0438\\u0441\\u043b\\u043e\", \"\\u0447\\u0438\\u0441\\u043b\\u043e\", \"\\u0447\\u0438\\u0441\\u043b\\u043e\", \"\\u0448\\u043a\\u043e\\u043b\\u0430\", \"\\u044d\\u043f\\u0438\\u0434\\u0435\\u043c\\u0438\\u043e\\u043b\\u043e\\u0433\\u0438\\u0447\\u0435\\u0441\\u043a\\u0438\\u0439\", \"\\u044d\\u0442\\u0430\\u0436\", \"\\u044f\\u0432\\u043b\\u044f\\u0442\\u044c\\u0441\\u044f\", \"\\u044f\\u0432\\u043b\\u044f\\u0442\\u044c\\u0441\\u044f\", \"\\u044f\\u0432\\u043b\\u044f\\u0442\\u044c\\u0441\\u044f\", \"\\u044f\\u0432\\u043b\\u044f\\u0442\\u044c\\u0441\\u044f\", \"\\u044f\\u043d\\u0434\\u0435\\u043a\\u0441\"]}, \"R\": 30, \"lambda.step\": 0.01, \"plot.opts\": {\"xlab\": \"PC1\", \"ylab\": \"PC2\"}, \"topic.order\": [3, 4, 6, 1, 5, 2]};\n",
              "\n",
              "function LDAvis_load_lib(url, callback){\n",
              "  var s = document.createElement('script');\n",
              "  s.src = url;\n",
              "  s.async = true;\n",
              "  s.onreadystatechange = s.onload = callback;\n",
              "  s.onerror = function(){console.warn(\"failed to load library \" + url);};\n",
              "  document.getElementsByTagName(\"head\")[0].appendChild(s);\n",
              "}\n",
              "\n",
              "if(typeof(LDAvis) !== \"undefined\"){\n",
              "   // already loaded: just create the visualization\n",
              "   !function(LDAvis){\n",
              "       new LDAvis(\"#\" + \"ldavis_el1541397097206572482256604004\", ldavis_el1541397097206572482256604004_data);\n",
              "   }(LDAvis);\n",
              "}else if(typeof define === \"function\" && define.amd){\n",
              "   // require.js is available: use it to load d3/LDAvis\n",
              "   require.config({paths: {d3: \"https://d3js.org/d3.v5\"}});\n",
              "   require([\"d3\"], function(d3){\n",
              "      window.d3 = d3;\n",
              "      LDAvis_load_lib(\"https://cdn.jsdelivr.net/gh/bmabey/pyLDAvis@3.4.0/pyLDAvis/js/ldavis.v3.0.0.js\", function(){\n",
              "        new LDAvis(\"#\" + \"ldavis_el1541397097206572482256604004\", ldavis_el1541397097206572482256604004_data);\n",
              "      });\n",
              "    });\n",
              "}else{\n",
              "    // require.js not available: dynamically load d3 & LDAvis\n",
              "    LDAvis_load_lib(\"https://d3js.org/d3.v5.js\", function(){\n",
              "         LDAvis_load_lib(\"https://cdn.jsdelivr.net/gh/bmabey/pyLDAvis@3.4.0/pyLDAvis/js/ldavis.v3.0.0.js\", function(){\n",
              "                 new LDAvis(\"#\" + \"ldavis_el1541397097206572482256604004\", ldavis_el1541397097206572482256604004_data);\n",
              "            })\n",
              "         });\n",
              "}\n",
              "</script>"
            ]
          },
          "metadata": {},
          "execution_count": 27
        }
      ]
    },
    {
      "cell_type": "code",
      "source": [
        "vis_data.topic_info.Category"
      ],
      "metadata": {
        "colab": {
          "base_uri": "https://localhost:8080/"
        },
        "id": "cvcJ22RIgJhV",
        "outputId": "7d7c7c1b-1b21-4d07-8251-cc61a0ecf215"
      },
      "execution_count": 28,
      "outputs": [
        {
          "output_type": "stream",
          "name": "stderr",
          "text": [
            "/usr/local/lib/python3.9/dist-packages/ipykernel/ipkernel.py:283: DeprecationWarning: `should_run_async` will not call `transform_cell` automatically in the future. Please pass the result to `transformed_cell` argument and any exception that happen during thetransform in `preprocessing_exc_tuple` in IPython 7.17 and above.\n",
            "  and should_run_async(code)\n"
          ]
        },
        {
          "output_type": "execute_result",
          "data": {
            "text/plain": [
              "140    Default\n",
              "179    Default\n",
              "53     Default\n",
              "155    Default\n",
              "415    Default\n",
              "        ...   \n",
              "214     Topic6\n",
              "1       Topic6\n",
              "272     Topic6\n",
              "71      Topic6\n",
              "278     Topic6\n",
              "Name: Category, Length: 369, dtype: object"
            ]
          },
          "metadata": {},
          "execution_count": 28
        }
      ]
    },
    {
      "cell_type": "code",
      "source": [
        "topic_names_list = vis_data.topic_info.Category.unique()\n",
        "topic_names_list"
      ],
      "metadata": {
        "colab": {
          "base_uri": "https://localhost:8080/"
        },
        "id": "Ctz2zMuJg860",
        "outputId": "52423ac0-9c3d-44e2-b6b4-c903d1922059"
      },
      "execution_count": 29,
      "outputs": [
        {
          "output_type": "stream",
          "name": "stderr",
          "text": [
            "/usr/local/lib/python3.9/dist-packages/ipykernel/ipkernel.py:283: DeprecationWarning: `should_run_async` will not call `transform_cell` automatically in the future. Please pass the result to `transformed_cell` argument and any exception that happen during thetransform in `preprocessing_exc_tuple` in IPython 7.17 and above.\n",
            "  and should_run_async(code)\n"
          ]
        },
        {
          "output_type": "execute_result",
          "data": {
            "text/plain": [
              "array(['Default', 'Topic1', 'Topic2', 'Topic3', 'Topic4', 'Topic5',\n",
              "       'Topic6'], dtype=object)"
            ]
          },
          "metadata": {},
          "execution_count": 29
        }
      ]
    },
    {
      "cell_type": "code",
      "source": [
        "for topic_name in topic_names_list[1:]:\n",
        "  print(list(vis_data.topic_info.loc[vis_data.topic_info.Category == topic_name].Term[:8]))"
      ],
      "metadata": {
        "colab": {
          "base_uri": "https://localhost:8080/"
        },
        "id": "N6q8kfnBikHf",
        "outputId": "00f8905c-85ed-4e2e-e5bc-33161b3b2c51"
      },
      "execution_count": 30,
      "outputs": [
        {
          "output_type": "stream",
          "name": "stdout",
          "text": [
            "['телефон', 'ремонт', 'гарантийный', 'номер', 'позвонить', 'звонок', 'сервисный', 'кредит']\n",
            "['магазин', 'продавец', 'сертификат', 'покупатель', 'продажа', 'упаковка', 'производитель', 'продукция']\n",
            "['дом', 'наш', 'квартира', 'участок', 'этаж', 'прислать', 'жилой', 'давать']\n",
            "['помещение', 'код', 'российский', 'федерация', 'федеральный', 'расторжение', 'изменение', 'проведение']\n",
            "['заказ', 'пункт', 'выдача', 'отменить', 'яндекс', 'доставить', 'курьер', 'клуб']\n",
            "['ребёнок', 'санитарный', 'улица', 'детский', 'расположить', 'подъезд', 'группа', 'озон']\n"
          ]
        },
        {
          "output_type": "stream",
          "name": "stderr",
          "text": [
            "/usr/local/lib/python3.9/dist-packages/ipykernel/ipkernel.py:283: DeprecationWarning: `should_run_async` will not call `transform_cell` automatically in the future. Please pass the result to `transformed_cell` argument and any exception that happen during thetransform in `preprocessing_exc_tuple` in IPython 7.17 and above.\n",
            "  and should_run_async(code)\n"
          ]
        }
      ]
    },
    {
      "cell_type": "markdown",
      "source": [
        "Интерпретация:\n",
        "\n",
        "1. Вопросы, связанные с гарантийными ремонтами и сервисными центрами.\n",
        "2. Вопросы связанные с упаковкой товаров и сертификатами на товары.\n",
        "3. Вопросы связанные с недвижимостью.\n",
        "4. Вопросы связанные с гос органами.\n",
        "5. Вопросы связанные с маркетплейсами, пунктами выдачи и доставкой.\n",
        "6. Вопросы связанные с детьми."
      ],
      "metadata": {
        "id": "yuPOxZPakLck"
      }
    },
    {
      "cell_type": "code",
      "source": [],
      "metadata": {
        "id": "bhM3jxsDlZ29"
      },
      "execution_count": null,
      "outputs": []
    }
  ],
  "metadata": {
    "kernelspec": {
      "display_name": "Python 3",
      "language": "python",
      "name": "python3"
    },
    "language_info": {
      "codemirror_mode": {
        "name": "ipython",
        "version": 3
      },
      "file_extension": ".py",
      "mimetype": "text/x-python",
      "name": "python",
      "nbconvert_exporter": "python",
      "pygments_lexer": "ipython3",
      "version": "3.8.5"
    },
    "colab": {
      "provenance": []
    },
    "widgets": {
      "application/vnd.jupyter.widget-state+json": {
        "9aaffe48f6864e1eacaa309e70fbd025": {
          "model_module": "@jupyter-widgets/controls",
          "model_name": "HBoxModel",
          "model_module_version": "1.5.0",
          "state": {
            "_dom_classes": [],
            "_model_module": "@jupyter-widgets/controls",
            "_model_module_version": "1.5.0",
            "_model_name": "HBoxModel",
            "_view_count": null,
            "_view_module": "@jupyter-widgets/controls",
            "_view_module_version": "1.5.0",
            "_view_name": "HBoxView",
            "box_style": "",
            "children": [
              "IPY_MODEL_7b8155822ca54a7ebac6bb7ec63d9262",
              "IPY_MODEL_6fe76d9166484253a306edf129c8c060",
              "IPY_MODEL_e469eb374feb48ebb7596b1861f8e0c7"
            ],
            "layout": "IPY_MODEL_24fcea0173784ec4b246b681b1497d02"
          }
        },
        "7b8155822ca54a7ebac6bb7ec63d9262": {
          "model_module": "@jupyter-widgets/controls",
          "model_name": "HTMLModel",
          "model_module_version": "1.5.0",
          "state": {
            "_dom_classes": [],
            "_model_module": "@jupyter-widgets/controls",
            "_model_module_version": "1.5.0",
            "_model_name": "HTMLModel",
            "_view_count": null,
            "_view_module": "@jupyter-widgets/controls",
            "_view_module_version": "1.5.0",
            "_view_name": "HTMLView",
            "description": "",
            "description_tooltip": null,
            "layout": "IPY_MODEL_528dce094db14e7485a1c9b5af2d28c8",
            "placeholder": "​",
            "style": "IPY_MODEL_d360f7042bb9457c85e2b062a39da59b",
            "value": "Pages: 100%"
          }
        },
        "6fe76d9166484253a306edf129c8c060": {
          "model_module": "@jupyter-widgets/controls",
          "model_name": "FloatProgressModel",
          "model_module_version": "1.5.0",
          "state": {
            "_dom_classes": [],
            "_model_module": "@jupyter-widgets/controls",
            "_model_module_version": "1.5.0",
            "_model_name": "FloatProgressModel",
            "_view_count": null,
            "_view_module": "@jupyter-widgets/controls",
            "_view_module_version": "1.5.0",
            "_view_name": "ProgressView",
            "bar_style": "success",
            "description": "",
            "description_tooltip": null,
            "layout": "IPY_MODEL_abaf08d47b4945f69b9b5a52488b328f",
            "max": 499,
            "min": 0,
            "orientation": "horizontal",
            "style": "IPY_MODEL_b7ea60fc47cb47ba98ffaf217cc5dba0",
            "value": 499
          }
        },
        "e469eb374feb48ebb7596b1861f8e0c7": {
          "model_module": "@jupyter-widgets/controls",
          "model_name": "HTMLModel",
          "model_module_version": "1.5.0",
          "state": {
            "_dom_classes": [],
            "_model_module": "@jupyter-widgets/controls",
            "_model_module_version": "1.5.0",
            "_model_name": "HTMLModel",
            "_view_count": null,
            "_view_module": "@jupyter-widgets/controls",
            "_view_module_version": "1.5.0",
            "_view_name": "HTMLView",
            "description": "",
            "description_tooltip": null,
            "layout": "IPY_MODEL_0a9500c067434361a3b6edcd4a9f8ecb",
            "placeholder": "​",
            "style": "IPY_MODEL_e9b561f7fc82474c8e434f77d0ea65fd",
            "value": " 499/499 [09:22&lt;00:00,  1.09s/it]"
          }
        },
        "24fcea0173784ec4b246b681b1497d02": {
          "model_module": "@jupyter-widgets/base",
          "model_name": "LayoutModel",
          "model_module_version": "1.2.0",
          "state": {
            "_model_module": "@jupyter-widgets/base",
            "_model_module_version": "1.2.0",
            "_model_name": "LayoutModel",
            "_view_count": null,
            "_view_module": "@jupyter-widgets/base",
            "_view_module_version": "1.2.0",
            "_view_name": "LayoutView",
            "align_content": null,
            "align_items": null,
            "align_self": null,
            "border": null,
            "bottom": null,
            "display": null,
            "flex": null,
            "flex_flow": null,
            "grid_area": null,
            "grid_auto_columns": null,
            "grid_auto_flow": null,
            "grid_auto_rows": null,
            "grid_column": null,
            "grid_gap": null,
            "grid_row": null,
            "grid_template_areas": null,
            "grid_template_columns": null,
            "grid_template_rows": null,
            "height": null,
            "justify_content": null,
            "justify_items": null,
            "left": null,
            "margin": null,
            "max_height": null,
            "max_width": null,
            "min_height": null,
            "min_width": null,
            "object_fit": null,
            "object_position": null,
            "order": null,
            "overflow": null,
            "overflow_x": null,
            "overflow_y": null,
            "padding": null,
            "right": null,
            "top": null,
            "visibility": null,
            "width": null
          }
        },
        "528dce094db14e7485a1c9b5af2d28c8": {
          "model_module": "@jupyter-widgets/base",
          "model_name": "LayoutModel",
          "model_module_version": "1.2.0",
          "state": {
            "_model_module": "@jupyter-widgets/base",
            "_model_module_version": "1.2.0",
            "_model_name": "LayoutModel",
            "_view_count": null,
            "_view_module": "@jupyter-widgets/base",
            "_view_module_version": "1.2.0",
            "_view_name": "LayoutView",
            "align_content": null,
            "align_items": null,
            "align_self": null,
            "border": null,
            "bottom": null,
            "display": null,
            "flex": null,
            "flex_flow": null,
            "grid_area": null,
            "grid_auto_columns": null,
            "grid_auto_flow": null,
            "grid_auto_rows": null,
            "grid_column": null,
            "grid_gap": null,
            "grid_row": null,
            "grid_template_areas": null,
            "grid_template_columns": null,
            "grid_template_rows": null,
            "height": null,
            "justify_content": null,
            "justify_items": null,
            "left": null,
            "margin": null,
            "max_height": null,
            "max_width": null,
            "min_height": null,
            "min_width": null,
            "object_fit": null,
            "object_position": null,
            "order": null,
            "overflow": null,
            "overflow_x": null,
            "overflow_y": null,
            "padding": null,
            "right": null,
            "top": null,
            "visibility": null,
            "width": null
          }
        },
        "d360f7042bb9457c85e2b062a39da59b": {
          "model_module": "@jupyter-widgets/controls",
          "model_name": "DescriptionStyleModel",
          "model_module_version": "1.5.0",
          "state": {
            "_model_module": "@jupyter-widgets/controls",
            "_model_module_version": "1.5.0",
            "_model_name": "DescriptionStyleModel",
            "_view_count": null,
            "_view_module": "@jupyter-widgets/base",
            "_view_module_version": "1.2.0",
            "_view_name": "StyleView",
            "description_width": ""
          }
        },
        "abaf08d47b4945f69b9b5a52488b328f": {
          "model_module": "@jupyter-widgets/base",
          "model_name": "LayoutModel",
          "model_module_version": "1.2.0",
          "state": {
            "_model_module": "@jupyter-widgets/base",
            "_model_module_version": "1.2.0",
            "_model_name": "LayoutModel",
            "_view_count": null,
            "_view_module": "@jupyter-widgets/base",
            "_view_module_version": "1.2.0",
            "_view_name": "LayoutView",
            "align_content": null,
            "align_items": null,
            "align_self": null,
            "border": null,
            "bottom": null,
            "display": null,
            "flex": null,
            "flex_flow": null,
            "grid_area": null,
            "grid_auto_columns": null,
            "grid_auto_flow": null,
            "grid_auto_rows": null,
            "grid_column": null,
            "grid_gap": null,
            "grid_row": null,
            "grid_template_areas": null,
            "grid_template_columns": null,
            "grid_template_rows": null,
            "height": null,
            "justify_content": null,
            "justify_items": null,
            "left": null,
            "margin": null,
            "max_height": null,
            "max_width": null,
            "min_height": null,
            "min_width": null,
            "object_fit": null,
            "object_position": null,
            "order": null,
            "overflow": null,
            "overflow_x": null,
            "overflow_y": null,
            "padding": null,
            "right": null,
            "top": null,
            "visibility": null,
            "width": null
          }
        },
        "b7ea60fc47cb47ba98ffaf217cc5dba0": {
          "model_module": "@jupyter-widgets/controls",
          "model_name": "ProgressStyleModel",
          "model_module_version": "1.5.0",
          "state": {
            "_model_module": "@jupyter-widgets/controls",
            "_model_module_version": "1.5.0",
            "_model_name": "ProgressStyleModel",
            "_view_count": null,
            "_view_module": "@jupyter-widgets/base",
            "_view_module_version": "1.2.0",
            "_view_name": "StyleView",
            "bar_color": null,
            "description_width": ""
          }
        },
        "0a9500c067434361a3b6edcd4a9f8ecb": {
          "model_module": "@jupyter-widgets/base",
          "model_name": "LayoutModel",
          "model_module_version": "1.2.0",
          "state": {
            "_model_module": "@jupyter-widgets/base",
            "_model_module_version": "1.2.0",
            "_model_name": "LayoutModel",
            "_view_count": null,
            "_view_module": "@jupyter-widgets/base",
            "_view_module_version": "1.2.0",
            "_view_name": "LayoutView",
            "align_content": null,
            "align_items": null,
            "align_self": null,
            "border": null,
            "bottom": null,
            "display": null,
            "flex": null,
            "flex_flow": null,
            "grid_area": null,
            "grid_auto_columns": null,
            "grid_auto_flow": null,
            "grid_auto_rows": null,
            "grid_column": null,
            "grid_gap": null,
            "grid_row": null,
            "grid_template_areas": null,
            "grid_template_columns": null,
            "grid_template_rows": null,
            "height": null,
            "justify_content": null,
            "justify_items": null,
            "left": null,
            "margin": null,
            "max_height": null,
            "max_width": null,
            "min_height": null,
            "min_width": null,
            "object_fit": null,
            "object_position": null,
            "order": null,
            "overflow": null,
            "overflow_x": null,
            "overflow_y": null,
            "padding": null,
            "right": null,
            "top": null,
            "visibility": null,
            "width": null
          }
        },
        "e9b561f7fc82474c8e434f77d0ea65fd": {
          "model_module": "@jupyter-widgets/controls",
          "model_name": "DescriptionStyleModel",
          "model_module_version": "1.5.0",
          "state": {
            "_model_module": "@jupyter-widgets/controls",
            "_model_module_version": "1.5.0",
            "_model_name": "DescriptionStyleModel",
            "_view_count": null,
            "_view_module": "@jupyter-widgets/base",
            "_view_module_version": "1.2.0",
            "_view_name": "StyleView",
            "description_width": ""
          }
        },
        "4949f15f033c4adf8ccb47f08f2b5b15": {
          "model_module": "@jupyter-widgets/controls",
          "model_name": "HBoxModel",
          "model_module_version": "1.5.0",
          "state": {
            "_dom_classes": [],
            "_model_module": "@jupyter-widgets/controls",
            "_model_module_version": "1.5.0",
            "_model_name": "HBoxModel",
            "_view_count": null,
            "_view_module": "@jupyter-widgets/controls",
            "_view_module_version": "1.5.0",
            "_view_name": "HBoxView",
            "box_style": "",
            "children": [
              "IPY_MODEL_31995cf4136e47eca6eab310214f3fbf",
              "IPY_MODEL_990ffe39317e4c1cb520fff4fb138c1a",
              "IPY_MODEL_0314fc6ac30e408c9ca654ab6b66c04b"
            ],
            "layout": "IPY_MODEL_c5a871152b7d4329886afe43a96bc990"
          }
        },
        "31995cf4136e47eca6eab310214f3fbf": {
          "model_module": "@jupyter-widgets/controls",
          "model_name": "HTMLModel",
          "model_module_version": "1.5.0",
          "state": {
            "_dom_classes": [],
            "_model_module": "@jupyter-widgets/controls",
            "_model_module_version": "1.5.0",
            "_model_name": "HTMLModel",
            "_view_count": null,
            "_view_module": "@jupyter-widgets/controls",
            "_view_module_version": "1.5.0",
            "_view_name": "HTMLView",
            "description": "",
            "description_tooltip": null,
            "layout": "IPY_MODEL_c0419f43bd3d4ad8afa50719f2278c6d",
            "placeholder": "​",
            "style": "IPY_MODEL_054cbe0eaf80439584bac9fff4bb0659",
            "value": "Pages: 100%"
          }
        },
        "990ffe39317e4c1cb520fff4fb138c1a": {
          "model_module": "@jupyter-widgets/controls",
          "model_name": "FloatProgressModel",
          "model_module_version": "1.5.0",
          "state": {
            "_dom_classes": [],
            "_model_module": "@jupyter-widgets/controls",
            "_model_module_version": "1.5.0",
            "_model_name": "FloatProgressModel",
            "_view_count": null,
            "_view_module": "@jupyter-widgets/controls",
            "_view_module_version": "1.5.0",
            "_view_name": "ProgressView",
            "bar_style": "success",
            "description": "",
            "description_tooltip": null,
            "layout": "IPY_MODEL_ba1f60ce6806413f97bc82c3df1d7eb8",
            "max": 2495,
            "min": 0,
            "orientation": "horizontal",
            "style": "IPY_MODEL_034647dc26124cc3a57d69b49a327e31",
            "value": 2495
          }
        },
        "0314fc6ac30e408c9ca654ab6b66c04b": {
          "model_module": "@jupyter-widgets/controls",
          "model_name": "HTMLModel",
          "model_module_version": "1.5.0",
          "state": {
            "_dom_classes": [],
            "_model_module": "@jupyter-widgets/controls",
            "_model_module_version": "1.5.0",
            "_model_name": "HTMLModel",
            "_view_count": null,
            "_view_module": "@jupyter-widgets/controls",
            "_view_module_version": "1.5.0",
            "_view_name": "HTMLView",
            "description": "",
            "description_tooltip": null,
            "layout": "IPY_MODEL_13bd9ea470de44c9b93722537bb3f008",
            "placeholder": "​",
            "style": "IPY_MODEL_354a424a19664d98a1b39008a6142944",
            "value": " 2495/2495 [48:23&lt;00:00,  1.17s/it]"
          }
        },
        "c5a871152b7d4329886afe43a96bc990": {
          "model_module": "@jupyter-widgets/base",
          "model_name": "LayoutModel",
          "model_module_version": "1.2.0",
          "state": {
            "_model_module": "@jupyter-widgets/base",
            "_model_module_version": "1.2.0",
            "_model_name": "LayoutModel",
            "_view_count": null,
            "_view_module": "@jupyter-widgets/base",
            "_view_module_version": "1.2.0",
            "_view_name": "LayoutView",
            "align_content": null,
            "align_items": null,
            "align_self": null,
            "border": null,
            "bottom": null,
            "display": null,
            "flex": null,
            "flex_flow": null,
            "grid_area": null,
            "grid_auto_columns": null,
            "grid_auto_flow": null,
            "grid_auto_rows": null,
            "grid_column": null,
            "grid_gap": null,
            "grid_row": null,
            "grid_template_areas": null,
            "grid_template_columns": null,
            "grid_template_rows": null,
            "height": null,
            "justify_content": null,
            "justify_items": null,
            "left": null,
            "margin": null,
            "max_height": null,
            "max_width": null,
            "min_height": null,
            "min_width": null,
            "object_fit": null,
            "object_position": null,
            "order": null,
            "overflow": null,
            "overflow_x": null,
            "overflow_y": null,
            "padding": null,
            "right": null,
            "top": null,
            "visibility": null,
            "width": null
          }
        },
        "c0419f43bd3d4ad8afa50719f2278c6d": {
          "model_module": "@jupyter-widgets/base",
          "model_name": "LayoutModel",
          "model_module_version": "1.2.0",
          "state": {
            "_model_module": "@jupyter-widgets/base",
            "_model_module_version": "1.2.0",
            "_model_name": "LayoutModel",
            "_view_count": null,
            "_view_module": "@jupyter-widgets/base",
            "_view_module_version": "1.2.0",
            "_view_name": "LayoutView",
            "align_content": null,
            "align_items": null,
            "align_self": null,
            "border": null,
            "bottom": null,
            "display": null,
            "flex": null,
            "flex_flow": null,
            "grid_area": null,
            "grid_auto_columns": null,
            "grid_auto_flow": null,
            "grid_auto_rows": null,
            "grid_column": null,
            "grid_gap": null,
            "grid_row": null,
            "grid_template_areas": null,
            "grid_template_columns": null,
            "grid_template_rows": null,
            "height": null,
            "justify_content": null,
            "justify_items": null,
            "left": null,
            "margin": null,
            "max_height": null,
            "max_width": null,
            "min_height": null,
            "min_width": null,
            "object_fit": null,
            "object_position": null,
            "order": null,
            "overflow": null,
            "overflow_x": null,
            "overflow_y": null,
            "padding": null,
            "right": null,
            "top": null,
            "visibility": null,
            "width": null
          }
        },
        "054cbe0eaf80439584bac9fff4bb0659": {
          "model_module": "@jupyter-widgets/controls",
          "model_name": "DescriptionStyleModel",
          "model_module_version": "1.5.0",
          "state": {
            "_model_module": "@jupyter-widgets/controls",
            "_model_module_version": "1.5.0",
            "_model_name": "DescriptionStyleModel",
            "_view_count": null,
            "_view_module": "@jupyter-widgets/base",
            "_view_module_version": "1.2.0",
            "_view_name": "StyleView",
            "description_width": ""
          }
        },
        "ba1f60ce6806413f97bc82c3df1d7eb8": {
          "model_module": "@jupyter-widgets/base",
          "model_name": "LayoutModel",
          "model_module_version": "1.2.0",
          "state": {
            "_model_module": "@jupyter-widgets/base",
            "_model_module_version": "1.2.0",
            "_model_name": "LayoutModel",
            "_view_count": null,
            "_view_module": "@jupyter-widgets/base",
            "_view_module_version": "1.2.0",
            "_view_name": "LayoutView",
            "align_content": null,
            "align_items": null,
            "align_self": null,
            "border": null,
            "bottom": null,
            "display": null,
            "flex": null,
            "flex_flow": null,
            "grid_area": null,
            "grid_auto_columns": null,
            "grid_auto_flow": null,
            "grid_auto_rows": null,
            "grid_column": null,
            "grid_gap": null,
            "grid_row": null,
            "grid_template_areas": null,
            "grid_template_columns": null,
            "grid_template_rows": null,
            "height": null,
            "justify_content": null,
            "justify_items": null,
            "left": null,
            "margin": null,
            "max_height": null,
            "max_width": null,
            "min_height": null,
            "min_width": null,
            "object_fit": null,
            "object_position": null,
            "order": null,
            "overflow": null,
            "overflow_x": null,
            "overflow_y": null,
            "padding": null,
            "right": null,
            "top": null,
            "visibility": null,
            "width": null
          }
        },
        "034647dc26124cc3a57d69b49a327e31": {
          "model_module": "@jupyter-widgets/controls",
          "model_name": "ProgressStyleModel",
          "model_module_version": "1.5.0",
          "state": {
            "_model_module": "@jupyter-widgets/controls",
            "_model_module_version": "1.5.0",
            "_model_name": "ProgressStyleModel",
            "_view_count": null,
            "_view_module": "@jupyter-widgets/base",
            "_view_module_version": "1.2.0",
            "_view_name": "StyleView",
            "bar_color": null,
            "description_width": ""
          }
        },
        "13bd9ea470de44c9b93722537bb3f008": {
          "model_module": "@jupyter-widgets/base",
          "model_name": "LayoutModel",
          "model_module_version": "1.2.0",
          "state": {
            "_model_module": "@jupyter-widgets/base",
            "_model_module_version": "1.2.0",
            "_model_name": "LayoutModel",
            "_view_count": null,
            "_view_module": "@jupyter-widgets/base",
            "_view_module_version": "1.2.0",
            "_view_name": "LayoutView",
            "align_content": null,
            "align_items": null,
            "align_self": null,
            "border": null,
            "bottom": null,
            "display": null,
            "flex": null,
            "flex_flow": null,
            "grid_area": null,
            "grid_auto_columns": null,
            "grid_auto_flow": null,
            "grid_auto_rows": null,
            "grid_column": null,
            "grid_gap": null,
            "grid_row": null,
            "grid_template_areas": null,
            "grid_template_columns": null,
            "grid_template_rows": null,
            "height": null,
            "justify_content": null,
            "justify_items": null,
            "left": null,
            "margin": null,
            "max_height": null,
            "max_width": null,
            "min_height": null,
            "min_width": null,
            "object_fit": null,
            "object_position": null,
            "order": null,
            "overflow": null,
            "overflow_x": null,
            "overflow_y": null,
            "padding": null,
            "right": null,
            "top": null,
            "visibility": null,
            "width": null
          }
        },
        "354a424a19664d98a1b39008a6142944": {
          "model_module": "@jupyter-widgets/controls",
          "model_name": "DescriptionStyleModel",
          "model_module_version": "1.5.0",
          "state": {
            "_model_module": "@jupyter-widgets/controls",
            "_model_module_version": "1.5.0",
            "_model_name": "DescriptionStyleModel",
            "_view_count": null,
            "_view_module": "@jupyter-widgets/base",
            "_view_module_version": "1.2.0",
            "_view_name": "StyleView",
            "description_width": ""
          }
        },
        "38c60b4c84ce42a2945ffd9ff401a88c": {
          "model_module": "@jupyter-widgets/controls",
          "model_name": "HBoxModel",
          "model_module_version": "1.5.0",
          "state": {
            "_dom_classes": [],
            "_model_module": "@jupyter-widgets/controls",
            "_model_module_version": "1.5.0",
            "_model_name": "HBoxModel",
            "_view_count": null,
            "_view_module": "@jupyter-widgets/controls",
            "_view_module_version": "1.5.0",
            "_view_name": "HBoxView",
            "box_style": "",
            "children": [
              "IPY_MODEL_62ec19c89da14775b167c7a6fe2724e6",
              "IPY_MODEL_5c11c4dd6e9e4de2963ae1ef4b5fa3a1",
              "IPY_MODEL_9e48b2af8d154a67857bcfc8589eeb7d"
            ],
            "layout": "IPY_MODEL_a3b4342a70104b25939b36dce9e2c9b5"
          }
        },
        "62ec19c89da14775b167c7a6fe2724e6": {
          "model_module": "@jupyter-widgets/controls",
          "model_name": "HTMLModel",
          "model_module_version": "1.5.0",
          "state": {
            "_dom_classes": [],
            "_model_module": "@jupyter-widgets/controls",
            "_model_module_version": "1.5.0",
            "_model_name": "HTMLModel",
            "_view_count": null,
            "_view_module": "@jupyter-widgets/controls",
            "_view_module_version": "1.5.0",
            "_view_name": "HTMLView",
            "description": "",
            "description_tooltip": null,
            "layout": "IPY_MODEL_417184787f9447ccb00b59708628b42b",
            "placeholder": "​",
            "style": "IPY_MODEL_664b942e119248d688fea86004d0338d",
            "value": "100%"
          }
        },
        "5c11c4dd6e9e4de2963ae1ef4b5fa3a1": {
          "model_module": "@jupyter-widgets/controls",
          "model_name": "FloatProgressModel",
          "model_module_version": "1.5.0",
          "state": {
            "_dom_classes": [],
            "_model_module": "@jupyter-widgets/controls",
            "_model_module_version": "1.5.0",
            "_model_name": "FloatProgressModel",
            "_view_count": null,
            "_view_module": "@jupyter-widgets/controls",
            "_view_module_version": "1.5.0",
            "_view_name": "ProgressView",
            "bar_style": "success",
            "description": "",
            "description_tooltip": null,
            "layout": "IPY_MODEL_48c3d896b62d41c9abe733d0ae7b2025",
            "max": 2495,
            "min": 0,
            "orientation": "horizontal",
            "style": "IPY_MODEL_625379b073fc45929192602be06970ba",
            "value": 2495
          }
        },
        "9e48b2af8d154a67857bcfc8589eeb7d": {
          "model_module": "@jupyter-widgets/controls",
          "model_name": "HTMLModel",
          "model_module_version": "1.5.0",
          "state": {
            "_dom_classes": [],
            "_model_module": "@jupyter-widgets/controls",
            "_model_module_version": "1.5.0",
            "_model_name": "HTMLModel",
            "_view_count": null,
            "_view_module": "@jupyter-widgets/controls",
            "_view_module_version": "1.5.0",
            "_view_name": "HTMLView",
            "description": "",
            "description_tooltip": null,
            "layout": "IPY_MODEL_d4f2c254c8654a648218629ab12bc7bb",
            "placeholder": "​",
            "style": "IPY_MODEL_5702a237feb54461bbba0c0e722dce10",
            "value": " 2495/2495 [00:46&lt;00:00, 68.87it/s]"
          }
        },
        "a3b4342a70104b25939b36dce9e2c9b5": {
          "model_module": "@jupyter-widgets/base",
          "model_name": "LayoutModel",
          "model_module_version": "1.2.0",
          "state": {
            "_model_module": "@jupyter-widgets/base",
            "_model_module_version": "1.2.0",
            "_model_name": "LayoutModel",
            "_view_count": null,
            "_view_module": "@jupyter-widgets/base",
            "_view_module_version": "1.2.0",
            "_view_name": "LayoutView",
            "align_content": null,
            "align_items": null,
            "align_self": null,
            "border": null,
            "bottom": null,
            "display": null,
            "flex": null,
            "flex_flow": null,
            "grid_area": null,
            "grid_auto_columns": null,
            "grid_auto_flow": null,
            "grid_auto_rows": null,
            "grid_column": null,
            "grid_gap": null,
            "grid_row": null,
            "grid_template_areas": null,
            "grid_template_columns": null,
            "grid_template_rows": null,
            "height": null,
            "justify_content": null,
            "justify_items": null,
            "left": null,
            "margin": null,
            "max_height": null,
            "max_width": null,
            "min_height": null,
            "min_width": null,
            "object_fit": null,
            "object_position": null,
            "order": null,
            "overflow": null,
            "overflow_x": null,
            "overflow_y": null,
            "padding": null,
            "right": null,
            "top": null,
            "visibility": null,
            "width": null
          }
        },
        "417184787f9447ccb00b59708628b42b": {
          "model_module": "@jupyter-widgets/base",
          "model_name": "LayoutModel",
          "model_module_version": "1.2.0",
          "state": {
            "_model_module": "@jupyter-widgets/base",
            "_model_module_version": "1.2.0",
            "_model_name": "LayoutModel",
            "_view_count": null,
            "_view_module": "@jupyter-widgets/base",
            "_view_module_version": "1.2.0",
            "_view_name": "LayoutView",
            "align_content": null,
            "align_items": null,
            "align_self": null,
            "border": null,
            "bottom": null,
            "display": null,
            "flex": null,
            "flex_flow": null,
            "grid_area": null,
            "grid_auto_columns": null,
            "grid_auto_flow": null,
            "grid_auto_rows": null,
            "grid_column": null,
            "grid_gap": null,
            "grid_row": null,
            "grid_template_areas": null,
            "grid_template_columns": null,
            "grid_template_rows": null,
            "height": null,
            "justify_content": null,
            "justify_items": null,
            "left": null,
            "margin": null,
            "max_height": null,
            "max_width": null,
            "min_height": null,
            "min_width": null,
            "object_fit": null,
            "object_position": null,
            "order": null,
            "overflow": null,
            "overflow_x": null,
            "overflow_y": null,
            "padding": null,
            "right": null,
            "top": null,
            "visibility": null,
            "width": null
          }
        },
        "664b942e119248d688fea86004d0338d": {
          "model_module": "@jupyter-widgets/controls",
          "model_name": "DescriptionStyleModel",
          "model_module_version": "1.5.0",
          "state": {
            "_model_module": "@jupyter-widgets/controls",
            "_model_module_version": "1.5.0",
            "_model_name": "DescriptionStyleModel",
            "_view_count": null,
            "_view_module": "@jupyter-widgets/base",
            "_view_module_version": "1.2.0",
            "_view_name": "StyleView",
            "description_width": ""
          }
        },
        "48c3d896b62d41c9abe733d0ae7b2025": {
          "model_module": "@jupyter-widgets/base",
          "model_name": "LayoutModel",
          "model_module_version": "1.2.0",
          "state": {
            "_model_module": "@jupyter-widgets/base",
            "_model_module_version": "1.2.0",
            "_model_name": "LayoutModel",
            "_view_count": null,
            "_view_module": "@jupyter-widgets/base",
            "_view_module_version": "1.2.0",
            "_view_name": "LayoutView",
            "align_content": null,
            "align_items": null,
            "align_self": null,
            "border": null,
            "bottom": null,
            "display": null,
            "flex": null,
            "flex_flow": null,
            "grid_area": null,
            "grid_auto_columns": null,
            "grid_auto_flow": null,
            "grid_auto_rows": null,
            "grid_column": null,
            "grid_gap": null,
            "grid_row": null,
            "grid_template_areas": null,
            "grid_template_columns": null,
            "grid_template_rows": null,
            "height": null,
            "justify_content": null,
            "justify_items": null,
            "left": null,
            "margin": null,
            "max_height": null,
            "max_width": null,
            "min_height": null,
            "min_width": null,
            "object_fit": null,
            "object_position": null,
            "order": null,
            "overflow": null,
            "overflow_x": null,
            "overflow_y": null,
            "padding": null,
            "right": null,
            "top": null,
            "visibility": null,
            "width": null
          }
        },
        "625379b073fc45929192602be06970ba": {
          "model_module": "@jupyter-widgets/controls",
          "model_name": "ProgressStyleModel",
          "model_module_version": "1.5.0",
          "state": {
            "_model_module": "@jupyter-widgets/controls",
            "_model_module_version": "1.5.0",
            "_model_name": "ProgressStyleModel",
            "_view_count": null,
            "_view_module": "@jupyter-widgets/base",
            "_view_module_version": "1.2.0",
            "_view_name": "StyleView",
            "bar_color": null,
            "description_width": ""
          }
        },
        "d4f2c254c8654a648218629ab12bc7bb": {
          "model_module": "@jupyter-widgets/base",
          "model_name": "LayoutModel",
          "model_module_version": "1.2.0",
          "state": {
            "_model_module": "@jupyter-widgets/base",
            "_model_module_version": "1.2.0",
            "_model_name": "LayoutModel",
            "_view_count": null,
            "_view_module": "@jupyter-widgets/base",
            "_view_module_version": "1.2.0",
            "_view_name": "LayoutView",
            "align_content": null,
            "align_items": null,
            "align_self": null,
            "border": null,
            "bottom": null,
            "display": null,
            "flex": null,
            "flex_flow": null,
            "grid_area": null,
            "grid_auto_columns": null,
            "grid_auto_flow": null,
            "grid_auto_rows": null,
            "grid_column": null,
            "grid_gap": null,
            "grid_row": null,
            "grid_template_areas": null,
            "grid_template_columns": null,
            "grid_template_rows": null,
            "height": null,
            "justify_content": null,
            "justify_items": null,
            "left": null,
            "margin": null,
            "max_height": null,
            "max_width": null,
            "min_height": null,
            "min_width": null,
            "object_fit": null,
            "object_position": null,
            "order": null,
            "overflow": null,
            "overflow_x": null,
            "overflow_y": null,
            "padding": null,
            "right": null,
            "top": null,
            "visibility": null,
            "width": null
          }
        },
        "5702a237feb54461bbba0c0e722dce10": {
          "model_module": "@jupyter-widgets/controls",
          "model_name": "DescriptionStyleModel",
          "model_module_version": "1.5.0",
          "state": {
            "_model_module": "@jupyter-widgets/controls",
            "_model_module_version": "1.5.0",
            "_model_name": "DescriptionStyleModel",
            "_view_count": null,
            "_view_module": "@jupyter-widgets/base",
            "_view_module_version": "1.2.0",
            "_view_name": "StyleView",
            "description_width": ""
          }
        },
        "c3408601446b4206a8c725d39b77fe77": {
          "model_module": "@jupyter-widgets/controls",
          "model_name": "HBoxModel",
          "model_module_version": "1.5.0",
          "state": {
            "_dom_classes": [],
            "_model_module": "@jupyter-widgets/controls",
            "_model_module_version": "1.5.0",
            "_model_name": "HBoxModel",
            "_view_count": null,
            "_view_module": "@jupyter-widgets/controls",
            "_view_module_version": "1.5.0",
            "_view_name": "HBoxView",
            "box_style": "",
            "children": [
              "IPY_MODEL_51a5eeef4daa4bd8894489dd4e77386b",
              "IPY_MODEL_e7486682614945d0be6017dfa7f49adc",
              "IPY_MODEL_fb0a0ef5d85d43a385da298999d373cd"
            ],
            "layout": "IPY_MODEL_9693d02c0f564ec1afb2552c06582920"
          }
        },
        "51a5eeef4daa4bd8894489dd4e77386b": {
          "model_module": "@jupyter-widgets/controls",
          "model_name": "HTMLModel",
          "model_module_version": "1.5.0",
          "state": {
            "_dom_classes": [],
            "_model_module": "@jupyter-widgets/controls",
            "_model_module_version": "1.5.0",
            "_model_name": "HTMLModel",
            "_view_count": null,
            "_view_module": "@jupyter-widgets/controls",
            "_view_module_version": "1.5.0",
            "_view_name": "HTMLView",
            "description": "",
            "description_tooltip": null,
            "layout": "IPY_MODEL_a67d045cc4e74be1b7051f2ae83e3464",
            "placeholder": "​",
            "style": "IPY_MODEL_01061e7c374f4601ad38364f34fabb24",
            "value": "100%"
          }
        },
        "e7486682614945d0be6017dfa7f49adc": {
          "model_module": "@jupyter-widgets/controls",
          "model_name": "FloatProgressModel",
          "model_module_version": "1.5.0",
          "state": {
            "_dom_classes": [],
            "_model_module": "@jupyter-widgets/controls",
            "_model_module_version": "1.5.0",
            "_model_name": "FloatProgressModel",
            "_view_count": null,
            "_view_module": "@jupyter-widgets/controls",
            "_view_module_version": "1.5.0",
            "_view_name": "ProgressView",
            "bar_style": "success",
            "description": "",
            "description_tooltip": null,
            "layout": "IPY_MODEL_b484151f0a834bad84fe52fea98cc941",
            "max": 23,
            "min": 0,
            "orientation": "horizontal",
            "style": "IPY_MODEL_a3b701d1348c4ff09f76f47d8e82dfbe",
            "value": 23
          }
        },
        "fb0a0ef5d85d43a385da298999d373cd": {
          "model_module": "@jupyter-widgets/controls",
          "model_name": "HTMLModel",
          "model_module_version": "1.5.0",
          "state": {
            "_dom_classes": [],
            "_model_module": "@jupyter-widgets/controls",
            "_model_module_version": "1.5.0",
            "_model_name": "HTMLModel",
            "_view_count": null,
            "_view_module": "@jupyter-widgets/controls",
            "_view_module_version": "1.5.0",
            "_view_name": "HTMLView",
            "description": "",
            "description_tooltip": null,
            "layout": "IPY_MODEL_88d6771fc1434c69870e7679f550c90e",
            "placeholder": "​",
            "style": "IPY_MODEL_d4c14f9ca00a4767aee25b352105a57e",
            "value": " 23/23 [02:06&lt;00:00,  4.22s/it]"
          }
        },
        "9693d02c0f564ec1afb2552c06582920": {
          "model_module": "@jupyter-widgets/base",
          "model_name": "LayoutModel",
          "model_module_version": "1.2.0",
          "state": {
            "_model_module": "@jupyter-widgets/base",
            "_model_module_version": "1.2.0",
            "_model_name": "LayoutModel",
            "_view_count": null,
            "_view_module": "@jupyter-widgets/base",
            "_view_module_version": "1.2.0",
            "_view_name": "LayoutView",
            "align_content": null,
            "align_items": null,
            "align_self": null,
            "border": null,
            "bottom": null,
            "display": null,
            "flex": null,
            "flex_flow": null,
            "grid_area": null,
            "grid_auto_columns": null,
            "grid_auto_flow": null,
            "grid_auto_rows": null,
            "grid_column": null,
            "grid_gap": null,
            "grid_row": null,
            "grid_template_areas": null,
            "grid_template_columns": null,
            "grid_template_rows": null,
            "height": null,
            "justify_content": null,
            "justify_items": null,
            "left": null,
            "margin": null,
            "max_height": null,
            "max_width": null,
            "min_height": null,
            "min_width": null,
            "object_fit": null,
            "object_position": null,
            "order": null,
            "overflow": null,
            "overflow_x": null,
            "overflow_y": null,
            "padding": null,
            "right": null,
            "top": null,
            "visibility": null,
            "width": null
          }
        },
        "a67d045cc4e74be1b7051f2ae83e3464": {
          "model_module": "@jupyter-widgets/base",
          "model_name": "LayoutModel",
          "model_module_version": "1.2.0",
          "state": {
            "_model_module": "@jupyter-widgets/base",
            "_model_module_version": "1.2.0",
            "_model_name": "LayoutModel",
            "_view_count": null,
            "_view_module": "@jupyter-widgets/base",
            "_view_module_version": "1.2.0",
            "_view_name": "LayoutView",
            "align_content": null,
            "align_items": null,
            "align_self": null,
            "border": null,
            "bottom": null,
            "display": null,
            "flex": null,
            "flex_flow": null,
            "grid_area": null,
            "grid_auto_columns": null,
            "grid_auto_flow": null,
            "grid_auto_rows": null,
            "grid_column": null,
            "grid_gap": null,
            "grid_row": null,
            "grid_template_areas": null,
            "grid_template_columns": null,
            "grid_template_rows": null,
            "height": null,
            "justify_content": null,
            "justify_items": null,
            "left": null,
            "margin": null,
            "max_height": null,
            "max_width": null,
            "min_height": null,
            "min_width": null,
            "object_fit": null,
            "object_position": null,
            "order": null,
            "overflow": null,
            "overflow_x": null,
            "overflow_y": null,
            "padding": null,
            "right": null,
            "top": null,
            "visibility": null,
            "width": null
          }
        },
        "01061e7c374f4601ad38364f34fabb24": {
          "model_module": "@jupyter-widgets/controls",
          "model_name": "DescriptionStyleModel",
          "model_module_version": "1.5.0",
          "state": {
            "_model_module": "@jupyter-widgets/controls",
            "_model_module_version": "1.5.0",
            "_model_name": "DescriptionStyleModel",
            "_view_count": null,
            "_view_module": "@jupyter-widgets/base",
            "_view_module_version": "1.2.0",
            "_view_name": "StyleView",
            "description_width": ""
          }
        },
        "b484151f0a834bad84fe52fea98cc941": {
          "model_module": "@jupyter-widgets/base",
          "model_name": "LayoutModel",
          "model_module_version": "1.2.0",
          "state": {
            "_model_module": "@jupyter-widgets/base",
            "_model_module_version": "1.2.0",
            "_model_name": "LayoutModel",
            "_view_count": null,
            "_view_module": "@jupyter-widgets/base",
            "_view_module_version": "1.2.0",
            "_view_name": "LayoutView",
            "align_content": null,
            "align_items": null,
            "align_self": null,
            "border": null,
            "bottom": null,
            "display": null,
            "flex": null,
            "flex_flow": null,
            "grid_area": null,
            "grid_auto_columns": null,
            "grid_auto_flow": null,
            "grid_auto_rows": null,
            "grid_column": null,
            "grid_gap": null,
            "grid_row": null,
            "grid_template_areas": null,
            "grid_template_columns": null,
            "grid_template_rows": null,
            "height": null,
            "justify_content": null,
            "justify_items": null,
            "left": null,
            "margin": null,
            "max_height": null,
            "max_width": null,
            "min_height": null,
            "min_width": null,
            "object_fit": null,
            "object_position": null,
            "order": null,
            "overflow": null,
            "overflow_x": null,
            "overflow_y": null,
            "padding": null,
            "right": null,
            "top": null,
            "visibility": null,
            "width": null
          }
        },
        "a3b701d1348c4ff09f76f47d8e82dfbe": {
          "model_module": "@jupyter-widgets/controls",
          "model_name": "ProgressStyleModel",
          "model_module_version": "1.5.0",
          "state": {
            "_model_module": "@jupyter-widgets/controls",
            "_model_module_version": "1.5.0",
            "_model_name": "ProgressStyleModel",
            "_view_count": null,
            "_view_module": "@jupyter-widgets/base",
            "_view_module_version": "1.2.0",
            "_view_name": "StyleView",
            "bar_color": null,
            "description_width": ""
          }
        },
        "88d6771fc1434c69870e7679f550c90e": {
          "model_module": "@jupyter-widgets/base",
          "model_name": "LayoutModel",
          "model_module_version": "1.2.0",
          "state": {
            "_model_module": "@jupyter-widgets/base",
            "_model_module_version": "1.2.0",
            "_model_name": "LayoutModel",
            "_view_count": null,
            "_view_module": "@jupyter-widgets/base",
            "_view_module_version": "1.2.0",
            "_view_name": "LayoutView",
            "align_content": null,
            "align_items": null,
            "align_self": null,
            "border": null,
            "bottom": null,
            "display": null,
            "flex": null,
            "flex_flow": null,
            "grid_area": null,
            "grid_auto_columns": null,
            "grid_auto_flow": null,
            "grid_auto_rows": null,
            "grid_column": null,
            "grid_gap": null,
            "grid_row": null,
            "grid_template_areas": null,
            "grid_template_columns": null,
            "grid_template_rows": null,
            "height": null,
            "justify_content": null,
            "justify_items": null,
            "left": null,
            "margin": null,
            "max_height": null,
            "max_width": null,
            "min_height": null,
            "min_width": null,
            "object_fit": null,
            "object_position": null,
            "order": null,
            "overflow": null,
            "overflow_x": null,
            "overflow_y": null,
            "padding": null,
            "right": null,
            "top": null,
            "visibility": null,
            "width": null
          }
        },
        "d4c14f9ca00a4767aee25b352105a57e": {
          "model_module": "@jupyter-widgets/controls",
          "model_name": "DescriptionStyleModel",
          "model_module_version": "1.5.0",
          "state": {
            "_model_module": "@jupyter-widgets/controls",
            "_model_module_version": "1.5.0",
            "_model_name": "DescriptionStyleModel",
            "_view_count": null,
            "_view_module": "@jupyter-widgets/base",
            "_view_module_version": "1.2.0",
            "_view_name": "StyleView",
            "description_width": ""
          }
        }
      }
    },
    "accelerator": "TPU",
    "gpuClass": "standard"
  },
  "nbformat": 4,
  "nbformat_minor": 0
}