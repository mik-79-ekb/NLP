{
  "cells": [
    {
      "cell_type": "markdown",
      "id": "72d476b9",
      "metadata": {
        "id": "72d476b9"
      },
      "source": [
        "## Введение в обработку естественного языка"
      ]
    },
    {
      "cell_type": "markdown",
      "source": [
        "Домашнее задание №8"
      ],
      "metadata": {
        "id": "JMr7sniLWr6Y"
      },
      "id": "JMr7sniLWr6Y"
    },
    {
      "cell_type": "markdown",
      "source": [
        "Урок 8. Рекуррентные нейронные сети RNN LSTM GRU"
      ],
      "metadata": {
        "id": "xUSJn652Wr9h"
      },
      "id": "xUSJn652Wr9h"
    },
    {
      "cell_type": "markdown",
      "source": [
        "*Формат именования файла домашней работы: FIO_NLP_HW_N.ipynb, где N - номер домашнего задания*\n",
        "\n",
        "**"
      ],
      "metadata": {
        "id": "w5GyWgExXKb3"
      },
      "id": "w5GyWgExXKb3"
    },
    {
      "cell_type": "markdown",
      "id": "bbc8788f",
      "metadata": {
        "id": "bbc8788f"
      },
      "source": [
        "###Задание  \n",
        "Данные берем отызывы за лето.\n",
        "\n",
        "На вебинаре мы говорили, что долгое время CNN и RNN архитектуры были конурируещими выяснить какая архитектура больше подходит для нашей задачи.\n",
        "\n",
        "1. построить свёрточные архитектуры \n",
        "2. построить различные архитектуры с RNN\n",
        "3. построить совместные архитектуры CNN -> RNN или (RNN -> CNN)"
      ]
    },
    {
      "cell_type": "markdown",
      "source": [
        "**Установка библиотек**"
      ],
      "metadata": {
        "id": "4cJeXDv8XND8"
      },
      "id": "4cJeXDv8XND8"
    },
    {
      "cell_type": "code",
      "source": [
        "!pip install pymorphy2\n",
        "!pip install stop_words"
      ],
      "metadata": {
        "colab": {
          "base_uri": "https://localhost:8080/"
        },
        "id": "kmoCzzGkPFLJ",
        "outputId": "02fb1e1b-7658-4a89-aa29-c82c3496696e"
      },
      "id": "kmoCzzGkPFLJ",
      "execution_count": 1,
      "outputs": [
        {
          "output_type": "stream",
          "name": "stdout",
          "text": [
            "Looking in indexes: https://pypi.org/simple, https://us-python.pkg.dev/colab-wheels/public/simple/\n",
            "Collecting pymorphy2\n",
            "  Downloading pymorphy2-0.9.1-py3-none-any.whl (55 kB)\n",
            "\u001b[2K     \u001b[90m━━━━━━━━━━━━━━━━━━━━━━━━━━━━━━━━━━━━━━━━\u001b[0m \u001b[32m55.5/55.5 kB\u001b[0m \u001b[31m1.8 MB/s\u001b[0m eta \u001b[36m0:00:00\u001b[0m\n",
            "\u001b[?25hCollecting dawg-python>=0.7.1\n",
            "  Downloading DAWG_Python-0.7.2-py2.py3-none-any.whl (11 kB)\n",
            "Collecting docopt>=0.6\n",
            "  Downloading docopt-0.6.2.tar.gz (25 kB)\n",
            "  Preparing metadata (setup.py) ... \u001b[?25l\u001b[?25hdone\n",
            "Collecting pymorphy2-dicts-ru<3.0,>=2.4\n",
            "  Downloading pymorphy2_dicts_ru-2.4.417127.4579844-py2.py3-none-any.whl (8.2 MB)\n",
            "\u001b[2K     \u001b[90m━━━━━━━━━━━━━━━━━━━━━━━━━━━━━━━━━━━━━━━━\u001b[0m \u001b[32m8.2/8.2 MB\u001b[0m \u001b[31m71.3 MB/s\u001b[0m eta \u001b[36m0:00:00\u001b[0m\n",
            "\u001b[?25hBuilding wheels for collected packages: docopt\n",
            "  Building wheel for docopt (setup.py) ... \u001b[?25l\u001b[?25hdone\n",
            "  Created wheel for docopt: filename=docopt-0.6.2-py2.py3-none-any.whl size=13721 sha256=3f35c59c77f08b95cc3c754a8288d1ceb67cc1126e95cf1498096cc6d3574f1e\n",
            "  Stored in directory: /root/.cache/pip/wheels/70/4a/46/1309fc853b8d395e60bafaf1b6df7845bdd82c95fd59dd8d2b\n",
            "Successfully built docopt\n",
            "Installing collected packages: pymorphy2-dicts-ru, docopt, dawg-python, pymorphy2\n",
            "Successfully installed dawg-python-0.7.2 docopt-0.6.2 pymorphy2-0.9.1 pymorphy2-dicts-ru-2.4.417127.4579844\n",
            "Looking in indexes: https://pypi.org/simple, https://us-python.pkg.dev/colab-wheels/public/simple/\n",
            "Collecting stop_words\n",
            "  Downloading stop-words-2018.7.23.tar.gz (31 kB)\n",
            "  Preparing metadata (setup.py) ... \u001b[?25l\u001b[?25hdone\n",
            "Building wheels for collected packages: stop_words\n",
            "  Building wheel for stop_words (setup.py) ... \u001b[?25l\u001b[?25hdone\n",
            "  Created wheel for stop_words: filename=stop_words-2018.7.23-py3-none-any.whl size=32910 sha256=24969d413c4a9bcb9f665439a3dfd54d9ae5754ec767b41033c29ed8f00e48f0\n",
            "  Stored in directory: /root/.cache/pip/wheels/da/d8/66/395317506a23a9d1d7de433ad6a7d9e6e16aab48cf028a0f60\n",
            "Successfully built stop_words\n",
            "Installing collected packages: stop_words\n",
            "Successfully installed stop_words-2018.7.23\n"
          ]
        }
      ]
    },
    {
      "cell_type": "code",
      "execution_count": 4,
      "id": "933275eb",
      "metadata": {
        "id": "933275eb"
      },
      "outputs": [],
      "source": [
        "import pandas as pd\n",
        "import numpy as np\n",
        "import re\n",
        "from pymorphy2 import MorphAnalyzer\n",
        "from stop_words import get_stop_words\n",
        "from string import punctuation\n",
        "from gensim.models import Word2Vec, FastText\n",
        "\n",
        "import keras\n",
        "from keras.models import Sequential, Model\n",
        "from keras.layers import Dense, Dropout, Activation, Input, Embedding, Conv1D, GlobalMaxPool1D, GlobalMaxPool2D, SimpleRNN, LSTM, GRU, Masking, Flatten\n",
        "from keras.preprocessing.text import Tokenizer\n",
        "from keras.utils import pad_sequences\n",
        "from keras.callbacks import TensorBoard \n",
        "from keras.callbacks import EarlyStopping\n",
        "from keras.utils import np_utils\n",
        "\n",
        "from sklearn.metrics import classification_report"
      ]
    },
    {
      "cell_type": "code",
      "source": [
        "!pip install --upgrade xlrd"
      ],
      "metadata": {
        "colab": {
          "base_uri": "https://localhost:8080/"
        },
        "id": "tygAFilMRTyx",
        "outputId": "9b616537-3d83-4581-fd76-1500461748b6"
      },
      "id": "tygAFilMRTyx",
      "execution_count": 5,
      "outputs": [
        {
          "output_type": "stream",
          "name": "stdout",
          "text": [
            "Looking in indexes: https://pypi.org/simple, https://us-python.pkg.dev/colab-wheels/public/simple/\n",
            "Requirement already satisfied: xlrd in /usr/local/lib/python3.9/dist-packages (2.0.1)\n"
          ]
        }
      ]
    },
    {
      "cell_type": "code",
      "source": [
        "df = pd.read_excel('отзывы за лето (1).xls')"
      ],
      "metadata": {
        "id": "iBABdZ0_PGlk"
      },
      "id": "iBABdZ0_PGlk",
      "execution_count": 7,
      "outputs": []
    },
    {
      "cell_type": "code",
      "source": [
        "df"
      ],
      "metadata": {
        "colab": {
          "base_uri": "https://localhost:8080/",
          "height": 423
        },
        "id": "UqFm0w4RWLLR",
        "outputId": "aa4a0b0f-b414-4da8-a6f9-9c60bbb15944"
      },
      "id": "UqFm0w4RWLLR",
      "execution_count": 8,
      "outputs": [
        {
          "output_type": "execute_result",
          "data": {
            "text/plain": [
              "       Rating                                            Content        Date\n",
              "0           5                                     It just works!  2017-08-14\n",
              "1           4  В целом удобноное приложение...из минусов хотя...  2017-08-14\n",
              "2           5                                        Отлично все  2017-08-14\n",
              "3           5  Стал зависать на 1% работы антивируса. Дальше ...  2017-08-14\n",
              "4           5                     Очень удобно, работает быстро.  2017-08-14\n",
              "...       ...                                                ...         ...\n",
              "20654       1  Ну и шляпа,с роот правами бесполезная прога,ра...  2017-06-01\n",
              "20655       5                                                 Ок  2017-06-01\n",
              "20656       4                                            Доволен  2017-06-01\n",
              "20657       1                         Песопаснасть, рут ни нужын  2017-06-01\n",
              "20658       5  Сбербанк бомбовая компания на сегодняшний день...  2017-06-01\n",
              "\n",
              "[20659 rows x 3 columns]"
            ],
            "text/html": [
              "\n",
              "  <div id=\"df-978161be-d024-4a10-8eb8-f141eeb4f6ac\">\n",
              "    <div class=\"colab-df-container\">\n",
              "      <div>\n",
              "<style scoped>\n",
              "    .dataframe tbody tr th:only-of-type {\n",
              "        vertical-align: middle;\n",
              "    }\n",
              "\n",
              "    .dataframe tbody tr th {\n",
              "        vertical-align: top;\n",
              "    }\n",
              "\n",
              "    .dataframe thead th {\n",
              "        text-align: right;\n",
              "    }\n",
              "</style>\n",
              "<table border=\"1\" class=\"dataframe\">\n",
              "  <thead>\n",
              "    <tr style=\"text-align: right;\">\n",
              "      <th></th>\n",
              "      <th>Rating</th>\n",
              "      <th>Content</th>\n",
              "      <th>Date</th>\n",
              "    </tr>\n",
              "  </thead>\n",
              "  <tbody>\n",
              "    <tr>\n",
              "      <th>0</th>\n",
              "      <td>5</td>\n",
              "      <td>It just works!</td>\n",
              "      <td>2017-08-14</td>\n",
              "    </tr>\n",
              "    <tr>\n",
              "      <th>1</th>\n",
              "      <td>4</td>\n",
              "      <td>В целом удобноное приложение...из минусов хотя...</td>\n",
              "      <td>2017-08-14</td>\n",
              "    </tr>\n",
              "    <tr>\n",
              "      <th>2</th>\n",
              "      <td>5</td>\n",
              "      <td>Отлично все</td>\n",
              "      <td>2017-08-14</td>\n",
              "    </tr>\n",
              "    <tr>\n",
              "      <th>3</th>\n",
              "      <td>5</td>\n",
              "      <td>Стал зависать на 1% работы антивируса. Дальше ...</td>\n",
              "      <td>2017-08-14</td>\n",
              "    </tr>\n",
              "    <tr>\n",
              "      <th>4</th>\n",
              "      <td>5</td>\n",
              "      <td>Очень удобно, работает быстро.</td>\n",
              "      <td>2017-08-14</td>\n",
              "    </tr>\n",
              "    <tr>\n",
              "      <th>...</th>\n",
              "      <td>...</td>\n",
              "      <td>...</td>\n",
              "      <td>...</td>\n",
              "    </tr>\n",
              "    <tr>\n",
              "      <th>20654</th>\n",
              "      <td>1</td>\n",
              "      <td>Ну и шляпа,с роот правами бесполезная прога,ра...</td>\n",
              "      <td>2017-06-01</td>\n",
              "    </tr>\n",
              "    <tr>\n",
              "      <th>20655</th>\n",
              "      <td>5</td>\n",
              "      <td>Ок</td>\n",
              "      <td>2017-06-01</td>\n",
              "    </tr>\n",
              "    <tr>\n",
              "      <th>20656</th>\n",
              "      <td>4</td>\n",
              "      <td>Доволен</td>\n",
              "      <td>2017-06-01</td>\n",
              "    </tr>\n",
              "    <tr>\n",
              "      <th>20657</th>\n",
              "      <td>1</td>\n",
              "      <td>Песопаснасть, рут ни нужын</td>\n",
              "      <td>2017-06-01</td>\n",
              "    </tr>\n",
              "    <tr>\n",
              "      <th>20658</th>\n",
              "      <td>5</td>\n",
              "      <td>Сбербанк бомбовая компания на сегодняшний день...</td>\n",
              "      <td>2017-06-01</td>\n",
              "    </tr>\n",
              "  </tbody>\n",
              "</table>\n",
              "<p>20659 rows × 3 columns</p>\n",
              "</div>\n",
              "      <button class=\"colab-df-convert\" onclick=\"convertToInteractive('df-978161be-d024-4a10-8eb8-f141eeb4f6ac')\"\n",
              "              title=\"Convert this dataframe to an interactive table.\"\n",
              "              style=\"display:none;\">\n",
              "        \n",
              "  <svg xmlns=\"http://www.w3.org/2000/svg\" height=\"24px\"viewBox=\"0 0 24 24\"\n",
              "       width=\"24px\">\n",
              "    <path d=\"M0 0h24v24H0V0z\" fill=\"none\"/>\n",
              "    <path d=\"M18.56 5.44l.94 2.06.94-2.06 2.06-.94-2.06-.94-.94-2.06-.94 2.06-2.06.94zm-11 1L8.5 8.5l.94-2.06 2.06-.94-2.06-.94L8.5 2.5l-.94 2.06-2.06.94zm10 10l.94 2.06.94-2.06 2.06-.94-2.06-.94-.94-2.06-.94 2.06-2.06.94z\"/><path d=\"M17.41 7.96l-1.37-1.37c-.4-.4-.92-.59-1.43-.59-.52 0-1.04.2-1.43.59L10.3 9.45l-7.72 7.72c-.78.78-.78 2.05 0 2.83L4 21.41c.39.39.9.59 1.41.59.51 0 1.02-.2 1.41-.59l7.78-7.78 2.81-2.81c.8-.78.8-2.07 0-2.86zM5.41 20L4 18.59l7.72-7.72 1.47 1.35L5.41 20z\"/>\n",
              "  </svg>\n",
              "      </button>\n",
              "      \n",
              "  <style>\n",
              "    .colab-df-container {\n",
              "      display:flex;\n",
              "      flex-wrap:wrap;\n",
              "      gap: 12px;\n",
              "    }\n",
              "\n",
              "    .colab-df-convert {\n",
              "      background-color: #E8F0FE;\n",
              "      border: none;\n",
              "      border-radius: 50%;\n",
              "      cursor: pointer;\n",
              "      display: none;\n",
              "      fill: #1967D2;\n",
              "      height: 32px;\n",
              "      padding: 0 0 0 0;\n",
              "      width: 32px;\n",
              "    }\n",
              "\n",
              "    .colab-df-convert:hover {\n",
              "      background-color: #E2EBFA;\n",
              "      box-shadow: 0px 1px 2px rgba(60, 64, 67, 0.3), 0px 1px 3px 1px rgba(60, 64, 67, 0.15);\n",
              "      fill: #174EA6;\n",
              "    }\n",
              "\n",
              "    [theme=dark] .colab-df-convert {\n",
              "      background-color: #3B4455;\n",
              "      fill: #D2E3FC;\n",
              "    }\n",
              "\n",
              "    [theme=dark] .colab-df-convert:hover {\n",
              "      background-color: #434B5C;\n",
              "      box-shadow: 0px 1px 3px 1px rgba(0, 0, 0, 0.15);\n",
              "      filter: drop-shadow(0px 1px 2px rgba(0, 0, 0, 0.3));\n",
              "      fill: #FFFFFF;\n",
              "    }\n",
              "  </style>\n",
              "\n",
              "      <script>\n",
              "        const buttonEl =\n",
              "          document.querySelector('#df-978161be-d024-4a10-8eb8-f141eeb4f6ac button.colab-df-convert');\n",
              "        buttonEl.style.display =\n",
              "          google.colab.kernel.accessAllowed ? 'block' : 'none';\n",
              "\n",
              "        async function convertToInteractive(key) {\n",
              "          const element = document.querySelector('#df-978161be-d024-4a10-8eb8-f141eeb4f6ac');\n",
              "          const dataTable =\n",
              "            await google.colab.kernel.invokeFunction('convertToInteractive',\n",
              "                                                     [key], {});\n",
              "          if (!dataTable) return;\n",
              "\n",
              "          const docLinkHtml = 'Like what you see? Visit the ' +\n",
              "            '<a target=\"_blank\" href=https://colab.research.google.com/notebooks/data_table.ipynb>data table notebook</a>'\n",
              "            + ' to learn more about interactive tables.';\n",
              "          element.innerHTML = '';\n",
              "          dataTable['output_type'] = 'display_data';\n",
              "          await google.colab.output.renderOutput(dataTable, element);\n",
              "          const docLink = document.createElement('div');\n",
              "          docLink.innerHTML = docLinkHtml;\n",
              "          element.appendChild(docLink);\n",
              "        }\n",
              "      </script>\n",
              "    </div>\n",
              "  </div>\n",
              "  "
            ]
          },
          "metadata": {},
          "execution_count": 8
        }
      ]
    },
    {
      "cell_type": "code",
      "source": [
        "df = df.dropna()"
      ],
      "metadata": {
        "id": "lAz5AtU4RGQ3"
      },
      "id": "lAz5AtU4RGQ3",
      "execution_count": 9,
      "outputs": []
    },
    {
      "cell_type": "code",
      "source": [
        "df.shape"
      ],
      "metadata": {
        "colab": {
          "base_uri": "https://localhost:8080/"
        },
        "id": "VATBVuuRWC8c",
        "outputId": "d6ea806a-7361-4c53-8991-2b3ce3052ddc"
      },
      "id": "VATBVuuRWC8c",
      "execution_count": 10,
      "outputs": [
        {
          "output_type": "execute_result",
          "data": {
            "text/plain": [
              "(20656, 3)"
            ]
          },
          "metadata": {},
          "execution_count": 10
        }
      ]
    },
    {
      "cell_type": "code",
      "source": [
        "df.Rating.value_counts()"
      ],
      "metadata": {
        "colab": {
          "base_uri": "https://localhost:8080/"
        },
        "id": "lsT1H_TlSJrM",
        "outputId": "5286a4ec-3049-4565-ace6-7ea9269b5cc3"
      },
      "id": "lsT1H_TlSJrM",
      "execution_count": 11,
      "outputs": [
        {
          "output_type": "execute_result",
          "data": {
            "text/plain": [
              "5    14584\n",
              "1     2276\n",
              "4     2137\n",
              "3      911\n",
              "2      748\n",
              "Name: Rating, dtype: int64"
            ]
          },
          "metadata": {},
          "execution_count": 11
        }
      ]
    },
    {
      "cell_type": "code",
      "source": [
        "# делаем колонку Content текстовой - так как ругается что - 'int' object has no attribute 'translate'\n",
        "\n",
        "df.Content = df.Content.apply(lambda text: str(text))"
      ],
      "metadata": {
        "colab": {
          "base_uri": "https://localhost:8080/"
        },
        "id": "ywdKXynfW30D",
        "outputId": "a415eb65-aae4-40c8-b0b1-5b004f468da3"
      },
      "id": "ywdKXynfW30D",
      "execution_count": 12,
      "outputs": [
        {
          "output_type": "stream",
          "name": "stderr",
          "text": [
            "<ipython-input-12-26a918284a53>:3: SettingWithCopyWarning: \n",
            "A value is trying to be set on a copy of a slice from a DataFrame.\n",
            "Try using .loc[row_indexer,col_indexer] = value instead\n",
            "\n",
            "See the caveats in the documentation: https://pandas.pydata.org/pandas-docs/stable/user_guide/indexing.html#returning-a-view-versus-a-copy\n",
            "  df.Content = df.Content.apply(lambda text: str(text))\n"
          ]
        }
      ]
    },
    {
      "cell_type": "code",
      "source": [
        "from sklearn.model_selection import train_test_split\n",
        "\n",
        "X_train, X_test, y_train, y_test = train_test_split(df.Content, df.Rating, test_size=0.3, random_state=42, stratify=df.Rating)"
      ],
      "metadata": {
        "id": "bkToWSbySORQ"
      },
      "id": "bkToWSbySORQ",
      "execution_count": 13,
      "outputs": []
    },
    {
      "cell_type": "code",
      "source": [
        "y_train.value_counts()"
      ],
      "metadata": {
        "colab": {
          "base_uri": "https://localhost:8080/"
        },
        "id": "V3MOsYe1cagX",
        "outputId": "ccb696ae-5902-4097-a8c0-1afb20c62330"
      },
      "id": "V3MOsYe1cagX",
      "execution_count": 14,
      "outputs": [
        {
          "output_type": "execute_result",
          "data": {
            "text/plain": [
              "5    10209\n",
              "1     1593\n",
              "4     1496\n",
              "3      638\n",
              "2      523\n",
              "Name: Rating, dtype: int64"
            ]
          },
          "metadata": {},
          "execution_count": 14
        }
      ]
    },
    {
      "cell_type": "code",
      "source": [
        "y_test.value_counts()"
      ],
      "metadata": {
        "colab": {
          "base_uri": "https://localhost:8080/"
        },
        "id": "hEdQMTbXdWel",
        "outputId": "40687b60-0202-411e-dc14-a75819a00491"
      },
      "id": "hEdQMTbXdWel",
      "execution_count": 15,
      "outputs": [
        {
          "output_type": "execute_result",
          "data": {
            "text/plain": [
              "5    4375\n",
              "1     683\n",
              "4     641\n",
              "3     273\n",
              "2     225\n",
              "Name: Rating, dtype: int64"
            ]
          },
          "metadata": {},
          "execution_count": 15
        }
      ]
    },
    {
      "cell_type": "code",
      "source": [
        "corpus_train = X_train\n",
        "corpus_test = X_test"
      ],
      "metadata": {
        "id": "ZQzi2pzzSR7D"
      },
      "id": "ZQzi2pzzSR7D",
      "execution_count": 16,
      "outputs": []
    },
    {
      "cell_type": "code",
      "source": [
        "tokenizer = Tokenizer(num_words=None, \n",
        "                     filters='#$%&()*+-<=>@[\\\\]^_`{|}~\\t\\n',\n",
        "                     lower = False, split = ' ')\n",
        "tokenizer.fit_on_texts(corpus_train)\n",
        "\n",
        "sequences_train = tokenizer.texts_to_sequences(corpus_train)\n",
        "sequences_test = tokenizer.texts_to_sequences(corpus_test)\n",
        "\n",
        "word_count = len(tokenizer.index_word) + 1\n",
        "training_length = max([len(i.split()) for i in corpus_train])\n",
        "\n",
        "X_train = pad_sequences(sequences_train, maxlen=training_length)\n",
        "X_test = pad_sequences(sequences_test, maxlen=training_length)"
      ],
      "metadata": {
        "id": "eriTgdKQSWw5"
      },
      "id": "eriTgdKQSWw5",
      "execution_count": 17,
      "outputs": []
    },
    {
      "cell_type": "markdown",
      "source": [
        "## Построение сетей"
      ],
      "metadata": {
        "id": "LUCb7ar5X1Qh"
      },
      "id": "LUCb7ar5X1Qh"
    },
    {
      "cell_type": "code",
      "source": [
        "num_classes = 6\n",
        "\n",
        "epochs = 20\n",
        "batch_size = 512\n",
        "\n",
        "comparing_list = []"
      ],
      "metadata": {
        "id": "U7dPBsjBYOGZ"
      },
      "id": "U7dPBsjBYOGZ",
      "execution_count": 18,
      "outputs": []
    },
    {
      "cell_type": "code",
      "source": [
        "y_train = keras.utils.np_utils.to_categorical(y_train, num_classes)\n",
        "y_test = keras.utils.np_utils.to_categorical(y_test, num_classes)"
      ],
      "metadata": {
        "id": "OuUj1mVTcsNu"
      },
      "id": "OuUj1mVTcsNu",
      "execution_count": 19,
      "outputs": []
    },
    {
      "cell_type": "markdown",
      "source": [
        "### CNN+pooling"
      ],
      "metadata": {
        "id": "UnprhoCQX5YW"
      },
      "id": "UnprhoCQX5YW"
    },
    {
      "cell_type": "code",
      "source": [
        "net_name = 'CNN+pooling'\n",
        "\n",
        "model = Sequential()\n",
        "model.add(Embedding(input_dim=word_count,\n",
        "                    output_dim=128,\n",
        "                    input_length=training_length,\n",
        "                    trainable=True,\n",
        "                    mask_zero=True,\n",
        "                    ))\n",
        "# model.add(Masking(mask_value=0.0))\n",
        "model.add(Conv1D(128, 3))\n",
        "model.add(Activation(\"relu\"))\n",
        "model.add(GlobalMaxPool1D())\n",
        "model.add(Dense(10))\n",
        "model.add(Activation(\"relu\"))\n",
        "# model.add(Dropout(0.5))\n",
        "model.add(Dense(num_classes))\n",
        "model.add(Activation('sigmoid'))\n",
        "\n",
        "model.compile(loss='categorical_crossentropy',\n",
        "              optimizer='adam',\n",
        "              metrics=['accuracy'])\n",
        "\n",
        "tensorboard=TensorBoard(log_dir='./logs', write_graph=True, write_images=True)\n",
        "early_stopping=EarlyStopping(monitor='val_loss')  \n",
        "\n",
        "\n",
        "history = model.fit(X_train, y_train,\n",
        "                    batch_size=batch_size,\n",
        "                    epochs=epochs,\n",
        "                    verbose=1,\n",
        "                    validation_split=0.1,\n",
        "                    callbacks=[tensorboard, early_stopping],\n",
        "                    )"
      ],
      "metadata": {
        "colab": {
          "base_uri": "https://localhost:8080/"
        },
        "id": "lvXP04ChWinl",
        "outputId": "f6e31617-64bc-4968-a7e0-bf6b17ecb5fa"
      },
      "id": "lvXP04ChWinl",
      "execution_count": 20,
      "outputs": [
        {
          "output_type": "stream",
          "name": "stdout",
          "text": [
            "Epoch 1/20\n",
            "26/26 [==============================] - 16s 207ms/step - loss: 1.4695 - accuracy: 0.6520 - val_loss: 1.0992 - val_accuracy: 0.7026\n",
            "Epoch 2/20\n",
            "26/26 [==============================] - 6s 227ms/step - loss: 1.0165 - accuracy: 0.7064 - val_loss: 0.9385 - val_accuracy: 0.7026\n",
            "Epoch 3/20\n",
            "26/26 [==============================] - 5s 200ms/step - loss: 0.8346 - accuracy: 0.7285 - val_loss: 0.7622 - val_accuracy: 0.7573\n",
            "Epoch 4/20\n",
            "26/26 [==============================] - 5s 178ms/step - loss: 0.7012 - accuracy: 0.7737 - val_loss: 0.7010 - val_accuracy: 0.7725\n",
            "Epoch 5/20\n",
            "26/26 [==============================] - 6s 222ms/step - loss: 0.6150 - accuracy: 0.7947 - val_loss: 0.6630 - val_accuracy: 0.7801\n",
            "Epoch 6/20\n",
            "26/26 [==============================] - 4s 153ms/step - loss: 0.5373 - accuracy: 0.8249 - val_loss: 0.6482 - val_accuracy: 0.7822\n",
            "Epoch 7/20\n",
            "26/26 [==============================] - 5s 204ms/step - loss: 0.4715 - accuracy: 0.8478 - val_loss: 0.6515 - val_accuracy: 0.7822\n"
          ]
        }
      ]
    },
    {
      "cell_type": "code",
      "source": [
        "preds_proba = model.predict(X_test)\n",
        "preds = [np.round(l) for l in preds_proba]\n",
        "print(classification_report([np.round(l) for l in y_test], preds))\n",
        "\n",
        "comparing_list.append([net_name, history.history['accuracy'][-1], history.history['val_accuracy'][-1]])"
      ],
      "metadata": {
        "colab": {
          "base_uri": "https://localhost:8080/"
        },
        "id": "E-cA3ylvd2Rf",
        "outputId": "98a6fc7d-0d84-4215-ed80-c3f2837db8f7"
      },
      "id": "E-cA3ylvd2Rf",
      "execution_count": 21,
      "outputs": [
        {
          "output_type": "stream",
          "name": "stdout",
          "text": [
            "194/194 [==============================] - 0s 2ms/step\n",
            "              precision    recall  f1-score   support\n",
            "\n",
            "           0       0.00      0.00      0.00         0\n",
            "           1       0.39      0.92      0.55       683\n",
            "           2       0.15      0.62      0.24       225\n",
            "           3       0.13      0.52      0.21       273\n",
            "           4       0.10      0.99      0.19       641\n",
            "           5       0.82      0.97      0.89      4375\n",
            "\n",
            "   micro avg       0.39      0.94      0.55      6197\n",
            "   macro avg       0.27      0.67      0.35      6197\n",
            "weighted avg       0.64      0.94      0.73      6197\n",
            " samples avg       0.42      0.94      0.57      6197\n",
            "\n"
          ]
        },
        {
          "output_type": "stream",
          "name": "stderr",
          "text": [
            "/usr/local/lib/python3.9/dist-packages/sklearn/metrics/_classification.py:1344: UndefinedMetricWarning: Precision and F-score are ill-defined and being set to 0.0 in labels with no predicted samples. Use `zero_division` parameter to control this behavior.\n",
            "  _warn_prf(average, modifier, msg_start, len(result))\n",
            "/usr/local/lib/python3.9/dist-packages/sklearn/metrics/_classification.py:1344: UndefinedMetricWarning: Recall and F-score are ill-defined and being set to 0.0 in labels with no true samples. Use `zero_division` parameter to control this behavior.\n",
            "  _warn_prf(average, modifier, msg_start, len(result))\n"
          ]
        }
      ]
    },
    {
      "cell_type": "markdown",
      "source": [
        "## RNN"
      ],
      "metadata": {
        "id": "rWV82rgaifPq"
      },
      "id": "rWV82rgaifPq"
    },
    {
      "cell_type": "code",
      "source": [
        "net_name = 'RNN'\n",
        "\n",
        "model = Sequential()\n",
        "\n",
        "model.add(Embedding(input_dim=word_count,\n",
        "                    output_dim=128,\n",
        "                    input_length=training_length,\n",
        "                    trainable=True,\n",
        "                    mask_zero=True,\n",
        "                    ))\n",
        "# model.add(Masking(mask_value=0.0))\n",
        "\n",
        "model.add(SimpleRNN(64))\n",
        "model.add(Dense(64, activation='relu'))\n",
        "model.add(Dropout(0.5))\n",
        "model.add(Dense(num_classes, activation='sigmoid'))\n",
        "\n",
        "model.compile(loss='categorical_crossentropy',\n",
        "              optimizer='adam',\n",
        "              metrics=['accuracy'])\n",
        "\n",
        "history = model.fit(X_train, y_train,\n",
        "                    batch_size=batch_size,\n",
        "                    epochs=epochs,\n",
        "                    verbose=1,\n",
        "                    validation_split=0.1,\n",
        "                    callbacks=[tensorboard, early_stopping])"
      ],
      "metadata": {
        "colab": {
          "base_uri": "https://localhost:8080/"
        },
        "id": "FadJ0D4OiOjO",
        "outputId": "e49670ff-0f96-414c-da2d-1dd5aa84ebb8"
      },
      "id": "FadJ0D4OiOjO",
      "execution_count": 22,
      "outputs": [
        {
          "output_type": "stream",
          "name": "stdout",
          "text": [
            "Epoch 1/20\n",
            "26/26 [==============================] - 14s 418ms/step - loss: 1.6076 - accuracy: 0.5031 - val_loss: 1.1737 - val_accuracy: 0.7248\n",
            "Epoch 2/20\n",
            "26/26 [==============================] - 11s 390ms/step - loss: 0.9438 - accuracy: 0.7370 - val_loss: 0.7575 - val_accuracy: 0.7593\n",
            "Epoch 3/20\n",
            "26/26 [==============================] - 15s 571ms/step - loss: 0.6752 - accuracy: 0.7840 - val_loss: 0.7028 - val_accuracy: 0.7690\n",
            "Epoch 4/20\n",
            "26/26 [==============================] - 9s 356ms/step - loss: 0.5325 - accuracy: 0.8221 - val_loss: 0.7111 - val_accuracy: 0.7649\n"
          ]
        }
      ]
    },
    {
      "cell_type": "code",
      "source": [
        "preds_proba = model.predict(X_test)\n",
        "preds = [np.round(l) for l in preds_proba]\n",
        "print(classification_report([np.round(l) for l in y_test], preds))\n",
        "\n",
        "comparing_list.append([net_name, history.history['accuracy'][-1], history.history['val_accuracy'][-1]])"
      ],
      "metadata": {
        "colab": {
          "base_uri": "https://localhost:8080/"
        },
        "id": "L7i9dBUciOlS",
        "outputId": "431d13be-48c6-4186-c1b4-092bccd77e9f"
      },
      "id": "L7i9dBUciOlS",
      "execution_count": 23,
      "outputs": [
        {
          "output_type": "stream",
          "name": "stdout",
          "text": [
            "194/194 [==============================] - 4s 21ms/step\n",
            "              precision    recall  f1-score   support\n",
            "\n",
            "           0       0.00      0.00      0.00         0\n",
            "           1       0.42      0.80      0.55       683\n",
            "           2       0.14      0.42      0.21       225\n",
            "           3       0.14      0.37      0.20       273\n",
            "           4       0.10      0.97      0.19       641\n",
            "           5       0.81      0.97      0.88      4375\n",
            "\n",
            "   micro avg       0.40      0.91      0.56      6197\n",
            "   macro avg       0.27      0.59      0.34      6197\n",
            "weighted avg       0.64      0.91      0.72      6197\n",
            " samples avg       0.42      0.91      0.57      6197\n",
            "\n"
          ]
        },
        {
          "output_type": "stream",
          "name": "stderr",
          "text": [
            "/usr/local/lib/python3.9/dist-packages/sklearn/metrics/_classification.py:1344: UndefinedMetricWarning: Precision and F-score are ill-defined and being set to 0.0 in labels with no predicted samples. Use `zero_division` parameter to control this behavior.\n",
            "  _warn_prf(average, modifier, msg_start, len(result))\n",
            "/usr/local/lib/python3.9/dist-packages/sklearn/metrics/_classification.py:1344: UndefinedMetricWarning: Recall and F-score are ill-defined and being set to 0.0 in labels with no true samples. Use `zero_division` parameter to control this behavior.\n",
            "  _warn_prf(average, modifier, msg_start, len(result))\n"
          ]
        }
      ]
    },
    {
      "cell_type": "markdown",
      "source": [
        "## CNN + RNN"
      ],
      "metadata": {
        "id": "6wo54ZZ_mIIL"
      },
      "id": "6wo54ZZ_mIIL"
    },
    {
      "cell_type": "code",
      "source": [
        "net_name = 'CNN+RNN'\n",
        "\n",
        "model = Sequential()\n",
        "\n",
        "model.add(Embedding(input_dim=word_count,\n",
        "                    output_dim=128,\n",
        "                    input_length=training_length,\n",
        "                    trainable=True,\n",
        "                    mask_zero=True,\n",
        "                    ))\n",
        "# model.add(Masking(mask_value=0.0))\n",
        "\n",
        "model.add(Conv1D(128, 3, activation='relu'))\n",
        "# model.add(GlobalMaxPool1D(keepdims=True))\n",
        "model.add(SimpleRNN(64))\n",
        "model.add(Dense(64, activation='relu'))\n",
        "model.add(Dropout(0.5))\n",
        "model.add(Dense(num_classes, activation='sigmoid'))\n",
        "\n",
        "model.build()\n",
        "\n",
        "# print(model.summary())\n",
        "# plot_model(model, show_shapes=True, show_layer_names=True)\n",
        "\n",
        "model.compile(loss='categorical_crossentropy',\n",
        "              optimizer='adam',\n",
        "              metrics=['accuracy'])\n",
        "\n",
        "history = model.fit(X_train, y_train,\n",
        "                    batch_size=batch_size,\n",
        "                    epochs=epochs,\n",
        "                    verbose=1,\n",
        "                    validation_split=0.1,\n",
        "                    callbacks=[tensorboard, early_stopping])"
      ],
      "metadata": {
        "colab": {
          "base_uri": "https://localhost:8080/"
        },
        "id": "DgrA5WhBojm0",
        "outputId": "43412a7d-788c-4bd8-fae1-5deceec870d9"
      },
      "id": "DgrA5WhBojm0",
      "execution_count": 24,
      "outputs": [
        {
          "output_type": "stream",
          "name": "stdout",
          "text": [
            "Epoch 1/20\n",
            "26/26 [==============================] - 11s 354ms/step - loss: 1.3624 - accuracy: 0.5299 - val_loss: 0.8754 - val_accuracy: 0.7248\n",
            "Epoch 2/20\n",
            "26/26 [==============================] - 9s 348ms/step - loss: 0.8907 - accuracy: 0.7257 - val_loss: 0.7712 - val_accuracy: 0.7344\n",
            "Epoch 3/20\n",
            "26/26 [==============================] - 8s 302ms/step - loss: 0.7455 - accuracy: 0.7673 - val_loss: 0.7089 - val_accuracy: 0.7559\n",
            "Epoch 4/20\n",
            "26/26 [==============================] - 9s 338ms/step - loss: 0.5983 - accuracy: 0.8062 - val_loss: 0.6805 - val_accuracy: 0.7669\n",
            "Epoch 5/20\n",
            "26/26 [==============================] - 9s 356ms/step - loss: 0.4624 - accuracy: 0.8548 - val_loss: 0.7035 - val_accuracy: 0.7573\n"
          ]
        }
      ]
    },
    {
      "cell_type": "code",
      "source": [
        "preds_proba = model.predict(X_test)\n",
        "preds = [np.round(l) for l in preds_proba]\n",
        "print(classification_report([np.round(l) for l in y_test], preds))\n",
        "\n",
        "comparing_list.append([net_name, history.history['accuracy'][-1], history.history['val_accuracy'][-1]])"
      ],
      "metadata": {
        "colab": {
          "base_uri": "https://localhost:8080/"
        },
        "id": "bDk3771OoobJ",
        "outputId": "bb1098ee-68f4-4e3d-f8df-56a621375808"
      },
      "id": "bDk3771OoobJ",
      "execution_count": 25,
      "outputs": [
        {
          "output_type": "stream",
          "name": "stdout",
          "text": [
            "194/194 [==============================] - 3s 14ms/step\n",
            "              precision    recall  f1-score   support\n",
            "\n",
            "           0       0.00      0.00      0.00         0\n",
            "           1       0.36      0.85      0.51       683\n",
            "           2       0.13      0.35      0.19       225\n",
            "           3       0.20      0.44      0.28       273\n",
            "           4       0.10      0.98      0.19       641\n",
            "           5       0.82      0.96      0.89      4375\n",
            "\n",
            "   micro avg       0.40      0.91      0.56      6197\n",
            "   macro avg       0.27      0.60      0.34      6197\n",
            "weighted avg       0.64      0.91      0.72      6197\n",
            " samples avg       0.42      0.91      0.57      6197\n",
            "\n"
          ]
        },
        {
          "output_type": "stream",
          "name": "stderr",
          "text": [
            "/usr/local/lib/python3.9/dist-packages/sklearn/metrics/_classification.py:1344: UndefinedMetricWarning: Precision and F-score are ill-defined and being set to 0.0 in labels with no predicted samples. Use `zero_division` parameter to control this behavior.\n",
            "  _warn_prf(average, modifier, msg_start, len(result))\n",
            "/usr/local/lib/python3.9/dist-packages/sklearn/metrics/_classification.py:1344: UndefinedMetricWarning: Recall and F-score are ill-defined and being set to 0.0 in labels with no true samples. Use `zero_division` parameter to control this behavior.\n",
            "  _warn_prf(average, modifier, msg_start, len(result))\n"
          ]
        }
      ]
    },
    {
      "cell_type": "markdown",
      "source": [
        "## CNN+pooling+RNN"
      ],
      "metadata": {
        "id": "BWhiilcwrhiG"
      },
      "id": "BWhiilcwrhiG"
    },
    {
      "cell_type": "code",
      "source": [
        "net_name = 'CNN+pooling+RNN'\n",
        "\n",
        "model = Sequential()\n",
        "\n",
        "model.add(Embedding(input_dim=word_count,\n",
        "                    output_dim=128,\n",
        "                    input_length=training_length,\n",
        "                    trainable=True,\n",
        "                    mask_zero=True,\n",
        "                    ))\n",
        "# model.add(Masking(mask_value=0.0))\n",
        "\n",
        "model.add(Conv1D(128, 3, activation='relu'))\n",
        "model.add(GlobalMaxPool1D(keepdims=True))\n",
        "model.add(SimpleRNN(64))\n",
        "model.add(Dense(64, activation='relu'))\n",
        "model.add(Dropout(0.5))\n",
        "model.add(Dense(num_classes, activation='sigmoid'))\n",
        "\n",
        "model.build()\n",
        "\n",
        "# print(model.summary())\n",
        "# plot_model(model, show_shapes=True, show_layer_names=True)\n",
        "\n",
        "model.compile(loss='categorical_crossentropy',\n",
        "              optimizer='adam',\n",
        "              metrics=['accuracy'])\n",
        "\n",
        "history = model.fit(X_train, y_train,\n",
        "                    batch_size=batch_size,\n",
        "                    epochs=epochs,\n",
        "                    verbose=1,\n",
        "                    validation_split=0.1,\n",
        "                    callbacks=[tensorboard, early_stopping])"
      ],
      "metadata": {
        "colab": {
          "base_uri": "https://localhost:8080/"
        },
        "id": "bQAEpmCpiOt2",
        "outputId": "d2cd4ca8-29ba-499c-8c4d-0287e0848d99"
      },
      "id": "bQAEpmCpiOt2",
      "execution_count": 26,
      "outputs": [
        {
          "output_type": "stream",
          "name": "stdout",
          "text": [
            "Epoch 1/20\n",
            "26/26 [==============================] - 8s 225ms/step - loss: 1.2713 - accuracy: 0.6858 - val_loss: 0.9567 - val_accuracy: 0.7026\n",
            "Epoch 2/20\n",
            "26/26 [==============================] - 4s 167ms/step - loss: 0.8759 - accuracy: 0.7151 - val_loss: 0.7323 - val_accuracy: 0.7531\n",
            "Epoch 3/20\n",
            "26/26 [==============================] - 5s 187ms/step - loss: 0.6994 - accuracy: 0.7650 - val_loss: 0.6641 - val_accuracy: 0.7746\n",
            "Epoch 4/20\n",
            "26/26 [==============================] - 5s 174ms/step - loss: 0.5975 - accuracy: 0.7930 - val_loss: 0.6458 - val_accuracy: 0.7759\n",
            "Epoch 5/20\n",
            "26/26 [==============================] - 3s 133ms/step - loss: 0.5188 - accuracy: 0.8213 - val_loss: 0.6631 - val_accuracy: 0.7732\n"
          ]
        }
      ]
    },
    {
      "cell_type": "code",
      "source": [
        "preds_proba = model.predict(X_test)\n",
        "preds = [np.round(l) for l in preds_proba]\n",
        "print(classification_report([np.round(l) for l in y_test], preds))\n",
        "\n",
        "comparing_list.append([net_name, history.history['accuracy'][-1], history.history['val_accuracy'][-1]])"
      ],
      "metadata": {
        "colab": {
          "base_uri": "https://localhost:8080/"
        },
        "id": "0mv4cfVqrmIq",
        "outputId": "90a9ece9-2c6f-4a79-c5ab-3a00e8f0c34e"
      },
      "id": "0mv4cfVqrmIq",
      "execution_count": 27,
      "outputs": [
        {
          "output_type": "stream",
          "name": "stdout",
          "text": [
            "194/194 [==============================] - 0s 2ms/step\n",
            "              precision    recall  f1-score   support\n",
            "\n",
            "           0       0.00      0.00      0.00         0\n",
            "           1       0.41      0.89      0.56       683\n",
            "           2       0.15      0.69      0.24       225\n",
            "           3       0.15      0.67      0.25       273\n",
            "           4       0.10      0.95      0.19       641\n",
            "           5       0.83      0.97      0.89      4375\n",
            "\n",
            "   micro avg       0.39      0.94      0.55      6197\n",
            "   macro avg       0.27      0.69      0.35      6197\n",
            "weighted avg       0.65      0.94      0.73      6197\n",
            " samples avg       0.42      0.94      0.58      6197\n",
            "\n"
          ]
        },
        {
          "output_type": "stream",
          "name": "stderr",
          "text": [
            "/usr/local/lib/python3.9/dist-packages/sklearn/metrics/_classification.py:1344: UndefinedMetricWarning: Precision and F-score are ill-defined and being set to 0.0 in labels with no predicted samples. Use `zero_division` parameter to control this behavior.\n",
            "  _warn_prf(average, modifier, msg_start, len(result))\n",
            "/usr/local/lib/python3.9/dist-packages/sklearn/metrics/_classification.py:1344: UndefinedMetricWarning: Recall and F-score are ill-defined and being set to 0.0 in labels with no true samples. Use `zero_division` parameter to control this behavior.\n",
            "  _warn_prf(average, modifier, msg_start, len(result))\n"
          ]
        }
      ]
    },
    {
      "cell_type": "markdown",
      "source": [
        "## RNN + CNN + CNN"
      ],
      "metadata": {
        "id": "ZbfCnjxsqhBj"
      },
      "id": "ZbfCnjxsqhBj"
    },
    {
      "cell_type": "code",
      "source": [
        "net_name = 'RNN+CNN+CNN'\n",
        "\n",
        "model = Sequential()\n",
        "\n",
        "model.add(Embedding(input_dim=word_count,\n",
        "                    output_dim=128,\n",
        "                    input_length=training_length,\n",
        "                    trainable=True,\n",
        "                    mask_zero=True,\n",
        "                    ))\n",
        "model.add(SimpleRNN(64, recurrent_dropout=0.2, return_sequences=\"True\"))\n",
        "model.add(Conv1D(64, 3, activation=\"linear\"))\n",
        "model.add(Conv1D(64, 1, activation=\"linear\")) \n",
        "model.add(Flatten())                      \n",
        "model.add(Dropout(0.5)) \n",
        "model.add(Dense(num_classes, activation=\"sigmoid\"))      \n",
        "\n",
        "\n",
        "model.compile(\n",
        "    optimizer='adam', loss='binary_crossentropy', metrics=['accuracy'])\n",
        "\n",
        "early_stopping=EarlyStopping(monitor='val_loss')  \n",
        "\n",
        "history = model.fit(X_train, y_train,\n",
        "                    batch_size=batch_size,\n",
        "                    epochs=epochs,\n",
        "                    verbose=1,\n",
        "                    validation_split=0.1,\n",
        "                    callbacks=[tensorboard, early_stopping])"
      ],
      "metadata": {
        "colab": {
          "base_uri": "https://localhost:8080/"
        },
        "id": "rSLE-ysgqalU",
        "outputId": "1decf79c-ac61-4e7a-aa12-321e5cda3203"
      },
      "id": "rSLE-ysgqalU",
      "execution_count": 28,
      "outputs": [
        {
          "output_type": "stream",
          "name": "stdout",
          "text": [
            "Epoch 1/20\n",
            "26/26 [==============================] - 16s 468ms/step - loss: 0.3932 - accuracy: 0.6739 - val_loss: 0.2471 - val_accuracy: 0.7165\n",
            "Epoch 2/20\n",
            "26/26 [==============================] - 11s 424ms/step - loss: 0.2332 - accuracy: 0.7290 - val_loss: 0.2194 - val_accuracy: 0.7344\n",
            "Epoch 3/20\n",
            "26/26 [==============================] - 11s 409ms/step - loss: 0.2005 - accuracy: 0.7629 - val_loss: 0.1974 - val_accuracy: 0.7669\n",
            "Epoch 4/20\n",
            "26/26 [==============================] - 12s 469ms/step - loss: 0.1692 - accuracy: 0.7917 - val_loss: 0.1970 - val_accuracy: 0.7524\n",
            "Epoch 5/20\n",
            "26/26 [==============================] - 11s 431ms/step - loss: 0.1487 - accuracy: 0.8195 - val_loss: 0.2040 - val_accuracy: 0.7580\n"
          ]
        }
      ]
    },
    {
      "cell_type": "code",
      "source": [
        "preds_proba = model.predict(X_test)\n",
        "preds = [np.round(l) for l in preds_proba]\n",
        "print(classification_report([np.round(l) for l in y_test], preds))\n",
        "\n",
        "comparing_list.append([net_name, history.history['accuracy'][-1], history.history['val_accuracy'][-1]])"
      ],
      "metadata": {
        "colab": {
          "base_uri": "https://localhost:8080/"
        },
        "id": "nZqJwpBClzV7",
        "outputId": "eadbefde-ff5e-4204-ae0f-bd9e55228bf1"
      },
      "id": "nZqJwpBClzV7",
      "execution_count": 29,
      "outputs": [
        {
          "output_type": "stream",
          "name": "stdout",
          "text": [
            "194/194 [==============================] - 5s 25ms/step\n",
            "              precision    recall  f1-score   support\n",
            "\n",
            "           0       0.00      0.00      0.00         0\n",
            "           1       0.50      0.23      0.31       683\n",
            "           2       0.00      0.00      0.00       225\n",
            "           3       0.00      0.00      0.00       273\n",
            "           4       0.15      0.00      0.01       641\n",
            "           5       0.89      0.93      0.91      4375\n",
            "\n",
            "   micro avg       0.86      0.68      0.76      6197\n",
            "   macro avg       0.26      0.19      0.20      6197\n",
            "weighted avg       0.70      0.68      0.68      6197\n",
            " samples avg       0.68      0.68      0.68      6197\n",
            "\n"
          ]
        },
        {
          "output_type": "stream",
          "name": "stderr",
          "text": [
            "/usr/local/lib/python3.9/dist-packages/sklearn/metrics/_classification.py:1344: UndefinedMetricWarning: Precision and F-score are ill-defined and being set to 0.0 in labels with no predicted samples. Use `zero_division` parameter to control this behavior.\n",
            "  _warn_prf(average, modifier, msg_start, len(result))\n",
            "/usr/local/lib/python3.9/dist-packages/sklearn/metrics/_classification.py:1344: UndefinedMetricWarning: Recall and F-score are ill-defined and being set to 0.0 in labels with no true samples. Use `zero_division` parameter to control this behavior.\n",
            "  _warn_prf(average, modifier, msg_start, len(result))\n",
            "/usr/local/lib/python3.9/dist-packages/sklearn/metrics/_classification.py:1344: UndefinedMetricWarning: Precision and F-score are ill-defined and being set to 0.0 in samples with no predicted labels. Use `zero_division` parameter to control this behavior.\n",
            "  _warn_prf(average, modifier, msg_start, len(result))\n"
          ]
        }
      ]
    },
    {
      "cell_type": "markdown",
      "source": [
        "## RNN CNN pooling RNN"
      ],
      "metadata": {
        "id": "jQBXsgJmpMcY"
      },
      "id": "jQBXsgJmpMcY"
    },
    {
      "cell_type": "code",
      "source": [
        "net_name = 'RNN+CNN+pooling+RNN'\n",
        "\n",
        "model = Sequential()\n",
        "\n",
        "model.add(Embedding(input_dim=word_count,\n",
        "                    output_dim=128,\n",
        "                    input_length=training_length,\n",
        "                    trainable=True,\n",
        "                    mask_zero=True,\n",
        "                    ))\n",
        "# model.add(Masking(mask_value=0.0))\n",
        "\n",
        "model.add(SimpleRNN(128, return_sequences=True)) # return_sequences Сохраняет размерность для Conv1D\n",
        "model.add(Conv1D(128, 3, activation='relu'))\n",
        "model.add(GlobalMaxPool1D(keepdims=True)) # keepdims Сохраняет размерность для SimpleRNN\n",
        "model.add(SimpleRNN(64))\n",
        "model.add(Dense(64, activation='relu'))\n",
        "model.add(Dropout(0.5))\n",
        "model.add(Dense(num_classes, activation='sigmoid'))\n",
        "\n",
        "model.build()\n",
        "\n",
        "model.compile(loss='categorical_crossentropy',\n",
        "              optimizer='adam',\n",
        "              metrics=['accuracy'])\n",
        "\n",
        "history = model.fit(X_train, y_train,\n",
        "                    batch_size=batch_size,\n",
        "                    epochs=epochs,\n",
        "                    verbose=1,\n",
        "                    validation_split=0.1,\n",
        "                    callbacks=[tensorboard, early_stopping])"
      ],
      "metadata": {
        "colab": {
          "base_uri": "https://localhost:8080/"
        },
        "id": "7g6V8lP-lzbH",
        "outputId": "d530aec2-4f49-47d1-b449-ca5cd0379893"
      },
      "id": "7g6V8lP-lzbH",
      "execution_count": 30,
      "outputs": [
        {
          "output_type": "stream",
          "name": "stdout",
          "text": [
            "Epoch 1/20\n",
            "26/26 [==============================] - 15s 441ms/step - loss: 1.2846 - accuracy: 0.6683 - val_loss: 0.7773 - val_accuracy: 0.7497\n",
            "Epoch 2/20\n",
            "26/26 [==============================] - 11s 407ms/step - loss: 0.7424 - accuracy: 0.7477 - val_loss: 0.7023 - val_accuracy: 0.7573\n",
            "Epoch 3/20\n",
            "26/26 [==============================] - 10s 385ms/step - loss: 0.6366 - accuracy: 0.7793 - val_loss: 0.7009 - val_accuracy: 0.7663\n",
            "Epoch 4/20\n",
            "26/26 [==============================] - 9s 342ms/step - loss: 0.5511 - accuracy: 0.8033 - val_loss: 0.7159 - val_accuracy: 0.7711\n"
          ]
        }
      ]
    },
    {
      "cell_type": "code",
      "source": [
        "preds_proba = model.predict(X_test)\n",
        "preds = [np.round(l) for l in preds_proba]\n",
        "print(classification_report([np.round(l) for l in y_test], preds))\n",
        "\n",
        "comparing_list.append([net_name, history.history['accuracy'][-1], history.history['val_accuracy'][-1]])"
      ],
      "metadata": {
        "colab": {
          "base_uri": "https://localhost:8080/"
        },
        "id": "Bjt7aDiylzde",
        "outputId": "d9a10f30-4779-4beb-b1ab-bda6fb0ade98"
      },
      "id": "Bjt7aDiylzde",
      "execution_count": 31,
      "outputs": [
        {
          "output_type": "stream",
          "name": "stdout",
          "text": [
            "194/194 [==============================] - 5s 25ms/step\n",
            "              precision    recall  f1-score   support\n",
            "\n",
            "           0       0.00      0.00      0.00         0\n",
            "           1       0.41      0.85      0.56       683\n",
            "           2       0.15      0.48      0.23       225\n",
            "           3       0.15      0.57      0.24       273\n",
            "           4       0.10      0.95      0.19       641\n",
            "           5       0.81      0.98      0.88      4375\n",
            "\n",
            "   micro avg       0.40      0.92      0.56      6197\n",
            "   macro avg       0.27      0.64      0.35      6197\n",
            "weighted avg       0.64      0.92      0.72      6197\n",
            " samples avg       0.43      0.92      0.58      6197\n",
            "\n"
          ]
        },
        {
          "output_type": "stream",
          "name": "stderr",
          "text": [
            "/usr/local/lib/python3.9/dist-packages/sklearn/metrics/_classification.py:1344: UndefinedMetricWarning: Precision and F-score are ill-defined and being set to 0.0 in labels with no predicted samples. Use `zero_division` parameter to control this behavior.\n",
            "  _warn_prf(average, modifier, msg_start, len(result))\n",
            "/usr/local/lib/python3.9/dist-packages/sklearn/metrics/_classification.py:1344: UndefinedMetricWarning: Recall and F-score are ill-defined and being set to 0.0 in labels with no true samples. Use `zero_division` parameter to control this behavior.\n",
            "  _warn_prf(average, modifier, msg_start, len(result))\n"
          ]
        }
      ]
    },
    {
      "cell_type": "markdown",
      "source": [
        "## (CNN RNN)x3 + polling"
      ],
      "metadata": {
        "id": "ADP1-d3upos5"
      },
      "id": "ADP1-d3upos5"
    },
    {
      "cell_type": "code",
      "source": [
        "net_name = '(CNN+RNN)x3+polling'\n",
        "\n",
        "model = Sequential()\n",
        "\n",
        "model.add(Embedding(input_dim=word_count,\n",
        "                    output_dim=128,\n",
        "                    input_length=training_length,\n",
        "                    trainable=True,\n",
        "                    mask_zero=True,\n",
        "                    ))\n",
        "# model.add(Masking(mask_value=0.0))\n",
        "model.add(Conv1D(128, 3, activation='relu'))\n",
        "model.add(SimpleRNN(128, return_sequences=True)) # return_sequences Сохраняет размерность для Conv1D\n",
        "model.add(Conv1D(64, 3, activation='relu'))\n",
        "model.add(SimpleRNN(64, return_sequences=True)) # return_sequences Сохраняет размерность для Conv1D\n",
        "model.add(Conv1D(32, 2, activation='relu'))\n",
        "model.add(SimpleRNN(32, return_sequences=True)) # return_sequences Сохраняет размерность для Conv1D\n",
        "model.add(GlobalMaxPool1D())\n",
        "model.add(Dense(32, activation='relu'))\n",
        "model.add(Dropout(0.5))\n",
        "model.add(Dense(num_classes, activation='sigmoid'))\n",
        "\n",
        "model.build()\n",
        "\n",
        "model.compile(loss='categorical_crossentropy',\n",
        "              optimizer='adam',\n",
        "              metrics=['accuracy'])\n",
        "\n",
        "history = model.fit(X_train, y_train,\n",
        "                    batch_size=batch_size,\n",
        "                    epochs=epochs,\n",
        "                    verbose=1,\n",
        "                    validation_split=0.1,\n",
        "                    callbacks=[tensorboard, early_stopping])"
      ],
      "metadata": {
        "colab": {
          "base_uri": "https://localhost:8080/"
        },
        "id": "lDF6WwCXpBXQ",
        "outputId": "60837fb7-8f8e-42bb-8ef1-6bf9869b7bee"
      },
      "id": "lDF6WwCXpBXQ",
      "execution_count": 32,
      "outputs": [
        {
          "output_type": "stream",
          "name": "stdout",
          "text": [
            "Epoch 1/20\n",
            "26/26 [==============================] - 24s 715ms/step - loss: 1.4231 - accuracy: 0.4743 - val_loss: 0.9486 - val_accuracy: 0.7026\n",
            "Epoch 2/20\n",
            "26/26 [==============================] - 17s 641ms/step - loss: 1.0378 - accuracy: 0.6786 - val_loss: 0.8106 - val_accuracy: 0.7427\n",
            "Epoch 3/20\n",
            "26/26 [==============================] - 16s 628ms/step - loss: 0.8905 - accuracy: 0.7210 - val_loss: 0.7344 - val_accuracy: 0.7566\n",
            "Epoch 4/20\n",
            "26/26 [==============================] - 18s 677ms/step - loss: 0.7823 - accuracy: 0.7489 - val_loss: 0.7075 - val_accuracy: 0.7586\n",
            "Epoch 5/20\n",
            "26/26 [==============================] - 16s 601ms/step - loss: 0.7059 - accuracy: 0.7700 - val_loss: 0.6874 - val_accuracy: 0.7628\n",
            "Epoch 6/20\n",
            "26/26 [==============================] - 15s 595ms/step - loss: 0.6633 - accuracy: 0.7772 - val_loss: 0.7000 - val_accuracy: 0.7545\n"
          ]
        }
      ]
    },
    {
      "cell_type": "code",
      "source": [
        "preds_proba = model.predict(X_test)\n",
        "preds = [np.round(l) for l in preds_proba]\n",
        "print(classification_report([np.round(l) for l in y_test], preds))\n",
        "\n",
        "comparing_list.append([net_name, history.history['accuracy'][-1], history.history['val_accuracy'][-1]])"
      ],
      "metadata": {
        "colab": {
          "base_uri": "https://localhost:8080/"
        },
        "id": "bC6wNdIztWFm",
        "outputId": "83447734-fe27-4fff-ea49-4cf2d16034c7"
      },
      "id": "bC6wNdIztWFm",
      "execution_count": 33,
      "outputs": [
        {
          "output_type": "stream",
          "name": "stdout",
          "text": [
            "194/194 [==============================] - 9s 43ms/step\n",
            "              precision    recall  f1-score   support\n",
            "\n",
            "           0       0.00      0.00      0.00         0\n",
            "           1       0.31      0.95      0.47       683\n",
            "           2       0.16      0.50      0.25       225\n",
            "           3       0.02      0.32      0.03       273\n",
            "           4       0.10      0.99      0.19       641\n",
            "           5       0.79      0.98      0.88      4375\n",
            "\n",
            "   micro avg       0.30      0.93      0.46      6197\n",
            "   macro avg       0.23      0.62      0.30      6197\n",
            "weighted avg       0.61      0.93      0.70      6197\n",
            " samples avg       0.31      0.93      0.46      6197\n",
            "\n"
          ]
        },
        {
          "output_type": "stream",
          "name": "stderr",
          "text": [
            "/usr/local/lib/python3.9/dist-packages/sklearn/metrics/_classification.py:1344: UndefinedMetricWarning: Precision and F-score are ill-defined and being set to 0.0 in labels with no predicted samples. Use `zero_division` parameter to control this behavior.\n",
            "  _warn_prf(average, modifier, msg_start, len(result))\n",
            "/usr/local/lib/python3.9/dist-packages/sklearn/metrics/_classification.py:1344: UndefinedMetricWarning: Recall and F-score are ill-defined and being set to 0.0 in labels with no true samples. Use `zero_division` parameter to control this behavior.\n",
            "  _warn_prf(average, modifier, msg_start, len(result))\n"
          ]
        }
      ]
    },
    {
      "cell_type": "markdown",
      "source": [
        "## Сравнение результатов"
      ],
      "metadata": {
        "id": "XlfIt6NFiPAW"
      },
      "id": "XlfIt6NFiPAW"
    },
    {
      "cell_type": "code",
      "source": [
        "comparing_list"
      ],
      "metadata": {
        "colab": {
          "base_uri": "https://localhost:8080/"
        },
        "id": "yHj-OtMaguED",
        "outputId": "3e7b129f-5a5e-4967-c601-cd78e70e22c8"
      },
      "id": "yHj-OtMaguED",
      "execution_count": 34,
      "outputs": [
        {
          "output_type": "execute_result",
          "data": {
            "text/plain": [
              "[['CNN+pooling', 0.8478444814682007, 0.7821576595306396],\n",
              " ['RNN', 0.8221009969711304, 0.7648686170578003],\n",
              " ['CNN+RNN', 0.8547606468200684, 0.7572613954544067],\n",
              " ['CNN+pooling+RNN', 0.8212556838989258, 0.7731673717498779],\n",
              " ['RNN+CNN+CNN', 0.8194882273674011, 0.7579529881477356],\n",
              " ['RNN+CNN+pooling+RNN', 0.8032736778259277, 0.7710926532745361],\n",
              " ['(CNN+RNN)x3+polling', 0.777222752571106, 0.7544951438903809]]"
            ]
          },
          "metadata": {},
          "execution_count": 34
        }
      ]
    },
    {
      "cell_type": "code",
      "source": [
        "pd.DataFrame(comparing_list, columns=['net_name', 'accuracy', 'val_accuracy'])"
      ],
      "metadata": {
        "colab": {
          "base_uri": "https://localhost:8080/",
          "height": 269
        },
        "id": "zM3UWHvZgvXC",
        "outputId": "5b22be0c-ceb8-4c6a-f450-9ff2658b24d5"
      },
      "id": "zM3UWHvZgvXC",
      "execution_count": 35,
      "outputs": [
        {
          "output_type": "execute_result",
          "data": {
            "text/plain": [
              "              net_name  accuracy  val_accuracy\n",
              "0          CNN+pooling  0.847844      0.782158\n",
              "1                  RNN  0.822101      0.764869\n",
              "2              CNN+RNN  0.854761      0.757261\n",
              "3      CNN+pooling+RNN  0.821256      0.773167\n",
              "4          RNN+CNN+CNN  0.819488      0.757953\n",
              "5  RNN+CNN+pooling+RNN  0.803274      0.771093\n",
              "6  (CNN+RNN)x3+polling  0.777223      0.754495"
            ],
            "text/html": [
              "\n",
              "  <div id=\"df-397a3107-ad08-4b25-a8ff-e00c12407a00\">\n",
              "    <div class=\"colab-df-container\">\n",
              "      <div>\n",
              "<style scoped>\n",
              "    .dataframe tbody tr th:only-of-type {\n",
              "        vertical-align: middle;\n",
              "    }\n",
              "\n",
              "    .dataframe tbody tr th {\n",
              "        vertical-align: top;\n",
              "    }\n",
              "\n",
              "    .dataframe thead th {\n",
              "        text-align: right;\n",
              "    }\n",
              "</style>\n",
              "<table border=\"1\" class=\"dataframe\">\n",
              "  <thead>\n",
              "    <tr style=\"text-align: right;\">\n",
              "      <th></th>\n",
              "      <th>net_name</th>\n",
              "      <th>accuracy</th>\n",
              "      <th>val_accuracy</th>\n",
              "    </tr>\n",
              "  </thead>\n",
              "  <tbody>\n",
              "    <tr>\n",
              "      <th>0</th>\n",
              "      <td>CNN+pooling</td>\n",
              "      <td>0.847844</td>\n",
              "      <td>0.782158</td>\n",
              "    </tr>\n",
              "    <tr>\n",
              "      <th>1</th>\n",
              "      <td>RNN</td>\n",
              "      <td>0.822101</td>\n",
              "      <td>0.764869</td>\n",
              "    </tr>\n",
              "    <tr>\n",
              "      <th>2</th>\n",
              "      <td>CNN+RNN</td>\n",
              "      <td>0.854761</td>\n",
              "      <td>0.757261</td>\n",
              "    </tr>\n",
              "    <tr>\n",
              "      <th>3</th>\n",
              "      <td>CNN+pooling+RNN</td>\n",
              "      <td>0.821256</td>\n",
              "      <td>0.773167</td>\n",
              "    </tr>\n",
              "    <tr>\n",
              "      <th>4</th>\n",
              "      <td>RNN+CNN+CNN</td>\n",
              "      <td>0.819488</td>\n",
              "      <td>0.757953</td>\n",
              "    </tr>\n",
              "    <tr>\n",
              "      <th>5</th>\n",
              "      <td>RNN+CNN+pooling+RNN</td>\n",
              "      <td>0.803274</td>\n",
              "      <td>0.771093</td>\n",
              "    </tr>\n",
              "    <tr>\n",
              "      <th>6</th>\n",
              "      <td>(CNN+RNN)x3+polling</td>\n",
              "      <td>0.777223</td>\n",
              "      <td>0.754495</td>\n",
              "    </tr>\n",
              "  </tbody>\n",
              "</table>\n",
              "</div>\n",
              "      <button class=\"colab-df-convert\" onclick=\"convertToInteractive('df-397a3107-ad08-4b25-a8ff-e00c12407a00')\"\n",
              "              title=\"Convert this dataframe to an interactive table.\"\n",
              "              style=\"display:none;\">\n",
              "        \n",
              "  <svg xmlns=\"http://www.w3.org/2000/svg\" height=\"24px\"viewBox=\"0 0 24 24\"\n",
              "       width=\"24px\">\n",
              "    <path d=\"M0 0h24v24H0V0z\" fill=\"none\"/>\n",
              "    <path d=\"M18.56 5.44l.94 2.06.94-2.06 2.06-.94-2.06-.94-.94-2.06-.94 2.06-2.06.94zm-11 1L8.5 8.5l.94-2.06 2.06-.94-2.06-.94L8.5 2.5l-.94 2.06-2.06.94zm10 10l.94 2.06.94-2.06 2.06-.94-2.06-.94-.94-2.06-.94 2.06-2.06.94z\"/><path d=\"M17.41 7.96l-1.37-1.37c-.4-.4-.92-.59-1.43-.59-.52 0-1.04.2-1.43.59L10.3 9.45l-7.72 7.72c-.78.78-.78 2.05 0 2.83L4 21.41c.39.39.9.59 1.41.59.51 0 1.02-.2 1.41-.59l7.78-7.78 2.81-2.81c.8-.78.8-2.07 0-2.86zM5.41 20L4 18.59l7.72-7.72 1.47 1.35L5.41 20z\"/>\n",
              "  </svg>\n",
              "      </button>\n",
              "      \n",
              "  <style>\n",
              "    .colab-df-container {\n",
              "      display:flex;\n",
              "      flex-wrap:wrap;\n",
              "      gap: 12px;\n",
              "    }\n",
              "\n",
              "    .colab-df-convert {\n",
              "      background-color: #E8F0FE;\n",
              "      border: none;\n",
              "      border-radius: 50%;\n",
              "      cursor: pointer;\n",
              "      display: none;\n",
              "      fill: #1967D2;\n",
              "      height: 32px;\n",
              "      padding: 0 0 0 0;\n",
              "      width: 32px;\n",
              "    }\n",
              "\n",
              "    .colab-df-convert:hover {\n",
              "      background-color: #E2EBFA;\n",
              "      box-shadow: 0px 1px 2px rgba(60, 64, 67, 0.3), 0px 1px 3px 1px rgba(60, 64, 67, 0.15);\n",
              "      fill: #174EA6;\n",
              "    }\n",
              "\n",
              "    [theme=dark] .colab-df-convert {\n",
              "      background-color: #3B4455;\n",
              "      fill: #D2E3FC;\n",
              "    }\n",
              "\n",
              "    [theme=dark] .colab-df-convert:hover {\n",
              "      background-color: #434B5C;\n",
              "      box-shadow: 0px 1px 3px 1px rgba(0, 0, 0, 0.15);\n",
              "      filter: drop-shadow(0px 1px 2px rgba(0, 0, 0, 0.3));\n",
              "      fill: #FFFFFF;\n",
              "    }\n",
              "  </style>\n",
              "\n",
              "      <script>\n",
              "        const buttonEl =\n",
              "          document.querySelector('#df-397a3107-ad08-4b25-a8ff-e00c12407a00 button.colab-df-convert');\n",
              "        buttonEl.style.display =\n",
              "          google.colab.kernel.accessAllowed ? 'block' : 'none';\n",
              "\n",
              "        async function convertToInteractive(key) {\n",
              "          const element = document.querySelector('#df-397a3107-ad08-4b25-a8ff-e00c12407a00');\n",
              "          const dataTable =\n",
              "            await google.colab.kernel.invokeFunction('convertToInteractive',\n",
              "                                                     [key], {});\n",
              "          if (!dataTable) return;\n",
              "\n",
              "          const docLinkHtml = 'Like what you see? Visit the ' +\n",
              "            '<a target=\"_blank\" href=https://colab.research.google.com/notebooks/data_table.ipynb>data table notebook</a>'\n",
              "            + ' to learn more about interactive tables.';\n",
              "          element.innerHTML = '';\n",
              "          dataTable['output_type'] = 'display_data';\n",
              "          await google.colab.output.renderOutput(dataTable, element);\n",
              "          const docLink = document.createElement('div');\n",
              "          docLink.innerHTML = docLinkHtml;\n",
              "          element.appendChild(docLink);\n",
              "        }\n",
              "      </script>\n",
              "    </div>\n",
              "  </div>\n",
              "  "
            ]
          },
          "metadata": {},
          "execution_count": 35
        }
      ]
    },
    {
      "cell_type": "markdown",
      "source": [
        "Наиболее сбалансированный результат по выбранной метрике показала связка *CNN+pooling+RNN*, а также архитектура RNN без каких-либо излишеств "
      ],
      "metadata": {
        "id": "O-q0hXvWvFDG"
      },
      "id": "O-q0hXvWvFDG"
    },
    {
      "cell_type": "code",
      "source": [],
      "metadata": {
        "id": "tiBRytyog0iy"
      },
      "id": "tiBRytyog0iy",
      "execution_count": null,
      "outputs": []
    }
  ],
  "metadata": {
    "kernelspec": {
      "display_name": "Python 3",
      "language": "python",
      "name": "python3"
    },
    "language_info": {
      "codemirror_mode": {
        "name": "ipython",
        "version": 3
      },
      "file_extension": ".py",
      "mimetype": "text/x-python",
      "name": "python",
      "nbconvert_exporter": "python",
      "pygments_lexer": "ipython3",
      "version": "3.8.8"
    },
    "colab": {
      "provenance": []
    },
    "accelerator": "GPU",
    "gpuClass": "standard"
  },
  "nbformat": 4,
  "nbformat_minor": 5
}