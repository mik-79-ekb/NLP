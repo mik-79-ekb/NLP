{
 "cells": [
  {
   "cell_type": "markdown",
   "metadata": {},
   "source": [
    "## Домашнее задание №2"
   ]
  },
  {
   "cell_type": "markdown",
   "metadata": {},
   "source": [
    "### Тема «Создание признакового пространства»"
   ]
  },
  {
   "cell_type": "markdown",
   "metadata": {},
   "source": [
    "Продолжим обработку данных с Твиттера."
   ]
  },
  {
   "cell_type": "markdown",
   "metadata": {},
   "source": [
    "**Задания:**"
   ]
  },
  {
   "cell_type": "markdown",
   "metadata": {},
   "source": [
    "1. Создайте мешок слов с помощью\n",
    "sklearn.feature_extraction.text.CountVectorizer.fit_transform(). Применим его к 'tweet_stemmed'\n",
    "и 'tweet_lemmatized' отдельно.  \n",
    "● Игнорируем слова, частота которых в документе строго превышает порог 0.9 с\n",
    "помощью max_df.  \n",
    "● Ограничим количество слов, попадающий в мешок, с помощью max_features = 1000.  \n",
    "● Исключим стоп-слова с помощью stop_words='english'.  \n",
    "● Отобразим Bag-of-Words модель как DataFrame. columns необходимо извлечь с\n",
    "помощью CountVectorizer.get_feature_names().  \n",
    "2. Создайте мешок слов с помощью sklearn.feature_extraction.text.TfidfVectorizer.fit_transform(). Применим его к 'tweet_stemmed' и 'tweet_lemmatized' отдельно.  \n",
    "● Игнорируем слова, частота которых в документе строго превышает порог 0.9 с\n",
    "помощью max_df.  \n",
    "● Ограничим количество слов, попадающий в мешок, с помощью max_features = 1000.  \n",
    "● Исключим стоп-слова с помощью stop_words='english'.  \n",
    "● Отобразим Bag-of-Words модель как DataFrame. columns необходимо извлечь с\n",
    "помощью TfidfVectorizer.get_feature_names().  \n",
    "3. Проверьте ваши векторайзеры на корпусе который использовали на вебинаре, составьте таблицу метод векторизации и скор который вы получили (в методах векторизации по изменяйте параметры что бы добиться лучшего скора) обратите внимание как падает/растёт скор при уменьшении количества фичей, и изменении параметров, так же попробуйте применить к векторайзерам PCA для сокращения размерности посмотрите на качество сделайте выводы"
   ]
  },
  {
   "cell_type": "markdown",
   "metadata": {},
   "source": []
  },
  {
   "cell_type": "code",
   "execution_count": 1,
   "metadata": {},
   "outputs": [],
   "source": [
    "# Заглушка, сдам в выходные"
   ]
  },
  {
   "cell_type": "code",
   "execution_count": null,
   "metadata": {},
   "outputs": [],
   "source": []
  }
 ],
 "metadata": {
  "kernelspec": {
   "display_name": "Python 3",
   "language": "python",
   "name": "python3"
  },
  "language_info": {
   "codemirror_mode": {
    "name": "ipython",
    "version": 3
   },
   "file_extension": ".py",
   "mimetype": "text/x-python",
   "name": "python",
   "nbconvert_exporter": "python",
   "pygments_lexer": "ipython3",
   "version": "3.8.5"
  }
 },
 "nbformat": 4,
 "nbformat_minor": 4
}
